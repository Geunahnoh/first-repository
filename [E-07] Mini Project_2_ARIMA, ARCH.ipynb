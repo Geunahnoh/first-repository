{
 "cells": [
  {
   "cell_type": "markdown",
   "id": "f1ed16d7",
   "metadata": {},
   "source": [
    "# 미니 프로젝트 2_ARIMA, ARCH"
   ]
  },
  {
   "cell_type": "markdown",
   "id": "ceed2264",
   "metadata": {},
   "source": [
    "## 프로젝트 구성\n",
    "각 프로젝트는 데이터셋을 불러와 모델을 학습시켜 평가돌리는 것까지 전체 프로세스를 다루고 있습니다.      \n",
    "2가지 데이터셋에 대한 두 개의 프로젝트로 구성, 노드의 순서와 배운 내용에 기초하여 진행하였습니다. \n",
    "1. ARIMA    사용한 데이터셋: air passengers      \n",
    "2. ARCH     사용한 데이터셋:        s&p 500       \n",
    "\n",
    "## 목차\n",
    "1. ARIMA를 통해 시계열 예측해 보기(AirPassengers 데이터셋 활용)\n",
    "2. ARCH \n",
    "3. 회고\n",
    "4. Reference\n",
    "\n",
    "\n",
    "## 글씨 색 표시\n",
    "### <span style = \"color:orange;\">궁금해서 찾아본 부분, 새로 알게 된 것</span>    \n",
    "### <span style = \"color:red;\">출력 결과 중 특이사항 표시</span>"
   ]
  },
  {
   "cell_type": "markdown",
   "id": "faf4ed94",
   "metadata": {},
   "source": [
    "## 1. ARIMA를 통해 시계열 예측해 보기\n",
    "AirPassengers 데이터로 이후 패턴 예측"
   ]
  },
  {
   "cell_type": "markdown",
   "id": "abca48b1",
   "metadata": {},
   "source": [
    "목차\n",
    "1. 데이터 연결하기\n",
    "2. 필요한 라이브러리와 ARIMA 모델 불러오기\n",
    "3. 분산을 일정하게 만들기\n",
    "4. 차분을 통해 분석하기\n",
    "5. 데이터 분리하기(train data, test data)\n",
    "AutoArIMA 적용 및 결과 확인\n",
    "6. 예측 성능 시각화"
   ]
  },
  {
   "cell_type": "markdown",
   "id": "2fc89795",
   "metadata": {},
   "source": [
    "### Step 1. 데이터 연결하기\n",
    "- 데이터가 있는 폴더 연결"
   ]
  },
  {
   "cell_type": "code",
   "execution_count": 8,
   "id": "b90a68fd",
   "metadata": {},
   "outputs": [],
   "source": [
    "# 데이터가 저장된 폴더 연결\n",
    "!mkdir -p aiffel/time_series_basic "
   ]
  },
  {
   "cell_type": "markdown",
   "id": "6b5a0c70",
   "metadata": {},
   "source": [
    "### <span style = \"color:red;\">아래 두 부분에서 에러가 남</span>  \n",
    "저장경로에서 에러가 난 것 같다\n",
    "\n",
    "클라우드 쥬피터 상에는 AirPassengers.csv가 들어가 있고, 아래에서 ap도 출력이 되기에 우선 넘어감"
   ]
  },
  {
   "cell_type": "code",
   "execution_count": 29,
   "id": "725688f9",
   "metadata": {},
   "outputs": [
    {
     "name": "stdout",
     "output_type": "stream",
     "text": [
      "cp: cannot stat 'data/AirPassengers.csv': No such file or directory\r\n"
     ]
    }
   ],
   "source": [
    "# !cp data/AirPassengers.csv aiffel/time_series_basic/\n",
    "!cp data/AirPassengers.csv aiffel/"
   ]
  },
  {
   "cell_type": "code",
   "execution_count": 30,
   "id": "d68cff4a",
   "metadata": {},
   "outputs": [
    {
     "name": "stdout",
     "output_type": "stream",
     "text": [
      "cp: missing destination file operand after 'data/AirPassengers.csv'\r\n",
      "Try 'cp --help' for more information.\r\n"
     ]
    }
   ],
   "source": [
    "!cp data/AirPassengers.csv"
   ]
  },
  {
   "cell_type": "markdown",
   "id": "0e6ee134",
   "metadata": {},
   "source": [
    "### Step 2. 필요한 라이브러리와 ARIMA 모델 불러오기"
   ]
  },
  {
   "cell_type": "code",
   "execution_count": 19,
   "id": "50e8fd39",
   "metadata": {},
   "outputs": [],
   "source": [
    "import pandas as pd\n",
    "import numpy as np\n",
    "import matplotlib.pyplot as plt\n",
    "from statsmodels.graphics.tsaplots import plot_acf, plot_pacf # acf plot 및 pacf plot을 그리기 위한 라이브러리\n",
    "from statsmodels.tsa.arima_model import ARIMA # ARIMA 모델\n",
    "import pmdarima as pm # Auto ARIMA 모델"
   ]
  },
  {
   "cell_type": "code",
   "execution_count": 2,
   "id": "c4a48892",
   "metadata": {},
   "outputs": [],
   "source": [
    "ap = pd.read_csv('/aiffel/aiffel/time_series_basic/AirPassengers.csv')\n",
    "\n",
    "ap.drop('Month', axis = 1, inplace = True)"
   ]
  },
  {
   "cell_type": "code",
   "execution_count": 3,
   "id": "6027c63b",
   "metadata": {},
   "outputs": [
    {
     "data": {
      "text/html": [
       "<div>\n",
       "<style scoped>\n",
       "    .dataframe tbody tr th:only-of-type {\n",
       "        vertical-align: middle;\n",
       "    }\n",
       "\n",
       "    .dataframe tbody tr th {\n",
       "        vertical-align: top;\n",
       "    }\n",
       "\n",
       "    .dataframe thead th {\n",
       "        text-align: right;\n",
       "    }\n",
       "</style>\n",
       "<table border=\"1\" class=\"dataframe\">\n",
       "  <thead>\n",
       "    <tr style=\"text-align: right;\">\n",
       "      <th></th>\n",
       "      <th>#Passengers</th>\n",
       "    </tr>\n",
       "  </thead>\n",
       "  <tbody>\n",
       "    <tr>\n",
       "      <th>0</th>\n",
       "      <td>112</td>\n",
       "    </tr>\n",
       "    <tr>\n",
       "      <th>1</th>\n",
       "      <td>118</td>\n",
       "    </tr>\n",
       "    <tr>\n",
       "      <th>2</th>\n",
       "      <td>132</td>\n",
       "    </tr>\n",
       "    <tr>\n",
       "      <th>3</th>\n",
       "      <td>129</td>\n",
       "    </tr>\n",
       "    <tr>\n",
       "      <th>4</th>\n",
       "      <td>121</td>\n",
       "    </tr>\n",
       "    <tr>\n",
       "      <th>...</th>\n",
       "      <td>...</td>\n",
       "    </tr>\n",
       "    <tr>\n",
       "      <th>139</th>\n",
       "      <td>606</td>\n",
       "    </tr>\n",
       "    <tr>\n",
       "      <th>140</th>\n",
       "      <td>508</td>\n",
       "    </tr>\n",
       "    <tr>\n",
       "      <th>141</th>\n",
       "      <td>461</td>\n",
       "    </tr>\n",
       "    <tr>\n",
       "      <th>142</th>\n",
       "      <td>390</td>\n",
       "    </tr>\n",
       "    <tr>\n",
       "      <th>143</th>\n",
       "      <td>432</td>\n",
       "    </tr>\n",
       "  </tbody>\n",
       "</table>\n",
       "<p>144 rows × 1 columns</p>\n",
       "</div>"
      ],
      "text/plain": [
       "     #Passengers\n",
       "0            112\n",
       "1            118\n",
       "2            132\n",
       "3            129\n",
       "4            121\n",
       "..           ...\n",
       "139          606\n",
       "140          508\n",
       "141          461\n",
       "142          390\n",
       "143          432\n",
       "\n",
       "[144 rows x 1 columns]"
      ]
     },
     "execution_count": 3,
     "metadata": {},
     "output_type": "execute_result"
    }
   ],
   "source": [
    "ap"
   ]
  },
  {
   "cell_type": "markdown",
   "id": "1953ec45",
   "metadata": {},
   "source": [
    "ap = pd.read_csv('/aiffel/aiffel/time_series_basic/AirPassengers.csv')\n",
    "\n",
    "### <span style = \"color:red;\">여기에서 왜 aiffel/aiffel인지 모르겠다... </span>       \n",
    "그래서 aiffel을 빼고 해 봄"
   ]
  },
  {
   "cell_type": "code",
   "execution_count": 14,
   "id": "73acb7b7",
   "metadata": {},
   "outputs": [
    {
     "ename": "FileNotFoundError",
     "evalue": "[Errno 2] No such file or directory: '/aiffel/time_series_basic/AirPassengers.csv'",
     "output_type": "error",
     "traceback": [
      "\u001b[0;31m---------------------------------------------------------------------------\u001b[0m",
      "\u001b[0;31mFileNotFoundError\u001b[0m                         Traceback (most recent call last)",
      "\u001b[0;32m/tmp/ipykernel_61/2696026076.py\u001b[0m in \u001b[0;36m<module>\u001b[0;34m\u001b[0m\n\u001b[0;32m----> 1\u001b[0;31m \u001b[0map\u001b[0m \u001b[0;34m=\u001b[0m \u001b[0mpd\u001b[0m\u001b[0;34m.\u001b[0m\u001b[0mread_csv\u001b[0m\u001b[0;34m(\u001b[0m\u001b[0;34m'/aiffel/time_series_basic/AirPassengers.csv'\u001b[0m\u001b[0;34m)\u001b[0m\u001b[0;34m\u001b[0m\u001b[0;34m\u001b[0m\u001b[0m\n\u001b[0m\u001b[1;32m      2\u001b[0m \u001b[0;34m\u001b[0m\u001b[0m\n\u001b[1;32m      3\u001b[0m \u001b[0;31m# 여기에서 왜 aiffel/aiffel인지 모르겠다ㅠㅠ\u001b[0m\u001b[0;34m\u001b[0m\u001b[0;34m\u001b[0m\u001b[0m\n\u001b[1;32m      4\u001b[0m \u001b[0;31m# ap\u001b[0m\u001b[0;34m\u001b[0m\u001b[0;34m\u001b[0m\u001b[0m\n\u001b[1;32m      5\u001b[0m \u001b[0;31m# ap.drop('Month', axis = 1, inplace = True)\u001b[0m\u001b[0;34m\u001b[0m\u001b[0;34m\u001b[0m\u001b[0m\n",
      "\u001b[0;32m/opt/conda/lib/python3.9/site-packages/pandas/util/_decorators.py\u001b[0m in \u001b[0;36mwrapper\u001b[0;34m(*args, **kwargs)\u001b[0m\n\u001b[1;32m    309\u001b[0m                     \u001b[0mstacklevel\u001b[0m\u001b[0;34m=\u001b[0m\u001b[0mstacklevel\u001b[0m\u001b[0;34m,\u001b[0m\u001b[0;34m\u001b[0m\u001b[0;34m\u001b[0m\u001b[0m\n\u001b[1;32m    310\u001b[0m                 )\n\u001b[0;32m--> 311\u001b[0;31m             \u001b[0;32mreturn\u001b[0m \u001b[0mfunc\u001b[0m\u001b[0;34m(\u001b[0m\u001b[0;34m*\u001b[0m\u001b[0margs\u001b[0m\u001b[0;34m,\u001b[0m \u001b[0;34m**\u001b[0m\u001b[0mkwargs\u001b[0m\u001b[0;34m)\u001b[0m\u001b[0;34m\u001b[0m\u001b[0;34m\u001b[0m\u001b[0m\n\u001b[0m\u001b[1;32m    312\u001b[0m \u001b[0;34m\u001b[0m\u001b[0m\n\u001b[1;32m    313\u001b[0m         \u001b[0;32mreturn\u001b[0m \u001b[0mwrapper\u001b[0m\u001b[0;34m\u001b[0m\u001b[0;34m\u001b[0m\u001b[0m\n",
      "\u001b[0;32m/opt/conda/lib/python3.9/site-packages/pandas/io/parsers/readers.py\u001b[0m in \u001b[0;36mread_csv\u001b[0;34m(filepath_or_buffer, sep, delimiter, header, names, index_col, usecols, squeeze, prefix, mangle_dupe_cols, dtype, engine, converters, true_values, false_values, skipinitialspace, skiprows, skipfooter, nrows, na_values, keep_default_na, na_filter, verbose, skip_blank_lines, parse_dates, infer_datetime_format, keep_date_col, date_parser, dayfirst, cache_dates, iterator, chunksize, compression, thousands, decimal, lineterminator, quotechar, quoting, doublequote, escapechar, comment, encoding, encoding_errors, dialect, error_bad_lines, warn_bad_lines, on_bad_lines, delim_whitespace, low_memory, memory_map, float_precision, storage_options)\u001b[0m\n\u001b[1;32m    584\u001b[0m     \u001b[0mkwds\u001b[0m\u001b[0;34m.\u001b[0m\u001b[0mupdate\u001b[0m\u001b[0;34m(\u001b[0m\u001b[0mkwds_defaults\u001b[0m\u001b[0;34m)\u001b[0m\u001b[0;34m\u001b[0m\u001b[0;34m\u001b[0m\u001b[0m\n\u001b[1;32m    585\u001b[0m \u001b[0;34m\u001b[0m\u001b[0m\n\u001b[0;32m--> 586\u001b[0;31m     \u001b[0;32mreturn\u001b[0m \u001b[0m_read\u001b[0m\u001b[0;34m(\u001b[0m\u001b[0mfilepath_or_buffer\u001b[0m\u001b[0;34m,\u001b[0m \u001b[0mkwds\u001b[0m\u001b[0;34m)\u001b[0m\u001b[0;34m\u001b[0m\u001b[0;34m\u001b[0m\u001b[0m\n\u001b[0m\u001b[1;32m    587\u001b[0m \u001b[0;34m\u001b[0m\u001b[0m\n\u001b[1;32m    588\u001b[0m \u001b[0;34m\u001b[0m\u001b[0m\n",
      "\u001b[0;32m/opt/conda/lib/python3.9/site-packages/pandas/io/parsers/readers.py\u001b[0m in \u001b[0;36m_read\u001b[0;34m(filepath_or_buffer, kwds)\u001b[0m\n\u001b[1;32m    480\u001b[0m \u001b[0;34m\u001b[0m\u001b[0m\n\u001b[1;32m    481\u001b[0m     \u001b[0;31m# Create the parser.\u001b[0m\u001b[0;34m\u001b[0m\u001b[0;34m\u001b[0m\u001b[0m\n\u001b[0;32m--> 482\u001b[0;31m     \u001b[0mparser\u001b[0m \u001b[0;34m=\u001b[0m \u001b[0mTextFileReader\u001b[0m\u001b[0;34m(\u001b[0m\u001b[0mfilepath_or_buffer\u001b[0m\u001b[0;34m,\u001b[0m \u001b[0;34m**\u001b[0m\u001b[0mkwds\u001b[0m\u001b[0;34m)\u001b[0m\u001b[0;34m\u001b[0m\u001b[0;34m\u001b[0m\u001b[0m\n\u001b[0m\u001b[1;32m    483\u001b[0m \u001b[0;34m\u001b[0m\u001b[0m\n\u001b[1;32m    484\u001b[0m     \u001b[0;32mif\u001b[0m \u001b[0mchunksize\u001b[0m \u001b[0;32mor\u001b[0m \u001b[0miterator\u001b[0m\u001b[0;34m:\u001b[0m\u001b[0;34m\u001b[0m\u001b[0;34m\u001b[0m\u001b[0m\n",
      "\u001b[0;32m/opt/conda/lib/python3.9/site-packages/pandas/io/parsers/readers.py\u001b[0m in \u001b[0;36m__init__\u001b[0;34m(self, f, engine, **kwds)\u001b[0m\n\u001b[1;32m    809\u001b[0m             \u001b[0mself\u001b[0m\u001b[0;34m.\u001b[0m\u001b[0moptions\u001b[0m\u001b[0;34m[\u001b[0m\u001b[0;34m\"has_index_names\"\u001b[0m\u001b[0;34m]\u001b[0m \u001b[0;34m=\u001b[0m \u001b[0mkwds\u001b[0m\u001b[0;34m[\u001b[0m\u001b[0;34m\"has_index_names\"\u001b[0m\u001b[0;34m]\u001b[0m\u001b[0;34m\u001b[0m\u001b[0;34m\u001b[0m\u001b[0m\n\u001b[1;32m    810\u001b[0m \u001b[0;34m\u001b[0m\u001b[0m\n\u001b[0;32m--> 811\u001b[0;31m         \u001b[0mself\u001b[0m\u001b[0;34m.\u001b[0m\u001b[0m_engine\u001b[0m \u001b[0;34m=\u001b[0m \u001b[0mself\u001b[0m\u001b[0;34m.\u001b[0m\u001b[0m_make_engine\u001b[0m\u001b[0;34m(\u001b[0m\u001b[0mself\u001b[0m\u001b[0;34m.\u001b[0m\u001b[0mengine\u001b[0m\u001b[0;34m)\u001b[0m\u001b[0;34m\u001b[0m\u001b[0;34m\u001b[0m\u001b[0m\n\u001b[0m\u001b[1;32m    812\u001b[0m \u001b[0;34m\u001b[0m\u001b[0m\n\u001b[1;32m    813\u001b[0m     \u001b[0;32mdef\u001b[0m \u001b[0mclose\u001b[0m\u001b[0;34m(\u001b[0m\u001b[0mself\u001b[0m\u001b[0;34m)\u001b[0m\u001b[0;34m:\u001b[0m\u001b[0;34m\u001b[0m\u001b[0;34m\u001b[0m\u001b[0m\n",
      "\u001b[0;32m/opt/conda/lib/python3.9/site-packages/pandas/io/parsers/readers.py\u001b[0m in \u001b[0;36m_make_engine\u001b[0;34m(self, engine)\u001b[0m\n\u001b[1;32m   1038\u001b[0m             )\n\u001b[1;32m   1039\u001b[0m         \u001b[0;31m# error: Too many arguments for \"ParserBase\"\u001b[0m\u001b[0;34m\u001b[0m\u001b[0;34m\u001b[0m\u001b[0m\n\u001b[0;32m-> 1040\u001b[0;31m         \u001b[0;32mreturn\u001b[0m \u001b[0mmapping\u001b[0m\u001b[0;34m[\u001b[0m\u001b[0mengine\u001b[0m\u001b[0;34m]\u001b[0m\u001b[0;34m(\u001b[0m\u001b[0mself\u001b[0m\u001b[0;34m.\u001b[0m\u001b[0mf\u001b[0m\u001b[0;34m,\u001b[0m \u001b[0;34m**\u001b[0m\u001b[0mself\u001b[0m\u001b[0;34m.\u001b[0m\u001b[0moptions\u001b[0m\u001b[0;34m)\u001b[0m  \u001b[0;31m# type: ignore[call-arg]\u001b[0m\u001b[0;34m\u001b[0m\u001b[0;34m\u001b[0m\u001b[0m\n\u001b[0m\u001b[1;32m   1041\u001b[0m \u001b[0;34m\u001b[0m\u001b[0m\n\u001b[1;32m   1042\u001b[0m     \u001b[0;32mdef\u001b[0m \u001b[0m_failover_to_python\u001b[0m\u001b[0;34m(\u001b[0m\u001b[0mself\u001b[0m\u001b[0;34m)\u001b[0m\u001b[0;34m:\u001b[0m\u001b[0;34m\u001b[0m\u001b[0;34m\u001b[0m\u001b[0m\n",
      "\u001b[0;32m/opt/conda/lib/python3.9/site-packages/pandas/io/parsers/c_parser_wrapper.py\u001b[0m in \u001b[0;36m__init__\u001b[0;34m(self, src, **kwds)\u001b[0m\n\u001b[1;32m     49\u001b[0m \u001b[0;34m\u001b[0m\u001b[0m\n\u001b[1;32m     50\u001b[0m         \u001b[0;31m# open handles\u001b[0m\u001b[0;34m\u001b[0m\u001b[0;34m\u001b[0m\u001b[0m\n\u001b[0;32m---> 51\u001b[0;31m         \u001b[0mself\u001b[0m\u001b[0;34m.\u001b[0m\u001b[0m_open_handles\u001b[0m\u001b[0;34m(\u001b[0m\u001b[0msrc\u001b[0m\u001b[0;34m,\u001b[0m \u001b[0mkwds\u001b[0m\u001b[0;34m)\u001b[0m\u001b[0;34m\u001b[0m\u001b[0;34m\u001b[0m\u001b[0m\n\u001b[0m\u001b[1;32m     52\u001b[0m         \u001b[0;32massert\u001b[0m \u001b[0mself\u001b[0m\u001b[0;34m.\u001b[0m\u001b[0mhandles\u001b[0m \u001b[0;32mis\u001b[0m \u001b[0;32mnot\u001b[0m \u001b[0;32mNone\u001b[0m\u001b[0;34m\u001b[0m\u001b[0;34m\u001b[0m\u001b[0m\n\u001b[1;32m     53\u001b[0m \u001b[0;34m\u001b[0m\u001b[0m\n",
      "\u001b[0;32m/opt/conda/lib/python3.9/site-packages/pandas/io/parsers/base_parser.py\u001b[0m in \u001b[0;36m_open_handles\u001b[0;34m(self, src, kwds)\u001b[0m\n\u001b[1;32m    220\u001b[0m         \u001b[0mLet\u001b[0m \u001b[0mthe\u001b[0m \u001b[0mreaders\u001b[0m \u001b[0mopen\u001b[0m \u001b[0mIOHandles\u001b[0m \u001b[0mafter\u001b[0m \u001b[0mthey\u001b[0m \u001b[0mare\u001b[0m \u001b[0mdone\u001b[0m \u001b[0;32mwith\u001b[0m \u001b[0mtheir\u001b[0m \u001b[0mpotential\u001b[0m \u001b[0mraises\u001b[0m\u001b[0;34m.\u001b[0m\u001b[0;34m\u001b[0m\u001b[0;34m\u001b[0m\u001b[0m\n\u001b[1;32m    221\u001b[0m         \"\"\"\n\u001b[0;32m--> 222\u001b[0;31m         self.handles = get_handle(\n\u001b[0m\u001b[1;32m    223\u001b[0m             \u001b[0msrc\u001b[0m\u001b[0;34m,\u001b[0m\u001b[0;34m\u001b[0m\u001b[0;34m\u001b[0m\u001b[0m\n\u001b[1;32m    224\u001b[0m             \u001b[0;34m\"r\"\u001b[0m\u001b[0;34m,\u001b[0m\u001b[0;34m\u001b[0m\u001b[0;34m\u001b[0m\u001b[0m\n",
      "\u001b[0;32m/opt/conda/lib/python3.9/site-packages/pandas/io/common.py\u001b[0m in \u001b[0;36mget_handle\u001b[0;34m(path_or_buf, mode, encoding, compression, memory_map, is_text, errors, storage_options)\u001b[0m\n\u001b[1;32m    700\u001b[0m         \u001b[0;32mif\u001b[0m \u001b[0mioargs\u001b[0m\u001b[0;34m.\u001b[0m\u001b[0mencoding\u001b[0m \u001b[0;32mand\u001b[0m \u001b[0;34m\"b\"\u001b[0m \u001b[0;32mnot\u001b[0m \u001b[0;32min\u001b[0m \u001b[0mioargs\u001b[0m\u001b[0;34m.\u001b[0m\u001b[0mmode\u001b[0m\u001b[0;34m:\u001b[0m\u001b[0;34m\u001b[0m\u001b[0;34m\u001b[0m\u001b[0m\n\u001b[1;32m    701\u001b[0m             \u001b[0;31m# Encoding\u001b[0m\u001b[0;34m\u001b[0m\u001b[0;34m\u001b[0m\u001b[0m\n\u001b[0;32m--> 702\u001b[0;31m             handle = open(\n\u001b[0m\u001b[1;32m    703\u001b[0m                 \u001b[0mhandle\u001b[0m\u001b[0;34m,\u001b[0m\u001b[0;34m\u001b[0m\u001b[0;34m\u001b[0m\u001b[0m\n\u001b[1;32m    704\u001b[0m                 \u001b[0mioargs\u001b[0m\u001b[0;34m.\u001b[0m\u001b[0mmode\u001b[0m\u001b[0;34m,\u001b[0m\u001b[0;34m\u001b[0m\u001b[0;34m\u001b[0m\u001b[0m\n",
      "\u001b[0;31mFileNotFoundError\u001b[0m: [Errno 2] No such file or directory: '/aiffel/time_series_basic/AirPassengers.csv'"
     ]
    }
   ],
   "source": [
    "ap = pd.read_csv('/aiffel/time_series_basic/AirPassengers.csv')"
   ]
  },
  {
   "cell_type": "markdown",
   "id": "db9a453d",
   "metadata": {},
   "source": [
    "에러가 난다. 여기 상위 루트가 aiffel? 유저명이 aiffel?    \n",
    "유저명 = home...     \n",
    "home = 루트?\n",
    "\n",
    "\n",
    "-> 추후 reference 터미널 노드를 공부하고 난 뒤,\n",
    "\n",
    "### <span style = \"color:red;\">aiffel은 root 상위 루트...? 인 듯!</span>   "
   ]
  },
  {
   "cell_type": "markdown",
   "id": "7157ede7",
   "metadata": {},
   "source": [
    "계속 진행하기 위해 ap를 다시 소환"
   ]
  },
  {
   "cell_type": "markdown",
   "id": "c037a4ea",
   "metadata": {},
   "source": [
    "### Step 3. 분산을 일정하게 만들기\n",
    "- 로그변환(Log Transformation)을 통해 분산을 일정하게 조절\n",
    "- 분산이 일정하게 적용되었는지 시각화한 후 확인"
   ]
  },
  {
   "cell_type": "code",
   "execution_count": 20,
   "id": "b3d97efa",
   "metadata": {},
   "outputs": [
    {
     "data": {
      "text/html": [
       "<div>\n",
       "<style scoped>\n",
       "    .dataframe tbody tr th:only-of-type {\n",
       "        vertical-align: middle;\n",
       "    }\n",
       "\n",
       "    .dataframe tbody tr th {\n",
       "        vertical-align: top;\n",
       "    }\n",
       "\n",
       "    .dataframe thead th {\n",
       "        text-align: right;\n",
       "    }\n",
       "</style>\n",
       "<table border=\"1\" class=\"dataframe\">\n",
       "  <thead>\n",
       "    <tr style=\"text-align: right;\">\n",
       "      <th></th>\n",
       "      <th>#Passengers</th>\n",
       "    </tr>\n",
       "  </thead>\n",
       "  <tbody>\n",
       "    <tr>\n",
       "      <th>0</th>\n",
       "      <td>112</td>\n",
       "    </tr>\n",
       "    <tr>\n",
       "      <th>1</th>\n",
       "      <td>118</td>\n",
       "    </tr>\n",
       "    <tr>\n",
       "      <th>2</th>\n",
       "      <td>132</td>\n",
       "    </tr>\n",
       "    <tr>\n",
       "      <th>3</th>\n",
       "      <td>129</td>\n",
       "    </tr>\n",
       "    <tr>\n",
       "      <th>4</th>\n",
       "      <td>121</td>\n",
       "    </tr>\n",
       "    <tr>\n",
       "      <th>...</th>\n",
       "      <td>...</td>\n",
       "    </tr>\n",
       "    <tr>\n",
       "      <th>139</th>\n",
       "      <td>606</td>\n",
       "    </tr>\n",
       "    <tr>\n",
       "      <th>140</th>\n",
       "      <td>508</td>\n",
       "    </tr>\n",
       "    <tr>\n",
       "      <th>141</th>\n",
       "      <td>461</td>\n",
       "    </tr>\n",
       "    <tr>\n",
       "      <th>142</th>\n",
       "      <td>390</td>\n",
       "    </tr>\n",
       "    <tr>\n",
       "      <th>143</th>\n",
       "      <td>432</td>\n",
       "    </tr>\n",
       "  </tbody>\n",
       "</table>\n",
       "<p>144 rows × 1 columns</p>\n",
       "</div>"
      ],
      "text/plain": [
       "     #Passengers\n",
       "0            112\n",
       "1            118\n",
       "2            132\n",
       "3            129\n",
       "4            121\n",
       "..           ...\n",
       "139          606\n",
       "140          508\n",
       "141          461\n",
       "142          390\n",
       "143          432\n",
       "\n",
       "[144 rows x 1 columns]"
      ]
     },
     "execution_count": 20,
     "metadata": {},
     "output_type": "execute_result"
    }
   ],
   "source": [
    "ap"
   ]
  },
  {
   "cell_type": "code",
   "execution_count": 21,
   "id": "0161e966",
   "metadata": {},
   "outputs": [
    {
     "data": {
      "image/png": "[encoded data removed]",
      "text/plain": [
       "<Figure size 432x288 with 1 Axes>"
      ]
     },
     "metadata": {
      "needs_background": "light"
     },
     "output_type": "display_data"
    }
   ],
   "source": [
    "plt.plot(ap)\n",
    "plt.show()"
   ]
  },
  {
   "cell_type": "code",
   "execution_count": 22,
   "id": "52058fb4",
   "metadata": {},
   "outputs": [
    {
     "data": {
      "text/html": [
       "<div>\n",
       "<style scoped>\n",
       "    .dataframe tbody tr th:only-of-type {\n",
       "        vertical-align: middle;\n",
       "    }\n",
       "\n",
       "    .dataframe tbody tr th {\n",
       "        vertical-align: top;\n",
       "    }\n",
       "\n",
       "    .dataframe thead th {\n",
       "        text-align: right;\n",
       "    }\n",
       "</style>\n",
       "<table border=\"1\" class=\"dataframe\">\n",
       "  <thead>\n",
       "    <tr style=\"text-align: right;\">\n",
       "      <th></th>\n",
       "      <th>#Passengers</th>\n",
       "    </tr>\n",
       "  </thead>\n",
       "  <tbody>\n",
       "    <tr>\n",
       "      <th>0</th>\n",
       "      <td>4.718499</td>\n",
       "    </tr>\n",
       "    <tr>\n",
       "      <th>1</th>\n",
       "      <td>4.770685</td>\n",
       "    </tr>\n",
       "    <tr>\n",
       "      <th>2</th>\n",
       "      <td>4.882802</td>\n",
       "    </tr>\n",
       "    <tr>\n",
       "      <th>3</th>\n",
       "      <td>4.859812</td>\n",
       "    </tr>\n",
       "    <tr>\n",
       "      <th>4</th>\n",
       "      <td>4.795791</td>\n",
       "    </tr>\n",
       "    <tr>\n",
       "      <th>...</th>\n",
       "      <td>...</td>\n",
       "    </tr>\n",
       "    <tr>\n",
       "      <th>139</th>\n",
       "      <td>6.406880</td>\n",
       "    </tr>\n",
       "    <tr>\n",
       "      <th>140</th>\n",
       "      <td>6.230481</td>\n",
       "    </tr>\n",
       "    <tr>\n",
       "      <th>141</th>\n",
       "      <td>6.133398</td>\n",
       "    </tr>\n",
       "    <tr>\n",
       "      <th>142</th>\n",
       "      <td>5.966147</td>\n",
       "    </tr>\n",
       "    <tr>\n",
       "      <th>143</th>\n",
       "      <td>6.068426</td>\n",
       "    </tr>\n",
       "  </tbody>\n",
       "</table>\n",
       "<p>144 rows × 1 columns</p>\n",
       "</div>"
      ],
      "text/plain": [
       "     #Passengers\n",
       "0       4.718499\n",
       "1       4.770685\n",
       "2       4.882802\n",
       "3       4.859812\n",
       "4       4.795791\n",
       "..           ...\n",
       "139     6.406880\n",
       "140     6.230481\n",
       "141     6.133398\n",
       "142     5.966147\n",
       "143     6.068426\n",
       "\n",
       "[144 rows x 1 columns]"
      ]
     },
     "execution_count": 22,
     "metadata": {},
     "output_type": "execute_result"
    }
   ],
   "source": [
    "# np.log를 통해서 log transformation\n",
    "ap_transformed = np.log(ap)\n",
    "ap_transformed"
   ]
  },
  {
   "cell_type": "code",
   "execution_count": 7,
   "id": "2fb15af1",
   "metadata": {},
   "outputs": [
    {
     "data": {
      "text/plain": [
       "[]"
      ]
     },
     "execution_count": 7,
     "metadata": {},
     "output_type": "execute_result"
    },
    {
     "data": {
      "image/png": "[encoded data removed]",
      "text/plain": [
       "<Figure size 432x288 with 1 Axes>"
      ]
     },
     "metadata": {
      "needs_background": "light"
     },
     "output_type": "display_data"
    }
   ],
   "source": [
    "plot_acf(ap_transformed) # acf plot, 점차 감소하는 모양새를 지니고 있음\n",
    "plt.plot()"
   ]
  },
  {
   "cell_type": "code",
   "execution_count": 11,
   "id": "b54bc8cb",
   "metadata": {},
   "outputs": [
    {
     "name": "stderr",
     "output_type": "stream",
     "text": [
      "/opt/conda/lib/python3.9/site-packages/statsmodels/graphics/tsaplots.py:348: FutureWarning: The default method 'yw' can produce PACF values outside of the [-1,1] interval. After 0.13, the default will change tounadjusted Yule-Walker ('ywm'). You can use this method now by setting method='ywm'.\n",
      "  warnings.warn(\n"
     ]
    },
    {
     "data": {
      "text/plain": [
       "[]"
      ]
     },
     "execution_count": 11,
     "metadata": {},
     "output_type": "execute_result"
    },
    {
     "data": {
      "image/png": "[encoded data removed]",
      "text/plain": [
       "<Figure size 432x288 with 1 Axes>"
      ]
     },
     "metadata": {
      "needs_background": "light"
     },
     "output_type": "display_data"
    }
   ],
   "source": [
    "plot_pacf(ap_transformed) # pacf plot, lag 2까지 유의미한 결과를 보임\n",
    "plt.plot()"
   ]
  },
  {
   "cell_type": "markdown",
   "id": "3dd2cb42",
   "metadata": {},
   "source": [
    "### <span style = \"color:red;\">이 그래프를 사용하는 이유!</span> "
   ]
  },
  {
   "cell_type": "markdown",
   "id": "340ca02f",
   "metadata": {},
   "source": [
    "#### ACF Plot\n",
    "= AutoCorrelation Function Plot\n",
    "자기 상관 함수 그래프\n",
    "\n",
    "자기 상관 함수는 시간에 따른 상관 정도를 나타내기 위해 사용하는 통계량\n",
    "\n",
    "-> 그래서 시간에 따른 상관 관계가 높게 나타나는 부분이 유의미하다고 하는 것?\n",
    "\n",
    "파란색으로 나타나는 부분은 임계값\n",
    "\n",
    "자기 상관\n",
    ": 시계열 데이터에서 일정 간격이 있는 값들 사이의 상관관계를 의미\n",
    "    \n",
    "출처: 시계열 3-3 노드"
   ]
  },
  {
   "cell_type": "markdown",
   "id": "e7053317",
   "metadata": {},
   "source": [
    "용어정리를 가지고 오면\n",
    "\n",
    "\n",
    "자기상관함수\n",
    "x축은 시차(lag), y축은 자기상관을 나타낸다     \n",
    "시차가 0일 때, 자기 상관은 항상 1의 값을 가진다.     \n",
    "파란색 점선은(위 도표에서는 영역 표시로 나온 것 같지만..) 임계값으로 95% 신뢰구간으로 추정되는 표준편차를 의미한다     \n",
    "파란 임계값 안에 들어가는 선들은 통계적으로 중요하지 않다      "
   ]
  },
  {
   "cell_type": "markdown",
   "id": "2c9fad35",
   "metadata": {},
   "source": [
    "#### PACF Plot\n",
    "= Partial AutoCorrelation Function Plot\n",
    "편자기상관 함수 그래프\n",
    "\n",
    "편자기상관함수는 두 시점 사이의 상관관계를 보려고 하는 경우 시점의 영향을 주는 요소들을 제외한 상관관계를 볼 때 사용한다    \n",
    "두 시점 사이의 전체 상관관계에서 그 사이 다른 시점의 조건부 상관관계를 뺀 것      \n",
    "ACF에서 불필요한 중복 관계가 제거된 것을 볼 수 있다"
   ]
  },
  {
   "cell_type": "markdown",
   "id": "170a03ee",
   "metadata": {},
   "source": [
    "둘의 의미적 차이는      \n",
    "acf는 두 시점 간의 상관관계를 계산할 때 두 시점 사이의 모든 lag에 대한 정보가 들어가지만      \n",
    "pacf는 오로지 두 시점만의 상관관계만을 계산(다른 lag는 조건부 상관관계로 제거)"
   ]
  },
  {
   "cell_type": "markdown",
   "id": "593cc510",
   "metadata": {},
   "source": [
    "### Step 4.차분을 통해 분석하기\n",
    "ACF, PACF Plot과 차분을 활용하여 분석"
   ]
  },
  {
   "cell_type": "markdown",
   "id": "e8602a6d",
   "metadata": {},
   "source": [
    "### <span style = \"color:red;\">의문</span> \n",
    "왜 분산을 일정하게 만들고 두 개의 그래프를 그려보고      \n",
    "또 차분을 적용한 다음 두 개의 그래프를 그리지?"
   ]
  },
  {
   "cell_type": "code",
   "execution_count": 8,
   "id": "82b4b036",
   "metadata": {},
   "outputs": [],
   "source": [
    "ap_diff = ap_transformed.diff() # 이건 위에서 분산을 고르게 만들고 난 다음의 ap_transformed\n",
    "ap_diff = ap_diff.dropna()"
   ]
  },
  {
   "cell_type": "code",
   "execution_count": 9,
   "id": "f34ddaef",
   "metadata": {},
   "outputs": [
    {
     "data": {
      "text/plain": [
       "[]"
      ]
     },
     "execution_count": 9,
     "metadata": {},
     "output_type": "execute_result"
    },
    {
     "data": {
      "image/png": "[encoded data removed]",
      "text/plain": [
       "<Figure size 432x288 with 1 Axes>"
      ]
     },
     "metadata": {
      "needs_background": "light"
     },
     "output_type": "display_data"
    }
   ],
   "source": [
    "# lag 1과 lag 12에서 유의미한 lag가 포착됨\n",
    "plot_acf(ap_diff) \n",
    "plt.plot()"
   ]
  },
  {
   "cell_type": "code",
   "execution_count": 10,
   "id": "281478f9",
   "metadata": {},
   "outputs": [
    {
     "name": "stderr",
     "output_type": "stream",
     "text": [
      "/opt/conda/lib/python3.9/site-packages/statsmodels/graphics/tsaplots.py:348: FutureWarning: The default method 'yw' can produce PACF values outside of the [-1,1] interval. After 0.13, the default will change tounadjusted Yule-Walker ('ywm'). You can use this method now by setting method='ywm'.\n",
      "  warnings.warn(\n"
     ]
    },
    {
     "data": {
      "text/plain": [
       "[]"
      ]
     },
     "execution_count": 10,
     "metadata": {},
     "output_type": "execute_result"
    },
    {
     "data": {
      "image/png": "[encoded data removed]",
      "text/plain": [
       "<Figure size 432x288 with 1 Axes>"
      ]
     },
     "metadata": {
      "needs_background": "light"
     },
     "output_type": "display_data"
    }
   ],
   "source": [
    "# lag 1, lag 8~12쯤에서 유의미한 lag가 포착됨\n",
    "plot_pacf(ap_diff) \n",
    "plt.plot()"
   ]
  },
  {
   "cell_type": "markdown",
   "id": "6d5aacc7",
   "metadata": {},
   "source": [
    "### <span style = \"color:red;\">내 생각에는</span> \n",
    "그래프를 2개 그려보는 이유는 분산을 적용해서 유의미한 값이 있는지 먼저 알아보고       \n",
    "별로 차이점이 보이지 않으니      \n",
    "분산에 차분을 적용해보고 그래프를 그려보는 것 같다"
   ]
  },
  {
   "cell_type": "markdown",
   "id": "f87909ef",
   "metadata": {},
   "source": [
    "n=12 즈음에서 유의미한 상관관계가 나타난다. 이는 계절성 성분으로 추측됨       \n",
    "arima를 적용할 때에 계절성 요인도 고려해야 한다"
   ]
  },
  {
   "cell_type": "code",
   "execution_count": 11,
   "id": "e6935fdd",
   "metadata": {},
   "outputs": [
    {
     "data": {
      "text/html": [
       "<div>\n",
       "<style scoped>\n",
       "    .dataframe tbody tr th:only-of-type {\n",
       "        vertical-align: middle;\n",
       "    }\n",
       "\n",
       "    .dataframe tbody tr th {\n",
       "        vertical-align: top;\n",
       "    }\n",
       "\n",
       "    .dataframe thead th {\n",
       "        text-align: right;\n",
       "    }\n",
       "</style>\n",
       "<table border=\"1\" class=\"dataframe\">\n",
       "  <thead>\n",
       "    <tr style=\"text-align: right;\">\n",
       "      <th></th>\n",
       "      <th>#Passengers</th>\n",
       "    </tr>\n",
       "  </thead>\n",
       "  <tbody>\n",
       "    <tr>\n",
       "      <th>0</th>\n",
       "      <td>4.718499</td>\n",
       "    </tr>\n",
       "    <tr>\n",
       "      <th>1</th>\n",
       "      <td>4.770685</td>\n",
       "    </tr>\n",
       "    <tr>\n",
       "      <th>2</th>\n",
       "      <td>4.882802</td>\n",
       "    </tr>\n",
       "    <tr>\n",
       "      <th>3</th>\n",
       "      <td>4.859812</td>\n",
       "    </tr>\n",
       "    <tr>\n",
       "      <th>4</th>\n",
       "      <td>4.795791</td>\n",
       "    </tr>\n",
       "    <tr>\n",
       "      <th>...</th>\n",
       "      <td>...</td>\n",
       "    </tr>\n",
       "    <tr>\n",
       "      <th>139</th>\n",
       "      <td>6.406880</td>\n",
       "    </tr>\n",
       "    <tr>\n",
       "      <th>140</th>\n",
       "      <td>6.230481</td>\n",
       "    </tr>\n",
       "    <tr>\n",
       "      <th>141</th>\n",
       "      <td>6.133398</td>\n",
       "    </tr>\n",
       "    <tr>\n",
       "      <th>142</th>\n",
       "      <td>5.966147</td>\n",
       "    </tr>\n",
       "    <tr>\n",
       "      <th>143</th>\n",
       "      <td>6.068426</td>\n",
       "    </tr>\n",
       "  </tbody>\n",
       "</table>\n",
       "<p>144 rows × 1 columns</p>\n",
       "</div>"
      ],
      "text/plain": [
       "     #Passengers\n",
       "0       4.718499\n",
       "1       4.770685\n",
       "2       4.882802\n",
       "3       4.859812\n",
       "4       4.795791\n",
       "..           ...\n",
       "139     6.406880\n",
       "140     6.230481\n",
       "141     6.133398\n",
       "142     5.966147\n",
       "143     6.068426\n",
       "\n",
       "[144 rows x 1 columns]"
      ]
     },
     "execution_count": 11,
     "metadata": {},
     "output_type": "execute_result"
    }
   ],
   "source": [
    "ap_transformed"
   ]
  },
  {
   "cell_type": "markdown",
   "id": "9db9b7bb",
   "metadata": {},
   "source": [
    "### Step 5. 데이터 분리하기(train data, test data)"
   ]
  },
  {
   "cell_type": "code",
   "execution_count": 13,
   "id": "e846252a",
   "metadata": {},
   "outputs": [],
   "source": [
    "train_size = int(len(ap_transformed)*0.8)\n",
    "\n",
    "ap_transformed_train = ap_transformed[:train_size]\n",
    "ap_transformed_test = ap_transformed[train_size:]"
   ]
  },
  {
   "cell_type": "markdown",
   "id": "8a54aeea",
   "metadata": {},
   "source": [
    "### Step 6. Auto ARIMA 적용 결과 확인\n",
    "AutoARIMA 내부 인자 의미\n",
    "- seasonal : False인 경우 non-seasonal model로 제한합니다.\n",
    "- suppress_warnings : ARIMA를 실행하면 생기는 에러문구를 나오지 않도록 해줍니다.\n",
    "- trace : True일 때 오류(error)가 발생하면 일부 내용을 출력합니다.\n",
    "- max_D : seasonal의 최대 값을 설정할 수 있습니다."
   ]
  },
  {
   "cell_type": "code",
   "execution_count": 14,
   "id": "10d1b447",
   "metadata": {},
   "outputs": [
    {
     "name": "stdout",
     "output_type": "stream",
     "text": [
      "Performing stepwise search to minimize aic\n",
      " ARIMA(2,1,2)(0,0,0)[0] intercept   : AIC=inf, Time=0.80 sec\n",
      " ARIMA(0,1,0)(0,0,0)[0] intercept   : AIC=-189.733, Time=0.05 sec\n",
      " ARIMA(1,1,0)(0,0,0)[0] intercept   : AIC=-191.035, Time=0.05 sec\n",
      " ARIMA(0,1,1)(0,0,0)[0] intercept   : AIC=-192.641, Time=0.09 sec\n",
      " ARIMA(0,1,0)(0,0,0)[0]             : AIC=-189.957, Time=0.05 sec\n",
      " ARIMA(1,1,1)(0,0,0)[0] intercept   : AIC=-196.702, Time=0.20 sec\n",
      " ARIMA(2,1,1)(0,0,0)[0] intercept   : AIC=inf, Time=0.55 sec\n",
      " ARIMA(1,1,2)(0,0,0)[0] intercept   : AIC=inf, Time=0.65 sec\n",
      " ARIMA(0,1,2)(0,0,0)[0] intercept   : AIC=-196.895, Time=0.19 sec\n",
      " ARIMA(0,1,3)(0,0,0)[0] intercept   : AIC=inf, Time=0.61 sec\n",
      " ARIMA(1,1,3)(0,0,0)[0] intercept   : AIC=inf, Time=0.55 sec\n",
      " ARIMA(0,1,2)(0,0,0)[0]             : AIC=-196.569, Time=0.10 sec\n",
      "\n",
      "Best model:  ARIMA(0,1,2)(0,0,0)[0] intercept\n",
      "Total fit time: 4.013 seconds\n"
     ]
    }
   ],
   "source": [
    "# AutoARIMA\n",
    "# seasonal = True, max_D(계절차분) = 12\n",
    "model = pm.AutoARIMA(seasonal = True, suppress_warnings = True, trace = True, max_D = 12, D = 12) \n",
    "res = model.fit(ap_transformed_train)"
   ]
  },
  {
   "cell_type": "markdown",
   "id": "2d65a7a0",
   "metadata": {},
   "source": [
    "### <span style = \"color:red;\">ARIMA(0,1,2) 모델이 적절하다고 나옴</span> "
   ]
  },
  {
   "cell_type": "code",
   "execution_count": 15,
   "id": "e92412a7",
   "metadata": {},
   "outputs": [
    {
     "data": {
      "text/plain": [
       "(array([6.18010083, 6.14616332, 6.15817888, 6.17019443, 6.18220998,\n",
       "        6.19422554, 6.20624109, 6.21825665, 6.2302722 , 6.24228775,\n",
       "        6.25430331, 6.26631886, 6.27833442, 6.29034997, 6.30236553,\n",
       "        6.31438108, 6.32639663, 6.33841219, 6.35042774, 6.3624433 ,\n",
       "        6.37445885, 6.3864744 , 6.39848996, 6.41050551, 6.42252107,\n",
       "        6.43453662, 6.44655218, 6.45856773, 6.47058328]),\n",
       " array([[5.98736259, 6.37283907],\n",
       "        [5.85107277, 6.44125387],\n",
       "        [5.82729445, 6.48906331],\n",
       "        [5.807027  , 6.53336186],\n",
       "        [5.78940386, 6.57501611],\n",
       "        [5.77386531, 6.61458577],\n",
       "        [5.760025  , 6.65245718],\n",
       "        [5.74760298, 6.68891031],\n",
       "        [5.73638867, 6.72415573],\n",
       "        [5.72621895, 6.75835656],\n",
       "        [5.71696441, 6.7916422 ],\n",
       "        [5.70852037, 6.82411736],\n",
       "        [5.70080067, 6.85586817],\n",
       "        [5.69373342, 6.88696652],\n",
       "        [5.68725791, 6.91747314],\n",
       "        [5.68132227, 6.94743989],\n",
       "        [5.67588182, 6.97691145],\n",
       "        [5.6708977 , 7.00592668],\n",
       "        [5.66633588, 7.0345196 ],\n",
       "        [5.66216639, 7.0627202 ],\n",
       "        [5.65836262, 7.09055508],\n",
       "        [5.65490084, 7.11804797],\n",
       "        [5.65175978, 7.14522014],\n",
       "        [5.6489203 , 7.17209072],\n",
       "        [5.64636509, 7.19867705],\n",
       "        [5.64407841, 7.22499483],\n",
       "        [5.64204596, 7.25105839],\n",
       "        [5.64025463, 7.27688083],\n",
       "        [5.63869243, 7.30247414]]))"
      ]
     },
     "execution_count": 15,
     "metadata": {},
     "output_type": "execute_result"
    }
   ],
   "source": [
    "# confidence interval까지 도출\n",
    "preds, conf_int = res.predict(n_periods=ap_transformed_test.shape[0], return_conf_int=True) \n",
    "preds, conf_int"
   ]
  },
  {
   "cell_type": "code",
   "execution_count": 16,
   "id": "707b9f54",
   "metadata": {},
   "outputs": [
    {
     "data": {
      "image/png": "[encoded data removed]",
      "text/plain": [
       "<Figure size 432x288 with 1 Axes>"
      ]
     },
     "metadata": {
      "needs_background": "light"
     },
     "output_type": "display_data"
    }
   ],
   "source": [
    "# 예측 성능을 시각화\n",
    "# 0. train과 test data를 축(axis)으로 만듦\n",
    "# 1. x축은 test으로 만들어 놓은 train data를 사용하고, y축에 train data를 사용하여 train data를 시각화\n",
    "# 2. 1번 그래프에서 정답(AutoARIMA를 통해 만든 예측 값)에 해당하는 일자형 그래프가 생성\n",
    "# 3. 원래 가지고 있던 데이터셋의 y값(지도 학습의 정답)을 산점도(scatter plot)로 생성\n",
    "# 4. 2, 3번의 분포에 해당하는 구간을 채워 그래프로 나타냄\n",
    "x_axis = np.arange(ap_transformed_train.shape[0] + preds.shape[0]) # 115 + 29, plot을 그리기 위해 x축을 생성 # 0\n",
    "plt.plot(x_axis[:ap_transformed_train.shape[0]],ap_transformed_train, alpha=0.75) # 1\n",
    "plt.plot(x_axis[ap_transformed_train.shape[0]:], preds, alpha=0.75) # 2\n",
    "plt.scatter(x_axis[ap_transformed_train.shape[0]:],ap_transformed_test, \n",
    "            alpha=0.4, marker='o')  # 3 기존 test data는 scatter\n",
    "plt.fill_between(x_axis[-preds.shape[0]:],\n",
    "                 conf_int[:, 0], conf_int[:, 1],\n",
    "                 alpha=0.1, color='b') # 4\n",
    "plt.title(\"Log Transformed Air Passengers Forecast\") # plot의 제목\n",
    "plt.show() # 4개의 plot을 시각화"
   ]
  },
  {
   "cell_type": "markdown",
   "id": "42369b5a",
   "metadata": {},
   "source": [
    "## 2. ARCH\n",
    "사용한 데이터셋: s&p 500"
   ]
  },
  {
   "cell_type": "markdown",
   "id": "53b0625c",
   "metadata": {},
   "source": [
    "### Step 1. 데이터 및 라이브러리 불러오기"
   ]
  },
  {
   "cell_type": "code",
   "execution_count": 28,
   "id": "d79144ed",
   "metadata": {},
   "outputs": [
    {
     "name": "stdout",
     "output_type": "stream",
     "text": [
      "Requirement already satisfied: statsmodels in /opt/conda/lib/python3.9/site-packages (0.13.0)\n",
      "Requirement already satisfied: scipy>=1.3 in /opt/conda/lib/python3.9/site-packages (from statsmodels) (1.7.1)\n",
      "Requirement already satisfied: numpy>=1.17 in /opt/conda/lib/python3.9/site-packages (from statsmodels) (1.22.2)\n",
      "Requirement already satisfied: pandas>=0.25 in /opt/conda/lib/python3.9/site-packages (from statsmodels) (1.3.3)\n",
      "Requirement already satisfied: patsy>=0.5.2 in /opt/conda/lib/python3.9/site-packages (from statsmodels) (0.5.2)\n",
      "Requirement already satisfied: python-dateutil>=2.7.3 in /opt/conda/lib/python3.9/site-packages (from pandas>=0.25->statsmodels) (2.8.2)\n",
      "Requirement already satisfied: pytz>=2017.3 in /opt/conda/lib/python3.9/site-packages (from pandas>=0.25->statsmodels) (2021.3)\n",
      "Requirement already satisfied: six in /opt/conda/lib/python3.9/site-packages (from patsy>=0.5.2->statsmodels) (1.16.0)\n",
      "\u001b[33mWARNING: Running pip as the 'root' user can result in broken permissions and conflicting behaviour with the system package manager. It is recommended to use a virtual environment instead: https://pip.pypa.io/warnings/venv\u001b[0m\u001b[33m\n",
      "\u001b[0m"
     ]
    },
    {
     "ename": "ModuleNotFoundError",
     "evalue": "No module named 'arch'",
     "output_type": "error",
     "traceback": [
      "\u001b[0;31m---------------------------------------------------------------------------\u001b[0m",
      "\u001b[0;31mModuleNotFoundError\u001b[0m                       Traceback (most recent call last)",
      "\u001b[0;32m/tmp/ipykernel_48/1960587124.py\u001b[0m in \u001b[0;36m<module>\u001b[0;34m\u001b[0m\n\u001b[1;32m      1\u001b[0m \u001b[0mget_ipython\u001b[0m\u001b[0;34m(\u001b[0m\u001b[0;34m)\u001b[0m\u001b[0;34m.\u001b[0m\u001b[0msystem\u001b[0m\u001b[0;34m(\u001b[0m\u001b[0;34m'pip install statsmodels'\u001b[0m\u001b[0;34m)\u001b[0m\u001b[0;34m\u001b[0m\u001b[0;34m\u001b[0m\u001b[0m\n\u001b[1;32m      2\u001b[0m \u001b[0;32mimport\u001b[0m \u001b[0mdatetime\u001b[0m \u001b[0;32mas\u001b[0m \u001b[0mdt\u001b[0m\u001b[0;34m\u001b[0m\u001b[0;34m\u001b[0m\u001b[0m\n\u001b[0;32m----> 3\u001b[0;31m \u001b[0;32mimport\u001b[0m \u001b[0march\u001b[0m\u001b[0;34m.\u001b[0m\u001b[0mdata\u001b[0m\u001b[0;34m.\u001b[0m\u001b[0msp500\u001b[0m\u001b[0;34m\u001b[0m\u001b[0;34m\u001b[0m\u001b[0m\n\u001b[0m",
      "\u001b[0;31mModuleNotFoundError\u001b[0m: No module named 'arch'"
     ]
    }
   ],
   "source": [
    "!pip install statsmodels\n",
    "import datetime as dt \n",
    "import arch.data.sp500 "
   ]
  },
  {
   "cell_type": "markdown",
   "id": "a2ad6a18",
   "metadata": {},
   "source": [
    "### <span style = \"color:red;\">No module named 'arch'</span> \n",
    "\n",
    "ARCH에 대해서 찾아보고 !pip install statsmodels 를 넣어봤는데도 에러가 난다;"
   ]
  },
  {
   "cell_type": "markdown",
   "id": "d6941aa1",
   "metadata": {},
   "source": [
    "### Step 2. 데이터 가공 및 시각화"
   ]
  },
  {
   "cell_type": "code",
   "execution_count": null,
   "id": "c7ea45ee",
   "metadata": {},
   "outputs": [],
   "source": [
    "st = dt.datetime(2002, 1, 1) # start date\n",
    "en = dt.datetime(2022, 1, 1) # end date\n",
    "data = arch.data.sp500.load() # s&p 500 데이터 불러오기\n",
    "market = data[\"Adj Close\"] # 종가만 활용\n",
    "returns = 100 * market.pct_change().dropna() # return값으로 변환\n",
    "ax = returns.plot() # 수익률을 그래프로 만들기\n",
    "xlim = ax.set_xlim(returns.index.min(), returns.index.max()) # xlim은 x축 값의 보기를 제한\n",
    "plt.show()"
   ]
  },
  {
   "cell_type": "markdown",
   "id": "b75a8ac3",
   "metadata": {},
   "source": [
    "### Step 3. ARCH 모델 적용"
   ]
  },
  {
   "cell_type": "code",
   "execution_count": null,
   "id": "2ec33f6a",
   "metadata": {},
   "outputs": [],
   "source": [
    "from arch import arch_model\n",
    "am = arch_model(returns) # return을 arch모델에 적합\n",
    "res = am.fit(update_freq=5)"
   ]
  },
  {
   "cell_type": "markdown",
   "id": "3cab8444",
   "metadata": {},
   "source": [
    "### Step 4. 지표를 통한 결과 확인"
   ]
  },
  {
   "cell_type": "code",
   "execution_count": null,
   "id": "8aa3c65b",
   "metadata": {},
   "outputs": [],
   "source": [
    "print(res.summary())"
   ]
  },
  {
   "cell_type": "markdown",
   "id": "a429ab6d",
   "metadata": {},
   "source": [
    "노드에서는      \n",
    "아래에 있는 volatility model을 보면 alpha[1], Beta[1]은 GARCH(1,1)을 의미하며,     \n",
    "p-value를 통해 신뢰도 95%에서 이들이 유의미함을 도출한다고 되어있다.   \n",
    "\n",
    "\n",
    "하지만, 실습해보려고 하니 데이터 불러오는 거에서 에러가 나서...   \n",
    "추가 공부가 필요할 것 같다."
   ]
  },
  {
   "cell_type": "markdown",
   "id": "ad36e9a1",
   "metadata": {},
   "source": [
    "### Step 5. 시각화를 통한 결과값 확인"
   ]
  },
  {
   "cell_type": "code",
   "execution_count": null,
   "id": "a4297c64",
   "metadata": {},
   "outputs": [],
   "source": [
    "res.plot()"
   ]
  },
  {
   "cell_type": "markdown",
   "id": "61262b90",
   "metadata": {},
   "source": [
    "## 3. 회고"
   ]
  },
  {
   "cell_type": "markdown",
   "id": "bfefbfba",
   "metadata": {},
   "source": [
    "### 1. 프로젝트에서 어려웠던 점, 해결을 위해 시도한 방법, 문제해결에 성공한 이유 또는 실패한 이유"
   ]
  },
  {
   "cell_type": "markdown",
   "id": "bc3d0f04",
   "metadata": {},
   "source": [
    "- **프로젝트에서 어려웠던 점**  \n",
    "    1. ARIMA 모델과 ARCH 모델에 대해 프로젝트를 수행할 만큼 충분히 공부하지 못해 프로젝트 진행에 어려움이 있었습니다.\n",
    "    2. ARCH 모델을 불러오는 것에서 생긴 에러를 해결하지 못했습니다.\n",
    "\n",
    "\n",
    "- **해결을 위해 시도한 방법**  \n",
    "    ARIMA 모델에 대해 이해하기 위해 조원들과 이야기해보고, 추가 자료들을 찾아보았습니다.\n",
    "     \n",
    "\n",
    "- **문제해결에 성공한 이유 또는 실패한 이유**  \n",
    "    공부가 부족했습니다."
   ]
  },
  {
   "cell_type": "markdown",
   "id": "3964f3d2",
   "metadata": {},
   "source": [
    "### 2. 프로젝트를 진행하면서 알아낸 점 혹은 아직 모호한 점"
   ]
  },
  {
   "cell_type": "markdown",
   "id": "20067171",
   "metadata": {},
   "source": [
    "- **프로젝트를 진행하면서 알아낸 점**"
   ]
  },
  {
   "cell_type": "markdown",
   "id": "fbfda15e",
   "metadata": {},
   "source": [
    "음.. 거의 없습니다."
   ]
  },
  {
   "cell_type": "markdown",
   "id": "b05c7f56",
   "metadata": {},
   "source": [
    "- **아직 모호한 점**"
   ]
  },
  {
   "cell_type": "markdown",
   "id": "ec463868",
   "metadata": {},
   "source": [
    "대부분의 부분에서 개념이 많이 모호합니다."
   ]
  },
  {
   "cell_type": "markdown",
   "id": "08ee5329",
   "metadata": {},
   "source": [
    "### 3. 자기 다짐, 프로젝트를 진행하면서 느낀 점"
   ]
  },
  {
   "cell_type": "markdown",
   "id": "4ab5d12d",
   "metadata": {},
   "source": [
    "이번 프로젝트는 시간이 충분치 못했습니다.     \n",
    "지난번 시계열 미니 프로젝트1은 최대한 많이 이해하려 시간도 많이 투자해 개인적으로도 소득이 있었는데,    \n",
    "이번에는 그렇지 못해 많이 아쉽습니다.    \n",
    " \n",
    "\n",
    "시계열 노드를 복습하며 다시 공부하겠습니다. "
   ]
  },
  {
   "cell_type": "markdown",
   "id": "9074866c",
   "metadata": {},
   "source": [
    "## 참고한 레퍼런스"
   ]
  },
  {
   "cell_type": "markdown",
   "id": "0a458f41",
   "metadata": {},
   "source": [
    "<span style = \"color:gray;\">LMS 시계열 노드</span>     "
   ]
  }
 ],
 "metadata": {
  "kernelspec": {
   "display_name": "Python 3 (ipykernel)",
   "language": "python",
   "name": "python3"
  },
  "language_info": {
   "codemirror_mode": {
    "name": "ipython",
    "version": 3
   },
   "file_extension": ".py",
   "mimetype": "text/x-python",
   "name": "python",
   "nbconvert_exporter": "python",
   "pygments_lexer": "ipython3",
   "version": "3.9.7"
  }
 },
 "nbformat": 4,
 "nbformat_minor": 5
}
