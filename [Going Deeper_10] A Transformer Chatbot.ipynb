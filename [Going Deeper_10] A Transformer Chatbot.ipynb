{
 "cells": [
  {
   "cell_type": "markdown",
   "id": "62c2016f",
   "metadata": {},
   "source": [
    "## 미완성 프로젝트입니다. Going Deeper 6, 7, 8, 9, 10 이렇게 프로젝트 남았는데 하나씩 수정 업로드 할 예정입니다! :) "
   ]
  },
  {
   "cell_type": "markdown",
   "id": "f8664503",
   "metadata": {},
   "source": [
    "# [AIFFEL_Going Deeper_10] 트랜스포머로 만드는 대화형 챗봇"
   ]
  },
  {
   "cell_type": "markdown",
   "id": "babbb5cf",
   "metadata": {},
   "source": [
    "## 프로젝트 내용    \n",
    "트랜스포머 모델로 대화형 챗봇 만들기 \n",
    "\n",
    "## 목차\n",
    "### 1. \n",
    "**- Step 1. 필요한 라이브러리 불러오기**        \n",
    "**- Step 2. 데이터 준비와 확인**  \n",
    "     \n",
    "\n",
    "### 2. 결론\n",
    "### 3. 루브릭 관련 고려한 점\n",
    "### 4. 추가 공부\n",
    "### 5. 회고\n",
    "### 6. References         \n",
    "         \n",
    "     \n",
    "\n",
    "## 글씨 색 표시\n",
    "### <span style = \"color:orange;\">- 노랑: 질문! or 짚고가자!</span>    \n",
    "### <span style = \"color:red;\">- 빨강: 중요 or 특이사항</span>"
   ]
  }
 ],
 "metadata": {
  "kernelspec": {
   "display_name": "Python 3 (ipykernel)",
   "language": "python",
   "name": "python3"
  },
  "language_info": {
   "codemirror_mode": {
    "name": "ipython",
    "version": 3
   },
   "file_extension": ".py",
   "mimetype": "text/x-python",
   "name": "python",
   "nbconvert_exporter": "python",
   "pygments_lexer": "ipython3",
   "version": "3.9.7"
  }
 },
 "nbformat": 4,
 "nbformat_minor": 5
}
