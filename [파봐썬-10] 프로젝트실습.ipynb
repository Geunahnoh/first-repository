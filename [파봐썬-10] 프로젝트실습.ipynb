{
 "cells": [
  {
   "cell_type": "markdown",
   "id": "cdd6b8e5",
   "metadata": {},
   "source": [
    "## 10-2. 프로젝트 1: 전화번호 가려주는 프로그램\n",
    "\n",
    "전화 번호 형태는 010-xxxxx-xxxxx  \n",
    "전화 번호가 들어왔을 때 뒷자리 숫자 5개를 #####로 바꾸는 프로그램 작성"
   ]
  },
  {
   "cell_type": "code",
   "execution_count": 5,
   "id": "23cdf2f0",
   "metadata": {},
   "outputs": [],
   "source": [
    "# input은 numbers로 실제로는 다양한 번호가 들어올 수 있다.\n",
    "# 우선 번호 하나를 가정하고, change_num 함수를 작성\n",
    "\n",
    "numbers = '010-56789-33333'\n",
    "numbers_1 = '010-11111-55555'\n",
    "\n",
    "def change_num(nums):\n",
    "    return answer\n"
   ]
  },
  {
   "cell_type": "code",
   "execution_count": 8,
   "id": "de763cc6",
   "metadata": {},
   "outputs": [
    {
     "data": {
      "text/plain": [
       "'010-11111-*****'"
      ]
     },
     "execution_count": 8,
     "metadata": {},
     "output_type": "execute_result"
    }
   ],
   "source": [
    "# replace를 붙여 numbers 변수에 할당된 전화번호 문자열 string 뒷 5자리를 #####로 바꾸기\n",
    "\n",
    "numbers.replace(numbers[-5:], '#####')\n",
    "\n",
    "\n",
    "# numbers_1 을 새로 만들고 응용해보기\n",
    "\n",
    "numbers_1.replace(numbers_1[-5:], '*****')\n",
    "\n",
    "\n",
    "# 왜 numbers_1 하나만 출력될까?"
   ]
  },
  {
   "cell_type": "code",
   "execution_count": 14,
   "id": "2bb631ac",
   "metadata": {},
   "outputs": [
    {
     "name": "stdout",
     "output_type": "stream",
     "text": [
      "010-56789-33333\n",
      "010-11111-55555\n"
     ]
    }
   ],
   "source": [
    "\n",
    "numbers.replace(numbers[-5:], '#####')\n",
    "numbers_1.replace(numbers_1[-5:], '*****')\n",
    "\n",
    "print(numbers)\n",
    "print(numbers_1)\n",
    "\n",
    "# 음.. print를 써봐도 안 된다. 따로따로 실행하면 나오는데..\n",
    "# print 안에 replace를 쓰고 print를 해봐도 전화번호가 가려지지 않았다. \n",
    "# 아무래도 replace는 numbers의 값을 아예 바꾸는게 아니라 그럴까?"
   ]
  },
  {
   "cell_type": "markdown",
   "id": "07510a3f",
   "metadata": {},
   "source": [
    "## 결론"
   ]
  },
  {
   "cell_type": "code",
   "execution_count": 15,
   "id": "af60fd35",
   "metadata": {},
   "outputs": [
    {
     "data": {
      "text/plain": [
       "'010-53211-#####'"
      ]
     },
     "execution_count": 15,
     "metadata": {},
     "output_type": "execute_result"
    }
   ],
   "source": [
    "# 다시 정리하면\n",
    "\n",
    "def change_num(nums):\n",
    "    a = nums.replace(nums[-5:], '#####')\n",
    "    answer = a\n",
    "    return answer\n",
    "\n",
    "change_num('010-53211-78989')"
   ]
  },
  {
   "cell_type": "code",
   "execution_count": 16,
   "id": "e3285454",
   "metadata": {},
   "outputs": [
    {
     "data": {
      "text/plain": [
       "'010-53211-#####'"
      ]
     },
     "execution_count": 16,
     "metadata": {},
     "output_type": "execute_result"
    }
   ],
   "source": [
    "# 노드를 복습하며 보니 코드입력창에 위 코드와 같이 썼는데 아래와 같이도 작성할 수 있을 것 같습니다.\n",
    "\n",
    "def change_num(nums):\n",
    "    answer = nums.replace(nums[-5:], '#####')\n",
    "    return answer\n",
    "\n",
    "change_num('010-53211-78989')"
   ]
  },
  {
   "cell_type": "markdown",
   "id": "3fcaf3eb",
   "metadata": {},
   "source": [
    "## 10-3. 프로젝트 2: 리스트 평탄화"
   ]
  },
  {
   "cell_type": "markdown",
   "id": "085a5980",
   "metadata": {},
   "source": [
    "### 리스트 평탄화란?\n",
    "중첩된 리스트가 있을 때 중첩을 모두 제거하고 풀어서 1차원 리스트로 만드는 것"
   ]
  },
  {
   "cell_type": "code",
   "execution_count": 17,
   "id": "f413c376",
   "metadata": {},
   "outputs": [
    {
     "name": "stdout",
     "output_type": "stream",
     "text": [
      "[1, 2]\n",
      "3\n",
      "[[4, 5, 6], 7]\n",
      "8\n",
      "9\n"
     ]
    }
   ],
   "source": [
    "a = [[1, 2], 3, [[4, 5, 6], 7], 8, 9]\n",
    "\n",
    "for element in a:\n",
    "    print(element)\n",
    "    \n",
    "# 이건 for 문으로 a 리스트를 출력해 보았을 때, 리스트 요소 하나씩 보기"
   ]
  },
  {
   "cell_type": "code",
   "execution_count": 1,
   "id": "eaa7857f",
   "metadata": {},
   "outputs": [],
   "source": [
    "a = [[1, 2], 3, [[4, 5, 6], 7], 8, 9]\n",
    "\n",
    "def flatten(data):\n",
    "    return output\n",
    "\n",
    "# flatten이라는 리스트 평탄화 함수 만들기\n",
    "\n",
    "# 노드에서 말한 부분을 다시 적어보며 복습해보면\n",
    "# flatten 이라는 함수 안에서 a 리스트의 요소들을 하나씩 데리고 오는데\n",
    "# 각 요소가 리스트인지 아닌지 판별하고 리스트가 아닌 요소이면 밖으로 출력하고\n",
    "# 요소가 리스트이면 다시 그 리스트 안에서 요소를 하나씩 데리고 와 리스트인지 아닌지 판별\n",
    "# 이렇게 리스트인지 아닌지 판별하는 반복적인 과정이 재귀적이다 할 수 있다고 함\n",
    "# 그래서 재귀함수를 사용하게 되는 것\n",
    "\n",
    "# -> 내가 이해한 건, 우리가 만들 flatten이라는 함수가 함수의 내용이 리스트인지 아닌지 판별하고\n",
    "# 요소가 리스트가 아닌 일반 요소일 때가지 판별하는 반복적인 내용이므로 이 flatten 함수가\n",
    "# 재귀함수가 되는 것이라 이해"
   ]
  },
  {
   "cell_type": "markdown",
   "id": "371b0313",
   "metadata": {},
   "source": [
    "## 결론"
   ]
  },
  {
   "cell_type": "code",
   "execution_count": 2,
   "id": "de4caf45",
   "metadata": {},
   "outputs": [
    {
     "data": {
      "text/plain": [
       "[1, 2, 3, 4, 5, 6, 7, 8, 9]"
      ]
     },
     "execution_count": 2,
     "metadata": {},
     "output_type": "execute_result"
    }
   ],
   "source": [
    "# 노드의 정답을 보며 다시 이해해보기\n",
    "\n",
    "def flatten(data):\n",
    "    output = [] # output을 리스트 안에 넣어주기 위해 빈 리스트 생성\n",
    "    for item in data: # 들어오는 입력값을 data로 받고 거기에서 하나씩 요소를 item이라는 이름으로 데리고 오기 \n",
    "        if type(item) == list: # 각 요소가 리스트인지 아닌지 판별하는 함수, list를 list라고 쓰면 되는걸 배웠다  \n",
    "            output += flatten(item) # 판별 후 해당 요소가 리스트이면 다시 flatten 함수에 돌리기 \n",
    "        else:\n",
    "            output.append(item) # 해당 요소가 리스트가 아니고 요소이면, 빈 리스트로 만든 output 리스트 안에 더해주기 \n",
    "    return output\n",
    "\n",
    "flatten(a)"
   ]
  },
  {
   "cell_type": "markdown",
   "id": "46245344",
   "metadata": {},
   "source": [
    "## 10-4. 프로젝트 3: 10 이하 숫자만 곱해주는 함수"
   ]
  },
  {
   "cell_type": "markdown",
   "id": "1601aefb",
   "metadata": {},
   "source": [
    "나누기와 관련된 함수를 만들어보기  \n",
    "두 개의 숫자가 정수이면 둘을 나눈 값을 구하고,   \n",
    "둘 중 하나라도 정수가 아니면 '정수만 계산 가능합니다'를 출력하고 결과값은 None인 함수\n",
    "\n",
    "아래는 노드의 설명만 보고 내가 직접 만들어 본 함수"
   ]
  },
  {
   "cell_type": "code",
   "execution_count": 32,
   "id": "63c6563b",
   "metadata": {},
   "outputs": [
    {
     "name": "stdout",
     "output_type": "stream",
     "text": [
      "정수만 계산 가능합니다\n"
     ]
    }
   ],
   "source": [
    "numbers = [1, 3]\n",
    "\n",
    "def divider(numbers):\n",
    "    if numbers[0] == int and numbers[1] == int:\n",
    "        output = numbers[0] / numbers[1]\n",
    "    else:\n",
    "        print('정수만 계산 가능합니다')\n",
    "        output = None\n",
    "    return output\n",
    "\n",
    "divider(numbers)"
   ]
  },
  {
   "cell_type": "code",
   "execution_count": 33,
   "id": "03153b91",
   "metadata": {},
   "outputs": [
    {
     "data": {
      "text/plain": [
       "3"
      ]
     },
     "execution_count": 33,
     "metadata": {},
     "output_type": "execute_result"
    }
   ],
   "source": [
    "# 음.. 1과 3은 정수인데 왜 '정수만 계산 가능하다'는 오류가 났지...\n",
    "\n",
    "numbers = [1, 3]\n",
    "\n",
    "# def divider(numbers):\n",
    "#     if numbers[0] == int and numbers[1] == int:\n",
    "#         output = numbers[0] / numbers[1]\n",
    "#     else:\n",
    "#         print('정수만 계산 가능합니다')\n",
    "#         output = None\n",
    "#     return output\n",
    "\n",
    "# divider(numbers)\n",
    "\n",
    "numbers[1]\n",
    "\n",
    "# 음 리스트는 제대로 만들었고, 출력도 되는데, 함수 안에서 문자가 있나보다"
   ]
  },
  {
   "cell_type": "code",
   "execution_count": 34,
   "id": "eb0c195c",
   "metadata": {},
   "outputs": [
    {
     "ename": "UnboundLocalError",
     "evalue": "local variable 'output' referenced before assignment",
     "output_type": "error",
     "traceback": [
      "\u001b[0;31m---------------------------------------------------------------------------\u001b[0m",
      "\u001b[0;31mUnboundLocalError\u001b[0m                         Traceback (most recent call last)",
      "\u001b[0;32m/tmp/ipykernel_32/3876503346.py\u001b[0m in \u001b[0;36m<module>\u001b[0;34m\u001b[0m\n\u001b[1;32m      9\u001b[0m     \u001b[0;32mreturn\u001b[0m \u001b[0moutput\u001b[0m\u001b[0;34m\u001b[0m\u001b[0;34m\u001b[0m\u001b[0m\n\u001b[1;32m     10\u001b[0m \u001b[0;34m\u001b[0m\u001b[0m\n\u001b[0;32m---> 11\u001b[0;31m \u001b[0mdivider\u001b[0m\u001b[0;34m(\u001b[0m\u001b[0mnumbers\u001b[0m\u001b[0;34m)\u001b[0m\u001b[0;34m\u001b[0m\u001b[0;34m\u001b[0m\u001b[0m\n\u001b[0m\u001b[1;32m     12\u001b[0m \u001b[0;34m\u001b[0m\u001b[0m\n\u001b[1;32m     13\u001b[0m \u001b[0;31m# 오류 내용을 보니 음..\u001b[0m\u001b[0;34m\u001b[0m\u001b[0;34m\u001b[0m\u001b[0m\n",
      "\u001b[0;32m/tmp/ipykernel_32/3876503346.py\u001b[0m in \u001b[0;36mdivider\u001b[0;34m(numbers)\u001b[0m\n\u001b[1;32m      7\u001b[0m \u001b[0;31m#         print('정수만 계산 가능합니다')\u001b[0m\u001b[0;34m\u001b[0m\u001b[0;34m\u001b[0m\u001b[0m\n\u001b[1;32m      8\u001b[0m \u001b[0;31m#         output = None\u001b[0m\u001b[0;34m\u001b[0m\u001b[0;34m\u001b[0m\u001b[0m\n\u001b[0;32m----> 9\u001b[0;31m     \u001b[0;32mreturn\u001b[0m \u001b[0moutput\u001b[0m\u001b[0;34m\u001b[0m\u001b[0;34m\u001b[0m\u001b[0m\n\u001b[0m\u001b[1;32m     10\u001b[0m \u001b[0;34m\u001b[0m\u001b[0m\n\u001b[1;32m     11\u001b[0m \u001b[0mdivider\u001b[0m\u001b[0;34m(\u001b[0m\u001b[0mnumbers\u001b[0m\u001b[0;34m)\u001b[0m\u001b[0;34m\u001b[0m\u001b[0;34m\u001b[0m\u001b[0m\n",
      "\u001b[0;31mUnboundLocalError\u001b[0m: local variable 'output' referenced before assignment"
     ]
    }
   ],
   "source": [
    "numbers = [1, 3]\n",
    "\n",
    "def divider(numbers):\n",
    "    if numbers[0] == int and numbers[1] == int:\n",
    "        output = numbers[0] / numbers[1]\n",
    "#     else:\n",
    "#         print('정수만 계산 가능합니다')\n",
    "#         output = None\n",
    "    return output\n",
    "\n",
    "divider(numbers)\n",
    "\n",
    "# 오류 내용을 보니 음.."
   ]
  },
  {
   "cell_type": "code",
   "execution_count": 35,
   "id": "edf1d38e",
   "metadata": {},
   "outputs": [],
   "source": [
    "numbers = [1, 3]\n",
    "\n",
    "def divider(numbers):\n",
    "    if numbers[0] == int and numbers[1] == int:\n",
    "        output = numbers[0] / numbers[1]\n",
    "#     else:\n",
    "#         print('정수만 계산 가능합니다')\n",
    "#         output = None\n",
    "        return output\n",
    "\n",
    "divider(numbers)\n",
    "\n",
    "# return을 if문 안에 넣으니까 출력이 안된다"
   ]
  },
  {
   "cell_type": "code",
   "execution_count": 36,
   "id": "dcd9c24e",
   "metadata": {},
   "outputs": [
    {
     "name": "stdout",
     "output_type": "stream",
     "text": [
      "[1, 3]\n"
     ]
    }
   ],
   "source": [
    "numbers = [1, 3]\n",
    "\n",
    "\n",
    "if numbers[0] == int and numbers[1] == int:\n",
    "    print('정수가 맞다')\n",
    "\n",
    "print(numbers)\n",
    "\n",
    "\n",
    "# if문을 제대로 쓴 건지 확인해보려 했는데, 이렇게 나온다는건..\n",
    "# if문 안에서 number[0] 이렇게 쓰면 안되나 보다"
   ]
  },
  {
   "cell_type": "code",
   "execution_count": 37,
   "id": "8d1b765f",
   "metadata": {},
   "outputs": [
    {
     "name": "stdout",
     "output_type": "stream",
     "text": [
      "정수입니다\n"
     ]
    },
    {
     "data": {
      "text/plain": [
       "0.3333333333333333"
      ]
     },
     "execution_count": 37,
     "metadata": {},
     "output_type": "execute_result"
    }
   ],
   "source": [
    "# 노드를 보며 이해해보기\n",
    "\n",
    "x = 10\n",
    "\n",
    "if type(x) == int:\n",
    "    print('정수입니다')\n",
    "    \n",
    "# 아 이 부분을 내가 작성한 위 함수와 비교해보니 나는 numbers[0] == int 이렇게 했는데\n",
    "# 노드에서는 type(x) == int 라고 앞에 type을 써주었다.\n",
    "# 그럼 내가 작성했던 함수를 수정해보면\n",
    "\n",
    "\n",
    "numbers = [1, 3]\n",
    "\n",
    "def divider(numbers):\n",
    "    if type(numbers[0]) == int and type(numbers[1]) == int:\n",
    "        output = numbers[0] / numbers[1]\n",
    "#     else:\n",
    "#         print('정수만 계산 가능합니다')\n",
    "#         output = None\n",
    "    return output\n",
    "\n",
    "divider(numbers)\n",
    "\n",
    "# 오오 이렇게 하니 출력이 된다 오케이 오케이"
   ]
  },
  {
   "cell_type": "code",
   "execution_count": 38,
   "id": "fc41068e",
   "metadata": {},
   "outputs": [
    {
     "name": "stdout",
     "output_type": "stream",
     "text": [
      "정수만 계산 가능합니다\n"
     ]
    }
   ],
   "source": [
    "numbers = [2.0, 5]\n",
    "\n",
    "def divider(numbers):\n",
    "    if type(numbers[0]) == int and type(numbers[1]) == int:\n",
    "        output = numbers[0] / numbers[1]\n",
    "    else:\n",
    "        print('정수만 계산 가능합니다')\n",
    "        output = None\n",
    "    return output\n",
    "\n",
    "divider(numbers)\n",
    "\n",
    "# 음.. 노드에서 말한 것 처럼 2.0은 정수인데 float로 인식해서 아니라고 나옴 -> 수정 필요함\n",
    "# 어떻게? 나누기를 넣을까?"
   ]
  },
  {
   "cell_type": "code",
   "execution_count": null,
   "id": "4da2f2af",
   "metadata": {},
   "outputs": [],
   "source": [
    "# 나누기를 쓰려고 봤더니 2로 나누어진다 이것만 가지고 서는 안된다\n",
    "# 나머지가 int이면? 이라고 생각하니 5 / 3 의 경우 나머지가 소수점... 나옴\n",
    "# 정수와 소수점이 있는 수를 구분하는 방법... 2 2.0 2.3\n",
    "# 정수와 소수점이 있는 수의 차이는 뭐지?"
   ]
  },
  {
   "cell_type": "code",
   "execution_count": 21,
   "id": "422c99c9",
   "metadata": {},
   "outputs": [
    {
     "data": {
      "text/plain": [
       "1.6666666666666667"
      ]
     },
     "execution_count": 21,
     "metadata": {},
     "output_type": "execute_result"
    }
   ],
   "source": [
    "5 / 3"
   ]
  },
  {
   "cell_type": "markdown",
   "id": "e68c7fb7",
   "metadata": {},
   "source": [
    "### 정수\n",
    "양의 정수, 0, 음의 정수를 통틀어 말하는 수\n",
    "\n",
    "### 유리수\n",
    "정수, 분수, 소수로 구성\n",
    "\n",
    "### 소수\n",
    "일의 자리보다 작은 자릿값을 가진 수  \n",
    "소수는 소수점을 기준으로 왼쪽으로 이동할 때마다 자릿값이 10배씩 커지고, 오른쪽으로 이동할 때마다 자릿값이 1/10배씩 작아진다  \n",
    "소수는 0.1, 1.2, 2.57... 처럼 일의 자리보다 작은 자릿값을 가진 수  \n",
    "자릿값이 1보다 큰 부분과 작은 부분을 구별하는 점 . 이 소수점  \n",
    "소수점은 소수와 자연수를 구분해주는 점"
   ]
  },
  {
   "cell_type": "markdown",
   "id": "19a876b5",
   "metadata": {},
   "source": [
    "### 파이썬의 숫자 자료형\n",
    "\n",
    "숫자는  \n",
    "1. 정수 int  \n",
    "2. 실수 float  \n",
    "3. 복소수 complex  \n",
    "\n",
    "로 나누어짐"
   ]
  },
  {
   "cell_type": "code",
   "execution_count": null,
   "id": "b6ec86cd",
   "metadata": {},
   "outputs": [],
   "source": [
    "# 정수와 소수가 있는 수를 어떻게 구분할지 몰라\n",
    "# 노드의 내용을 보면서 하기로 함\n",
    "\n",
    "# 노드에서는\n",
    "# 2의 배수와 5의 배수를 나누기의 나머지로 구분했었다 함\n",
    "# 정수란 -> 간단하게 1의 배수\n",
    "# 그 말은 1로 나눴을 때, 나머지가 0인 정수"
   ]
  },
  {
   "cell_type": "code",
   "execution_count": 24,
   "id": "70c28cff",
   "metadata": {},
   "outputs": [],
   "source": [
    "# -> 2.3 같은 실수는 1로 나누었을 때 나머지가 0이 아닌가..?\n",
    "# 계산기에서 2.3 / 1 하니까 2.3 이렇게 나오는데... 그럼 몫이 2.3이고 나머지는 0인게 아닌지..\n",
    "\n",
    "# 그런데 노드에서\n",
    "\n",
    "x = 10.5\n",
    "\n",
    "if x % 1 == 0:\n",
    "    print('정수입니다')\n",
    "    \n",
    "# 이 부분에 x = 10 대신 x = 10.5를 넣고 돌리면 출력이 안 된다"
   ]
  },
  {
   "cell_type": "markdown",
   "id": "b9d37e4b",
   "metadata": {},
   "source": [
    "우선 나머지가 0이 아닌걸로 정수와 실수를 구분하는 걸로 하고 코드를 마저 작성해보면"
   ]
  },
  {
   "cell_type": "code",
   "execution_count": 43,
   "id": "156d2b2d",
   "metadata": {},
   "outputs": [
    {
     "data": {
      "text/plain": [
       "-0.4"
      ]
     },
     "execution_count": 43,
     "metadata": {},
     "output_type": "execute_result"
    }
   ],
   "source": [
    "numbers = [2, -5]\n",
    "\n",
    "def int_divider(numbers): # 노드에서 int_divider라고 이름을 하자고 했으니 그렇게 작성\n",
    "    if numbers[0] % 1 == 0 and numbers[1] % 1 == 0:\n",
    "        output = numbers[0] / numbers[1]\n",
    "    else:\n",
    "        print('정수만 계산 가능합니다')\n",
    "        output = None\n",
    "    return output\n",
    "\n",
    "int_divider(numbers)\n",
    "\n",
    "# 양의 정수와 2.5 같은 정수가 아닌 유리수를 넣어서 제대로 돌아가는 거 확인\n",
    "# 음의 정수를 넣었을 때도 계산이 되는데 이건 음의 정수 또한 정수가 아닌 유리수이므로 계산이 -0.4 와 같이 나오는게 맞는 것 같다"
   ]
  },
  {
   "cell_type": "markdown",
   "id": "cf9b1a81",
   "metadata": {},
   "source": [
    "### 본격 프로젝트 3 코드 작성하기  \n",
    "함수에 몇 개의 input이 들어오든지 상관없이, 10 이하 숫자면 모두 곱해주는 함수 만들기  \n",
    "\n",
    "1, 2, 3이 들어오면 6출력  \n",
    "2, 3, 4, 5이 들어오면 120 출력  \n",
    "\n",
    "인수의 개수가 정해져 있지 않을 때에는 가변인수 활용"
   ]
  },
  {
   "cell_type": "code",
   "execution_count": 56,
   "id": "c29dcd21",
   "metadata": {},
   "outputs": [
    {
     "name": "stdout",
     "output_type": "stream",
     "text": [
      "[1, 2]\n"
     ]
    }
   ],
   "source": [
    "def int_divider(*args): # 인수가 가변일때는 매개변수 앞에 * 붙이기, 참고로 딕셔너리일 때는 가변 키워드 인수? 로 매개변수 앞에 ** 붙이기\n",
    "    under_ten = []\n",
    "    for i in args:\n",
    "        if i <= 10:\n",
    "            output = under_ten.append(i)\n",
    "            print(under_ten)\n",
    "        else:\n",
    "            print('10 이하 숫자만 계산 가능합니다')\n",
    "            output = None\n",
    "    return output\n",
    "\n",
    "int_divider(1,2)\n",
    "\n",
    "# 오! 그럼 인수들을 넣었을 때 10 이하이면 under_ten이라는 리스트로 출력하는 건 성공!\n",
    "# 그런데 왜 [1]과 [1, 2]가 나오는거지..?"
   ]
  },
  {
   "cell_type": "code",
   "execution_count": 59,
   "id": "45f02097",
   "metadata": {},
   "outputs": [
    {
     "name": "stdout",
     "output_type": "stream",
     "text": [
      "[1, 2]\n",
      "10 이하 숫자만 계산 가능합니다\n",
      "[5, 6]\n"
     ]
    }
   ],
   "source": [
    "# 코드 단계별 시각화를 해보니\n",
    "# 6행의 print(under_ten) 때문에 1이 들어갔을 때 [1]이 한 번 출력되고, 2가 들어갔을 때 [1, 2]가 출력되는 것 같다\n",
    "\n",
    "# 그래서 6행을 10행의 return output의 output대신 넣어봄\n",
    "\n",
    "def int_divider(*args): \n",
    "    under_ten = []\n",
    "    for i in args:\n",
    "        if i <= 10:\n",
    "            output = under_ten.append(i)          \n",
    "        else:\n",
    "            print('10 이하 숫자만 계산 가능합니다')\n",
    "            output = None\n",
    "    return print(under_ten)\n",
    "\n",
    "int_divider(1,2)\n",
    "int_divider(5, 6, 11)\n",
    "\n",
    "# 나는 함수를 정의할 때 return 옆에는 output만 와야하는 줄 알았는데 아니어도 괜찮은가 보다\n",
    "# 이렇게 해서 함수를 돌려보고, 시각화를 돌려보니 내가 하고자 하는 방향으로 구현이 된다"
   ]
  },
  {
   "cell_type": "code",
   "execution_count": 59,
   "id": "83e42a12",
   "metadata": {},
   "outputs": [
    {
     "name": "stdout",
     "output_type": "stream",
     "text": [
      "[1, 2]\n",
      "10 이하 숫자만 계산 가능합니다\n",
      "[5, 6]\n"
     ]
    }
   ],
   "source": [
    "# 10이 넘는 숫자를 넣어보니 아래와 같이 출력이 됨 \n",
    "# 10 이하 숫자만 계산 가능하다고 나오는 건 괜찮지만\n",
    "# [5, 6]이 나오는건... 음\n",
    "\n",
    "\n",
    "def int_divider(*args): \n",
    "    under_ten = []\n",
    "    for i in args:\n",
    "        if i <= 10:\n",
    "            output = under_ten.append(i)          \n",
    "        else:\n",
    "            print('10 이하 숫자만 계산 가능합니다')\n",
    "            output = None\n",
    "    return print(under_ten)\n",
    "\n",
    "int_divider(1,2)\n",
    "int_divider(5, 6, 11)"
   ]
  },
  {
   "cell_type": "code",
   "execution_count": 60,
   "id": "df9245b1",
   "metadata": {},
   "outputs": [
    {
     "name": "stdout",
     "output_type": "stream",
     "text": [
      "10 이하 숫자만 계산 가능합니다\n",
      "[5, 6]\n"
     ]
    }
   ],
   "source": [
    "def int_divider(*args): \n",
    "    under_ten = []\n",
    "    for i in args:\n",
    "        if i <= 10:\n",
    "            output = under_ten.append(i)          \n",
    "        else:\n",
    "            print('10 이하 숫자만 계산 가능합니다')\n",
    "            output = None\n",
    "            break\n",
    "    return print(under_ten)\n",
    "\n",
    "int_divider(5, 6, 11)\n",
    "\n",
    "# 이렇게 해도 [5, 6]이 출력되는건, 내가 return 값으로 print(under_ten) 하라고 정의했기 때문 아닐까"
   ]
  },
  {
   "cell_type": "code",
   "execution_count": 64,
   "id": "004202f8",
   "metadata": {},
   "outputs": [
    {
     "name": "stdout",
     "output_type": "stream",
     "text": [
      "[2]\n"
     ]
    }
   ],
   "source": [
    "# 모든 숫자들이 10 이하일 때만 리스트를 출력하게 하려면..\n",
    "# if와 else에 들어간 조건의 순서를 바꿔야할까?\n",
    "\n",
    "\n",
    "def int_divider(*args): \n",
    "    under_ten = []\n",
    "    for i in args:\n",
    "        if i > 10:\n",
    "            print('10 이하 숫자만 계산 가능합니다')        \n",
    "        elif 0 < i <= 10:\n",
    "            output = under_ten.append(i)\n",
    "        return print(under_ten)\n",
    "\n",
    "int_divider(2,11)\n",
    "\n",
    "# 이렇게 해도 [2]는 나옴 끙"
   ]
  },
  {
   "cell_type": "code",
   "execution_count": 65,
   "id": "2706741a",
   "metadata": {},
   "outputs": [
    {
     "name": "stdout",
     "output_type": "stream",
     "text": [
      "[2]\n"
     ]
    }
   ],
   "source": [
    "def int_divider(*args): \n",
    "    under_ten = []\n",
    "    for i in args:\n",
    "        if i > 10:\n",
    "            print('10 이하 숫자만 계산 가능합니다')\n",
    "            break\n",
    "        elif 0 < i <= 10:\n",
    "            output = under_ten.append(i)\n",
    "        return print(under_ten)\n",
    "\n",
    "int_divider(2,11)\n",
    "\n",
    "# 이 중 하나라도 10보다 큰 경우는 함수가 돌아가지 않게 하려면.."
   ]
  },
  {
   "cell_type": "code",
   "execution_count": 66,
   "id": "38741ec6",
   "metadata": {},
   "outputs": [
    {
     "ename": "TypeError",
     "evalue": "'>' not supported between instances of 'tuple' and 'int'",
     "output_type": "error",
     "traceback": [
      "\u001b[0;31m---------------------------------------------------------------------------\u001b[0m",
      "\u001b[0;31mTypeError\u001b[0m                                 Traceback (most recent call last)",
      "\u001b[0;32m/tmp/ipykernel_32/715504518.py\u001b[0m in \u001b[0;36m<module>\u001b[0;34m\u001b[0m\n\u001b[1;32m     12\u001b[0m \u001b[0;31m#         return print(under_ten)\u001b[0m\u001b[0;34m\u001b[0m\u001b[0;34m\u001b[0m\u001b[0m\n\u001b[1;32m     13\u001b[0m \u001b[0;34m\u001b[0m\u001b[0m\n\u001b[0;32m---> 14\u001b[0;31m \u001b[0mint_divider\u001b[0m\u001b[0;34m(\u001b[0m\u001b[0;36m2\u001b[0m\u001b[0;34m,\u001b[0m\u001b[0;36m11\u001b[0m\u001b[0;34m)\u001b[0m\u001b[0;34m\u001b[0m\u001b[0;34m\u001b[0m\u001b[0m\n\u001b[0m\u001b[1;32m     15\u001b[0m \u001b[0;34m\u001b[0m\u001b[0m\n\u001b[1;32m     16\u001b[0m \u001b[0;31m# 이 중 하나라도 10보다 큰 경우는 함수가 돌아가지 않게 하려면..\u001b[0m\u001b[0;34m\u001b[0m\u001b[0;34m\u001b[0m\u001b[0m\n",
      "\u001b[0;32m/tmp/ipykernel_32/715504518.py\u001b[0m in \u001b[0;36mint_divider\u001b[0;34m(*args)\u001b[0m\n\u001b[1;32m      1\u001b[0m \u001b[0;32mdef\u001b[0m \u001b[0mint_divider\u001b[0m\u001b[0;34m(\u001b[0m\u001b[0;34m*\u001b[0m\u001b[0margs\u001b[0m\u001b[0;34m)\u001b[0m\u001b[0;34m:\u001b[0m\u001b[0;34m\u001b[0m\u001b[0;34m\u001b[0m\u001b[0m\n\u001b[0;32m----> 2\u001b[0;31m     \u001b[0;32mif\u001b[0m \u001b[0margs\u001b[0m \u001b[0;34m>\u001b[0m \u001b[0;36m10\u001b[0m\u001b[0;34m:\u001b[0m\u001b[0;34m\u001b[0m\u001b[0;34m\u001b[0m\u001b[0m\n\u001b[0m\u001b[1;32m      3\u001b[0m         \u001b[0mprint\u001b[0m\u001b[0;34m(\u001b[0m\u001b[0;34m'10 이하 숫자만 계산 가능합니다'\u001b[0m\u001b[0;34m)\u001b[0m\u001b[0;34m\u001b[0m\u001b[0;34m\u001b[0m\u001b[0m\n\u001b[1;32m      4\u001b[0m \u001b[0;34m\u001b[0m\u001b[0m\n\u001b[1;32m      5\u001b[0m \u001b[0;31m#     under_ten = []\u001b[0m\u001b[0;34m\u001b[0m\u001b[0;34m\u001b[0m\u001b[0m\n",
      "\u001b[0;31mTypeError\u001b[0m: '>' not supported between instances of 'tuple' and 'int'"
     ]
    }
   ],
   "source": [
    "def int_divider(*args): \n",
    "    if args > 10:\n",
    "        print('10 이하 숫자만 계산 가능합니다')\n",
    "    \n",
    "#     under_ten = []\n",
    "#     for i in args:\n",
    "#         if i > 10:\n",
    "            \n",
    "#             break\n",
    "#         elif 0 < i <= 10:\n",
    "#             output = under_ten.append(i)\n",
    "#         return print(under_ten)\n",
    "\n",
    "int_divider(2,11)\n",
    "\n",
    "# 이렇게 바꿔보면 이런 에러가 나는군요..\n",
    "# 그럼 for문을 써야한다는 건가?"
   ]
  },
  {
   "cell_type": "code",
   "execution_count": 77,
   "id": "671b046b",
   "metadata": {},
   "outputs": [
    {
     "name": "stdout",
     "output_type": "stream",
     "text": [
      "10 이하 숫자만 계산 가능합니다\n",
      "10 이하 숫자만 계산 가능합니다\n"
     ]
    }
   ],
   "source": [
    "def int_divider(*args): \n",
    "    for i in args:\n",
    "        if i > 10:        \n",
    "            output = print('10 이하 숫자만 계산 가능합니다')\n",
    "    return output\n",
    "\n",
    "int_divider(2,11)\n",
    "int_divider(15)\n",
    "\n",
    "# 10보다 큰 숫자를 하나라도 넣으면 일단 안된다는 메세지가 나오게하는 건 가능"
   ]
  },
  {
   "cell_type": "code",
   "execution_count": 78,
   "id": "66dcb76d",
   "metadata": {},
   "outputs": [
    {
     "ename": "UnboundLocalError",
     "evalue": "local variable 'output' referenced before assignment",
     "output_type": "error",
     "traceback": [
      "\u001b[0;31m---------------------------------------------------------------------------\u001b[0m",
      "\u001b[0;31mUnboundLocalError\u001b[0m                         Traceback (most recent call last)",
      "\u001b[0;32m/tmp/ipykernel_32/4184773879.py\u001b[0m in \u001b[0;36m<module>\u001b[0;34m\u001b[0m\n\u001b[1;32m      6\u001b[0m \u001b[0;34m\u001b[0m\u001b[0m\n\u001b[1;32m      7\u001b[0m \u001b[0;34m\u001b[0m\u001b[0m\n\u001b[0;32m----> 8\u001b[0;31m \u001b[0mint_divider\u001b[0m\u001b[0;34m(\u001b[0m\u001b[0;36m1\u001b[0m\u001b[0;34m)\u001b[0m\u001b[0;34m\u001b[0m\u001b[0;34m\u001b[0m\u001b[0m\n\u001b[0m\u001b[1;32m      9\u001b[0m \u001b[0;34m\u001b[0m\u001b[0m\n\u001b[1;32m     10\u001b[0m \u001b[0;31m# 10보다 작은 수를 넣으면 아래와 같은 에러 발생\u001b[0m\u001b[0;34m\u001b[0m\u001b[0;34m\u001b[0m\u001b[0m\n",
      "\u001b[0;32m/tmp/ipykernel_32/4184773879.py\u001b[0m in \u001b[0;36mint_divider\u001b[0;34m(*args)\u001b[0m\n\u001b[1;32m      3\u001b[0m         \u001b[0;32mif\u001b[0m \u001b[0mi\u001b[0m \u001b[0;34m>\u001b[0m \u001b[0;36m10\u001b[0m\u001b[0;34m:\u001b[0m\u001b[0;34m\u001b[0m\u001b[0;34m\u001b[0m\u001b[0m\n\u001b[1;32m      4\u001b[0m             \u001b[0moutput\u001b[0m \u001b[0;34m=\u001b[0m \u001b[0mprint\u001b[0m\u001b[0;34m(\u001b[0m\u001b[0;34m'10 이하 숫자만 계산 가능합니다'\u001b[0m\u001b[0;34m)\u001b[0m\u001b[0;34m\u001b[0m\u001b[0;34m\u001b[0m\u001b[0m\n\u001b[0;32m----> 5\u001b[0;31m     \u001b[0;32mreturn\u001b[0m \u001b[0moutput\u001b[0m\u001b[0;34m\u001b[0m\u001b[0;34m\u001b[0m\u001b[0m\n\u001b[0m\u001b[1;32m      6\u001b[0m \u001b[0;34m\u001b[0m\u001b[0m\n\u001b[1;32m      7\u001b[0m \u001b[0;34m\u001b[0m\u001b[0m\n",
      "\u001b[0;31mUnboundLocalError\u001b[0m: local variable 'output' referenced before assignment"
     ]
    }
   ],
   "source": [
    "def int_divider(*args): \n",
    "    for i in args:\n",
    "        if i > 10:        \n",
    "            output = print('10 이하 숫자만 계산 가능합니다')\n",
    "    return output\n",
    "\n",
    "\n",
    "int_divider(1)\n",
    "\n",
    "# 10보다 작은 수를 넣으면 아래와 같은 에러 발생\n",
    "# 10보다 작은 수를 넣었을 때에 대한 행동이 정의되지 않아서 그런건가?"
   ]
  },
  {
   "cell_type": "code",
   "execution_count": 89,
   "id": "c79ca556",
   "metadata": {},
   "outputs": [
    {
     "name": "stdout",
     "output_type": "stream",
     "text": [
      "10 이하 숫자만 계산 가능합니다\n"
     ]
    }
   ],
   "source": [
    "def int_divider(*args): \n",
    "    for i in args:\n",
    "        if i > 10:        \n",
    "            output = print('10 이하 숫자만 계산 가능합니다')            \n",
    "    if 0 < i <= 10:\n",
    "        output = print('ok')\n",
    "    return output\n",
    "\n",
    "\n",
    "int_divider(1, 11)\n",
    "\n",
    "# 이렇게 바꿔보니 1, 11을 넣었을 때 하나라도 10보다 크면 안된다 메세지 출력 완료!!!\n",
    "# 파이썬에서 함수는 위에서부터 순서대로 함수가 실행되기 때문일까?"
   ]
  },
  {
   "cell_type": "code",
   "execution_count": 93,
   "id": "e0d60b0a",
   "metadata": {},
   "outputs": [
    {
     "name": "stdout",
     "output_type": "stream",
     "text": [
      "안에 있는 요소들 곱해주기\n"
     ]
    },
    {
     "ename": "TypeError",
     "evalue": "unsupported operand type(s) for *=: 'NoneType' and 'int'",
     "output_type": "error",
     "traceback": [
      "\u001b[0;31m---------------------------------------------------------------------------\u001b[0m",
      "\u001b[0;31mTypeError\u001b[0m                                 Traceback (most recent call last)",
      "\u001b[0;32m/tmp/ipykernel_32/659633523.py\u001b[0m in \u001b[0;36m<module>\u001b[0;34m\u001b[0m\n\u001b[1;32m      9\u001b[0m \u001b[0;34m\u001b[0m\u001b[0m\n\u001b[1;32m     10\u001b[0m \u001b[0;34m\u001b[0m\u001b[0m\n\u001b[0;32m---> 11\u001b[0;31m \u001b[0mint_divider\u001b[0m\u001b[0;34m(\u001b[0m\u001b[0;36m1\u001b[0m\u001b[0;34m,\u001b[0m \u001b[0;36m9\u001b[0m\u001b[0;34m)\u001b[0m\u001b[0;34m\u001b[0m\u001b[0;34m\u001b[0m\u001b[0m\n\u001b[0m\u001b[1;32m     12\u001b[0m \u001b[0;34m\u001b[0m\u001b[0m\n\u001b[1;32m     13\u001b[0m \u001b[0;31m# 이렇게 바꿔보니 1, 11을 넣었을 때 하나라도 10보다 크면 안된다 메세지 출력 완료!!!\u001b[0m\u001b[0;34m\u001b[0m\u001b[0;34m\u001b[0m\u001b[0m\n",
      "\u001b[0;32m/tmp/ipykernel_32/659633523.py\u001b[0m in \u001b[0;36mint_divider\u001b[0;34m(*args)\u001b[0m\n\u001b[1;32m      5\u001b[0m     \u001b[0;32mif\u001b[0m \u001b[0;36m0\u001b[0m \u001b[0;34m<\u001b[0m \u001b[0mi\u001b[0m \u001b[0;34m<=\u001b[0m \u001b[0;36m10\u001b[0m\u001b[0;34m:\u001b[0m\u001b[0;34m\u001b[0m\u001b[0;34m\u001b[0m\u001b[0m\n\u001b[1;32m      6\u001b[0m         \u001b[0moutput\u001b[0m \u001b[0;34m=\u001b[0m \u001b[0mprint\u001b[0m\u001b[0;34m(\u001b[0m\u001b[0;34m'안에 있는 요소들 곱해주기'\u001b[0m\u001b[0;34m)\u001b[0m\u001b[0;34m\u001b[0m\u001b[0;34m\u001b[0m\u001b[0m\n\u001b[0;32m----> 7\u001b[0;31m         \u001b[0moutput\u001b[0m \u001b[0;34m*=\u001b[0m \u001b[0mi\u001b[0m\u001b[0;34m\u001b[0m\u001b[0;34m\u001b[0m\u001b[0m\n\u001b[0m\u001b[1;32m      8\u001b[0m     \u001b[0;32mreturn\u001b[0m \u001b[0moutput\u001b[0m\u001b[0;34m\u001b[0m\u001b[0;34m\u001b[0m\u001b[0m\n\u001b[1;32m      9\u001b[0m \u001b[0;34m\u001b[0m\u001b[0m\n",
      "\u001b[0;31mTypeError\u001b[0m: unsupported operand type(s) for *=: 'NoneType' and 'int'"
     ]
    }
   ],
   "source": [
    "def int_divider(*args): \n",
    "    for i in args:\n",
    "        if i > 10:        \n",
    "            output = print('10 이하 숫자만 계산 가능합니다')            \n",
    "    if 0 < i <= 10:\n",
    "        output = print('안에 있는 요소들 곱해주기')\n",
    "        output *= i\n",
    "    return output\n",
    "\n",
    "\n",
    "int_divider(1, 9)\n",
    "\n",
    "# 안에 있는 요소들을 곱해주려고 보니 아래와 같은 에러가 난다"
   ]
  },
  {
   "cell_type": "code",
   "execution_count": 97,
   "id": "37921377",
   "metadata": {},
   "outputs": [
    {
     "name": "stdout",
     "output_type": "stream",
     "text": [
      "[9]\n"
     ]
    }
   ],
   "source": [
    "def int_divider(*args): \n",
    "    under_ten = []\n",
    "    for i in args:\n",
    "        if i > 10:        \n",
    "            output = print('10 이하 숫자만 계산 가능합니다') \n",
    "    if 0 < i <= 10:\n",
    "        output = under_ten.append(i)\n",
    "        output = print(under_ten)\n",
    "#         output *= i\n",
    "    return output\n",
    "\n",
    "\n",
    "int_divider(1, 9)\n",
    "\n",
    "# [9]만 나오는 이유는 코드 단계별 시각화를 통해 보니\n",
    "# for문에서 1이 통과하고 난 뒤에 9가 통과하고 그리고 9만 그 다음 if 문을 통과하기 때문인 것 같다\n",
    "# 어떻게 해결할 수 있을까?"
   ]
  },
  {
   "cell_type": "code",
   "execution_count": 100,
   "id": "3cd2147b",
   "metadata": {},
   "outputs": [
    {
     "name": "stdout",
     "output_type": "stream",
     "text": [
      "81\n"
     ]
    },
    {
     "data": {
      "text/plain": [
       "81"
      ]
     },
     "execution_count": 100,
     "metadata": {},
     "output_type": "execute_result"
    }
   ],
   "source": [
    "def int_divider(*args): \n",
    "    under_ten = []\n",
    "    for i in args:\n",
    "        if i > 10:        \n",
    "            output = print('10 이하 숫자만 계산 가능합니다') \n",
    "        else:\n",
    "            under_ten.append(i)\n",
    "    if 0 < i <= 10:         \n",
    "        i *= i\n",
    "        output = i\n",
    "        print(i)\n",
    "    return output\n",
    "\n",
    "\n",
    "int_divider(2, 9)\n",
    "\n",
    "# 이렇게 해보니 81이 나옴\n",
    "# 음.. 그래서 리스트 요소들끼리의 곱을 찾아보니 안 된다 함.. 헉 접근 방법을 바꿔야하나 보다\n",
    "# for문을 사용하는 방법을 제안하길래 그렇게 수정해보기로 함"
   ]
  },
  {
   "cell_type": "code",
   "execution_count": 101,
   "id": "c459a3f0",
   "metadata": {},
   "outputs": [
    {
     "ename": "TypeError",
     "evalue": "'int' object is not iterable",
     "output_type": "error",
     "traceback": [
      "\u001b[0;31m---------------------------------------------------------------------------\u001b[0m",
      "\u001b[0;31mTypeError\u001b[0m                                 Traceback (most recent call last)",
      "\u001b[0;32m/tmp/ipykernel_32/1517566035.py\u001b[0m in \u001b[0;36m<module>\u001b[0;34m\u001b[0m\n\u001b[1;32m     13\u001b[0m \u001b[0;34m\u001b[0m\u001b[0m\n\u001b[1;32m     14\u001b[0m \u001b[0;34m\u001b[0m\u001b[0m\n\u001b[0;32m---> 15\u001b[0;31m \u001b[0mint_divider\u001b[0m\u001b[0;34m(\u001b[0m\u001b[0;36m2\u001b[0m\u001b[0;34m,\u001b[0m \u001b[0;36m9\u001b[0m\u001b[0;34m)\u001b[0m\u001b[0;34m\u001b[0m\u001b[0;34m\u001b[0m\u001b[0m\n\u001b[0m\u001b[1;32m     16\u001b[0m \u001b[0;34m\u001b[0m\u001b[0m\n\u001b[1;32m     17\u001b[0m \u001b[0;31m# 이렇게 해보니 81이 나옴\u001b[0m\u001b[0;34m\u001b[0m\u001b[0;34m\u001b[0m\u001b[0m\n",
      "\u001b[0;32m/tmp/ipykernel_32/1517566035.py\u001b[0m in \u001b[0;36mint_divider\u001b[0;34m(*args)\u001b[0m\n\u001b[1;32m      8\u001b[0m     \u001b[0;32mif\u001b[0m \u001b[0;36m0\u001b[0m \u001b[0;34m<\u001b[0m \u001b[0mi\u001b[0m \u001b[0;34m<=\u001b[0m \u001b[0;36m10\u001b[0m\u001b[0;34m:\u001b[0m\u001b[0;34m\u001b[0m\u001b[0;34m\u001b[0m\u001b[0m\n\u001b[1;32m      9\u001b[0m         \u001b[0moutput\u001b[0m \u001b[0;34m=\u001b[0m \u001b[0;36m1\u001b[0m\u001b[0;34m\u001b[0m\u001b[0;34m\u001b[0m\u001b[0m\n\u001b[0;32m---> 10\u001b[0;31m         \u001b[0;32mfor\u001b[0m \u001b[0mj\u001b[0m \u001b[0;32min\u001b[0m \u001b[0mi\u001b[0m\u001b[0;34m:\u001b[0m\u001b[0;34m\u001b[0m\u001b[0;34m\u001b[0m\u001b[0m\n\u001b[0m\u001b[1;32m     11\u001b[0m             \u001b[0moutput\u001b[0m \u001b[0;34m*=\u001b[0m \u001b[0mj\u001b[0m\u001b[0;34m\u001b[0m\u001b[0;34m\u001b[0m\u001b[0m\n\u001b[1;32m     12\u001b[0m     \u001b[0;32mreturn\u001b[0m \u001b[0moutput\u001b[0m\u001b[0;34m\u001b[0m\u001b[0;34m\u001b[0m\u001b[0m\n",
      "\u001b[0;31mTypeError\u001b[0m: 'int' object is not iterable"
     ]
    }
   ],
   "source": [
    "def int_divider(*args): \n",
    "    under_ten = []\n",
    "    for i in args:\n",
    "        if i > 10:        \n",
    "            output = print('10 이하 숫자만 계산 가능합니다') \n",
    "        else:\n",
    "            under_ten.append(i)\n",
    "    if 0 < i <= 10:         \n",
    "        output = 1\n",
    "        for j in i: # 코드 시각화를 돌려보니 이 부분에서 'int' object is not iterable 이라 함. 여기서 i는 하나씩 숫자를 의미할텐데\n",
    "                    # 그게 반복이 되지 않는다는 의미인 것 같다\n",
    "            output *= j\n",
    "    return output\n",
    "\n",
    "\n",
    "int_divider(2, 9)\n",
    "\n",
    "# 음 이번에는 이런 에러가 나네.."
   ]
  },
  {
   "cell_type": "code",
   "execution_count": 102,
   "id": "a187fb96",
   "metadata": {},
   "outputs": [
    {
     "data": {
      "text/plain": [
       "18"
      ]
     },
     "execution_count": 102,
     "metadata": {},
     "output_type": "execute_result"
    }
   ],
   "source": [
    "def int_divider(*args): \n",
    "    under_ten = []\n",
    "    for i in args:\n",
    "        if i > 10:        \n",
    "            output = print('10 이하 숫자만 계산 가능합니다') \n",
    "        else:\n",
    "            under_ten.append(i)\n",
    "    if 0 < i <= 10:         \n",
    "        output = 1\n",
    "        for j in under_ten: \n",
    "            output *= j\n",
    "    return output\n",
    "\n",
    "\n",
    "int_divider(2, 9)\n",
    "\n",
    "# 10행의 해당 i를 under_ten 리스트 이름으로 바꾸니 오.. 된다? "
   ]
  },
  {
   "cell_type": "code",
   "execution_count": 103,
   "id": "8d4daf2b",
   "metadata": {},
   "outputs": [
    {
     "data": {
      "text/plain": [
       "120"
      ]
     },
     "execution_count": 103,
     "metadata": {},
     "output_type": "execute_result"
    }
   ],
   "source": [
    "def int_divider(*args): \n",
    "    under_ten = []\n",
    "    for i in args:\n",
    "        if i > 10:        \n",
    "            output = print('10 이하 숫자만 계산 가능합니다') \n",
    "        else:\n",
    "            under_ten.append(i)\n",
    "    if 0 < i <= 10:         \n",
    "        output = 1\n",
    "        for j in under_ten: \n",
    "            output *= j\n",
    "    return output\n",
    "\n",
    "\n",
    "int_divider(1,2,3,4,5)\n",
    "\n",
    "# 된다된다!"
   ]
  },
  {
   "cell_type": "code",
   "execution_count": 104,
   "id": "00e883a6",
   "metadata": {},
   "outputs": [
    {
     "name": "stdout",
     "output_type": "stream",
     "text": [
      "10 이하 숫자만 계산 가능합니다\n"
     ]
    }
   ],
   "source": [
    "def int_divider(*args): \n",
    "    under_ten = []\n",
    "    for i in args:\n",
    "        if i > 10:        \n",
    "            output = print('10 이하 숫자만 계산 가능합니다') \n",
    "        else:\n",
    "            under_ten.append(i)\n",
    "    if 0 < i <= 10:         \n",
    "        output = 1\n",
    "        for j in under_ten: \n",
    "            output *= j\n",
    "    return output\n",
    "\n",
    "\n",
    "int_divider(1,2,3,4,5,11)\n",
    "\n",
    "# 10보다 큰 수를 넣어보니 안된다 나온다 예!!!!!!!!!!"
   ]
  },
  {
   "cell_type": "markdown",
   "id": "1d2c580c",
   "metadata": {},
   "source": [
    "## 결론"
   ]
  },
  {
   "cell_type": "code",
   "execution_count": 107,
   "id": "7e55f96f",
   "metadata": {},
   "outputs": [
    {
     "name": "stdout",
     "output_type": "stream",
     "text": [
      "6\n",
      "120\n"
     ]
    }
   ],
   "source": [
    "def int_divider(*args): \n",
    "    under_ten = []\n",
    "    for i in args:\n",
    "        if i > 10:        \n",
    "            output = print('10 이하 숫자만 계산 가능합니다') \n",
    "        else:\n",
    "            under_ten.append(i)\n",
    "    if 0 < i <= 10:         \n",
    "        output = 1\n",
    "        for j in under_ten: \n",
    "            output *= j\n",
    "    return output\n",
    "\n",
    "\n",
    "print(int_divider(1,2,3))\n",
    "print(int_divider(2,3,4,5))"
   ]
  },
  {
   "cell_type": "code",
   "execution_count": 110,
   "id": "5660e58e",
   "metadata": {},
   "outputs": [
    {
     "data": {
      "text/plain": [
       "6"
      ]
     },
     "execution_count": 110,
     "metadata": {},
     "output_type": "execute_result"
    }
   ],
   "source": [
    "# 노드 예시답안과 비교해보기\n",
    "\n",
    "def mul(*values):\n",
    "    output = 1\n",
    "    for num in values: \n",
    "        if num <= 10: \n",
    "            output *= num\n",
    "        else:\n",
    "            pass\n",
    "    return output\n",
    "\n",
    "# pass를 쓴 점이 나와 크게 다르고, 우선 코드가 짧다.\n",
    "# 나는 빈 리스트를 만들었는데 여기서는 만들지 않았다\n",
    "\n",
    "mul(2,3,11)\n",
    "\n",
    "# 음.. 10이 넘는 수를 하나 넣어봤는데 11을 제외한 수끼리 곱한 결과는 출력이 된다.\n",
    "# 내 코드의 경우는 11을 넣으면 아예 작동이 안 되게 했는데\n",
    "\n",
    "# 문제를 다시 보니\n",
    "# 10보다 큰 수를 넣으면 코드가 작동되지 않게 하라고 하는 말은 없었다\n",
    "# 대신 10보다 작은 수면 모두 곱하라고 했으니 \n",
    "# 예시답안의 코드가 문제의도에 더 가깝다 할 수 있는 것 같다\n",
    "# 내 코드는 10보다 큰 수가 하나라도 들어가면 나머지 수들이 10보다 작아도 곱하지는 않으므로"
   ]
  },
  {
   "cell_type": "markdown",
   "id": "d60f0faf",
   "metadata": {},
   "source": [
    "## 회고\n"
   ]
  },
  {
   "cell_type": "markdown",
   "id": "47c6249d",
   "metadata": {},
   "source": [
    "### 1. 프로젝트에서 어려웠던 점, 해결을 위해 시도한 방법, 문제해결에 성공한 이유 또는 실패한 이유"
   ]
  },
  {
   "cell_type": "markdown",
   "id": "49f64506",
   "metadata": {},
   "source": [
    "- **프로젝트에서 어려웠던 점**  \n",
    "파이썬이 익숙하지 않은 상태에서 문제를 푸는데에 시간이 많이 걸리는 부분이 어려웠습니다.  \n",
    "기본 개념, 예를 들면 수에 대한 기본 개념도 정확하지 않아 다시 찾아보며 시간이 많이 걸렸던 것 같습니다.  \n",
    "\n",
    "\n",
    "- **해결을 위해 시도한 방법**  \n",
    "그 과정에서 우울해지거나 좌절하거나 하기도...^^ 했지만  \n",
    "하나씩 단계별로 해결하려고  \n",
    " 1. 코드 시각화로 분석하거나  \n",
    " 2. 구글링을 해보면서 \n",
    " 3. 새롭게 배우고, 복습하고, 대충 알고 있었던 개념들을 다시 정리했습니다.  \n",
    "\n",
    "\n",
    "- **문제해결에 성공한 이유 또는 실패한 이유**  \n",
    "특히 프로젝트 3이 기억에 많이 남습니다.  \n",
    "지난번에는 노드 답을 보고 작성해 프로젝트 파일을 작성했던 것 같습니다.  \n",
    "오늘은 제 힘으로 다시 풀어봤는데, 3시간 정도 걸렸지만 문제를 풀고 나니 뿌듯합니다!!  \n",
    "풀 수 있었던 이유는  \n",
    " 1. 시간이 걸리더라도, 모르는 건 검색해가며 단계별로 하나씩 해결해보려고 한 점  \n",
    " 2. 내가 작성한 접근방법이 틀릴 수도 있다 생각하며, 필요시 뒤집고 다른 접근방법을 시도하려고 마음을 비운 부분  \n",
    "이 도움이 된 것 같습니다."
   ]
  },
  {
   "cell_type": "markdown",
   "id": "3c7883cf",
   "metadata": {},
   "source": [
    "### 2. 프로젝트를 진행하면서 알아낸 점 혹은 아직 모호한 점"
   ]
  },
  {
   "cell_type": "markdown",
   "id": "68de5740",
   "metadata": {},
   "source": [
    "- **프로젝트를 진행하면서 알아낸 점**"
   ]
  },
  {
   "cell_type": "markdown",
   "id": "fca1475d",
   "metadata": {},
   "source": [
    "1. 정수가 아닌 유리수 앞에 int를 붙이면 정수형으로 형변환 가능 \n",
    "\n",
    " print(int(3.8)) = 3\n",
    " \n",
    " print(int(3.8)) -> 3.8이라는 소수를 정수로 바꿔서 출력 -> 3  \n",
    " print(float(3)) -> 3이라는 정수를 소수로 바꿔서 출력 -> 3.0  \n",
    " print(str(7)) -> 7이라는 정수를 문자열로 바꿔서 출력 -> 7(문자)"
   ]
  },
  {
   "cell_type": "markdown",
   "id": "cc575b0a",
   "metadata": {},
   "source": [
    "2. 수의 개념\n",
    "\n",
    " 정수는   \n",
    " 자연수, 0, 음의 정수로 구성\n",
    " \n",
    " 유리수는   \n",
    " 정수, 정수가 아닌 유리수로 구성\n",
    "\n",
    " 실수는  \n",
    " 유리수, 무리수로 구성\n",
    "\n"
   ]
  },
  {
   "cell_type": "markdown",
   "id": "42d37ddc",
   "metadata": {},
   "source": [
    "3. 프로젝트 2에서 list인지 아닌지 if 함수로 확인하려고 할 때, if 문 안에서 list라고 그대로 써도 되는걸 배웠다"
   ]
  },
  {
   "cell_type": "markdown",
   "id": "8f1d7c66",
   "metadata": {},
   "source": [
    "4. 프로젝트 2의 경우 다시 풀 때 예시답안을 보며 왜 이렇게 구현해야하는지 분석하고, 스스로에게 이해시키면서 공부했다.  \n",
    "재귀함수에 대한 내용에서, 왜 재귀함수를 써야 한다고 했는지를 이해했다.  \n",
    "if문 안에서 리스트의 요소가 리스트이면 한 번 더 flatten 함수를 돌 수 있도록 해야하는 부분 때문에 재귀함수 사용이 필요하다는 걸 이해했다."
   ]
  },
  {
   "cell_type": "markdown",
   "id": "a565f42e",
   "metadata": {},
   "source": [
    "5. 프로젝트 3에서 리스트 요소들끼리의 곱은 안구해진다는 걸 배웠다."
   ]
  },
  {
   "cell_type": "markdown",
   "id": "b10707b5",
   "metadata": {},
   "source": [
    "6. 프로젝트 3에서 input으로 주어진 값들을 곱하는 함수를 만들 때, 기본으로 output =1 이렇게 1을 정해주는 것이 좋은 방법인 것 같다는 걸 배웠다."
   ]
  },
  {
   "cell_type": "markdown",
   "id": "406d220e",
   "metadata": {},
   "source": [
    "7. 나는 함수를 def로 정의할 때 return 옆에는 output만 와야하는 줄 알았는데 아니어도 괜찮다는 걸 배웠다."
   ]
  },
  {
   "cell_type": "markdown",
   "id": "7457e404",
   "metadata": {},
   "source": [
    "- **아직 모호한 점**"
   ]
  },
  {
   "cell_type": "markdown",
   "id": "13fbac57",
   "metadata": {},
   "source": [
    "1. 프로젝트 2에서 정수를 1로 나누면 나머지가 0이라고 하는데, 예를 들면 10.5 % 1 != 0 이라고 나오는 코드 결과가 이해가 잘 안 된다."
   ]
  },
  {
   "cell_type": "code",
   "execution_count": 114,
   "id": "a80e4ad2",
   "metadata": {},
   "outputs": [
    {
     "data": {
      "text/plain": [
       "0.5"
      ]
     },
     "execution_count": 114,
     "metadata": {},
     "output_type": "execute_result"
    }
   ],
   "source": [
    "10.5 % 1"
   ]
  },
  {
   "cell_type": "code",
   "execution_count": 115,
   "id": "ca8c859a",
   "metadata": {},
   "outputs": [
    {
     "data": {
      "text/plain": [
       "10.0"
      ]
     },
     "execution_count": 115,
     "metadata": {},
     "output_type": "execute_result"
    }
   ],
   "source": [
    "10.5 // 1"
   ]
  },
  {
   "cell_type": "code",
   "execution_count": 116,
   "id": "e4bd67f7",
   "metadata": {},
   "outputs": [
    {
     "data": {
      "text/plain": [
       "10.5"
      ]
     },
     "execution_count": 116,
     "metadata": {},
     "output_type": "execute_result"
    }
   ],
   "source": [
    "10.5 / 1"
   ]
  },
  {
   "cell_type": "code",
   "execution_count": 117,
   "id": "0cf03173",
   "metadata": {},
   "outputs": [
    {
     "data": {
      "text/plain": [
       "True"
      ]
     },
     "execution_count": 117,
     "metadata": {},
     "output_type": "execute_result"
    }
   ],
   "source": [
    "10.5 % 1 != 0"
   ]
  },
  {
   "cell_type": "markdown",
   "id": "8bb0b590",
   "metadata": {},
   "source": [
    "### 3. 자기 다짐, 프로젝트를 진행하면서 느낀 점"
   ]
  },
  {
   "cell_type": "markdown",
   "id": "b1331ddb",
   "metadata": {},
   "source": [
    "문제 하나를 푸는 데에도 이렇게 시간이 많이 걸리는 나를 보면서 이미 잘하고 있는 다른 사람들 생각이 났습니다.  \n",
    "처음 아이펠을 들어야겠다 생각한 이유는 제 커리어를 그동안 쌓은 교육 커리어에 데이터/AI를 더해 확장하고 싶은 의도였는데  \n",
    "이도 저도 제대로 못하는 사람이 되는거 아닌가 싶어  \n",
    "많이 부족한데 언제 밥 벌어먹을 수 있을 정도로 실력을 탄탄히 쌓을 수 있을까 위축되기도 한 것 같습니다.  \n",
    "  \n",
    "하지만 불과 일주일 전에만 해도 모르는 부분이 많았는데 이번주에 새롭게 많이 배우고 성장했습니다.  \n",
    "다른 사람들은 그만큼 먼저 시간을 투자했으니 잘하는 거라고 생각합니다.  \n",
    "저 또한 저만의 특색과 강점을 갖춘 실력을 갖추기 위해 공부하겠습니다."
   ]
  },
  {
   "cell_type": "markdown",
   "id": "2bcac889",
   "metadata": {},
   "source": [
    "## 참고한 레퍼런스\n",
    "\n"
   ]
  },
  {
   "cell_type": "markdown",
   "id": "c811ee7a",
   "metadata": {},
   "source": [
    "- 네이버 지식백과 초등수학 개념사전, 정수  \n",
    "https://terms.naver.com/entry.naver?docId=6584223&cid=47308&categoryId=47308  \n",
    "    \n",
    "    \n",
    "- 네이버 지식백과, 정수와 소수의 관계   \n",
    "https://terms.naver.com/entry.naver?docId=3386929&cid=47324&categoryId=47324  \n",
    "알콰리즈미 라는 수학자가 나오는데, 근의 공식의 창시자이며, 이 사람의 이름을 따 알고리즘이라 부른다고..  \n",
    "그리고 알고리즘은 셈법을 뜻한다고 하는 걸 배웠습니다.  \n",
    "(네이버 영어사전에서 algorithm 은  \n",
    "a set of steps that are followed in order to solve a mathematical problem or to complete a computer process 을 의미)\n",
    "    \n",
    "    \n",
    "- 파이썬 코딩도장, 정수 계산하기  \n",
    "https://dojang.io/mod/page/view.php?id=2170\n",
    "    \n",
    "    \n",
    "- 블로그, 정수, 소수, 문자열 형변환  \n",
    "https://blog.naver.com/eis_kaffe/222650265208\n",
    "\n",
    "    \n",
    "- 블로그, x += 1  \n",
    "https://blog.naver.com/eis_kaffe/222647735812\n",
    "\n",
    "    \n",
    "- 블로그, 수에 대한 전체적인 개념 다이어그램  \n",
    "https://blog.naver.com/jiyeon66/222882657577\n",
    "\n",
    "    \n",
    "- 블로그, 가변인수  \n",
    "https://velog.io/@taeha7b/python-parameter-argument\n",
    "\n",
    "        \n",
    "- 티스토리, 리스트 요소끼리 곱해주기  \n",
    "https://chancoding.tistory.com/186"
   ]
  }
 ],
 "metadata": {
  "kernelspec": {
   "display_name": "Python 3 (ipykernel)",
   "language": "python",
   "name": "python3"
  },
  "language_info": {
   "codemirror_mode": {
    "name": "ipython",
    "version": 3
   },
   "file_extension": ".py",
   "mimetype": "text/x-python",
   "name": "python",
   "nbconvert_exporter": "python",
   "pygments_lexer": "ipython3",
   "version": "3.9.7"
  }
 },
 "nbformat": 4,
 "nbformat_minor": 5
}
