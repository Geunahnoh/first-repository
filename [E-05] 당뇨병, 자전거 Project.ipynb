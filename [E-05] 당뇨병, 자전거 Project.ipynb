{
 "cells": [
  {
   "cell_type": "markdown",
   "id": "0020828e",
   "metadata": {},
   "source": [
    "# 목차\n",
    "## Project 1. 당뇨병 수치 맞춰보기\n",
    "## Project 2. 날씨 좋은 월요일 오후 세 시, 자전거 타는 사람은 몇 명?"
   ]
  },
  {
   "cell_type": "markdown",
   "id": "fc7a89f1",
   "metadata": {},
   "source": [
    "<span style = \"color:red;\">프로젝트 2를 마무리하지 못했습니다.</span> "
   ]
  },
  {
   "cell_type": "markdown",
   "id": "f31db836",
   "metadata": {},
   "source": [
    "## Project 1. 당뇨병 수치 맞춰보기"
   ]
  },
  {
   "cell_type": "markdown",
   "id": "7bce29d4",
   "metadata": {},
   "source": [
    "### Step 1. 데이터 가져오기"
   ]
  },
  {
   "cell_type": "code",
   "execution_count": 162,
   "id": "8a403dce",
   "metadata": {},
   "outputs": [],
   "source": [
    "from sklearn.datasets import load_diabetes"
   ]
  },
  {
   "cell_type": "code",
   "execution_count": 163,
   "id": "46fb29d7",
   "metadata": {},
   "outputs": [
    {
     "data": {
      "text/plain": [
       "{'data': array([[ 0.03807591,  0.05068012,  0.06169621, ..., -0.00259226,\n",
       "          0.01990842, -0.01764613],\n",
       "        [-0.00188202, -0.04464164, -0.05147406, ..., -0.03949338,\n",
       "         -0.06832974, -0.09220405],\n",
       "        [ 0.08529891,  0.05068012,  0.04445121, ..., -0.00259226,\n",
       "          0.00286377, -0.02593034],\n",
       "        ...,\n",
       "        [ 0.04170844,  0.05068012, -0.01590626, ..., -0.01107952,\n",
       "         -0.04687948,  0.01549073],\n",
       "        [-0.04547248, -0.04464164,  0.03906215, ...,  0.02655962,\n",
       "          0.04452837, -0.02593034],\n",
       "        [-0.04547248, -0.04464164, -0.0730303 , ..., -0.03949338,\n",
       "         -0.00421986,  0.00306441]]),\n",
       " 'target': array([151.,  75., 141., 206., 135.,  97., 138.,  63., 110., 310., 101.,\n",
       "         69., 179., 185., 118., 171., 166., 144.,  97., 168.,  68.,  49.,\n",
       "         68., 245., 184., 202., 137.,  85., 131., 283., 129.,  59., 341.,\n",
       "         87.,  65., 102., 265., 276., 252.,  90., 100.,  55.,  61.,  92.,\n",
       "        259.,  53., 190., 142.,  75., 142., 155., 225.,  59., 104., 182.,\n",
       "        128.,  52.,  37., 170., 170.,  61., 144.,  52., 128.,  71., 163.,\n",
       "        150.,  97., 160., 178.,  48., 270., 202., 111.,  85.,  42., 170.,\n",
       "        200., 252., 113., 143.,  51.,  52., 210.,  65., 141.,  55., 134.,\n",
       "         42., 111.,  98., 164.,  48.,  96.,  90., 162., 150., 279.,  92.,\n",
       "         83., 128., 102., 302., 198.,  95.,  53., 134., 144., 232.,  81.,\n",
       "        104.,  59., 246., 297., 258., 229., 275., 281., 179., 200., 200.,\n",
       "        173., 180.,  84., 121., 161.,  99., 109., 115., 268., 274., 158.,\n",
       "        107.,  83., 103., 272.,  85., 280., 336., 281., 118., 317., 235.,\n",
       "         60., 174., 259., 178., 128.,  96., 126., 288.,  88., 292.,  71.,\n",
       "        197., 186.,  25.,  84.,  96., 195.,  53., 217., 172., 131., 214.,\n",
       "         59.,  70., 220., 268., 152.,  47.,  74., 295., 101., 151., 127.,\n",
       "        237., 225.,  81., 151., 107.,  64., 138., 185., 265., 101., 137.,\n",
       "        143., 141.,  79., 292., 178.,  91., 116.,  86., 122.,  72., 129.,\n",
       "        142.,  90., 158.,  39., 196., 222., 277.,  99., 196., 202., 155.,\n",
       "         77., 191.,  70.,  73.,  49.,  65., 263., 248., 296., 214., 185.,\n",
       "         78.,  93., 252., 150.,  77., 208.,  77., 108., 160.,  53., 220.,\n",
       "        154., 259.,  90., 246., 124.,  67.,  72., 257., 262., 275., 177.,\n",
       "         71.,  47., 187., 125.,  78.,  51., 258., 215., 303., 243.,  91.,\n",
       "        150., 310., 153., 346.,  63.,  89.,  50.,  39., 103., 308., 116.,\n",
       "        145.,  74.,  45., 115., 264.,  87., 202., 127., 182., 241.,  66.,\n",
       "         94., 283.,  64., 102., 200., 265.,  94., 230., 181., 156., 233.,\n",
       "         60., 219.,  80.,  68., 332., 248.,  84., 200.,  55.,  85.,  89.,\n",
       "         31., 129.,  83., 275.,  65., 198., 236., 253., 124.,  44., 172.,\n",
       "        114., 142., 109., 180., 144., 163., 147.,  97., 220., 190., 109.,\n",
       "        191., 122., 230., 242., 248., 249., 192., 131., 237.,  78., 135.,\n",
       "        244., 199., 270., 164.,  72.,  96., 306.,  91., 214.,  95., 216.,\n",
       "        263., 178., 113., 200., 139., 139.,  88., 148.,  88., 243.,  71.,\n",
       "         77., 109., 272.,  60.,  54., 221.,  90., 311., 281., 182., 321.,\n",
       "         58., 262., 206., 233., 242., 123., 167.,  63., 197.,  71., 168.,\n",
       "        140., 217., 121., 235., 245.,  40.,  52., 104., 132.,  88.,  69.,\n",
       "        219.,  72., 201., 110.,  51., 277.,  63., 118.,  69., 273., 258.,\n",
       "         43., 198., 242., 232., 175.,  93., 168., 275., 293., 281.,  72.,\n",
       "        140., 189., 181., 209., 136., 261., 113., 131., 174., 257.,  55.,\n",
       "         84.,  42., 146., 212., 233.,  91., 111., 152., 120.,  67., 310.,\n",
       "         94., 183.,  66., 173.,  72.,  49.,  64.,  48., 178., 104., 132.,\n",
       "        220.,  57.]),\n",
       " 'frame': None,\n",
       " 'DESCR': '.. _diabetes_dataset:\\n\\nDiabetes dataset\\n----------------\\n\\nTen baseline variables, age, sex, body mass index, average blood\\npressure, and six blood serum measurements were obtained for each of n =\\n442 diabetes patients, as well as the response of interest, a\\nquantitative measure of disease progression one year after baseline.\\n\\n**Data Set Characteristics:**\\n\\n  :Number of Instances: 442\\n\\n  :Number of Attributes: First 10 columns are numeric predictive values\\n\\n  :Target: Column 11 is a quantitative measure of disease progression one year after baseline\\n\\n  :Attribute Information:\\n      - age     age in years\\n      - sex\\n      - bmi     body mass index\\n      - bp      average blood pressure\\n      - s1      tc, total serum cholesterol\\n      - s2      ldl, low-density lipoproteins\\n      - s3      hdl, high-density lipoproteins\\n      - s4      tch, total cholesterol / HDL\\n      - s5      ltg, possibly log of serum triglycerides level\\n      - s6      glu, blood sugar level\\n\\nNote: Each of these 10 feature variables have been mean centered and scaled by the standard deviation times `n_samples` (i.e. the sum of squares of each column totals 1).\\n\\nSource URL:\\nhttps://www4.stat.ncsu.edu/~boos/var.select/diabetes.html\\n\\nFor more information see:\\nBradley Efron, Trevor Hastie, Iain Johnstone and Robert Tibshirani (2004) \"Least Angle Regression,\" Annals of Statistics (with discussion), 407-499.\\n(https://web.stanford.edu/~hastie/Papers/LARS/LeastAngle_2002.pdf)',\n",
       " 'feature_names': ['age',\n",
       "  'sex',\n",
       "  'bmi',\n",
       "  'bp',\n",
       "  's1',\n",
       "  's2',\n",
       "  's3',\n",
       "  's4',\n",
       "  's5',\n",
       "  's6'],\n",
       " 'data_filename': 'diabetes_data.csv.gz',\n",
       " 'target_filename': 'diabetes_target.csv.gz',\n",
       " 'data_module': 'sklearn.datasets.data'}"
      ]
     },
     "execution_count": 163,
     "metadata": {},
     "output_type": "execute_result"
    }
   ],
   "source": [
    "dataset = load_diabetes()\n",
    "dataset"
   ]
  },
  {
   "cell_type": "markdown",
   "id": "91f5d740",
   "metadata": {},
   "source": [
    "#### diabetes의 data를 df_X에, target을 df_y에 저장하기"
   ]
  },
  {
   "cell_type": "code",
   "execution_count": 164,
   "id": "ff8d97b0",
   "metadata": {},
   "outputs": [
    {
     "data": {
      "text/plain": [
       "['age', 'sex', 'bmi', 'bp', 's1', 's2', 's3', 's4', 's5', 's6']"
      ]
     },
     "execution_count": 164,
     "metadata": {},
     "output_type": "execute_result"
    }
   ],
   "source": [
    "# 데이터셋 피처이름 확인하기\n",
    "dataset.feature_names"
   ]
  },
  {
   "cell_type": "markdown",
   "id": "36aac20d",
   "metadata": {},
   "source": [
    "<span style = \"color:orange;\">10개의 피터가 있는 것을 확인할 수 있다</span> "
   ]
  },
  {
   "cell_type": "code",
   "execution_count": 165,
   "id": "63556a09",
   "metadata": {},
   "outputs": [
    {
     "data": {
      "text/plain": [
       "array([151.,  75., 141., 206., 135.,  97., 138.,  63., 110., 310., 101.,\n",
       "        69., 179., 185., 118., 171., 166., 144.,  97., 168.,  68.,  49.,\n",
       "        68., 245., 184., 202., 137.,  85., 131., 283., 129.,  59., 341.,\n",
       "        87.,  65., 102., 265., 276., 252.,  90., 100.,  55.,  61.,  92.,\n",
       "       259.,  53., 190., 142.,  75., 142., 155., 225.,  59., 104., 182.,\n",
       "       128.,  52.,  37., 170., 170.,  61., 144.,  52., 128.,  71., 163.,\n",
       "       150.,  97., 160., 178.,  48., 270., 202., 111.,  85.,  42., 170.,\n",
       "       200., 252., 113., 143.,  51.,  52., 210.,  65., 141.,  55., 134.,\n",
       "        42., 111.,  98., 164.,  48.,  96.,  90., 162., 150., 279.,  92.,\n",
       "        83., 128., 102., 302., 198.,  95.,  53., 134., 144., 232.,  81.,\n",
       "       104.,  59., 246., 297., 258., 229., 275., 281., 179., 200., 200.,\n",
       "       173., 180.,  84., 121., 161.,  99., 109., 115., 268., 274., 158.,\n",
       "       107.,  83., 103., 272.,  85., 280., 336., 281., 118., 317., 235.,\n",
       "        60., 174., 259., 178., 128.,  96., 126., 288.,  88., 292.,  71.,\n",
       "       197., 186.,  25.,  84.,  96., 195.,  53., 217., 172., 131., 214.,\n",
       "        59.,  70., 220., 268., 152.,  47.,  74., 295., 101., 151., 127.,\n",
       "       237., 225.,  81., 151., 107.,  64., 138., 185., 265., 101., 137.,\n",
       "       143., 141.,  79., 292., 178.,  91., 116.,  86., 122.,  72., 129.,\n",
       "       142.,  90., 158.,  39., 196., 222., 277.,  99., 196., 202., 155.,\n",
       "        77., 191.,  70.,  73.,  49.,  65., 263., 248., 296., 214., 185.,\n",
       "        78.,  93., 252., 150.,  77., 208.,  77., 108., 160.,  53., 220.,\n",
       "       154., 259.,  90., 246., 124.,  67.,  72., 257., 262., 275., 177.,\n",
       "        71.,  47., 187., 125.,  78.,  51., 258., 215., 303., 243.,  91.,\n",
       "       150., 310., 153., 346.,  63.,  89.,  50.,  39., 103., 308., 116.,\n",
       "       145.,  74.,  45., 115., 264.,  87., 202., 127., 182., 241.,  66.,\n",
       "        94., 283.,  64., 102., 200., 265.,  94., 230., 181., 156., 233.,\n",
       "        60., 219.,  80.,  68., 332., 248.,  84., 200.,  55.,  85.,  89.,\n",
       "        31., 129.,  83., 275.,  65., 198., 236., 253., 124.,  44., 172.,\n",
       "       114., 142., 109., 180., 144., 163., 147.,  97., 220., 190., 109.,\n",
       "       191., 122., 230., 242., 248., 249., 192., 131., 237.,  78., 135.,\n",
       "       244., 199., 270., 164.,  72.,  96., 306.,  91., 214.,  95., 216.,\n",
       "       263., 178., 113., 200., 139., 139.,  88., 148.,  88., 243.,  71.,\n",
       "        77., 109., 272.,  60.,  54., 221.,  90., 311., 281., 182., 321.,\n",
       "        58., 262., 206., 233., 242., 123., 167.,  63., 197.,  71., 168.,\n",
       "       140., 217., 121., 235., 245.,  40.,  52., 104., 132.,  88.,  69.,\n",
       "       219.,  72., 201., 110.,  51., 277.,  63., 118.,  69., 273., 258.,\n",
       "        43., 198., 242., 232., 175.,  93., 168., 275., 293., 281.,  72.,\n",
       "       140., 189., 181., 209., 136., 261., 113., 131., 174., 257.,  55.,\n",
       "        84.,  42., 146., 212., 233.,  91., 111., 152., 120.,  67., 310.,\n",
       "        94., 183.,  66., 173.,  72.,  49.,  64.,  48., 178., 104., 132.,\n",
       "       220.,  57.])"
      ]
     },
     "execution_count": 165,
     "metadata": {},
     "output_type": "execute_result"
    }
   ],
   "source": [
    "# target값을 확인해보자\n",
    "dataset.target"
   ]
  },
  {
   "cell_type": "code",
   "execution_count": 166,
   "id": "a65d25ed",
   "metadata": {},
   "outputs": [
    {
     "data": {
      "text/plain": [
       "array([[ 0.03807591,  0.05068012,  0.06169621,  0.02187235, -0.0442235 ,\n",
       "        -0.03482076, -0.04340085, -0.00259226,  0.01990842, -0.01764613],\n",
       "       [-0.00188202, -0.04464164, -0.05147406, -0.02632783, -0.00844872,\n",
       "        -0.01916334,  0.07441156, -0.03949338, -0.06832974, -0.09220405]])"
      ]
     },
     "execution_count": 166,
     "metadata": {},
     "output_type": "execute_result"
    }
   ],
   "source": [
    "#데이터값을 확인해보자\n",
    "dataset.data[:2]"
   ]
  },
  {
   "cell_type": "code",
   "execution_count": 167,
   "id": "5551a2db",
   "metadata": {},
   "outputs": [],
   "source": [
    "df_X = dataset.data"
   ]
  },
  {
   "cell_type": "code",
   "execution_count": 168,
   "id": "ebe0214d",
   "metadata": {},
   "outputs": [],
   "source": [
    "df_y = dataset.target"
   ]
  },
  {
   "cell_type": "code",
   "execution_count": 169,
   "id": "54caebe9",
   "metadata": {},
   "outputs": [
    {
     "data": {
      "text/plain": [
       "array([[ 0.03807591,  0.05068012,  0.06169621, ..., -0.00259226,\n",
       "         0.01990842, -0.01764613],\n",
       "       [-0.00188202, -0.04464164, -0.05147406, ..., -0.03949338,\n",
       "        -0.06832974, -0.09220405],\n",
       "       [ 0.08529891,  0.05068012,  0.04445121, ..., -0.00259226,\n",
       "         0.00286377, -0.02593034],\n",
       "       ...,\n",
       "       [ 0.04170844,  0.05068012, -0.01590626, ..., -0.01107952,\n",
       "        -0.04687948,  0.01549073],\n",
       "       [-0.04547248, -0.04464164,  0.03906215, ...,  0.02655962,\n",
       "         0.04452837, -0.02593034],\n",
       "       [-0.04547248, -0.04464164, -0.0730303 , ..., -0.03949338,\n",
       "        -0.00421986,  0.00306441]])"
      ]
     },
     "execution_count": 169,
     "metadata": {},
     "output_type": "execute_result"
    }
   ],
   "source": [
    "df_X"
   ]
  },
  {
   "cell_type": "code",
   "execution_count": 170,
   "id": "7e37ac22",
   "metadata": {},
   "outputs": [
    {
     "data": {
      "text/plain": [
       "(442, 10)"
      ]
     },
     "execution_count": 170,
     "metadata": {},
     "output_type": "execute_result"
    }
   ],
   "source": [
    "df_X.shape"
   ]
  },
  {
   "cell_type": "code",
   "execution_count": 171,
   "id": "ad92388e",
   "metadata": {},
   "outputs": [
    {
     "name": "stdout",
     "output_type": "stream",
     "text": [
      "<class 'numpy.ndarray'>\n"
     ]
    }
   ],
   "source": [
    "print(type(df_X))"
   ]
  },
  {
   "cell_type": "code",
   "execution_count": 172,
   "id": "58172f79",
   "metadata": {},
   "outputs": [
    {
     "data": {
      "text/plain": [
       "array([151.,  75., 141., 206., 135.,  97., 138.,  63., 110., 310., 101.,\n",
       "        69., 179., 185., 118., 171., 166., 144.,  97., 168.,  68.,  49.,\n",
       "        68., 245., 184., 202., 137.,  85., 131., 283., 129.,  59., 341.,\n",
       "        87.,  65., 102., 265., 276., 252.,  90., 100.,  55.,  61.,  92.,\n",
       "       259.,  53., 190., 142.,  75., 142., 155., 225.,  59., 104., 182.,\n",
       "       128.,  52.,  37., 170., 170.,  61., 144.,  52., 128.,  71., 163.,\n",
       "       150.,  97., 160., 178.,  48., 270., 202., 111.,  85.,  42., 170.,\n",
       "       200., 252., 113., 143.,  51.,  52., 210.,  65., 141.,  55., 134.,\n",
       "        42., 111.,  98., 164.,  48.,  96.,  90., 162., 150., 279.,  92.,\n",
       "        83., 128., 102., 302., 198.,  95.,  53., 134., 144., 232.,  81.,\n",
       "       104.,  59., 246., 297., 258., 229., 275., 281., 179., 200., 200.,\n",
       "       173., 180.,  84., 121., 161.,  99., 109., 115., 268., 274., 158.,\n",
       "       107.,  83., 103., 272.,  85., 280., 336., 281., 118., 317., 235.,\n",
       "        60., 174., 259., 178., 128.,  96., 126., 288.,  88., 292.,  71.,\n",
       "       197., 186.,  25.,  84.,  96., 195.,  53., 217., 172., 131., 214.,\n",
       "        59.,  70., 220., 268., 152.,  47.,  74., 295., 101., 151., 127.,\n",
       "       237., 225.,  81., 151., 107.,  64., 138., 185., 265., 101., 137.,\n",
       "       143., 141.,  79., 292., 178.,  91., 116.,  86., 122.,  72., 129.,\n",
       "       142.,  90., 158.,  39., 196., 222., 277.,  99., 196., 202., 155.,\n",
       "        77., 191.,  70.,  73.,  49.,  65., 263., 248., 296., 214., 185.,\n",
       "        78.,  93., 252., 150.,  77., 208.,  77., 108., 160.,  53., 220.,\n",
       "       154., 259.,  90., 246., 124.,  67.,  72., 257., 262., 275., 177.,\n",
       "        71.,  47., 187., 125.,  78.,  51., 258., 215., 303., 243.,  91.,\n",
       "       150., 310., 153., 346.,  63.,  89.,  50.,  39., 103., 308., 116.,\n",
       "       145.,  74.,  45., 115., 264.,  87., 202., 127., 182., 241.,  66.,\n",
       "        94., 283.,  64., 102., 200., 265.,  94., 230., 181., 156., 233.,\n",
       "        60., 219.,  80.,  68., 332., 248.,  84., 200.,  55.,  85.,  89.,\n",
       "        31., 129.,  83., 275.,  65., 198., 236., 253., 124.,  44., 172.,\n",
       "       114., 142., 109., 180., 144., 163., 147.,  97., 220., 190., 109.,\n",
       "       191., 122., 230., 242., 248., 249., 192., 131., 237.,  78., 135.,\n",
       "       244., 199., 270., 164.,  72.,  96., 306.,  91., 214.,  95., 216.,\n",
       "       263., 178., 113., 200., 139., 139.,  88., 148.,  88., 243.,  71.,\n",
       "        77., 109., 272.,  60.,  54., 221.,  90., 311., 281., 182., 321.,\n",
       "        58., 262., 206., 233., 242., 123., 167.,  63., 197.,  71., 168.,\n",
       "       140., 217., 121., 235., 245.,  40.,  52., 104., 132.,  88.,  69.,\n",
       "       219.,  72., 201., 110.,  51., 277.,  63., 118.,  69., 273., 258.,\n",
       "        43., 198., 242., 232., 175.,  93., 168., 275., 293., 281.,  72.,\n",
       "       140., 189., 181., 209., 136., 261., 113., 131., 174., 257.,  55.,\n",
       "        84.,  42., 146., 212., 233.,  91., 111., 152., 120.,  67., 310.,\n",
       "        94., 183.,  66., 173.,  72.,  49.,  64.,  48., 178., 104., 132.,\n",
       "       220.,  57.])"
      ]
     },
     "execution_count": 172,
     "metadata": {},
     "output_type": "execute_result"
    }
   ],
   "source": [
    "df_y"
   ]
  },
  {
   "cell_type": "code",
   "execution_count": 173,
   "id": "83ab8e83",
   "metadata": {},
   "outputs": [
    {
     "data": {
      "text/plain": [
       "(442,)"
      ]
     },
     "execution_count": 173,
     "metadata": {},
     "output_type": "execute_result"
    }
   ],
   "source": [
    "df_y.shape"
   ]
  },
  {
   "cell_type": "markdown",
   "id": "48a49827",
   "metadata": {},
   "source": [
    "<span style = \"color:orange;\">오케이 잘 담긴 것 같아!</span> "
   ]
  },
  {
   "cell_type": "markdown",
   "id": "992001b4",
   "metadata": {},
   "source": [
    "### Step 2. 모델에 입력할 데이터 X 준비하기\n",
    "df_X 에 있는 값들을 numpy array로 변환해서 저장해주자"
   ]
  },
  {
   "cell_type": "code",
   "execution_count": 174,
   "id": "31b2db88",
   "metadata": {},
   "outputs": [
    {
     "data": {
      "text/plain": [
       "numpy.ndarray"
      ]
     },
     "execution_count": 174,
     "metadata": {},
     "output_type": "execute_result"
    }
   ],
   "source": [
    "type(df_X)"
   ]
  },
  {
   "cell_type": "markdown",
   "id": "423d45b7",
   "metadata": {},
   "source": [
    "<span style = \"color:orange;\">이미 ndarray로 되어있으니 바꾸지 않아도 되는 것 같다 </span> "
   ]
  },
  {
   "cell_type": "markdown",
   "id": "04b28423",
   "metadata": {},
   "source": [
    "## <span style = \"color:orange;\"> 새로 알게 된 부분: array, ndarray</span>"
   ]
  },
  {
   "cell_type": "code",
   "execution_count": 175,
   "id": "e35ac45e",
   "metadata": {},
   "outputs": [
    {
     "name": "stdout",
     "output_type": "stream",
     "text": [
      "<class 'numpy.ndarray'>\n",
      "(3,)\n",
      "int64\n"
     ]
    },
    {
     "data": {
      "text/plain": [
       "array([1, 2, 3])"
      ]
     },
     "execution_count": 175,
     "metadata": {},
     "output_type": "execute_result"
    }
   ],
   "source": [
    "import numpy as np\n",
    "\n",
    "# Create a nested Python list\n",
    "a = [1, 2, 3]\n",
    "\n",
    "# Convert the nested list to a NumPy array\n",
    "b = np.array(a)\n",
    "\n",
    "print(type(b))      # Output: <class 'numpy.ndarray'>\n",
    "print(b.shape)      # Output: (3, 3)\n",
    "print(b.dtype)      # Output: int64\n",
    "b"
   ]
  },
  {
   "cell_type": "markdown",
   "id": "70830c98",
   "metadata": {},
   "source": [
    "#### 1차원의 넘파이 array에서는 (3,) shape이 이렇게 나왔을 때 나는 3행인건가 라고 생각했는데 그게 아니라고 한다      \n",
    "array는 행도 열도 없다고 한다     \n",
    "When we say that b has shape (3,), we mean that it is a 1-dimensional array with 3 elements.     \n",
    "\n",
    "#### 정리해보면   \n",
    "리스트에 array()를 하면 ndarray 형태가 된다    \n",
    "array()단독 데이터타입은 없으며    \n",
    "또 넘파이 기본 객체로 만드려면 array() 함수를 써야 한다   \n",
    "ndarray() 함수는 없다  "
   ]
  },
  {
   "cell_type": "markdown",
   "id": "7c4aa977",
   "metadata": {},
   "source": [
    "### Step 3. 모델에 예측할 데이터 y 준비하기\n",
    "df_y에 있는 값들을 numpy array로 변환하여 저장해주세요"
   ]
  },
  {
   "cell_type": "code",
   "execution_count": 128,
   "id": "ceecec54",
   "metadata": {},
   "outputs": [
    {
     "data": {
      "text/plain": [
       "numpy.ndarray"
      ]
     },
     "execution_count": 128,
     "metadata": {},
     "output_type": "execute_result"
    }
   ],
   "source": [
    "type(df_y)"
   ]
  },
  {
   "cell_type": "markdown",
   "id": "3f89760b",
   "metadata": {},
   "source": [
    "<span style = \"color:orange;\">음.. 이 친구도 안해도 되겠군 </span>"
   ]
  },
  {
   "cell_type": "markdown",
   "id": "fefa9f84",
   "metadata": {},
   "source": [
    "### Step 4. train 데이터와 test 데이터로 분리하기\n",
    "x와 y 데이터를 각각 train 데이터와 test 데이터로 분리해주세요"
   ]
  },
  {
   "cell_type": "code",
   "execution_count": 39,
   "id": "13ecc7e3",
   "metadata": {},
   "outputs": [
    {
     "name": "stderr",
     "output_type": "stream",
     "text": [
      "/tmp/ipykernel_32/23758030.py:1: FutureWarning: Using a non-tuple sequence for multidimensional indexing is deprecated; use `arr[tuple(seq)]` instead of `arr[seq]`. In the future this will be interpreted as an array index, `arr[np.array(seq)]`, which will result either in an error or a different result.\n",
      "  X = df_X[['age', 'sex', 'bmi', 'bp', 's1', 's2', 's3', 's4', 's5', 's6']].values\n"
     ]
    },
    {
     "ename": "IndexError",
     "evalue": "only integers, slices (`:`), ellipsis (`...`), numpy.newaxis (`None`) and integer or boolean arrays are valid indices",
     "output_type": "error",
     "traceback": [
      "\u001b[0;31m---------------------------------------------------------------------------\u001b[0m",
      "\u001b[0;31mIndexError\u001b[0m                                Traceback (most recent call last)",
      "\u001b[0;32m/tmp/ipykernel_32/23758030.py\u001b[0m in \u001b[0;36m<module>\u001b[0;34m\u001b[0m\n\u001b[0;32m----> 1\u001b[0;31m \u001b[0mX\u001b[0m \u001b[0;34m=\u001b[0m \u001b[0mdf_X\u001b[0m\u001b[0;34m[\u001b[0m\u001b[0;34m[\u001b[0m\u001b[0;34m'age'\u001b[0m\u001b[0;34m,\u001b[0m \u001b[0;34m'sex'\u001b[0m\u001b[0;34m,\u001b[0m \u001b[0;34m'bmi'\u001b[0m\u001b[0;34m,\u001b[0m \u001b[0;34m'bp'\u001b[0m\u001b[0;34m,\u001b[0m \u001b[0;34m's1'\u001b[0m\u001b[0;34m,\u001b[0m \u001b[0;34m's2'\u001b[0m\u001b[0;34m,\u001b[0m \u001b[0;34m's3'\u001b[0m\u001b[0;34m,\u001b[0m \u001b[0;34m's4'\u001b[0m\u001b[0;34m,\u001b[0m \u001b[0;34m's5'\u001b[0m\u001b[0;34m,\u001b[0m \u001b[0;34m's6'\u001b[0m\u001b[0;34m]\u001b[0m\u001b[0;34m]\u001b[0m\u001b[0;34m.\u001b[0m\u001b[0mvalues\u001b[0m\u001b[0;34m\u001b[0m\u001b[0;34m\u001b[0m\u001b[0m\n\u001b[0m\u001b[1;32m      2\u001b[0m \u001b[0my\u001b[0m \u001b[0;34m=\u001b[0m \u001b[0mdf_y\u001b[0m\u001b[0;34m[\u001b[0m\u001b[0;34m'target'\u001b[0m\u001b[0;34m]\u001b[0m\u001b[0;34m.\u001b[0m\u001b[0mvalues\u001b[0m\u001b[0;34m\u001b[0m\u001b[0;34m\u001b[0m\u001b[0m\n\u001b[1;32m      3\u001b[0m \u001b[0mprint\u001b[0m\u001b[0;34m(\u001b[0m\u001b[0;34m\"슝=3\"\u001b[0m\u001b[0;34m)\u001b[0m\u001b[0;34m\u001b[0m\u001b[0;34m\u001b[0m\u001b[0m\n",
      "\u001b[0;31mIndexError\u001b[0m: only integers, slices (`:`), ellipsis (`...`), numpy.newaxis (`None`) and integer or boolean arrays are valid indices"
     ]
    }
   ],
   "source": [
    "X = df_X[['age', 'sex', 'bmi', 'bp', 's1', 's2', 's3', 's4', 's5', 's6']].values\n",
    "y = df_y['target'].values\n",
    "print(\"슝=3\")"
   ]
  },
  {
   "cell_type": "markdown",
   "id": "6f72a934",
   "metadata": {},
   "source": [
    "## <span style = \"color:orange;\">tip 노드에서는 되었는데 여기서는 안된다 </span>\n",
    "tip 노드에서는 데이터프레임 형태로 볼 수 있었는데     \n",
    "여기는 컬럼의 데이터 타입이 ndarray라 안되는거 같기도"
   ]
  },
  {
   "cell_type": "code",
   "execution_count": 129,
   "id": "f3a04c22",
   "metadata": {},
   "outputs": [],
   "source": [
    "from sklearn.model_selection import train_test_split\n",
    "\n",
    "X_train, X_test, y_train, y_test = train_test_split(df_X, \n",
    "                                                    df_y, \n",
    "                                                    test_size=0.2, \n",
    "                                                    random_state=7)"
   ]
  },
  {
   "cell_type": "code",
   "execution_count": 130,
   "id": "e142adca",
   "metadata": {},
   "outputs": [
    {
     "data": {
      "text/plain": [
       "((353, 10), (89, 10), (353,), (89,))"
      ]
     },
     "execution_count": 130,
     "metadata": {},
     "output_type": "execute_result"
    }
   ],
   "source": [
    "X_train.shape, X_test.shape, y_train.shape, y_test.shape"
   ]
  },
  {
   "cell_type": "markdown",
   "id": "95f8d3b1",
   "metadata": {},
   "source": [
    "### Step 5. 모델 준비하기\n",
    "### 1. 입력 데이터 개수에 맞는 가중치 w와 b를 준비해주세요\n",
    "### 2. 모델 함수를 구현해주세요"
   ]
  },
  {
   "cell_type": "markdown",
   "id": "ca460bfa",
   "metadata": {},
   "source": [
    "### Step 5. 입력데이터 개수에 맞는 가중치 w와 b는 만들기"
   ]
  },
  {
   "cell_type": "markdown",
   "id": "10b3d05e",
   "metadata": {},
   "source": [
    "w1부터 w10, x1부터 x10\n",
    "\n",
    "왜?\n",
    "피처가 10개라서\n",
    "['age', 'sex', 'bmi', 'bp', 's1', 's2', 's3', 's4', 's5', 's6']\n",
    "\n",
    "x가 10개\n",
    "\n",
    "그럼 그에 상응하는 가중치 w도 10개"
   ]
  },
  {
   "cell_type": "markdown",
   "id": "fd36e98f",
   "metadata": {},
   "source": [
    "어흑 이 부분이 제일 어려운 부분일 것 같다!!!!!!!!!!!\n",
    "\n",
    "이 프로젝트의 목적은? 손수 설계하는 선형회귀, 당뇨병 수치를 맞춰보자\n",
    "이 말은 선형회귀 분석과 방법을 활용해 어떤 데이터를 넣었을 때(= 어떤 사람의 데이터(10개 피처에 대한)를 넣었을 때 이 사람의 예상 당뇨병 수치를 맞춰보자는 것) "
   ]
  },
  {
   "cell_type": "markdown",
   "id": "3e722db6",
   "metadata": {},
   "source": [
    "#### 모델 함수"
   ]
  },
  {
   "cell_type": "markdown",
   "id": "7f090d60",
   "metadata": {},
   "source": [
    "#### y = w1x1 + w2x2 + w3x3 + w4x4 + w5x5 + w6x6 + w7x7 + w8x8 + w9x9 + w10x10 + b"
   ]
  },
  {
   "cell_type": "markdown",
   "id": "95344c6b",
   "metadata": {},
   "source": [
    "출처_노드\n",
    "\n",
    "위와 같은 식을 '선형 방정식'이라 한다\n",
    "다른 말로는 '다변수 일차방정식'이라 한다\n",
    "\n",
    "중요한 건, 각각의 x에 개별 가중치를 곱해주는 것 말고는 다른 조작을 하지 않는다는 것\n",
    "\n",
    "이렇게 선형 방정식을 활용해서 원하는 값을 예측하고 모델을 설계하고 학습시키는 방법을 '선형 회귀'라고 한다\n",
    "선형 회귀는 '선형 방정식'을 통해 '회귀 문제를 푼다'는 의미가 담겨 있다\n",
    "\n",
    "이중 '회귀'라는 단어는 '연속된 실수값을 예측하는 문제'를 뜻한다\n",
    "회귀와 대립되는 개념은 '분류'이다\n",
    "\n",
    "'분류'문제는 맞히고자 하는 값이 '카테고리'이고, '회귀' 문제는 맞히고자 하는 값이 '연속된 실수 값'"
   ]
  },
  {
   "cell_type": "markdown",
   "id": "d0386f79",
   "metadata": {},
   "source": [
    "출처_노드\n",
    "x축과 y축을 활용해서 2차원 평면에 데이터를 찍어서 시각화할 수 있었다.      \n",
    "\n",
    "만약 입력 데이터인 x가 x1, x2로 두 개이고, 그 두 값으로 y값이 정해진다면 다음과 같은 3차원 공간에 시각화를 해 볼 수 있다      \n",
    "\n",
    "하지만, 입력 데이터 x가 3개 이상으로 늘어난다면 우리는 더이상 시각화를 할 수가 없다     \n",
    "우리 존재가 3차원 공간에 살고 있기 때문에, 4차원 이상은 상상할 수도, 그려볼 수도 없기 때문에.."
   ]
  },
  {
   "cell_type": "markdown",
   "id": "1fe523cf",
   "metadata": {},
   "source": [
    "### Step 6. 손실함수 loss 정의하기\n",
    "손실함수를 MSE 함수로 정의해주세요      \n",
    "-> 이 말은 loss 도 정의하고, 손실함수도 mse로 정의하라는 말인가?     \n",
    "-> mse 방식으로 손실함수(=loss 함수)를 정의하라는 말로 이해함"
   ]
  },
  {
   "cell_type": "markdown",
   "id": "36c005bf",
   "metadata": {},
   "source": [
    "다변수 데이터에 대해 선형회귀를 하기 위한 손실함수를 정의하기"
   ]
  },
  {
   "cell_type": "markdown",
   "id": "9bf2f26d",
   "metadata": {},
   "source": [
    "길이가 10인 W와 1개의 숫자인 b를 준비"
   ]
  },
  {
   "cell_type": "code",
   "execution_count": 178,
   "id": "7d9b511d",
   "metadata": {},
   "outputs": [
    {
     "name": "stdout",
     "output_type": "stream",
     "text": [
      "슝=3\n"
     ]
    }
   ],
   "source": [
    "import numpy as np\n",
    "W = np.random.rand(10)\n",
    "b = np.random.rand()\n",
    "print(\"슝=3\")"
   ]
  },
  {
   "cell_type": "code",
   "execution_count": 179,
   "id": "f04d15bc",
   "metadata": {},
   "outputs": [
    {
     "data": {
      "text/plain": [
       "array([0.90775151, 0.28017283, 0.97710231, 0.39725932, 0.53112363,\n",
       "       0.77771989, 0.19520813, 0.23507152, 0.69450886, 0.99625097])"
      ]
     },
     "execution_count": 179,
     "metadata": {},
     "output_type": "execute_result"
    }
   ],
   "source": [
    "W"
   ]
  },
  {
   "cell_type": "code",
   "execution_count": 180,
   "id": "4f636df0",
   "metadata": {},
   "outputs": [
    {
     "data": {
      "text/plain": [
       "0.6650352641289309"
      ]
     },
     "execution_count": 180,
     "metadata": {},
     "output_type": "execute_result"
    }
   ],
   "source": [
    "b"
   ]
  },
  {
   "cell_type": "markdown",
   "id": "7b06ac67",
   "metadata": {},
   "source": [
    "w에는 10개의 랜덤한 값으로 w1부터 w1가 담겼고, b는 하나의 상수값이 담겼다"
   ]
  },
  {
   "cell_type": "markdown",
   "id": "6f646ecb",
   "metadata": {},
   "source": [
    "모델을 준비하는 단계      \n",
    "모델은 이전 단계와 같이 w, x, b를 입력받는 함수     \n",
    "정확히는 다음 식을 연산하는 함수 -> 이 말을 다른 말로 하면?    \n",
    "\n",
    "y = w1x1 + w2x2 + w3x3 + w4x4 + w5x5 + w6x6 + w7x7 + w8x8 + w9x9 + w10x10 + b\n",
    "\n",
    "for 구문을 활용해 1부터 10까지 X * w를 수행하고, 마지막에 b를 더해주도록 코드 작성"
   ]
  },
  {
   "cell_type": "code",
   "execution_count": 181,
   "id": "2a7313b5",
   "metadata": {},
   "outputs": [
    {
     "name": "stdout",
     "output_type": "stream",
     "text": [
      "슝=3\n"
     ]
    }
   ],
   "source": [
    "# 얘는 모델을 만들어주는 식\n",
    "\n",
    "def model(X_train, W, b): # 원래 팁 노드에서는 X였는데 여기에서 X_train으로 바꿔줌\n",
    "    predictions = 0\n",
    "    for i in range(10):\n",
    "        predictions += X_train[:, i] * W[i]\n",
    "    predictions += b\n",
    "    return predictions\n",
    "print(\"슝=3\")"
   ]
  },
  {
   "cell_type": "markdown",
   "id": "5b754e9c",
   "metadata": {},
   "source": [
    "손실함수를 MSE로 정의하기       \n",
    "MSE로 식을 구성해주기, 만들어주기라는 말인가?       \n",
    "자전거 노드 1-4를 보니 손실함수가  mse와 같은 말은 아닌 것 같고, mse를 활용해 손실함수를 정의할 수 있다인 것 같다"
   ]
  },
  {
   "cell_type": "code",
   "execution_count": 183,
   "id": "84b87b76",
   "metadata": {},
   "outputs": [
    {
     "name": "stdout",
     "output_type": "stream",
     "text": [
      "슝=3\n"
     ]
    }
   ],
   "source": [
    "def MSE(a, b):\n",
    "    mse = ((a - b) ** 2).mean()  # 두 값의 차이의 제곱의 평균\n",
    "    return mse\n",
    "print(\"슝=3\")"
   ]
  },
  {
   "cell_type": "code",
   "execution_count": 184,
   "id": "a4502e9b",
   "metadata": {},
   "outputs": [
    {
     "name": "stdout",
     "output_type": "stream",
     "text": [
      "슝=3\n"
     ]
    }
   ],
   "source": [
    "# 이 친구가 손실함수. mse를 활용해 정의한 손실함수\n",
    "\n",
    "def loss(X_train, W, b, y_train):\n",
    "    predictions = model(X_train, W, b) \n",
    "    #모델은 y = wx + b에 기초해서, 모델이라는 함수를 wx하고 거기에 b를 더하는 식으로 정의함\n",
    "    # 그리고 그렇게 해서 나오는 y에 해당하는 값들을 예측 predictions 변수에 넣어주기\n",
    "    L = MSE(predictions, y_train) # 그리고 이걸 mse에 넣어서 y 값과 얼마나 \n",
    "    # mse는 오차의 제곱의 평균\n",
    "    # predictions과 y를 MSE () 안에 넣으면 이미 MSE에 대해서 함수가 정의되어 있기 때문에 mse 를 구해준다 그리고 그걸 L이라는 \n",
    "    # 변수에 담는다\n",
    "    return L\n",
    "print(\"슝=3\")"
   ]
  },
  {
   "cell_type": "markdown",
   "id": "c2f705ed",
   "metadata": {},
   "source": [
    "손실함수 = 비용함수      \n",
    "아직 불완전한 현재의 모델이 출력하는 값과 실제 정답간의 차이      \n",
    "현재 모델이 얼마나 손실을 내고 있는지 나타낸다는 개념으로 이해     \n",
    "\n",
    "손실값이 크다는 것은 모델이 현재 정답과 굉장히 먼 예측을 하고 있다는 뜻이고     \n",
    "손실값이 작다는 것은 모델이 정답에 가까운, 올바른 예측을 하고 있다는 것"
   ]
  },
  {
   "cell_type": "markdown",
   "id": "3d3badb2",
   "metadata": {},
   "source": [
    "### Step 7. 기울기를 구하는 gradient 함수 구현하기\n",
    "기울기를 계산하는 gradient 함수를 구현해주세요"
   ]
  },
  {
   "cell_type": "markdown",
   "id": "90e40576",
   "metadata": {},
   "source": [
    "손실함수값을 점차적으로 줄일 수 있는 경사하강법에 대한 개념과 구현 알아보기"
   ]
  },
  {
   "cell_type": "markdown",
   "id": "c9d7d589",
   "metadata": {},
   "source": [
    "최적의 w 기울기를 알려면 계속 아래와 같은 과정을 거치면서 w를 업데이트 하는 방법이 있다\n",
    "1. 현재 w에서의 기울기를 구한다\n",
    "2. 기울기가 음수라면(이 말은 g가 음수이면 과 같은 말?), 현재 w를 키운다\n",
    "3. 기울이가 양수라면, 현재 w를 줄인다"
   ]
  },
  {
   "cell_type": "markdown",
   "id": "7ea79381",
   "metadata": {},
   "source": [
    "## <span style = \"color:orange;\">내가 알게된 부분은 </span>\n",
    "\n",
    "이 그래프에서 w는 가중치, 파라미터의 값인거고 이걸 기울기로 보지 말기 왜냐하면 헷갈림       \n",
    "이차함수 그래프에서 x축에 있는 x와       \n",
    "y축에 있는 loss의 값       \n",
    "그 둘이 만나 좌표에 표시한 함수는 w 함수가 아니다.      \n",
    "그 둘의 관계에 대한 함수 그래프 그리고 그 그래프의 기울기가 g가 되는 것 같다"
   ]
  },
  {
   "cell_type": "markdown",
   "id": "fe1b9976",
   "metadata": {},
   "source": [
    "위 말에서 아래의 식이 도출되는 과정이 잘 이해가 안 된다"
   ]
  },
  {
   "cell_type": "markdown",
   "id": "451287ba",
   "metadata": {},
   "source": [
    "w ′= w−ηg"
   ]
  },
  {
   "cell_type": "markdown",
   "id": "f77a4c97",
   "metadata": {},
   "source": [
    "w ′: 새로운 w(기울기)     \n",
    "w : 현재 w(기울기)      \n",
    "η: 얼마나 업데이트할지를 결정하는 상수(학습률)     \n",
    "g: 기울기, 또는 그래디언트"
   ]
  },
  {
   "cell_type": "markdown",
   "id": "3a9d61e8",
   "metadata": {},
   "source": [
    "## <span style = \"color:orange;\">노드 내용 정리 </span>"
   ]
  },
  {
   "cell_type": "markdown",
   "id": "03ecb7dc",
   "metadata": {},
   "source": [
    "위 식은 기울기의 특성을 아주 영리하게 사용한 식      \n",
    "위에서 기울기가 음수라면 현재 w를 크게 만들고, 기울기가 양수라면 현재 w를 작게 만든다.     \n",
    "그렇다면? 복잡하게 생각할 것 없이, 그냥 w에서 기울기를 빼 주면 바로 우리가 원하는대로 동작할 수 있다     \n",
    "출처_노드"
   ]
  },
  {
   "cell_type": "markdown",
   "id": "bc5e1e25",
   "metadata": {},
   "source": [
    "즉, g가 음수라면 w−g 식에서 우리는 w 에서 음수를 빼주게 되므로 w는 커진다     \n",
    "반면, g가 양수라면 w−g 식에서 우리는 w 에서 양수를 빼주게 되므로 w는 작아진다"
   ]
  },
  {
   "cell_type": "markdown",
   "id": "398d23f7",
   "metadata": {},
   "source": [
    "여기에서 η 는 고정되어 있는 상수로써 w를 변화시키는 양을 조절하는 역할을 한다"
   ]
  },
  {
   "cell_type": "markdown",
   "id": "dfcfeb77",
   "metadata": {},
   "source": [
    "즉, w−ηg 에서 g는 키울지, 줄일지에 대한 \"방향과 크기\"를,     \n",
    "η는 얼마나 키울지/줄일지에 대한 \"배율\"을 결정한다"
   ]
  },
  {
   "cell_type": "markdown",
   "id": "052b5d32",
   "metadata": {},
   "source": [
    "이렇게 η와 g, 두 가지 값으로 우리는 w를 계속 업데이트 해나갈 수 있다!       \n",
    "\n",
    "조금씩 키우거나, 줄여나가면서 우리는 점점 최적의 w에 가까워질 수 있다"
   ]
  },
  {
   "cell_type": "markdown",
   "id": "174bbc1e",
   "metadata": {},
   "source": [
    "이렇게 기울기를 사용해서 점차적으로 매개변수를 업데이트 하는 방식을 Gradient Descent Method, 즉 경사하강법 이라고 한다"
   ]
  },
  {
   "cell_type": "markdown",
   "id": "14cdbb58",
   "metadata": {},
   "source": [
    "#### 맥북에서 정의한 기울기를 구하는 함수\n",
    "\n",
    "\n",
    "def gradient(x, w, b, y):      \n",
    "    dw = (loss(x, w + 0.0001, b, y) - loss(x, w, b, y)) / 0.0001      \n",
    "    db = (loss(x, w, b + 0.0001, y) - loss(x, w, b, y)) / 0.0001       \n",
    "    return dw, db      \n",
    "print(\"슝=3\")"
   ]
  },
  {
   "cell_type": "markdown",
   "id": "02034774",
   "metadata": {},
   "source": [
    "#### 지금의 식에 대해서는\n",
    "y = w1x1 + w2x2 + w3x3 + w4x4 + w5x5 + w6x6 + w7x7 + w8x8 + w9x9 + w10x10 + b"
   ]
  },
  {
   "cell_type": "code",
   "execution_count": 187,
   "id": "42bcf5c5",
   "metadata": {},
   "outputs": [
    {
     "name": "stdout",
     "output_type": "stream",
     "text": [
      "슝=3\n"
     ]
    }
   ],
   "source": [
    "# 팁 노드에서 정의한 기울기 함수\n",
    "\n",
    "def gradient(X_train, W, b, y_train):\n",
    "    # N은 데이터 포인트의 개수\n",
    "    N = len(y_train)\n",
    "    \n",
    "    # y_pred 준비\n",
    "    y_pred = model(X_train, W, b)\n",
    "    \n",
    "    # 공식에 맞게 gradient 계산\n",
    "    dW = 1/N * 2 * X_train.T.dot(y_pred - y_train)\n",
    "        \n",
    "    # b의 gradient 계산\n",
    "    db = 2 * (y_pred - y_train).mean()\n",
    "    return dW, db\n",
    "print(\"슝=3\")"
   ]
  },
  {
   "cell_type": "markdown",
   "id": "8a73d157",
   "metadata": {},
   "source": [
    "#### 경사를 계산해보자"
   ]
  },
  {
   "cell_type": "code",
   "execution_count": 188,
   "id": "014e02e5",
   "metadata": {},
   "outputs": [
    {
     "name": "stdout",
     "output_type": "stream",
     "text": [
      "dW: [-1.42059344 -0.34750605 -4.38550874 -3.28725457 -1.66069945 -1.50559295\n",
      "  3.27850056 -3.56459663 -4.33943323 -2.87508323]\n",
      "db: -306.86780734202983\n"
     ]
    }
   ],
   "source": [
    "dW, db = gradient(X_train, W, b, y_train)\n",
    "print(\"dW:\", dW)\n",
    "print(\"db:\", db)"
   ]
  },
  {
   "cell_type": "markdown",
   "id": "59efbbfd",
   "metadata": {},
   "source": [
    "### Step 8. 하이퍼파라미터인 학습률 설정하기\n",
    "학습률 learning rate를 설정해주세요     \n",
    "만약 학습이 잘 되지 않는다면 learning rate 값을 한 번 여러가지로 설정하며 실험해보자"
   ]
  },
  {
   "cell_type": "code",
   "execution_count": 189,
   "id": "acebbf0c",
   "metadata": {},
   "outputs": [],
   "source": [
    "LEARNING_RATE = 0.0001"
   ]
  },
  {
   "cell_type": "markdown",
   "id": "9eb830c4",
   "metadata": {},
   "source": [
    "### Step 9. 모델 학습하기\n",
    "정의된 손실함수와 기울기 함수로 모델을 학습해주세요    \n",
    "loss 값이 충분히 떨어질 때까지 학습을 진행해주세요     \n",
    "입력하는 데이터인 x에 들어가는 특성 컬럼들을 몇 개 빼도 괜찮습니다. 다양한 데이터로 실험해보자    \n"
   ]
  },
  {
   "cell_type": "code",
   "execution_count": 190,
   "id": "d418a2fa",
   "metadata": {},
   "outputs": [
    {
     "name": "stdout",
     "output_type": "stream",
     "text": [
      "Iteration 10 : Loss 29583.2243\n",
      "Iteration 20 : Loss 29489.5227\n",
      "Iteration 30 : Loss 29396.1948\n",
      "Iteration 40 : Loss 29303.2392\n",
      "Iteration 50 : Loss 29210.6544\n",
      "Iteration 60 : Loss 29118.4389\n",
      "Iteration 70 : Loss 29026.5912\n",
      "Iteration 80 : Loss 28935.1099\n",
      "Iteration 90 : Loss 28843.9935\n",
      "Iteration 100 : Loss 28753.2405\n",
      "Iteration 110 : Loss 28662.8495\n",
      "Iteration 120 : Loss 28572.8190\n",
      "Iteration 130 : Loss 28483.1477\n",
      "Iteration 140 : Loss 28393.8340\n",
      "Iteration 150 : Loss 28304.8766\n",
      "Iteration 160 : Loss 28216.2740\n",
      "Iteration 170 : Loss 28128.0248\n",
      "Iteration 180 : Loss 28040.1276\n",
      "Iteration 190 : Loss 27952.5810\n",
      "Iteration 200 : Loss 27865.3836\n",
      "Iteration 210 : Loss 27778.5340\n",
      "Iteration 220 : Loss 27692.0308\n",
      "Iteration 230 : Loss 27605.8726\n",
      "Iteration 240 : Loss 27520.0580\n",
      "Iteration 250 : Loss 27434.5858\n",
      "Iteration 260 : Loss 27349.4544\n",
      "Iteration 270 : Loss 27264.6626\n",
      "Iteration 280 : Loss 27180.2090\n",
      "Iteration 290 : Loss 27096.0922\n",
      "Iteration 300 : Loss 27012.3109\n",
      "Iteration 310 : Loss 26928.8638\n",
      "Iteration 320 : Loss 26845.7495\n",
      "Iteration 330 : Loss 26762.9666\n",
      "Iteration 340 : Loss 26680.5140\n",
      "Iteration 350 : Loss 26598.3902\n",
      "Iteration 360 : Loss 26516.5940\n",
      "Iteration 370 : Loss 26435.1239\n",
      "Iteration 380 : Loss 26353.9789\n",
      "Iteration 390 : Loss 26273.1574\n",
      "Iteration 400 : Loss 26192.6583\n",
      "Iteration 410 : Loss 26112.4802\n",
      "Iteration 420 : Loss 26032.6219\n",
      "Iteration 430 : Loss 25953.0821\n",
      "Iteration 440 : Loss 25873.8596\n",
      "Iteration 450 : Loss 25794.9529\n",
      "Iteration 460 : Loss 25716.3610\n",
      "Iteration 470 : Loss 25638.0825\n",
      "Iteration 480 : Loss 25560.1162\n",
      "Iteration 490 : Loss 25482.4609\n",
      "Iteration 500 : Loss 25405.1152\n",
      "Iteration 510 : Loss 25328.0780\n",
      "Iteration 520 : Loss 25251.3481\n",
      "Iteration 530 : Loss 25174.9241\n",
      "Iteration 540 : Loss 25098.8050\n",
      "Iteration 550 : Loss 25022.9894\n",
      "Iteration 560 : Loss 24947.4761\n",
      "Iteration 570 : Loss 24872.2640\n",
      "Iteration 580 : Loss 24797.3519\n",
      "Iteration 590 : Loss 24722.7385\n",
      "Iteration 600 : Loss 24648.4226\n",
      "Iteration 610 : Loss 24574.4031\n",
      "Iteration 620 : Loss 24500.6788\n",
      "Iteration 630 : Loss 24427.2485\n",
      "Iteration 640 : Loss 24354.1111\n",
      "Iteration 650 : Loss 24281.2653\n",
      "Iteration 660 : Loss 24208.7100\n",
      "Iteration 670 : Loss 24136.4440\n",
      "Iteration 680 : Loss 24064.4662\n",
      "Iteration 690 : Loss 23992.7755\n",
      "Iteration 700 : Loss 23921.3706\n",
      "Iteration 710 : Loss 23850.2505\n",
      "Iteration 720 : Loss 23779.4140\n",
      "Iteration 730 : Loss 23708.8600\n",
      "Iteration 740 : Loss 23638.5873\n",
      "Iteration 750 : Loss 23568.5948\n",
      "Iteration 760 : Loss 23498.8815\n",
      "Iteration 770 : Loss 23429.4461\n",
      "Iteration 780 : Loss 23360.2877\n",
      "Iteration 790 : Loss 23291.4050\n",
      "Iteration 800 : Loss 23222.7970\n",
      "Iteration 810 : Loss 23154.4625\n",
      "Iteration 820 : Loss 23086.4006\n",
      "Iteration 830 : Loss 23018.6100\n",
      "Iteration 840 : Loss 22951.0898\n",
      "Iteration 850 : Loss 22883.8388\n",
      "Iteration 860 : Loss 22816.8559\n",
      "Iteration 870 : Loss 22750.1402\n",
      "Iteration 880 : Loss 22683.6905\n",
      "Iteration 890 : Loss 22617.5057\n",
      "Iteration 900 : Loss 22551.5849\n",
      "Iteration 910 : Loss 22485.9269\n",
      "Iteration 920 : Loss 22420.5307\n",
      "Iteration 930 : Loss 22355.3952\n",
      "Iteration 940 : Loss 22290.5195\n",
      "Iteration 950 : Loss 22225.9024\n",
      "Iteration 960 : Loss 22161.5430\n",
      "Iteration 970 : Loss 22097.4402\n",
      "Iteration 980 : Loss 22033.5930\n",
      "Iteration 990 : Loss 21970.0004\n",
      "Iteration 1000 : Loss 21906.6614\n"
     ]
    }
   ],
   "source": [
    "losses = []\n",
    "\n",
    "for i in range(1, 1001):\n",
    "    dW, db = gradient(X_train, W, b, y_train)\n",
    "    W -= LEARNING_RATE * dW\n",
    "    b -= LEARNING_RATE * db\n",
    "    L = loss(X_train, W, b, y_train)\n",
    "    losses.append(L)\n",
    "    if i % 10 == 0:\n",
    "        print('Iteration %d : Loss %0.4f' % (i, L))"
   ]
  },
  {
   "cell_type": "code",
   "execution_count": 191,
   "id": "a3f764e6",
   "metadata": {},
   "outputs": [
    {
     "data": {
      "image/png": "[encoded data removed]",
      "text/plain": [
       "<Figure size 432x288 with 1 Axes>"
      ]
     },
     "metadata": {
      "needs_background": "light"
     },
     "output_type": "display_data"
    }
   ],
   "source": [
    "import matplotlib.pyplot as plt\n",
    "plt.plot(losses)\n",
    "plt.show()"
   ]
  },
  {
   "cell_type": "code",
   "execution_count": 192,
   "id": "aac27016",
   "metadata": {},
   "outputs": [
    {
     "data": {
      "text/plain": [
       "(array([ 1.04898633,  0.3142613 ,  1.41588174,  0.72618468,  0.69690011,\n",
       "         0.92677527, -0.12946252,  0.58862569,  1.12776589,  1.28422089]),\n",
       " 28.480339531783187)"
      ]
     },
     "execution_count": 192,
     "metadata": {},
     "output_type": "execute_result"
    }
   ],
   "source": [
    "W, b"
   ]
  },
  {
   "cell_type": "markdown",
   "id": "3f500ca6",
   "metadata": {},
   "source": [
    "### 여기서 왜 W가 10개지?\n",
    "왜냐하면 피처가 10개였잖아      \n",
    "x1 x2 ... x10     \n",
    "그래서     \n",
    "w도     \n",
    "w1 w2 ... w10     "
   ]
  },
  {
   "cell_type": "markdown",
   "id": "31d2f277",
   "metadata": {},
   "source": [
    "### Step 10. test 데이터에 대한 성능 확인하기\n",
    "test 데이터에 대한 성능을 확인해주세요"
   ]
  },
  {
   "cell_type": "markdown",
   "id": "bf8d42bb",
   "metadata": {},
   "source": [
    "X_test 데이터와 y_test 데이터에 대해서 예측      \n",
    "학습때 보지 않은 test 데이터에 대해서는 loss값이 얼마나 되는지 확인"
   ]
  },
  {
   "cell_type": "code",
   "execution_count": 193,
   "id": "8e913bee",
   "metadata": {},
   "outputs": [
    {
     "data": {
      "text/plain": [
       "18383.805103556937"
      ]
     },
     "execution_count": 193,
     "metadata": {},
     "output_type": "execute_result"
    }
   ],
   "source": [
    "prediction = model(X_test, W, b)\n",
    "mse = loss(X_test, W, b, y_test)\n",
    "mse"
   ]
  },
  {
   "cell_type": "markdown",
   "id": "bdbfbe9d",
   "metadata": {},
   "source": [
    "### Step 11. 정답 데이터와 예측한 데이터 시각화하기       \n",
    "x축에는 X 데이터의 첫 번째 컬럼을, y축에는 정답인 target 데이터를 넣어서 모델이 예측한 데이터를 시각화해주기"
   ]
  },
  {
   "cell_type": "code",
   "execution_count": 194,
   "id": "ac88fa88",
   "metadata": {},
   "outputs": [
    {
     "data": {
      "image/png": "[encoded data removed]",
      "text/plain": [
       "<Figure size 432x288 with 1 Axes>"
      ]
     },
     "metadata": {
      "needs_background": "light"
     },
     "output_type": "display_data"
    }
   ],
   "source": [
    "plt.scatter(X_test[:, 0], y_test)\n",
    "plt.scatter(X_test[:, 0], prediction)\n",
    "plt.show()"
   ]
  },
  {
   "cell_type": "markdown",
   "id": "243d0cff",
   "metadata": {},
   "source": [
    "왜 이렇게 나오지 뭔가 이상한데 ......."
   ]
  },
  {
   "cell_type": "markdown",
   "id": "69cfaedb",
   "metadata": {},
   "source": [
    "### 학습률 0.2"
   ]
  },
  {
   "cell_type": "code",
   "execution_count": 195,
   "id": "6a7dc34a",
   "metadata": {},
   "outputs": [],
   "source": [
    "LEARNING_RATE = 0.2"
   ]
  },
  {
   "cell_type": "code",
   "execution_count": 196,
   "id": "e2c66191",
   "metadata": {},
   "outputs": [
    {
     "name": "stdout",
     "output_type": "stream",
     "text": [
      "Iteration 10 : Loss 5964.0924\n",
      "Iteration 20 : Loss 5811.4336\n",
      "Iteration 30 : Loss 5669.1105\n",
      "Iteration 40 : Loss 5535.8606\n",
      "Iteration 50 : Loss 5411.0480\n",
      "Iteration 60 : Loss 5294.0822\n",
      "Iteration 70 : Loss 5184.4156\n",
      "Iteration 80 : Loss 5081.5398\n",
      "Iteration 90 : Loss 4984.9831\n",
      "Iteration 100 : Loss 4894.3076\n",
      "Iteration 110 : Loss 4809.1068\n",
      "Iteration 120 : Loss 4729.0035\n",
      "Iteration 130 : Loss 4653.6474\n",
      "Iteration 140 : Loss 4582.7136\n",
      "Iteration 150 : Loss 4515.9000\n",
      "Iteration 160 : Loss 4452.9265\n",
      "Iteration 170 : Loss 4393.5327\n",
      "Iteration 180 : Loss 4337.4771\n",
      "Iteration 190 : Loss 4284.5351\n",
      "Iteration 200 : Loss 4234.4983\n",
      "Iteration 210 : Loss 4187.1730\n",
      "Iteration 220 : Loss 4142.3793\n",
      "Iteration 230 : Loss 4099.9501\n",
      "Iteration 240 : Loss 4059.7300\n",
      "Iteration 250 : Loss 4021.5747\n",
      "Iteration 260 : Loss 3985.3501\n",
      "Iteration 270 : Loss 3950.9314\n",
      "Iteration 280 : Loss 3918.2027\n",
      "Iteration 290 : Loss 3887.0563\n",
      "Iteration 300 : Loss 3857.3919\n",
      "Iteration 310 : Loss 3829.1162\n",
      "Iteration 320 : Loss 3802.1425\n",
      "Iteration 330 : Loss 3776.3902\n",
      "Iteration 340 : Loss 3751.7841\n",
      "Iteration 350 : Loss 3728.2542\n",
      "Iteration 360 : Loss 3705.7357\n",
      "Iteration 370 : Loss 3684.1677\n",
      "Iteration 380 : Loss 3663.4940\n",
      "Iteration 390 : Loss 3643.6619\n",
      "Iteration 400 : Loss 3624.6225\n",
      "Iteration 410 : Loss 3606.3300\n",
      "Iteration 420 : Loss 3588.7420\n",
      "Iteration 430 : Loss 3571.8186\n",
      "Iteration 440 : Loss 3555.5230\n",
      "Iteration 450 : Loss 3539.8204\n",
      "Iteration 460 : Loss 3524.6788\n",
      "Iteration 470 : Loss 3510.0678\n",
      "Iteration 480 : Loss 3495.9595\n",
      "Iteration 490 : Loss 3482.3275\n",
      "Iteration 500 : Loss 3469.1472\n",
      "Iteration 510 : Loss 3456.3958\n",
      "Iteration 520 : Loss 3444.0516\n",
      "Iteration 530 : Loss 3432.0945\n",
      "Iteration 540 : Loss 3420.5058\n",
      "Iteration 550 : Loss 3409.2678\n",
      "Iteration 560 : Loss 3398.3639\n",
      "Iteration 570 : Loss 3387.7786\n",
      "Iteration 580 : Loss 3377.4974\n",
      "Iteration 590 : Loss 3367.5067\n",
      "Iteration 600 : Loss 3357.7937\n",
      "Iteration 610 : Loss 3348.3462\n",
      "Iteration 620 : Loss 3339.1529\n",
      "Iteration 630 : Loss 3330.2033\n",
      "Iteration 640 : Loss 3321.4873\n",
      "Iteration 650 : Loss 3312.9954\n",
      "Iteration 660 : Loss 3304.7187\n",
      "Iteration 670 : Loss 3296.6489\n",
      "Iteration 680 : Loss 3288.7781\n",
      "Iteration 690 : Loss 3281.0986\n",
      "Iteration 700 : Loss 3273.6036\n",
      "Iteration 710 : Loss 3266.2863\n",
      "Iteration 720 : Loss 3259.1403\n",
      "Iteration 730 : Loss 3252.1598\n",
      "Iteration 740 : Loss 3245.3389\n",
      "Iteration 750 : Loss 3238.6725\n",
      "Iteration 760 : Loss 3232.1552\n",
      "Iteration 770 : Loss 3225.7823\n",
      "Iteration 780 : Loss 3219.5492\n",
      "Iteration 790 : Loss 3213.4515\n",
      "Iteration 800 : Loss 3207.4849\n",
      "Iteration 810 : Loss 3201.6456\n",
      "Iteration 820 : Loss 3195.9298\n",
      "Iteration 830 : Loss 3190.3338\n",
      "Iteration 840 : Loss 3184.8541\n",
      "Iteration 850 : Loss 3179.4875\n",
      "Iteration 860 : Loss 3174.2307\n",
      "Iteration 870 : Loss 3169.0809\n",
      "Iteration 880 : Loss 3164.0350\n",
      "Iteration 890 : Loss 3159.0904\n",
      "Iteration 900 : Loss 3154.2443\n",
      "Iteration 910 : Loss 3149.4941\n",
      "Iteration 920 : Loss 3144.8375\n",
      "Iteration 930 : Loss 3140.2720\n",
      "Iteration 940 : Loss 3135.7955\n",
      "Iteration 950 : Loss 3131.4056\n",
      "Iteration 960 : Loss 3127.1004\n",
      "Iteration 970 : Loss 3122.8776\n",
      "Iteration 980 : Loss 3118.7355\n",
      "Iteration 990 : Loss 3114.6721\n",
      "Iteration 1000 : Loss 3110.6856\n"
     ]
    }
   ],
   "source": [
    "losses = []\n",
    "\n",
    "for i in range(1, 1001):\n",
    "    dW, db = gradient(X_train, W, b, y_train)\n",
    "    W -= LEARNING_RATE * dW\n",
    "    b -= LEARNING_RATE * db\n",
    "    L = loss(X_train, W, b, y_train)\n",
    "    losses.append(L)\n",
    "    if i % 10 == 0:\n",
    "        print('Iteration %d : Loss %0.4f' % (i, L))"
   ]
  },
  {
   "cell_type": "code",
   "execution_count": 197,
   "id": "73fe9e9f",
   "metadata": {},
   "outputs": [
    {
     "data": {
      "image/png": "[encoded data removed]",
      "text/plain": [
       "<Figure size 432x288 with 1 Axes>"
      ]
     },
     "metadata": {
      "needs_background": "light"
     },
     "output_type": "display_data"
    }
   ],
   "source": [
    "import matplotlib.pyplot as plt\n",
    "plt.plot(losses)\n",
    "plt.show()"
   ]
  },
  {
   "cell_type": "code",
   "execution_count": 198,
   "id": "1ede9066",
   "metadata": {},
   "outputs": [
    {
     "data": {
      "text/plain": [
       "(array([  20.41295453, -104.50215338,  375.36519444,  245.77579327,\n",
       "           3.71297317,  -40.87790758, -193.07451496,  147.49850342,\n",
       "         327.95953189,  150.45107952]),\n",
       " 153.90653340233519)"
      ]
     },
     "execution_count": 198,
     "metadata": {},
     "output_type": "execute_result"
    }
   ],
   "source": [
    "W, b"
   ]
  },
  {
   "cell_type": "code",
   "execution_count": 199,
   "id": "505f13c7",
   "metadata": {},
   "outputs": [
    {
     "data": {
      "text/plain": [
       "2843.80849481754"
      ]
     },
     "execution_count": 199,
     "metadata": {},
     "output_type": "execute_result"
    }
   ],
   "source": [
    "prediction = model(X_test, W, b)\n",
    "mse = loss(X_test, W, b, y_test)\n",
    "mse"
   ]
  },
  {
   "cell_type": "code",
   "execution_count": 200,
   "id": "0c0a1c7b",
   "metadata": {},
   "outputs": [
    {
     "data": {
      "image/png": "[encoded data removed]",
      "text/plain": [
       "<Figure size 432x288 with 1 Axes>"
      ]
     },
     "metadata": {
      "needs_background": "light"
     },
     "output_type": "display_data"
    }
   ],
   "source": [
    "plt.scatter(X_test[:, 0], y_test)\n",
    "plt.scatter(X_test[:, 0], prediction)\n",
    "plt.show()"
   ]
  },
  {
   "cell_type": "markdown",
   "id": "9ec1cd25",
   "metadata": {},
   "source": [
    "### 학습률 0.25"
   ]
  },
  {
   "cell_type": "code",
   "execution_count": 202,
   "id": "6a297ac5",
   "metadata": {},
   "outputs": [],
   "source": [
    "LEARNING_RATE = 0.25"
   ]
  },
  {
   "cell_type": "code",
   "execution_count": 203,
   "id": "c4791de7",
   "metadata": {},
   "outputs": [
    {
     "name": "stdout",
     "output_type": "stream",
     "text": [
      "Iteration 10 : Loss 3105.8073\n",
      "Iteration 20 : Loss 3101.0431\n",
      "Iteration 30 : Loss 3096.3898\n",
      "Iteration 40 : Loss 3091.8443\n",
      "Iteration 50 : Loss 3087.4036\n",
      "Iteration 60 : Loss 3083.0650\n",
      "Iteration 70 : Loss 3078.8256\n",
      "Iteration 80 : Loss 3074.6830\n",
      "Iteration 90 : Loss 3070.6344\n",
      "Iteration 100 : Loss 3066.6775\n",
      "Iteration 110 : Loss 3062.8099\n",
      "Iteration 120 : Loss 3059.0293\n",
      "Iteration 130 : Loss 3055.3335\n",
      "Iteration 140 : Loss 3051.7204\n",
      "Iteration 150 : Loss 3048.1878\n",
      "Iteration 160 : Loss 3044.7338\n",
      "Iteration 170 : Loss 3041.3564\n",
      "Iteration 180 : Loss 3038.0538\n",
      "Iteration 190 : Loss 3034.8240\n",
      "Iteration 200 : Loss 3031.6654\n",
      "Iteration 210 : Loss 3028.5763\n",
      "Iteration 220 : Loss 3025.5548\n",
      "Iteration 230 : Loss 3022.5995\n",
      "Iteration 240 : Loss 3019.7087\n",
      "Iteration 250 : Loss 3016.8809\n",
      "Iteration 260 : Loss 3014.1147\n",
      "Iteration 270 : Loss 3011.4084\n",
      "Iteration 280 : Loss 3008.7609\n",
      "Iteration 290 : Loss 3006.1706\n",
      "Iteration 300 : Loss 3003.6362\n",
      "Iteration 310 : Loss 3001.1565\n",
      "Iteration 320 : Loss 2998.7301\n",
      "Iteration 330 : Loss 2996.3559\n",
      "Iteration 340 : Loss 2994.0326\n",
      "Iteration 350 : Loss 2991.7591\n",
      "Iteration 360 : Loss 2989.5341\n",
      "Iteration 370 : Loss 2987.3567\n",
      "Iteration 380 : Loss 2985.2257\n",
      "Iteration 390 : Loss 2983.1401\n",
      "Iteration 400 : Loss 2981.0988\n",
      "Iteration 410 : Loss 2979.1008\n",
      "Iteration 420 : Loss 2977.1452\n",
      "Iteration 430 : Loss 2975.2310\n",
      "Iteration 440 : Loss 2973.3572\n",
      "Iteration 450 : Loss 2971.5230\n",
      "Iteration 460 : Loss 2969.7274\n",
      "Iteration 470 : Loss 2967.9697\n",
      "Iteration 480 : Loss 2966.2489\n",
      "Iteration 490 : Loss 2964.5642\n",
      "Iteration 500 : Loss 2962.9148\n",
      "Iteration 510 : Loss 2961.3000\n",
      "Iteration 520 : Loss 2959.7189\n",
      "Iteration 530 : Loss 2958.1708\n",
      "Iteration 540 : Loss 2956.6550\n",
      "Iteration 550 : Loss 2955.1708\n",
      "Iteration 560 : Loss 2953.7175\n",
      "Iteration 570 : Loss 2952.2944\n",
      "Iteration 580 : Loss 2950.9008\n",
      "Iteration 590 : Loss 2949.5360\n",
      "Iteration 600 : Loss 2948.1995\n",
      "Iteration 610 : Loss 2946.8907\n",
      "Iteration 620 : Loss 2945.6088\n",
      "Iteration 630 : Loss 2944.3534\n",
      "Iteration 640 : Loss 2943.1238\n",
      "Iteration 650 : Loss 2941.9196\n",
      "Iteration 660 : Loss 2940.7400\n",
      "Iteration 670 : Loss 2939.5847\n",
      "Iteration 680 : Loss 2938.4530\n",
      "Iteration 690 : Loss 2937.3445\n",
      "Iteration 700 : Loss 2936.2586\n",
      "Iteration 710 : Loss 2935.1949\n",
      "Iteration 720 : Loss 2934.1529\n",
      "Iteration 730 : Loss 2933.1321\n",
      "Iteration 740 : Loss 2932.1320\n",
      "Iteration 750 : Loss 2931.1523\n",
      "Iteration 760 : Loss 2930.1924\n",
      "Iteration 770 : Loss 2929.2520\n",
      "Iteration 780 : Loss 2928.3306\n",
      "Iteration 790 : Loss 2927.4279\n",
      "Iteration 800 : Loss 2926.5433\n",
      "Iteration 810 : Loss 2925.6766\n",
      "Iteration 820 : Loss 2924.8273\n",
      "Iteration 830 : Loss 2923.9951\n",
      "Iteration 840 : Loss 2923.1796\n",
      "Iteration 850 : Loss 2922.3805\n",
      "Iteration 860 : Loss 2921.5974\n",
      "Iteration 870 : Loss 2920.8299\n",
      "Iteration 880 : Loss 2920.0778\n",
      "Iteration 890 : Loss 2919.3407\n",
      "Iteration 900 : Loss 2918.6183\n",
      "Iteration 910 : Loss 2917.9102\n",
      "Iteration 920 : Loss 2917.2162\n",
      "Iteration 930 : Loss 2916.5361\n",
      "Iteration 940 : Loss 2915.8693\n",
      "Iteration 950 : Loss 2915.2158\n",
      "Iteration 960 : Loss 2914.5753\n",
      "Iteration 970 : Loss 2913.9473\n",
      "Iteration 980 : Loss 2913.3318\n",
      "Iteration 990 : Loss 2912.7284\n",
      "Iteration 1000 : Loss 2912.1368\n"
     ]
    }
   ],
   "source": [
    "losses = []\n",
    "\n",
    "for i in range(1, 1001):\n",
    "    dW, db = gradient(X_train, W, b, y_train)\n",
    "    W -= LEARNING_RATE * dW\n",
    "    b -= LEARNING_RATE * db\n",
    "    L = loss(X_train, W, b, y_train)\n",
    "    losses.append(L)\n",
    "    if i % 10 == 0:\n",
    "        print('Iteration %d : Loss %0.4f' % (i, L))"
   ]
  },
  {
   "cell_type": "code",
   "execution_count": 204,
   "id": "72d91de3",
   "metadata": {},
   "outputs": [
    {
     "data": {
      "image/png": "[encoded data removed]",
      "text/plain": [
       "<Figure size 432x288 with 1 Axes>"
      ]
     },
     "metadata": {
      "needs_background": "light"
     },
     "output_type": "display_data"
    }
   ],
   "source": [
    "import matplotlib.pyplot as plt\n",
    "plt.plot(losses)\n",
    "plt.show()"
   ]
  },
  {
   "cell_type": "code",
   "execution_count": 205,
   "id": "d1e51b27",
   "metadata": {},
   "outputs": [
    {
     "data": {
      "text/plain": [
       "(array([ -24.50075844, -203.39940455,  490.12074723,  303.78803071,\n",
       "         -45.1671592 , -107.66977854, -216.91065977,  135.00905117,\n",
       "         421.22009872,  127.97098786]),\n",
       " 153.96427628647095)"
      ]
     },
     "execution_count": 205,
     "metadata": {},
     "output_type": "execute_result"
    }
   ],
   "source": [
    "W, b"
   ]
  },
  {
   "cell_type": "code",
   "execution_count": 206,
   "id": "d3a2615b",
   "metadata": {},
   "outputs": [
    {
     "data": {
      "text/plain": [
       "2854.860138254376"
      ]
     },
     "execution_count": 206,
     "metadata": {},
     "output_type": "execute_result"
    }
   ],
   "source": [
    "prediction = model(X_test, W, b)\n",
    "mse = loss(X_test, W, b, y_test)\n",
    "mse"
   ]
  },
  {
   "cell_type": "code",
   "execution_count": 207,
   "id": "b10ec9ec",
   "metadata": {},
   "outputs": [
    {
     "data": {
      "image/png": "[encoded data removed]",
      "text/plain": [
       "<Figure size 432x288 with 1 Axes>"
      ]
     },
     "metadata": {
      "needs_background": "light"
     },
     "output_type": "display_data"
    }
   ],
   "source": [
    "plt.scatter(X_test[:, 0], y_test)\n",
    "plt.scatter(X_test[:, 0], prediction)\n",
    "plt.show()"
   ]
  },
  {
   "cell_type": "markdown",
   "id": "c91a163a",
   "metadata": {},
   "source": [
    "## 결론"
   ]
  },
  {
   "cell_type": "markdown",
   "id": "1dd7d122",
   "metadata": {},
   "source": [
    "학습률 0.0001      \n",
    "MSE 18383.805103556937          \n",
    "학습률 0.2         \n",
    "MSE 2843.80849481754         \n",
    "학습률 0.25      \n",
    "MSE 2854.860138254376       "
   ]
  },
  {
   "cell_type": "markdown",
   "id": "e035a86d",
   "metadata": {},
   "source": [
    "### 학습률이 0.2일 때 모델의 성능이 좋은 것을 알 수 있다."
   ]
  },
  {
   "cell_type": "code",
   "execution_count": null,
   "id": "e4e7a2fe",
   "metadata": {},
   "outputs": [],
   "source": []
  },
  {
   "cell_type": "markdown",
   "id": "bced2ac0",
   "metadata": {},
   "source": [
    "## Project 2. 날씨 좋은 월요일 오후 세 시, 자전거 타는 사람은 몇 명?"
   ]
  },
  {
   "cell_type": "markdown",
   "id": "b05748bc",
   "metadata": {},
   "source": [
    "### Step 1. 데이터 가져오기"
   ]
  },
  {
   "cell_type": "code",
   "execution_count": 208,
   "id": "ec383822",
   "metadata": {},
   "outputs": [
    {
     "name": "stdout",
     "output_type": "stream",
     "text": [
      "슝=3\n"
     ]
    }
   ],
   "source": [
    "import pandas as pd\n",
    "print(\"슝=3\")"
   ]
  },
  {
   "cell_type": "code",
   "execution_count": 209,
   "id": "f54154f2",
   "metadata": {},
   "outputs": [],
   "source": [
    "train = pd.read_csv('~/data/data/bike-sharing-demand/train.csv')"
   ]
  },
  {
   "cell_type": "code",
   "execution_count": 210,
   "id": "f5c8fa79",
   "metadata": {},
   "outputs": [
    {
     "data": {
      "text/html": [
       "<div>\n",
       "<style scoped>\n",
       "    .dataframe tbody tr th:only-of-type {\n",
       "        vertical-align: middle;\n",
       "    }\n",
       "\n",
       "    .dataframe tbody tr th {\n",
       "        vertical-align: top;\n",
       "    }\n",
       "\n",
       "    .dataframe thead th {\n",
       "        text-align: right;\n",
       "    }\n",
       "</style>\n",
       "<table border=\"1\" class=\"dataframe\">\n",
       "  <thead>\n",
       "    <tr style=\"text-align: right;\">\n",
       "      <th></th>\n",
       "      <th>datetime</th>\n",
       "      <th>season</th>\n",
       "      <th>holiday</th>\n",
       "      <th>workingday</th>\n",
       "      <th>weather</th>\n",
       "      <th>temp</th>\n",
       "      <th>atemp</th>\n",
       "      <th>humidity</th>\n",
       "      <th>windspeed</th>\n",
       "      <th>casual</th>\n",
       "      <th>registered</th>\n",
       "      <th>count</th>\n",
       "    </tr>\n",
       "  </thead>\n",
       "  <tbody>\n",
       "    <tr>\n",
       "      <th>0</th>\n",
       "      <td>2011-01-01 00:00:00</td>\n",
       "      <td>1</td>\n",
       "      <td>0</td>\n",
       "      <td>0</td>\n",
       "      <td>1</td>\n",
       "      <td>9.84</td>\n",
       "      <td>14.395</td>\n",
       "      <td>81</td>\n",
       "      <td>0.0</td>\n",
       "      <td>3</td>\n",
       "      <td>13</td>\n",
       "      <td>16</td>\n",
       "    </tr>\n",
       "    <tr>\n",
       "      <th>1</th>\n",
       "      <td>2011-01-01 01:00:00</td>\n",
       "      <td>1</td>\n",
       "      <td>0</td>\n",
       "      <td>0</td>\n",
       "      <td>1</td>\n",
       "      <td>9.02</td>\n",
       "      <td>13.635</td>\n",
       "      <td>80</td>\n",
       "      <td>0.0</td>\n",
       "      <td>8</td>\n",
       "      <td>32</td>\n",
       "      <td>40</td>\n",
       "    </tr>\n",
       "    <tr>\n",
       "      <th>2</th>\n",
       "      <td>2011-01-01 02:00:00</td>\n",
       "      <td>1</td>\n",
       "      <td>0</td>\n",
       "      <td>0</td>\n",
       "      <td>1</td>\n",
       "      <td>9.02</td>\n",
       "      <td>13.635</td>\n",
       "      <td>80</td>\n",
       "      <td>0.0</td>\n",
       "      <td>5</td>\n",
       "      <td>27</td>\n",
       "      <td>32</td>\n",
       "    </tr>\n",
       "    <tr>\n",
       "      <th>3</th>\n",
       "      <td>2011-01-01 03:00:00</td>\n",
       "      <td>1</td>\n",
       "      <td>0</td>\n",
       "      <td>0</td>\n",
       "      <td>1</td>\n",
       "      <td>9.84</td>\n",
       "      <td>14.395</td>\n",
       "      <td>75</td>\n",
       "      <td>0.0</td>\n",
       "      <td>3</td>\n",
       "      <td>10</td>\n",
       "      <td>13</td>\n",
       "    </tr>\n",
       "    <tr>\n",
       "      <th>4</th>\n",
       "      <td>2011-01-01 04:00:00</td>\n",
       "      <td>1</td>\n",
       "      <td>0</td>\n",
       "      <td>0</td>\n",
       "      <td>1</td>\n",
       "      <td>9.84</td>\n",
       "      <td>14.395</td>\n",
       "      <td>75</td>\n",
       "      <td>0.0</td>\n",
       "      <td>0</td>\n",
       "      <td>1</td>\n",
       "      <td>1</td>\n",
       "    </tr>\n",
       "  </tbody>\n",
       "</table>\n",
       "</div>"
      ],
      "text/plain": [
       "              datetime  season  holiday  workingday  weather  temp   atemp  \\\n",
       "0  2011-01-01 00:00:00       1        0           0        1  9.84  14.395   \n",
       "1  2011-01-01 01:00:00       1        0           0        1  9.02  13.635   \n",
       "2  2011-01-01 02:00:00       1        0           0        1  9.02  13.635   \n",
       "3  2011-01-01 03:00:00       1        0           0        1  9.84  14.395   \n",
       "4  2011-01-01 04:00:00       1        0           0        1  9.84  14.395   \n",
       "\n",
       "   humidity  windspeed  casual  registered  count  \n",
       "0        81        0.0       3          13     16  \n",
       "1        80        0.0       8          32     40  \n",
       "2        80        0.0       5          27     32  \n",
       "3        75        0.0       3          10     13  \n",
       "4        75        0.0       0           1      1  "
      ]
     },
     "execution_count": 210,
     "metadata": {},
     "output_type": "execute_result"
    }
   ],
   "source": [
    "train.head()"
   ]
  },
  {
   "cell_type": "code",
   "execution_count": 212,
   "id": "e498e0ba",
   "metadata": {},
   "outputs": [
    {
     "name": "stdout",
     "output_type": "stream",
     "text": [
      "<class 'pandas.core.frame.DataFrame'>\n",
      "RangeIndex: 10886 entries, 0 to 10885\n",
      "Data columns (total 12 columns):\n",
      " #   Column      Non-Null Count  Dtype  \n",
      "---  ------      --------------  -----  \n",
      " 0   datetime    10886 non-null  object \n",
      " 1   season      10886 non-null  int64  \n",
      " 2   holiday     10886 non-null  int64  \n",
      " 3   workingday  10886 non-null  int64  \n",
      " 4   weather     10886 non-null  int64  \n",
      " 5   temp        10886 non-null  float64\n",
      " 6   atemp       10886 non-null  float64\n",
      " 7   humidity    10886 non-null  int64  \n",
      " 8   windspeed   10886 non-null  float64\n",
      " 9   casual      10886 non-null  int64  \n",
      " 10  registered  10886 non-null  int64  \n",
      " 11  count       10886 non-null  int64  \n",
      "dtypes: float64(3), int64(8), object(1)\n",
      "memory usage: 1020.7+ KB\n"
     ]
    }
   ],
   "source": [
    "train.info()"
   ]
  },
  {
   "cell_type": "markdown",
   "id": "5c6f05b4",
   "metadata": {},
   "source": [
    "### Step 2. datetime 컬럼을 datetime 자료형으로 변환하고 연, 월, 일, 시, 분, 초까지 6가지 컬럼 생성하기"
   ]
  },
  {
   "cell_type": "code",
   "execution_count": null,
   "id": "8dc42e17",
   "metadata": {},
   "outputs": [],
   "source": [
    "to_datetime 활용 : 링크 참조\n",
    "pandas datetime extract year month day 키워드로 검색해 보기"
   ]
  },
  {
   "cell_type": "code",
   "execution_count": null,
   "id": "7c1159ba",
   "metadata": {},
   "outputs": [],
   "source": []
  },
  {
   "cell_type": "markdown",
   "id": "97199a7f",
   "metadata": {},
   "source": [
    "### Step 3. year, month, day, hour, minute, second 데이터 개수 시각화하기"
   ]
  },
  {
   "cell_type": "code",
   "execution_count": null,
   "id": "c2c47752",
   "metadata": {},
   "outputs": [],
   "source": [
    "sns.countplot 활용해서 시각화하기\n",
    "subplot을 활용해서 한 번에 6개의 그래프 함께 시각화하기"
   ]
  },
  {
   "cell_type": "code",
   "execution_count": null,
   "id": "0aa59808",
   "metadata": {},
   "outputs": [],
   "source": []
  },
  {
   "cell_type": "markdown",
   "id": "400333fa",
   "metadata": {},
   "source": [
    "### Step 4. X, y 컬럼 선택 및 train/test 데이터 분리\n",
    "X(feature) 에는 어떤 데이터 컬럼을 넣어야 될지 고민해 봅시다 \n",
    "데이터 컬럼을 추가하거나 빼면서 잘 조합하여 데이터를 넣기 바랍니다. \n",
    "만일 모든 데이터 컬럼(특징)을 넣는다면 오차 값이 말도 안 되게 적게 나올 수도 있습니다. \n",
    "ex) count를 예측하는데 casual,registered 컬럼이 필요할까요?\n",
    "\n",
    "count 값을 맞추고자 하므로, y 변수에 count 컬럼의 데이터 넣기"
   ]
  },
  {
   "cell_type": "code",
   "execution_count": null,
   "id": "f0b4f00a",
   "metadata": {},
   "outputs": [],
   "source": []
  },
  {
   "cell_type": "markdown",
   "id": "904827bb",
   "metadata": {},
   "source": [
    "### Step 5.  LinearRegression 모델 학습\n",
    "sklearn의 LinearRegression 모델 불러오기 및 학습하기"
   ]
  },
  {
   "cell_type": "code",
   "execution_count": null,
   "id": "7e1565af",
   "metadata": {},
   "outputs": [],
   "source": []
  },
  {
   "cell_type": "markdown",
   "id": "7fe4df66",
   "metadata": {},
   "source": [
    "### Step 6. 학습된 모델로 X_test에 대한 예측값 출력 및 손실함수값 계산\n",
    "학습된 모델에 X_test를 입력해서 예측값 출력하기\n",
    "모델이 예측한 값과 정답 target 간의 손실함수 값 계산하기\n",
    "mse 값과 함께 rmse 값도 계산하기\n"
   ]
  },
  {
   "cell_type": "code",
   "execution_count": null,
   "id": "f0268826",
   "metadata": {},
   "outputs": [],
   "source": []
  },
  {
   "cell_type": "markdown",
   "id": "1555f7d2",
   "metadata": {},
   "source": [
    "### Step 7. x축은 temp 또는 humidity로, y축은 count로 예측 결과 시각화하기"
   ]
  },
  {
   "cell_type": "markdown",
   "id": "823478ea",
   "metadata": {},
   "source": [
    "x축에 X 데이터 중 temp 데이터를, y축에는 count 데이터를 넣어서 시각화하기\n",
    "x축에 X 데이터 중 humidity 데이터를, y축에는 count 데이터를 넣어서 시각화하기"
   ]
  },
  {
   "cell_type": "code",
   "execution_count": null,
   "id": "30e3d061",
   "metadata": {},
   "outputs": [],
   "source": []
  },
  {
   "cell_type": "code",
   "execution_count": null,
   "id": "b593f6c8",
   "metadata": {},
   "outputs": [],
   "source": []
  },
  {
   "cell_type": "markdown",
   "id": "8209cb32",
   "metadata": {},
   "source": [
    "## 7. 회고"
   ]
  },
  {
   "cell_type": "markdown",
   "id": "31392900",
   "metadata": {},
   "source": [
    "### 1. 프로젝트에서 어려웠던 점, 해결을 위해 시도한 방법, 문제해결에 성공한 이유 또는 실패한 이유"
   ]
  },
  {
   "cell_type": "markdown",
   "id": "05fcbb5e",
   "metadata": {},
   "source": [
    "- **프로젝트에서 어려웠던 점**  \n",
    "    1. 자전거 프로젝트를 시간안에 마무리하지 못했습니다. \n",
    "    2. 당뇨병 프로젝트에서 모델 함수 정의, 손실함수, 기울기를 구하는 함수를 만들어보는 부분이 어려웠습니다. \n",
    "\n",
    "\n",
    "- **해결을 위해 시도한 방법**  \n",
    "    노드의 맥북 실습과 팁 실습 내용을 복습하며 이해했습니다.\n",
    "     \n",
    "\n",
    "- **문제해결에 성공한 이유 또는 실패한 이유**  \n",
    "    프로젝트 마감일 전에 프로젝트를 마무리했어야 했는데 미룬 것이 원인입니다."
   ]
  },
  {
   "cell_type": "markdown",
   "id": "146936ac",
   "metadata": {},
   "source": [
    "### 2. 프로젝트를 진행하면서 알아낸 점 혹은 아직 모호한 점"
   ]
  },
  {
   "cell_type": "markdown",
   "id": "aaab7f43",
   "metadata": {},
   "source": [
    "- **프로젝트를 진행하면서 알아낸 점**"
   ]
  },
  {
   "cell_type": "markdown",
   "id": "4fb8bfa2",
   "metadata": {},
   "source": [
    "노드를 학습할 당시에는 손실함수, 경사하강법이 어려웠는데 이번주 노드 학습을 하고 다시 보니 조금 더 이해가 되었습니다."
   ]
  },
  {
   "cell_type": "markdown",
   "id": "38dc8e57",
   "metadata": {},
   "source": [
    "- **아직 모호한 점**"
   ]
  },
  {
   "cell_type": "markdown",
   "id": "a4967ff4",
   "metadata": {},
   "source": [
    "노드에서 '앞으로는 X는 하나의 값이 아닌 12개의 값을 가지는 벡터 이므로, 대문자로 표기하도록 하겠습니다'     \n",
    "라고 했는데 왜 벡터이므로 대문자로 표기하는지가 모호합니다. 더 찾아보려고 합니다."
   ]
  },
  {
   "cell_type": "markdown",
   "id": "50c7a02f",
   "metadata": {},
   "source": [
    "### 3. 자기 다짐, 프로젝트를 진행하면서 느낀 점"
   ]
  },
  {
   "cell_type": "markdown",
   "id": "f41d39e1",
   "metadata": {},
   "source": [
    "프로젝트 2를 마무리 못한게 가장 아쉽습니다.    \n",
    "앞으로는 실제 제출 마감일 하루 전에 제출하도록 하고자 합니다.  "
   ]
  },
  {
   "cell_type": "markdown",
   "id": "9530dd98",
   "metadata": {},
   "source": [
    "## 참고한 레퍼런스"
   ]
  },
  {
   "cell_type": "markdown",
   "id": "d6b29be9",
   "metadata": {},
   "source": [
    "<span style = \"color:gray;\">미분</span>     \n",
    "https://ko.wikipedia.org/wiki/%EB%AF%B8%EB%B6%84\n",
    "\n",
    "<span style = \"color:gray;\">깨봉수학, 미분</span>     \n",
    "https://www.youtube.com/watch?v=t99QiDaFs1c&t=3s"
   ]
  }
 ],
 "metadata": {
  "kernelspec": {
   "display_name": "Python 3 (ipykernel)",
   "language": "python",
   "name": "python3"
  },
  "language_info": {
   "codemirror_mode": {
    "name": "ipython",
    "version": 3
   },
   "file_extension": ".py",
   "mimetype": "text/x-python",
   "name": "python",
   "nbconvert_exporter": "python",
   "pygments_lexer": "ipython3",
   "version": "3.9.7"
  }
 },
 "nbformat": 4,
 "nbformat_minor": 5
}
