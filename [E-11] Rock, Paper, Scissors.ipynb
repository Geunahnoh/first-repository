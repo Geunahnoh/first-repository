{
 "cells": [
  {
   "cell_type": "markdown",
   "id": "812ebd9d",
   "metadata": {},
   "source": [
    "# [AIFFEL_Exploration_11] Rock, Paper, Scissors"
   ]
  },
  {
   "cell_type": "markdown",
   "id": "15fecfda",
   "metadata": {},
   "source": [
    "## 프로젝트 내용\n",
    "직접 촬영한 가위바위보 사진들과 딥러닝 네트워크를 쌓아 가위바위보 분류기 만들기\n",
    "\n",
    "## 목차\n",
    "*1. 가위바위보 분류기 만들기*   \n",
    "2. 결론            \n",
    "3. 회고     \n",
    "4. References    \n",
    "\n",
    "## 글씨 색 표시\n",
    "### <span style = \"color:orange;\">- 노랑: 질문! or 짚고가자!</span>    \n",
    "### <span style = \"color:red;\">- 빨강: 중요 or 특이사항</span>"
   ]
  },
  {
   "cell_type": "code",
   "execution_count": 92,
   "id": "dc3e84ef",
   "metadata": {},
   "outputs": [
    {
     "data": {
      "image/jpeg": "[encoded data removed]",
      "text/plain": [
       "<IPython.core.display.Image object>"
      ]
     },
     "execution_count": 92,
     "metadata": {},
     "output_type": "execute_result"
    }
   ],
   "source": [
    "Image(\"[E-11] images/01.jpg\")"
   ]
  },
  {
   "cell_type": "markdown",
   "id": "4394cc01",
   "metadata": {},
   "source": [
    "# 1. 가위바위보 분류기 만들기 \n",
    "**- Step 1. 필요한 라이브러리 불러오기**    \n",
    "**- Step 2. 데이터 준비하기**  \n",
    "2-1. 데이터 만들기(teachablemachine 웹사이트 활용, 가위바위보 각 100장씩 촬영)    \n",
    "2-2. 디렉토리 만들기    \n",
    "2-3. 이미지 업로드     \n",
    "2-4. 클라우드 이미지 압축 해제    \n",
    "**- Step 3. 데이터 전처리**    \n",
    "3-1. 데이터 resize 하기    \n",
    "3-2. load_data로 데이터 불러오기     \n",
    "3-3. 잘 불러와졌는지 예시 이미지 데이터 시각화하기     \n",
    "**- Step 4. 딥러닝 네트워크 설계, 컴파일, 훈련시키기(1번째 시도)**    \n",
    "**- Step 5. 모델의 성능 평가하기**    \n",
    "5-1. test data resize, 데이터 불러오기   \n",
    "5-2. model.evaluate()로 성능 평가, test accuracy 측정      \n",
    "**- Step 6. model.predict()으로 잘못 추론한 데이터들 확인**      \n",
    "**- Step 7. 1번째 시도 결론**    \n",
    "**- Step 8. 정확도를 올리기 위해서, 더 좋은 네트워크를 만들기 위해서 할 수 있는 것!**    \n",
    "**- Step 9. 2번째 시도_훈련 데이터의 양을 늘리기**    \n",
    "**- Step 10. 2번째 시도 결론**     \n",
    "**- Step 11. 3번째 시도_검증데이터 분리**    \n",
    "**- Step 12. 3번째 시도 결론**    \n",
    "**- Step 13. 4번째 시도_하이퍼파라미터 조절**    \n",
    "**- Step 14. 4번째 시도 결론**    "
   ]
  },
  {
   "cell_type": "markdown",
   "id": "0c852ded",
   "metadata": {},
   "source": [
    "### Step 1. 필요한 라이브러리 불러오기"
   ]
  },
  {
   "cell_type": "code",
   "execution_count": 71,
   "id": "ed144c47",
   "metadata": {},
   "outputs": [
    {
     "name": "stdout",
     "output_type": "stream",
     "text": [
      "2.6.0\n",
      "1.21.4\n"
     ]
    }
   ],
   "source": [
    "import tensorflow as tf\n",
    "from tensorflow import keras\n",
    "import numpy as np\n",
    "\n",
    "# tensorflow와 numpy 버전 확인\n",
    "print(tf.__version__)\n",
    "print(np.__version__)"
   ]
  },
  {
   "cell_type": "code",
   "execution_count": 91,
   "id": "e540e6f6",
   "metadata": {},
   "outputs": [
    {
     "name": "stdout",
     "output_type": "stream",
     "text": [
      "Requirement already satisfied: IPython in /opt/conda/lib/python3.9/site-packages (7.28.0)\n",
      "Requirement already satisfied: backcall in /opt/conda/lib/python3.9/site-packages (from IPython) (0.2.0)\n",
      "Requirement already satisfied: decorator in /opt/conda/lib/python3.9/site-packages (from IPython) (4.4.2)\n",
      "Requirement already satisfied: prompt-toolkit!=3.0.0,!=3.0.1,<3.1.0,>=2.0.0 in /opt/conda/lib/python3.9/site-packages (from IPython) (3.0.22)\n",
      "Requirement already satisfied: matplotlib-inline in /opt/conda/lib/python3.9/site-packages (from IPython) (0.1.3)\n",
      "Requirement already satisfied: traitlets>=4.2 in /opt/conda/lib/python3.9/site-packages (from IPython) (5.1.1)\n",
      "Requirement already satisfied: pickleshare in /opt/conda/lib/python3.9/site-packages (from IPython) (0.7.5)\n",
      "Requirement already satisfied: jedi>=0.16 in /opt/conda/lib/python3.9/site-packages (from IPython) (0.18.1)\n",
      "Requirement already satisfied: pexpect>4.3 in /opt/conda/lib/python3.9/site-packages (from IPython) (4.8.0)\n",
      "Requirement already satisfied: pygments in /opt/conda/lib/python3.9/site-packages (from IPython) (2.10.0)\n",
      "Requirement already satisfied: setuptools>=18.5 in /opt/conda/lib/python3.9/site-packages (from IPython) (59.4.0)\n",
      "Requirement already satisfied: parso<0.9.0,>=0.8.0 in /opt/conda/lib/python3.9/site-packages (from jedi>=0.16->IPython) (0.8.3)\n",
      "Requirement already satisfied: ptyprocess>=0.5 in /opt/conda/lib/python3.9/site-packages (from pexpect>4.3->IPython) (0.7.0)\n",
      "Requirement already satisfied: wcwidth in /opt/conda/lib/python3.9/site-packages (from prompt-toolkit!=3.0.0,!=3.0.1,<3.1.0,>=2.0.0->IPython) (0.2.5)\n",
      "\u001b[33mWARNING: Running pip as the 'root' user can result in broken permissions and conflicting behaviour with the system package manager. It is recommended to use a virtual environment instead: https://pip.pypa.io/warnings/venv\u001b[0m\n"
     ]
    }
   ],
   "source": [
    "!pip install IPython # 주피터에 이미지를 넣기 위해 패키지 설치 \n",
    "from IPython.display import Image"
   ]
  },
  {
   "cell_type": "code",
   "execution_count": 28,
   "id": "665d8626",
   "metadata": {},
   "outputs": [
    {
     "name": "stdout",
     "output_type": "stream",
     "text": [
      "PIL 라이브러리 import 완료!\n"
     ]
    }
   ],
   "source": [
    "from PIL import Image\n",
    "import glob\n",
    "import os\n",
    "\n",
    "print(\"PIL 라이브러리 import 완료!\")"
   ]
  },
  {
   "cell_type": "markdown",
   "id": "dffd2cdb",
   "metadata": {},
   "source": [
    "### Step 2. 데이터 준비하기\n",
    "2-1. 데이터 만들기(teachablemachine 웹사이트 활용, 가위바위보 각 100장씩 촬영)    \n",
    "2-2. 디렉토리 만들기    \n",
    "2-3. 이미지 업로드     \n",
    "2-4. 클라우드 이미지 압축 해제"
   ]
  },
  {
   "cell_type": "markdown",
   "id": "fd2b6f22",
   "metadata": {},
   "source": [
    "### Step 2-2. 디렉토리 만들기\n",
    "클라우드에 실습용 디렉토리 rock_scissor_paper 및 하위 디렉토리들을 만들어, 데이터셋 업로드하기\n",
    "\n",
    "### **<span style = \"color:red;\">노드 인용_디렉토리 만들 때의 명령어</span>**"
   ]
  },
  {
   "cell_type": "code",
   "execution_count": null,
   "id": "9c9605b2",
   "metadata": {},
   "outputs": [],
   "source": [
    "# $ mkdir -p ~/aiffel/rock_scissor_paper/scissor                  \n",
    "# $ mkdir -p ~/aiffel/rock_scissor_paper/rock         \n",
    "# $ mkdir -p ~/aiffel/rock_scissor_paper/paper       \n",
    " \n",
    "# $ ls -l ~/aiffel/rock_scissor_paper    "
   ]
  },
  {
   "cell_type": "markdown",
   "id": "988dfac8",
   "metadata": {},
   "source": [
    "### **<span style = \"color:red;\">노드 인용_리눅스에서의 mkdir -p 명령어의 의미</span>**\n",
    "\n",
    "**mkdir -p**   \n",
    "mkdir를 사용하여 하위 디렉토리를 생성할때 차례대로 만들지 않고, 중간 디렉토리 없이 바로 그 다음 하위 디렉토리를 만들게 되면     \n",
    "**\"디렉토리를 생성할 수 없습니다.\"** 라는 메시지가 나온다고 한다.    \n",
    "이 때 -p 옵션을 주어 생성하게 되면 자동으로 중간 단계의 디렉토리를 생성하면서 그 하위 디렉토리를 생성하게 된다."
   ]
  },
  {
   "cell_type": "markdown",
   "id": "f1f8ceb6",
   "metadata": {},
   "source": [
    "### Step 2-3. 이미지 업로드\n",
    "1. Cloud Jupyter를 열기\n",
    "2. rock_scissor_paper/rock 디렉토리로 이동 후, rock.zip을 upload하기\n",
    "3. 가위, 보 데이터도 같은 방법으로 업로드"
   ]
  },
  {
   "cell_type": "code",
   "execution_count": 93,
   "id": "1f70c604",
   "metadata": {},
   "outputs": [
    {
     "data": {
      "image/png": "[encoded data removed]",
      "text/plain": [
       "<IPython.core.display.Image object>"
      ]
     },
     "execution_count": 93,
     "metadata": {},
     "output_type": "execute_result"
    }
   ],
   "source": [
    "# 노드 인용\n",
    "Image(\"[E-11] images/02.PNG\")"
   ]
  },
  {
   "cell_type": "markdown",
   "id": "c7e2869f",
   "metadata": {},
   "source": [
    "### Step 2-4. 클라우드 이미지 압축 해제\n",
    "Cloud Shell 열고 아래 명령어 입력하기"
   ]
  },
  {
   "cell_type": "code",
   "execution_count": 8,
   "id": "6f61a422",
   "metadata": {},
   "outputs": [
    {
     "data": {
      "image/png": "[encoded data removed]",
      "text/plain": [
       "<IPython.core.display.Image object>"
      ]
     },
     "execution_count": 8,
     "metadata": {},
     "output_type": "execute_result"
    }
   ],
   "source": [
    "# 노드 인용\n",
    "Image(\"[E-11] images/03.PNG\")"
   ]
  },
  {
   "cell_type": "markdown",
   "id": "77f3dba7",
   "metadata": {},
   "source": [
    "### Step 3. 데이터 전처리\n",
    "\n",
    "3-1. 데이터 resize 하기    \n",
    "3-2. load_data로 데이터 불러오기     \n",
    "3-3. 데이터가 잘 불러와졌는지 예시 이미지 데이터 시각화하기    \n",
    "\n",
    "가위바위보 이미지도 숫자 mnist 데이터처럼 28x28 사이즈로 만들어준다.    \n",
    "이를 위해 PIL 라이브러리 사용(Step 1에서 불러옴)"
   ]
  },
  {
   "cell_type": "markdown",
   "id": "9f424405",
   "metadata": {},
   "source": [
    "### **<span style = \"color:orange;\">PIL 라이브러리가 뭐에요?</span>**\n",
    "\n",
    "Python Imaging Library(PIL)은 파이썬 인터프리터에 다양한 이미지 파일 형식을 지원하고     \n",
    "강력한 이미지 처리와 그래픽 기능을 제공하는 자유-오픈 소스 소프트웨어 라이브러리이다.     \n",
    "줄여서 PIL이라고 부른다.    \n",
    "[출처: https://ko.wikipedia.org/wiki/Python_Imaging_Library]"
   ]
  },
  {
   "cell_type": "markdown",
   "id": "ad5fe450",
   "metadata": {},
   "source": [
    "### Step 3-1. 데이터 resize하기\n",
    "노드에서 만들어 준 resize_images() 함수"
   ]
  },
  {
   "cell_type": "code",
   "execution_count": 30,
   "id": "2ccf85c6",
   "metadata": {},
   "outputs": [
    {
     "name": "stdout",
     "output_type": "stream",
     "text": [
      "565  images to be resized.\n",
      "565  images resized.\n",
      "가위 이미지 resize 완료!\n",
      "565  images to be resized.\n",
      "565  images resized.\n",
      "바위 이미지 resize 완료!\n",
      "565  images to be resized.\n",
      "565  images resized.\n",
      "보 이미지 resize 완료!\n"
     ]
    }
   ],
   "source": [
    "def resize_images(img_path):\n",
    "\timages=glob.glob(img_path + \"/*.jpg\")  \n",
    "    \n",
    "\tprint(len(images), \" images to be resized.\")\n",
    "\n",
    "    # 파일마다 모두 28x28 사이즈로 바꾸어 저장\n",
    "\ttarget_size=(28,28)\n",
    "\tfor img in images:\n",
    "\t\told_img=Image.open(img)\n",
    "\t\tnew_img=old_img.resize(target_size,Image.ANTIALIAS)\n",
    "\t\tnew_img.save(img, \"JPEG\")\n",
    "    \n",
    "\tprint(len(images), \" images resized.\")\n",
    "\t\n",
    "# 가위 이미지가 저장된 디렉토리 아래의 모든 jpg 파일을 읽어들여서\n",
    "image_dir_path = os.getenv(\"HOME\") + \"/aiffel/rock_scissor_paper/scissor\"\n",
    "resize_images(image_dir_path)\n",
    "\n",
    "print(\"가위 이미지 resize 완료!\")\n",
    "\n",
    "# 바위 이미지가 저장된 디렉토리 아래의 모든 jpg 파일을 읽어들여서\n",
    "image_dir_path = os.getenv(\"HOME\") + \"/aiffel/rock_scissor_paper/rock\"\n",
    "resize_images(image_dir_path)\n",
    "\n",
    "print(\"바위 이미지 resize 완료!\")\n",
    "\n",
    "# 보 이미지가 저장된 디렉토리 아래의 모든 jpg 파일을 읽어들여서\n",
    "image_dir_path = os.getenv(\"HOME\") + \"/aiffel/rock_scissor_paper/paper\"\n",
    "resize_images(image_dir_path)\n",
    "\n",
    "print(\"보 이미지 resize 완료!\")"
   ]
  },
  {
   "cell_type": "markdown",
   "id": "73f4af67",
   "metadata": {},
   "source": [
    "### **<span style = \"color:red;\">현재 x_train data의 개수 : 가위, 바위, 보 각각 565장씩</span>**"
   ]
  },
  {
   "cell_type": "markdown",
   "id": "41427873",
   "metadata": {},
   "source": [
    "### **<span style = \"color:orange;\">images=glob.glob에서 glob가 뭐에요?</span>**\n",
    "\n",
    "PIL에서 glob()는 glob라는 모듈의 일부이다.    \n",
    "glob 모듈은 와일드카드를 활용하는 특정한 패턴과 일치하는 파일 이름이나 경로를 검색/회수하는 방법을 제공한다.    \n",
    "그래서 glob를 사용하면, 한 디렉토리에 있는 많은 이미지 파일들을 따로 리스트화하지 않고 처리할 수 있다.    \n",
    "[출처: ChatGPT]\n",
    "\n",
    "#### **<span style = \"color:red;\">아하!</span>**     \n",
    "특정 파일 이름 패턴을 가진 파일들을 불러오고 싶을 때 glob 모듈의 glob()를 사용할 수 있는 것 같다."
   ]
  },
  {
   "cell_type": "code",
   "execution_count": 5,
   "id": "b394bbfb",
   "metadata": {},
   "outputs": [
    {
     "data": {
      "image/png": "[encoded data removed]",
      "text/plain": [
       "<IPython.core.display.Image object>"
      ]
     },
     "execution_count": 5,
     "metadata": {},
     "output_type": "execute_result"
    }
   ],
   "source": [
    "Image(\"[E-11] images/04.PNG\")"
   ]
  },
  {
   "cell_type": "code",
   "execution_count": 6,
   "id": "cc79509c",
   "metadata": {},
   "outputs": [
    {
     "data": {
      "image/png": "[encoded data removed]",
      "text/plain": [
       "<IPython.core.display.Image object>"
      ]
     },
     "execution_count": 6,
     "metadata": {},
     "output_type": "execute_result"
    }
   ],
   "source": [
    "Image(\"[E-11] images/05.PNG\")"
   ]
  },
  {
   "cell_type": "markdown",
   "id": "ba0da298",
   "metadata": {},
   "source": [
    "### Step 3-2. load_data로 데이터 불러오기 \n",
    "노드에서 만들어 준 load_data() 함수  \n",
    "\n",
    "노드의 내용을 정리해보면    \n",
    "**load_data() 함수는 입력으로 이미지가 있는 폴더 위치를 받는다고 한다.**    \n",
    "\n",
    "\n",
    "그래서 여기에서는 rock_scissor_paper 폴더 위치를 적어준다.    \n",
    "또한, 숫자 손글씨 mnist는 0~9까지의 숫자를 분류하는 것이므로 10개의 클래스를 만들어주었다면,    \n",
    "가위바위보의 경우에는 3개의 클래스, **가위: 0, 바위: 1, 보:2**로 라벨링을 해준다."
   ]
  },
  {
   "cell_type": "code",
   "execution_count": 31,
   "id": "cad15f2f",
   "metadata": {},
   "outputs": [
    {
     "name": "stdout",
     "output_type": "stream",
     "text": [
      "학습데이터(x_train)의 이미지 개수는 1695 입니다.\n",
      "x_train shape: (1695, 28, 28, 3)\n",
      "y_train shape: (1695,)\n"
     ]
    }
   ],
   "source": [
    "import numpy as np\n",
    "\n",
    "def load_data(img_path, number_of_data=1695):  # 가위바위보 이미지 개수 총합에 주의\n",
    "    # 가위 : 0, 바위 : 1, 보 : 2로 설정\n",
    "    img_size=28 # 위에서 이미지 size를 28*28로 resize\n",
    "    color=3\n",
    "    #이미지 데이터와 라벨(가위 : 0, 바위 : 1, 보 : 2) 데이터를 담을 행렬(matrix) 영역을 생성\n",
    "    imgs=np.zeros(number_of_data*img_size*img_size*color,dtype=np.int32).reshape(number_of_data,img_size,img_size,color)\n",
    "    labels=np.zeros(number_of_data,dtype=np.int32) # 여기에서 np.zeros 함수를 사용한 것 눈여겨 보기\n",
    "\n",
    "    idx=0\n",
    "    for file in glob.iglob(img_path+'/scissor/*.jpg'):\n",
    "        img = np.array(Image.open(file),dtype=np.int32)\n",
    "        imgs[idx,:,:,:]=img    # 데이터 영역에 이미지 행렬을 복사\n",
    "        labels[idx]=0   # 가위 : 0\n",
    "        idx=idx+1\n",
    "\n",
    "    for file in glob.iglob(img_path+'/rock/*.jpg'):\n",
    "        img = np.array(Image.open(file),dtype=np.int32)\n",
    "        imgs[idx,:,:,:]=img    # 데이터 영역에 이미지 행렬을 복사\n",
    "        labels[idx]=1   # 바위 : 1\n",
    "        idx=idx+1  \n",
    "    \n",
    "    for file in glob.iglob(img_path+'/paper/*.jpg'):\n",
    "        img = np.array(Image.open(file),dtype=np.int32)\n",
    "        imgs[idx,:,:,:]=img    # 데이터 영역에 이미지 행렬을 복사\n",
    "        labels[idx]=2   # 보 : 2\n",
    "        idx=idx+1\n",
    "        \n",
    "    print(\"학습데이터(x_train)의 이미지 개수는\", idx,\"입니다.\")\n",
    "    return imgs, labels\n",
    "\n",
    "image_dir_path = os.getenv(\"HOME\") + \"/aiffel/rock_scissor_paper\"\n",
    "(x_train, y_train)=load_data(image_dir_path)\n",
    "\n",
    "# x_train_norm = x_train/255.0   # 입력은 0~1 사이의 값으로 정규화\n",
    "\n",
    "print(\"x_train shape: {}\".format(x_train.shape))\n",
    "print(\"y_train shape: {}\".format(y_train.shape))\n",
    "# print(\"x_train shape: {}\".format(x_train_norm.shape))"
   ]
  },
  {
   "cell_type": "markdown",
   "id": "81d3f8c1",
   "metadata": {},
   "source": [
    "### **<span style = \"color:red;\">위 코드에서 number_of_data= Train data의 사진 개수 변경해가며 꼭 써주기!</span>**     \n",
    "데이터의 개수를 늘려가며 점점 더 더해줄 때 위 load_data 함수 안에서    \n",
    "**number_of_data=1695**    \n",
    "숫자 꼭! 바꿔주기\n",
    "\n",
    "처음에는 300으로 되어있었다.    \n",
    "바꾸지 않으니 06.png 에러가 났다   \n",
    "\n",
    "07 08 업로드 하기"
   ]
  },
  {
   "cell_type": "markdown",
   "id": "e55c23db",
   "metadata": {},
   "source": [
    "### **<span style = \"color:orange;\">np.zeros() 함수란?</span>**     \n",
    "\n",
    "**numpy.zeros(shape, dtype=float, order='C', *, like=None)** \n",
    "\n",
    "Return a new array of given shape and type, filled with zeros.    \n",
    "설정한 shape과 type의 0으로 채워진 array를 만들어 주는 함수     \n",
    "\n",
    "예: np.zeros(5)    \n",
    "-> array([0., 0., 0., 0., 0.])\n",
    "\n",
    "np.zeros((2, 1))    \n",
    "-> array([[0.],    \n",
    "             [0.]])\n",
    "             \n",
    "[출처: https://numpy.org/doc/stable/reference/generated/numpy.zeros.html]"
   ]
  },
  {
   "cell_type": "markdown",
   "id": "20105ecb",
   "metadata": {},
   "source": [
    "### **<span style = \"color:orange;\">왜 x_train_norm = x_train/255.0 에서 입력을 0~1 사이의 값으로 정규화를 해주었을까?</span>**   \n",
    "\n",
    "노드의 숫자 mnist 예시를 보면, 해당 데이터로도 255로 나누어 숫자 mnist 데이터들을 정규화해준다.    \n",
    "숫자 손글씨 이미지의 실제 픽셀값은 0~255 사이의 값을 가진다.\n",
    "\n",
    "#### 28x28로 resize한 가위바위보 데이터의 픽셀값도 0~255의 값을 가지는지 확인해보자"
   ]
  },
  {
   "cell_type": "code",
   "execution_count": 32,
   "id": "c5f84ae1",
   "metadata": {},
   "outputs": [
    {
     "name": "stdout",
     "output_type": "stream",
     "text": [
      "최소값: 0  최대값: 255\n"
     ]
    }
   ],
   "source": [
    "# 노드 인용\n",
    "print('최소값:',np.min(x_train), ' 최대값:',np.max(x_train))"
   ]
  },
  {
   "cell_type": "markdown",
   "id": "f70f8e19",
   "metadata": {},
   "source": [
    "### **<span style = \"color:red;\">오호 이것으로써 가위바위보 데이터도 0-255의 값을 가지는 것을 알 수 있다</span>**   \n",
    "\n",
    "만약 resize하기 전이라면?   \n",
    "그래도 0-255 범위일까?(추후 더 알아보자)   "
   ]
  },
  {
   "cell_type": "markdown",
   "id": "1b881e2d",
   "metadata": {},
   "source": [
    "노드에서는 인공지능 모델을 훈련시키고 사용할 때, 일반적으로 입력은 0~1 사이의 값으로 정규화 시켜주는 것이 좋다고 쓰여있다.\n",
    "\n",
    "**정규화를 하는 이유?**    \n",
    "**정규화의 효과**    \n",
    "정규화는 데이터의 최대값을 1, 최소값을 0으로 두어 모든 데이터가 0~1 사이에 위치하도록 변환하는 것이다.    \n",
    "정규화는 특성 벡터의 길이는 상관없고, 데이터의 방향만이 중요할 때 많이 사용한다.    \n",
    "대표적으로 scikit-learn에서 MinMaxScaler가 있다.    \n",
    "\n",
    "\n",
    "그래서    \n",
    "가위바위보 데이터도 숫자 mnist 데이터처럼 각 픽셀의 값이 0~255 사이 범위에 있으므로 데이터들을 255.0으로 나누어준다.    \n",
    "그래서 255로 나누어 주는 것!   \n",
    " \n",
    "이렇게 255로 나누어주면   \n",
    "최소값이 0, 최대값이 1에 근접하도록 나온다.   \n",
    "\n",
    "진짜 그렇게 나오는지 확인해보려면      "
   ]
  },
  {
   "cell_type": "code",
   "execution_count": 33,
   "id": "fa65e0ce",
   "metadata": {},
   "outputs": [
    {
     "name": "stdout",
     "output_type": "stream",
     "text": [
      "x_train shape: (1695, 28, 28, 3)\n"
     ]
    }
   ],
   "source": [
    "# 아까 load_data() 함수에서 주석처리한 부분\n",
    "x_train_norm = x_train/255.0   # 입력은 0~1 사이의 값으로 정규화\n",
    "\n",
    "print(\"x_train shape: {}\".format(x_train_norm.shape))"
   ]
  },
  {
   "cell_type": "code",
   "execution_count": 34,
   "id": "1a298637",
   "metadata": {},
   "outputs": [
    {
     "name": "stdout",
     "output_type": "stream",
     "text": [
      "최소값: 0.0  최대값: 1.0\n"
     ]
    }
   ],
   "source": [
    "# 노드 인용\n",
    "\n",
    "print('최소값:',np.min(x_train_norm), ' 최대값:',np.max(x_train_norm))"
   ]
  },
  {
   "cell_type": "markdown",
   "id": "688e852d",
   "metadata": {},
   "source": [
    "#### **<span style = \"color:red;\">이렇게 255로 나누어주면 최소값이 0, 최대값이 1에 근접하도록 나오는 것을 알 수 있다</span>**  "
   ]
  },
  {
   "cell_type": "markdown",
   "id": "d1a9c6f9",
   "metadata": {},
   "source": [
    "### Step 3-3. 데이터가 잘 불러와졌는지 예시 이미지 데이터 시각화하기  "
   ]
  },
  {
   "cell_type": "code",
   "execution_count": 35,
   "id": "60c21260",
   "metadata": {},
   "outputs": [
    {
     "name": "stdout",
     "output_type": "stream",
     "text": [
      "라벨:  0\n"
     ]
    },
    {
     "data": {
      "image/png": "[encoded data removed]",
      "text/plain": [
       "<Figure size 432x288 with 1 Axes>"
      ]
     },
     "metadata": {
      "needs_background": "light"
     },
     "output_type": "display_data"
    }
   ],
   "source": [
    "import matplotlib.pyplot as plt\n",
    "\n",
    "plt.imshow(x_train[100])\n",
    "print('라벨: ', y_train[100])"
   ]
  },
  {
   "cell_type": "markdown",
   "id": "a3a2b469",
   "metadata": {},
   "source": [
    "### Step 4. 딥러닝 네트워크 설계, 컴파일, 훈련시키기(1번째 시도)"
   ]
  },
  {
   "cell_type": "code",
   "execution_count": 36,
   "id": "eee3c6cf",
   "metadata": {},
   "outputs": [
    {
     "name": "stdout",
     "output_type": "stream",
     "text": [
      "Model에 추가된 Layer 개수:  7\n",
      "Model: \"sequential_1\"\n",
      "_________________________________________________________________\n",
      "Layer (type)                 Output Shape              Param #   \n",
      "=================================================================\n",
      "conv2d_2 (Conv2D)            (None, 26, 26, 16)        448       \n",
      "_________________________________________________________________\n",
      "max_pooling2d_2 (MaxPooling2 (None, 13, 13, 16)        0         \n",
      "_________________________________________________________________\n",
      "conv2d_3 (Conv2D)            (None, 11, 11, 32)        4640      \n",
      "_________________________________________________________________\n",
      "max_pooling2d_3 (MaxPooling2 (None, 5, 5, 32)          0         \n",
      "_________________________________________________________________\n",
      "flatten_1 (Flatten)          (None, 800)               0         \n",
      "_________________________________________________________________\n",
      "dense_2 (Dense)              (None, 32)                25632     \n",
      "_________________________________________________________________\n",
      "dense_3 (Dense)              (None, 3)                 99        \n",
      "=================================================================\n",
      "Total params: 30,819\n",
      "Trainable params: 30,819\n",
      "Non-trainable params: 0\n",
      "_________________________________________________________________\n"
     ]
    }
   ],
   "source": [
    "# model의 입력/출력부에 특히 유의하기\n",
    "model=keras.models.Sequential()\n",
    "model.add(keras.layers.Conv2D(16, (3,3), activation='relu', input_shape=(28,28,3)))\n",
    "model.add(keras.layers.MaxPool2D(2,2))\n",
    "model.add(keras.layers.Conv2D(32, (3,3), activation='relu'))\n",
    "model.add(keras.layers.MaxPooling2D((2,2)))\n",
    "model.add(keras.layers.Flatten())\n",
    "model.add(keras.layers.Dense(32, activation='relu'))\n",
    "model.add(keras.layers.Dense(3, activation='softmax'))\n",
    "\n",
    "print('Model에 추가된 Layer 개수: ', len(model.layers))\n",
    "\n",
    "model.summary()"
   ]
  },
  {
   "cell_type": "markdown",
   "id": "eb86a8cf",
   "metadata": {},
   "source": [
    "#### **<span style = \"color:red;\">노드에서 숫자 mnist 딥러닝 모델을 설계할 때와 이번에는 어떤 부분이 다른지?</span>**   \n",
    "\n",
    "**1. input_shape의 채널수**    \n",
    "input_shape=(28,28,1) -> input_shape=(28,28,3)    \n",
    "흑백 -> 칼라이미지    \n",
    "    \n",
    "**2. Dense 레이어에서 출력층의 유닛의 수**    \n",
    "model.add(keras.layers.Dense(10, activation='softmax'))    \n",
    "model.add(keras.layers.Dense(3, activation='softmax'))    \n",
    "출력층에서 분류해야하는 클래스의 수 10개(숫자 10개)에서 3개(가위, 바위, 보)로 변경됨    "
   ]
  },
  {
   "cell_type": "code",
   "execution_count": 37,
   "id": "00521d0a",
   "metadata": {},
   "outputs": [
    {
     "name": "stdout",
     "output_type": "stream",
     "text": [
      "Epoch 1/10\n",
      "53/53 [==============================] - 41s 5ms/step - loss: 1.0169 - accuracy: 0.4897\n",
      "Epoch 2/10\n",
      "53/53 [==============================] - 0s 3ms/step - loss: 0.7553 - accuracy: 0.6885\n",
      "Epoch 3/10\n",
      "53/53 [==============================] - 0s 3ms/step - loss: 0.5281 - accuracy: 0.7894\n",
      "Epoch 4/10\n",
      "53/53 [==============================] - 0s 3ms/step - loss: 0.4163 - accuracy: 0.8425\n",
      "Epoch 5/10\n",
      "53/53 [==============================] - 0s 3ms/step - loss: 0.3683 - accuracy: 0.8496\n",
      "Epoch 6/10\n",
      "53/53 [==============================] - 0s 3ms/step - loss: 0.2852 - accuracy: 0.8920\n",
      "Epoch 7/10\n",
      "53/53 [==============================] - 0s 3ms/step - loss: 0.2394 - accuracy: 0.9038\n",
      "Epoch 8/10\n",
      "53/53 [==============================] - 0s 3ms/step - loss: 0.2024 - accuracy: 0.9286\n",
      "Epoch 9/10\n",
      "53/53 [==============================] - 0s 3ms/step - loss: 0.1680 - accuracy: 0.9451\n",
      "Epoch 10/10\n",
      "53/53 [==============================] - 0s 3ms/step - loss: 0.1323 - accuracy: 0.9599\n"
     ]
    },
    {
     "data": {
      "text/plain": [
       "<keras.callbacks.History at 0x7fa3cc493df0>"
      ]
     },
     "execution_count": 37,
     "metadata": {},
     "output_type": "execute_result"
    }
   ],
   "source": [
    "model.compile(optimizer='adam',\n",
    "             loss='sparse_categorical_crossentropy',\n",
    "             metrics=['accuracy'])\n",
    "\n",
    "model.fit(x_train_norm, y_train, epochs=10)"
   ]
  },
  {
   "cell_type": "markdown",
   "id": "508cac9b",
   "metadata": {},
   "source": [
    "### Step 5. 모델의 성능 평가하기\n",
    "5-1. test data resize, 데이터 불러오기    \n",
    "5-2. model.evaluate()로 성능 평가, test accuracy 측정"
   ]
  },
  {
   "cell_type": "markdown",
   "id": "2414e863",
   "metadata": {},
   "source": [
    "### Step 5-1. test data resize\n",
    "test 데이터의 수: 100개씩, 총 300장"
   ]
  },
  {
   "cell_type": "code",
   "execution_count": 38,
   "id": "47d1a0f3",
   "metadata": {},
   "outputs": [
    {
     "name": "stdout",
     "output_type": "stream",
     "text": [
      "100  images to be resized.\n",
      "100  images resized.\n",
      "가위 이미지 resize 완료!\n",
      "100  images to be resized.\n",
      "100  images resized.\n",
      "바위 이미지 resize 완료!\n",
      "100  images to be resized.\n",
      "100  images resized.\n",
      "보 이미지 resize 완료!\n"
     ]
    }
   ],
   "source": [
    "def resize_images(img_path):\n",
    "\timages=glob.glob(img_path + \"/*.jpg\")  \n",
    "    \n",
    "\tprint(len(images), \" images to be resized.\")\n",
    "\n",
    "    # 파일마다 모두 28x28 사이즈로 바꾸어 저장합니다.\n",
    "\ttarget_size=(28,28)\n",
    "\tfor img in images:\n",
    "\t\told_img=Image.open(img)\n",
    "\t\tnew_img=old_img.resize(target_size,Image.ANTIALIAS)\n",
    "\t\tnew_img.save(img, \"JPEG\")\n",
    "    \n",
    "\tprint(len(images), \" images resized.\")\n",
    "\t\n",
    "# 가위 이미지가 저장된 디렉토리 아래의 모든 jpg 파일을 읽어들여서\n",
    "image_dir_path = os.getenv(\"HOME\") + \"/aiffel/rock_scissor_paper/test/Test_1/scissor\"\n",
    "resize_images(image_dir_path)\n",
    "\n",
    "print(\"가위 이미지 resize 완료!\")\n",
    "\n",
    "# 바위 이미지가 저장된 디렉토리 아래의 모든 jpg 파일을 읽어들여서\n",
    "image_dir_path = os.getenv(\"HOME\") + \"/aiffel/rock_scissor_paper/test/Test_1/rock\"\n",
    "resize_images(image_dir_path)\n",
    "\n",
    "print(\"바위 이미지 resize 완료!\")\n",
    "\n",
    "# 보 이미지가 저장된 디렉토리 아래의 모든 jpg 파일을 읽어들여서\n",
    "image_dir_path = os.getenv(\"HOME\") + \"/aiffel/rock_scissor_paper/test/Test_1/paper\"\n",
    "resize_images(image_dir_path)\n",
    "\n",
    "print(\"보 이미지 resize 완료!\")"
   ]
  },
  {
   "cell_type": "code",
   "execution_count": 39,
   "id": "8b5dbeb7",
   "metadata": {},
   "outputs": [
    {
     "name": "stdout",
     "output_type": "stream",
     "text": [
      "학습데이터(x_train)의 이미지 개수는 300 입니다.\n",
      "x_test shape: (300, 28, 28, 3)\n",
      "y_test shape: (300,)\n",
      "x_test shape: (300, 28, 28, 3)\n"
     ]
    }
   ],
   "source": [
    "def load_data(img_path, number_of_data=300):  # 가위바위보 이미지 개수 총합에 주의하기!!!\n",
    "    # 가위 : 0, 바위 : 1, 보 : 2\n",
    "    img_size=28\n",
    "    color=3\n",
    "    #이미지 데이터와 라벨(가위 : 0, 바위 : 1, 보 : 2) 데이터를 담을 행렬(matrix) 영역을 생성\n",
    "    imgs=np.zeros(number_of_data*img_size*img_size*color,dtype=np.int32).reshape(number_of_data,img_size,img_size,color)\n",
    "    labels=np.zeros(number_of_data,dtype=np.int32)\n",
    "\n",
    "    idx=0\n",
    "    for file in glob.iglob(img_path+'/scissor/*.jpg'):\n",
    "        img = np.array(Image.open(file),dtype=np.int32)\n",
    "        imgs[idx,:,:,:]=img    # 데이터 영역에 이미지 행렬을 복사\n",
    "        labels[idx]=0   # 가위 : 0\n",
    "        idx=idx+1\n",
    "\n",
    "    for file in glob.iglob(img_path+'/rock/*.jpg'):\n",
    "        img = np.array(Image.open(file),dtype=np.int32)\n",
    "        imgs[idx,:,:,:]=img    # 데이터 영역에 이미지 행렬을 복사\n",
    "        labels[idx]=1   # 바위 : 1\n",
    "        idx=idx+1  \n",
    "    \n",
    "    for file in glob.iglob(img_path+'/paper/*.jpg'):\n",
    "        img = np.array(Image.open(file),dtype=np.int32)\n",
    "        imgs[idx,:,:,:]=img    # 데이터 영역에 이미지 행렬을 복사\n",
    "        labels[idx]=2   # 보 : 2\n",
    "        idx=idx+1\n",
    "        \n",
    "    print(\"학습데이터(x_train)의 이미지 개수는\", idx,\"입니다.\")\n",
    "    return imgs, labels\n",
    "\n",
    "image_dir_path = os.getenv(\"HOME\") + \"/aiffel/rock_scissor_paper/test/Test_1\"\n",
    "(x_test, y_test)=load_data(image_dir_path)\n",
    "x_test_norm = x_test/255.0   # 입력 여기에서도 0~1 사이의 값으로 정규화\n",
    "\n",
    "print(\"x_test shape: {}\".format(x_test.shape))\n",
    "print(\"y_test shape: {}\".format(y_test.shape))\n",
    "print(\"x_test shape: {}\".format(x_test_norm.shape))"
   ]
  },
  {
   "cell_type": "markdown",
   "id": "95c45342",
   "metadata": {},
   "source": [
    "### Step 5-2. model.evaluate()로 성능 평가, test accuracy 측정"
   ]
  },
  {
   "cell_type": "code",
   "execution_count": 40,
   "id": "53e283c2",
   "metadata": {},
   "outputs": [
    {
     "name": "stdout",
     "output_type": "stream",
     "text": [
      "10/10 - 0s - loss: 1.3050 - accuracy: 0.5733\n",
      "test_loss: 1.3049925565719604\n",
      "test_accuracy: 0.5733333230018616\n"
     ]
    }
   ],
   "source": [
    "test_loss, test_accuracy = model.evaluate(x_test_norm, y_test, verbose=2)\n",
    "print(f\"test_loss: {test_loss}\")\n",
    "print(f\"test_accuracy: {test_accuracy}\")"
   ]
  },
  {
   "cell_type": "markdown",
   "id": "d121ca9a",
   "metadata": {},
   "source": [
    "### Step 6. model.predict()으로 잘못 추론한 데이터들 확인\n",
    "어떤 데이터를 잘못 추론했는지 확인해볼 수 있다.   \n",
    "\n",
    "노드에서는   \n",
    "model.predict()을 사용하면    \n",
    "model이 입력값을 보고 실제로 추론한 확률분포를 출력할 수 있다고 한다.    \n",
    "\n",
    "우리가 만든 모델은 3가지 가위바위보 중 어느 것일지에 대한 확률값을 출력하는 함수이다.    \n",
    "그래서 이 함수의 출력값, 즉 확률값이 가장 높은 숫자가 바로 모델이 추론한 가위/바위/보의 클래스 번호가 되는 것이다.   "
   ]
  },
  {
   "cell_type": "code",
   "execution_count": 41,
   "id": "21645873",
   "metadata": {},
   "outputs": [
    {
     "name": "stdout",
     "output_type": "stream",
     "text": [
      "model.predict() 결과 :  [0.68971485 0.01306144 0.29722366]\n",
      "model이 추론한 가장 가능성이 높은 결과 :  0\n",
      "실제 데이터의 라벨 :  0\n"
     ]
    }
   ],
   "source": [
    "predicted_result = model.predict(x_test_norm)  # model이 추론한 확률값. \n",
    "predicted_labels = np.argmax(predicted_result, axis=1)\n",
    "\n",
    "idx=0  #1번째 x_test를 살펴보자. \n",
    "print('model.predict() 결과 : ', predicted_result[idx])\n",
    "print('model이 추론한 가장 가능성이 높은 결과 : ', predicted_labels[idx])\n",
    "print('실제 데이터의 라벨 : ', y_test[idx])"
   ]
  },
  {
   "cell_type": "markdown",
   "id": "e29df6ad",
   "metadata": {},
   "source": [
    "#### **<span style = \"color:red;\">의미</span>**   \n",
    "노드에서 model.predict() 결과가  [0.68971485 0.01306144 0.29722366] 와 같이 벡터 형태로 나오는 것이 의미하는 것은        \n",
    "이 벡터는 model이 추론한 결과가 각각 class 0(가위), class 1(바위), class 2(보)일 확률을 의미한다.        \n",
    "\n",
    "이 경우라면 model이 추론한 결과가 클래스 0일 확률이 제일 높다.    \n",
    "즉 이 model은 입력한 이미지가 클래스 0(가위?)라는 걸 아주 확신하고 있다는 뜻이다.    \n",
    "\n",
    "아래의 함수로 확인할 수 있다고 한다."
   ]
  },
  {
   "cell_type": "code",
   "execution_count": 42,
   "id": "4f44a309",
   "metadata": {},
   "outputs": [
    {
     "data": {
      "image/png": "[encoded data removed]",
      "text/plain": [
       "<Figure size 432x288 with 1 Axes>"
      ]
     },
     "metadata": {
      "needs_background": "light"
     },
     "output_type": "display_data"
    }
   ],
   "source": [
    "# 노드 인용\n",
    "plt.imshow(x_test[idx],cmap=plt.cm.binary)\n",
    "plt.show()"
   ]
  },
  {
   "cell_type": "markdown",
   "id": "ed4ffba7",
   "metadata": {},
   "source": [
    "#### **<span style = \"color:red;\">오 가위이다!</span>**   \n",
    "노드에서는 model이 추론해 낸 숫자와 실제 라벨의 값이 다른 경우는 어떤 경우인지 직접 확인도 가능하다고 한다."
   ]
  },
  {
   "cell_type": "code",
   "execution_count": 43,
   "id": "1fa7c27e",
   "metadata": {},
   "outputs": [
    {
     "name": "stdout",
     "output_type": "stream",
     "text": [
      "예측확률분포: [0.36420813 0.07336863 0.5624232 ]\n",
      "라벨: 1, 예측결과: 2\n"
     ]
    },
    {
     "data": {
      "image/png": "[encoded data removed]",
      "text/plain": [
       "<Figure size 432x288 with 1 Axes>"
      ]
     },
     "metadata": {
      "needs_background": "light"
     },
     "output_type": "display_data"
    },
    {
     "name": "stdout",
     "output_type": "stream",
     "text": [
      "예측확률분포: [0.3490083  0.05234178 0.5986499 ]\n",
      "라벨: 0, 예측결과: 2\n"
     ]
    },
    {
     "data": {
      "image/png": "[encoded data removed]",
      "text/plain": [
       "<Figure size 432x288 with 1 Axes>"
      ]
     },
     "metadata": {
      "needs_background": "light"
     },
     "output_type": "display_data"
    },
    {
     "name": "stdout",
     "output_type": "stream",
     "text": [
      "예측확률분포: [0.62754494 0.04540345 0.32705152]\n",
      "라벨: 1, 예측결과: 0\n"
     ]
    },
    {
     "data": {
      "image/png": "[encoded data removed]",
      "text/plain": [
       "<Figure size 432x288 with 1 Axes>"
      ]
     },
     "metadata": {
      "needs_background": "light"
     },
     "output_type": "display_data"
    },
    {
     "name": "stdout",
     "output_type": "stream",
     "text": [
      "예측확률분포: [0.37031755 0.0296469  0.6000356 ]\n",
      "라벨: 1, 예측결과: 2\n"
     ]
    },
    {
     "data": {
      "image/png": "[encoded data removed]",
      "text/plain": [
       "<Figure size 432x288 with 1 Axes>"
      ]
     },
     "metadata": {
      "needs_background": "light"
     },
     "output_type": "display_data"
    },
    {
     "name": "stdout",
     "output_type": "stream",
     "text": [
      "예측확률분포: [0.8072245  0.00957978 0.18319573]\n",
      "라벨: 1, 예측결과: 0\n"
     ]
    },
    {
     "data": {
      "image/png": "[encoded data removed]",
      "text/plain": [
       "<Figure size 432x288 with 1 Axes>"
      ]
     },
     "metadata": {
      "needs_background": "light"
     },
     "output_type": "display_data"
    }
   ],
   "source": [
    "import random\n",
    "wrong_predict_list=[]\n",
    "for i, _ in enumerate(predicted_labels):\n",
    "    # i번째 test_labels과 y_test이 다른 경우만 모아 봅시다. \n",
    "    if predicted_labels[i] != y_test[i]:\n",
    "        wrong_predict_list.append(i)\n",
    "\n",
    "# wrong_predict_list 에서 랜덤하게 5개만 뽑아봅시다.\n",
    "samples = random.choices(population=wrong_predict_list, k=5)\n",
    "\n",
    "for n in samples:\n",
    "    print(\"예측확률분포: \" + str(predicted_result[n]))\n",
    "    print(\"라벨: \" + str(y_test[n]) + \", 예측결과: \" + str(predicted_labels[n]))\n",
    "    plt.imshow(x_test[n], cmap=plt.cm.binary)\n",
    "    plt.show()"
   ]
  },
  {
   "cell_type": "code",
   "execution_count": null,
   "id": "29beb872",
   "metadata": {},
   "outputs": [],
   "source": [
    "노드에서는    \n",
    "틀린 경우를 살펴보면 model도 추론 결과에 대한 확신도가 낮고 매우 혼란스러워 한다는 것을 알 수 있다고 한다.     \n",
    "그래서 model의 추론 결과를 시각화하여 살펴보는 것은     \n",
    "향후 model 성능 개선에 도움이 되는 아이디어를 얻을 수 있는 좋은 방법 중 하나라고 한다."
   ]
  },
  {
   "cell_type": "markdown",
   "id": "4f9132a5",
   "metadata": {},
   "source": [
    "### Step 7. 1번째 시도 결론\n",
    "10/10 - 0s - loss: 1.3050 - accuracy: 0.5733   \n",
    "test_loss: 1.3049925565719604   \n",
    "test_accuracy: 0.5733333230018616   "
   ]
  },
  {
   "cell_type": "markdown",
   "id": "76f63d70",
   "metadata": {},
   "source": [
    "### Step 8. 정확도를 올리기 위해서, 더 좋은 네트워크를 만들기 위해서 할 수 있는 것!"
   ]
  },
  {
   "cell_type": "markdown",
   "id": "18c5d58f",
   "metadata": {},
   "source": [
    "노드 인용\n",
    "\n",
    "**하이퍼파라미터들 바꾸기**\n",
    "1. conv2d 레이어에서 입력 이미지의 특징 수를 늘리거나 줄이거나\n",
    "2. dense 레이어에서 뉴런수를 바꾸거나\n",
    "3. 학습 반복횟수인 epoch값 변경하기\n",
    "\n",
    "**생각해 본 또 해 볼 수 있는 방법들은**   \n",
    "4. 노드에 있는 데이터를 트레이닝 데이터로 넣어보기     \n",
    "5. 모델의 유닛수 조절해보기, 드롭아웃 적용해보기    \n",
    "6. 그루들의 데이터를 더 확보하여 늘리기    \n",
    "7. 검증데이터로 분류해서 해보기"
   ]
  },
  {
   "cell_type": "markdown",
   "id": "0f230292",
   "metadata": {},
   "source": [
    "### Step 9. 2번째 시도_훈련 데이터의 양을 늘리기\n",
    "train data 6명의 데이터셋 총 865장씩\n",
    "test data는 다른 그루 1명의 데이터셋 동일하게 유지\n",
    "모델 구조 동일"
   ]
  },
  {
   "cell_type": "code",
   "execution_count": 47,
   "id": "0571b1e4",
   "metadata": {},
   "outputs": [
    {
     "name": "stdout",
     "output_type": "stream",
     "text": [
      "865  images to be resized.\n",
      "865  images resized.\n",
      "가위 이미지 resize 완료!\n",
      "865  images to be resized.\n",
      "865  images resized.\n",
      "바위 이미지 resize 완료!\n",
      "865  images to be resized.\n",
      "865  images resized.\n",
      "보 이미지 resize 완료!\n"
     ]
    }
   ],
   "source": [
    "def resize_images(img_path):\n",
    "\timages=glob.glob(img_path + \"/*.jpg\")  \n",
    "    \n",
    "\tprint(len(images), \" images to be resized.\")\n",
    "\n",
    "    # 파일마다 모두 28x28 사이즈로 바꾸어 저장\n",
    "\ttarget_size=(28,28)\n",
    "\tfor img in images:\n",
    "\t\told_img=Image.open(img)\n",
    "\t\tnew_img=old_img.resize(target_size,Image.ANTIALIAS)\n",
    "\t\tnew_img.save(img, \"JPEG\")\n",
    "    \n",
    "\tprint(len(images), \" images resized.\")\n",
    "\t\n",
    "# 가위 이미지가 저장된 디렉토리 아래의 모든 jpg 파일을 읽어들여서\n",
    "image_dir_path = os.getenv(\"HOME\") + \"/aiffel/rock_scissor_paper/scissor\"\n",
    "resize_images(image_dir_path)\n",
    "\n",
    "print(\"가위 이미지 resize 완료!\")\n",
    "\n",
    "# 바위 이미지가 저장된 디렉토리 아래의 모든 jpg 파일을 읽어들여서\n",
    "image_dir_path = os.getenv(\"HOME\") + \"/aiffel/rock_scissor_paper/rock\"\n",
    "resize_images(image_dir_path)\n",
    "\n",
    "print(\"바위 이미지 resize 완료!\")\n",
    "\n",
    "# 보 이미지가 저장된 디렉토리 아래의 모든 jpg 파일을 읽어들여서\n",
    "image_dir_path = os.getenv(\"HOME\") + \"/aiffel/rock_scissor_paper/paper\"\n",
    "resize_images(image_dir_path)\n",
    "\n",
    "print(\"보 이미지 resize 완료!\")"
   ]
  },
  {
   "cell_type": "code",
   "execution_count": 48,
   "id": "632a2e0b",
   "metadata": {},
   "outputs": [
    {
     "name": "stdout",
     "output_type": "stream",
     "text": [
      "학습데이터(x_train)의 이미지 개수는 2595 입니다.\n",
      "x_train shape: (2595, 28, 28, 3)\n",
      "y_train shape: (2595,)\n",
      "x_train shape: (2595, 28, 28, 3)\n"
     ]
    }
   ],
   "source": [
    "import numpy as np\n",
    "\n",
    "def load_data(img_path, number_of_data=2595):  # 가위바위보 이미지 개수 총합에 주의하세요. # 총 600개이므로 바꿈\n",
    "    # 가위 : 0, 바위 : 1, 보 : 2\n",
    "    img_size=28\n",
    "    color=3\n",
    "    #이미지 데이터와 라벨(가위 : 0, 바위 : 1, 보 : 2) 데이터를 담을 행렬(matrix) 영역을 생성합니다.\n",
    "    imgs=np.zeros(number_of_data*img_size*img_size*color,dtype=np.int32).reshape(number_of_data,img_size,img_size,color)\n",
    "    labels=np.zeros(number_of_data,dtype=np.int32)\n",
    "\n",
    "    idx=0\n",
    "    for file in glob.iglob(img_path+'/scissor/*.jpg'):\n",
    "        img = np.array(Image.open(file),dtype=np.int32)\n",
    "        imgs[idx,:,:,:]=img    # 데이터 영역에 이미지 행렬을 복사\n",
    "        labels[idx]=0   # 가위 : 0\n",
    "        idx=idx+1\n",
    "\n",
    "    for file in glob.iglob(img_path+'/rock/*.jpg'):\n",
    "        img = np.array(Image.open(file),dtype=np.int32)\n",
    "        imgs[idx,:,:,:]=img    # 데이터 영역에 이미지 행렬을 복사\n",
    "        labels[idx]=1   # 바위 : 1\n",
    "        idx=idx+1  \n",
    "    \n",
    "    for file in glob.iglob(img_path+'/paper/*.jpg'):\n",
    "        img = np.array(Image.open(file),dtype=np.int32)\n",
    "        imgs[idx,:,:,:]=img    # 데이터 영역에 이미지 행렬을 복사\n",
    "        labels[idx]=2   # 보 : 2\n",
    "        idx=idx+1\n",
    "        \n",
    "    print(\"학습데이터(x_train)의 이미지 개수는\", idx,\"입니다.\")\n",
    "    return imgs, labels\n",
    "\n",
    "image_dir_path = os.getenv(\"HOME\") + \"/aiffel/rock_scissor_paper\"\n",
    "(x_train, y_train)=load_data(image_dir_path)\n",
    "x_train_norm = x_train/255.0   # 입력은 0~1 사이의 값으로 정규화\n",
    "\n",
    "print(\"x_train shape: {}\".format(x_train.shape))\n",
    "print(\"y_train shape: {}\".format(y_train.shape))\n",
    "print(\"x_train shape: {}\".format(x_train_norm.shape))"
   ]
  },
  {
   "cell_type": "code",
   "execution_count": 49,
   "id": "299ee3cb",
   "metadata": {},
   "outputs": [
    {
     "name": "stdout",
     "output_type": "stream",
     "text": [
      "라벨:  0\n"
     ]
    },
    {
     "data": {
      "image/png": "[encoded data removed]",
      "text/plain": [
       "<Figure size 432x288 with 1 Axes>"
      ]
     },
     "metadata": {
      "needs_background": "light"
     },
     "output_type": "display_data"
    }
   ],
   "source": [
    "import matplotlib.pyplot as plt\n",
    "\n",
    "plt.imshow(x_train[800])\n",
    "print('라벨: ', y_train[800])"
   ]
  },
  {
   "cell_type": "code",
   "execution_count": 51,
   "id": "07e2a2ba",
   "metadata": {},
   "outputs": [
    {
     "name": "stdout",
     "output_type": "stream",
     "text": [
      "Model에 추가된 Layer 개수:  7\n",
      "Model: \"sequential_3\"\n",
      "_________________________________________________________________\n",
      "Layer (type)                 Output Shape              Param #   \n",
      "=================================================================\n",
      "conv2d_6 (Conv2D)            (None, 26, 26, 16)        448       \n",
      "_________________________________________________________________\n",
      "max_pooling2d_6 (MaxPooling2 (None, 13, 13, 16)        0         \n",
      "_________________________________________________________________\n",
      "conv2d_7 (Conv2D)            (None, 11, 11, 32)        4640      \n",
      "_________________________________________________________________\n",
      "max_pooling2d_7 (MaxPooling2 (None, 5, 5, 32)          0         \n",
      "_________________________________________________________________\n",
      "flatten_3 (Flatten)          (None, 800)               0         \n",
      "_________________________________________________________________\n",
      "dense_6 (Dense)              (None, 32)                25632     \n",
      "_________________________________________________________________\n",
      "dense_7 (Dense)              (None, 3)                 99        \n",
      "=================================================================\n",
      "Total params: 30,819\n",
      "Trainable params: 30,819\n",
      "Non-trainable params: 0\n",
      "_________________________________________________________________\n",
      "Epoch 1/10\n",
      "82/82 [==============================] - 1s 7ms/step - loss: 1.0281 - accuracy: 0.4798\n",
      "Epoch 2/10\n",
      "82/82 [==============================] - 0s 3ms/step - loss: 0.7767 - accuracy: 0.6524\n",
      "Epoch 3/10\n",
      "82/82 [==============================] - 0s 3ms/step - loss: 0.5881 - accuracy: 0.7514\n",
      "Epoch 4/10\n",
      "82/82 [==============================] - 0s 3ms/step - loss: 0.4327 - accuracy: 0.8320\n",
      "Epoch 5/10\n",
      "82/82 [==============================] - 0s 3ms/step - loss: 0.3677 - accuracy: 0.8617\n",
      "Epoch 6/10\n",
      "82/82 [==============================] - 0s 3ms/step - loss: 0.2810 - accuracy: 0.8987\n",
      "Epoch 7/10\n",
      "82/82 [==============================] - 0s 3ms/step - loss: 0.2393 - accuracy: 0.9198\n",
      "Epoch 8/10\n",
      "82/82 [==============================] - 0s 3ms/step - loss: 0.1963 - accuracy: 0.9310\n",
      "Epoch 9/10\n",
      "82/82 [==============================] - 0s 3ms/step - loss: 0.1692 - accuracy: 0.9426\n",
      "Epoch 10/10\n",
      "82/82 [==============================] - 0s 3ms/step - loss: 0.1481 - accuracy: 0.9457\n",
      "10/10 - 0s - loss: 1.4044 - accuracy: 0.5033\n",
      "test_loss: 1.4044197797775269\n",
      "test_accuracy: 0.503333330154419\n"
     ]
    }
   ],
   "source": [
    "model=keras.models.Sequential()\n",
    "model.add(keras.layers.Conv2D(16, (3,3), activation='relu', input_shape=(28,28,3)))\n",
    "model.add(keras.layers.MaxPool2D(2,2))\n",
    "model.add(keras.layers.Conv2D(32, (3,3), activation='relu'))\n",
    "model.add(keras.layers.MaxPooling2D((2,2)))\n",
    "model.add(keras.layers.Flatten())\n",
    "model.add(keras.layers.Dense(32, activation='relu'))\n",
    "model.add(keras.layers.Dense(3, activation='softmax'))\n",
    "\n",
    "print('Model에 추가된 Layer 개수: ', len(model.layers))\n",
    "\n",
    "model.summary()\n",
    "\n",
    "#모델 컴파일\n",
    "model.compile(optimizer='adam',\n",
    "             loss='sparse_categorical_crossentropy',\n",
    "             metrics=['accuracy'])\n",
    "# 모델 훈련\n",
    "model.fit(x_train_norm, y_train, epochs=10)\n",
    "\n",
    "\n",
    "# 모델 시험\n",
    "test_loss, test_accuracy = model.evaluate(x_test_norm, y_test, verbose=2)\n",
    "print(f\"test_loss: {test_loss}\")\n",
    "print(f\"test_accuracy: {test_accuracy}\")"
   ]
  },
  {
   "cell_type": "markdown",
   "id": "e6a4fe11",
   "metadata": {},
   "source": [
    "### Step 10. 2번째 시도 결론\n",
    "\n",
    "10/10 - 0s - loss: 1.3050 - accuracy: 0.5733    \n",
    "test_loss: 1.3049925565719604    \n",
    "test_accuracy: 0.5733333230018616   \n",
    "    \n",
    "10/10 - 0s - loss: 1.4044 - accuracy: 0.5033   \n",
    "test_loss: 1.4044197797775269   \n",
    "test_accuracy: 0.503333330154419   \n",
    "\n",
    "1번째 시도보다 loss가 올라가고 정확도가 낮아짐"
   ]
  },
  {
   "cell_type": "markdown",
   "id": "1d02a530",
   "metadata": {},
   "source": [
    "### Step 11. 3번째 시도_검증데이터 분리\n",
    "검증데이터 분리    \n",
    "모델 구조 동일"
   ]
  },
  {
   "cell_type": "code",
   "execution_count": 52,
   "id": "e4a1113a",
   "metadata": {},
   "outputs": [
    {
     "name": "stdout",
     "output_type": "stream",
     "text": [
      "865  images to be resized.\n",
      "865  images resized.\n",
      "가위 이미지 resize 완료!\n",
      "865  images to be resized.\n",
      "865  images resized.\n",
      "바위 이미지 resize 완료!\n",
      "865  images to be resized.\n",
      "865  images resized.\n",
      "보 이미지 resize 완료!\n"
     ]
    }
   ],
   "source": [
    "def resize_images(img_path):\n",
    "\timages=glob.glob(img_path + \"/*.jpg\")  \n",
    "    \n",
    "\tprint(len(images), \" images to be resized.\")\n",
    "\n",
    "    # 파일마다 모두 28x28 사이즈로 바꾸어 저장\n",
    "\ttarget_size=(28,28)\n",
    "\tfor img in images:\n",
    "\t\told_img=Image.open(img)\n",
    "\t\tnew_img=old_img.resize(target_size,Image.ANTIALIAS)\n",
    "\t\tnew_img.save(img, \"JPEG\")\n",
    "    \n",
    "\tprint(len(images), \" images resized.\")\n",
    "\t\n",
    "# 가위 이미지가 저장된 디렉토리 아래의 모든 jpg 파일을 읽어들여서\n",
    "image_dir_path = os.getenv(\"HOME\") + \"/aiffel/rock_scissor_paper/scissor\"\n",
    "resize_images(image_dir_path)\n",
    "\n",
    "print(\"가위 이미지 resize 완료!\")\n",
    "\n",
    "# 바위 이미지가 저장된 디렉토리 아래의 모든 jpg 파일을 읽어들여서\n",
    "image_dir_path = os.getenv(\"HOME\") + \"/aiffel/rock_scissor_paper/rock\"\n",
    "resize_images(image_dir_path)\n",
    "\n",
    "print(\"바위 이미지 resize 완료!\")\n",
    "\n",
    "# 보 이미지가 저장된 디렉토리 아래의 모든 jpg 파일을 읽어들여서\n",
    "image_dir_path = os.getenv(\"HOME\") + \"/aiffel/rock_scissor_paper/paper\"\n",
    "resize_images(image_dir_path)\n",
    "\n",
    "print(\"보 이미지 resize 완료!\")"
   ]
  },
  {
   "cell_type": "code",
   "execution_count": 53,
   "id": "14d4998c",
   "metadata": {},
   "outputs": [],
   "source": [
    "import numpy as np\n",
    "\n",
    "def load_data(img_path, number_of_data=2595):  # 가위바위보 이미지 개수 총합에 주의하세요. # 총 600개이므로 바꿈\n",
    "    # 가위 : 0, 바위 : 1, 보 : 2\n",
    "    img_size=28\n",
    "    color=3\n",
    "    #이미지 데이터와 라벨(가위 : 0, 바위 : 1, 보 : 2) 데이터를 담을 행렬(matrix) 영역을 생성합니다.\n",
    "    imgs=np.zeros(number_of_data*img_size*img_size*color,dtype=np.int32).reshape(number_of_data,img_size,img_size,color)\n",
    "    labels=np.zeros(number_of_data,dtype=np.int32)\n",
    "\n",
    "    idx=0\n",
    "    for file in glob.iglob(img_path+'/scissor/*.jpg'):\n",
    "        img = np.array(Image.open(file),dtype=np.int32)\n",
    "        imgs[idx,:,:,:]=img    # 데이터 영역에 이미지 행렬을 복사\n",
    "        labels[idx]=0   # 가위 : 0\n",
    "        idx=idx+1\n",
    "\n",
    "    for file in glob.iglob(img_path+'/rock/*.jpg'):\n",
    "        img = np.array(Image.open(file),dtype=np.int32)\n",
    "        imgs[idx,:,:,:]=img    # 데이터 영역에 이미지 행렬을 복사\n",
    "        labels[idx]=1   # 바위 : 1\n",
    "        idx=idx+1  \n",
    "    \n",
    "    for file in glob.iglob(img_path+'/paper/*.jpg'):\n",
    "        img = np.array(Image.open(file),dtype=np.int32)\n",
    "        imgs[idx,:,:,:]=img    # 데이터 영역에 이미지 행렬을 복사\n",
    "        labels[idx]=2   # 보 : 2\n",
    "        idx=idx+1\n",
    "        \n",
    "    print(\"학습데이터(x_train)의 이미지 개수는\", idx,\"입니다.\")\n",
    "    return imgs, labels\n",
    "\n",
    "image_dir_path = os.getenv(\"HOME\") + \"/aiffel/rock_scissor_paper\""
   ]
  },
  {
   "cell_type": "code",
   "execution_count": 54,
   "id": "ea22398a",
   "metadata": {},
   "outputs": [
    {
     "name": "stdout",
     "output_type": "stream",
     "text": [
      "학습데이터(x_train)의 이미지 개수는 2595 입니다.\n",
      "x_train shape: (2595, 28, 28, 3)\n",
      "y_train shape: (2595,)\n",
      "x_train shape: (2595, 28, 28, 3)\n",
      "(2076, 28, 28, 3) (2076,)\n",
      "(519, 28, 28, 3) (519,)\n"
     ]
    }
   ],
   "source": [
    "(x_train, y_train)=load_data(image_dir_path)\n",
    "x_train_norm = x_train/255.0   # 입력은 0~1 사이의 값으로 정규화\n",
    "\n",
    "print(\"x_train shape: {}\".format(x_train.shape))\n",
    "print(\"y_train shape: {}\".format(y_train.shape))\n",
    "print(\"x_train shape: {}\".format(x_train_norm.shape))\n",
    "\n",
    "from sklearn.model_selection import train_test_split\n",
    "\n",
    "x_norm_train, x_norm_val, y_train_2, y_val = train_test_split(x_train_norm, y_train, \n",
    "                                                    test_size=0.2, \n",
    "                                                    shuffle=True,\n",
    "                                                    random_state=42)\n",
    "\n",
    "print(x_norm_train.shape, y_train_2.shape)\n",
    "print(x_norm_val.shape, y_val.shape)"
   ]
  },
  {
   "cell_type": "markdown",
   "id": "ca6876dc",
   "metadata": {},
   "source": [
    "### 데이터 개수\n",
    "x_norm_train 2076개   \n",
    "검증데이터 519   "
   ]
  },
  {
   "cell_type": "code",
   "execution_count": 55,
   "id": "88bf8d18",
   "metadata": {},
   "outputs": [
    {
     "name": "stdout",
     "output_type": "stream",
     "text": [
      "Model에 추가된 Layer 개수:  7\n",
      "Model: \"sequential_4\"\n",
      "_________________________________________________________________\n",
      "Layer (type)                 Output Shape              Param #   \n",
      "=================================================================\n",
      "conv2d_8 (Conv2D)            (None, 26, 26, 16)        448       \n",
      "_________________________________________________________________\n",
      "max_pooling2d_8 (MaxPooling2 (None, 13, 13, 16)        0         \n",
      "_________________________________________________________________\n",
      "conv2d_9 (Conv2D)            (None, 11, 11, 32)        4640      \n",
      "_________________________________________________________________\n",
      "max_pooling2d_9 (MaxPooling2 (None, 5, 5, 32)          0         \n",
      "_________________________________________________________________\n",
      "flatten_4 (Flatten)          (None, 800)               0         \n",
      "_________________________________________________________________\n",
      "dense_8 (Dense)              (None, 32)                25632     \n",
      "_________________________________________________________________\n",
      "dense_9 (Dense)              (None, 3)                 99        \n",
      "=================================================================\n",
      "Total params: 30,819\n",
      "Trainable params: 30,819\n",
      "Non-trainable params: 0\n",
      "_________________________________________________________________\n",
      "Epoch 1/10\n",
      "65/65 [==============================] - 1s 8ms/step - loss: 1.0485 - accuracy: 0.4456 - val_loss: 0.9792 - val_accuracy: 0.4855\n",
      "Epoch 2/10\n",
      "65/65 [==============================] - 0s 4ms/step - loss: 0.8579 - accuracy: 0.6248 - val_loss: 0.8193 - val_accuracy: 0.6185\n",
      "Epoch 3/10\n",
      "65/65 [==============================] - 0s 4ms/step - loss: 0.6933 - accuracy: 0.6888 - val_loss: 0.6408 - val_accuracy: 0.7129\n",
      "Epoch 4/10\n",
      "65/65 [==============================] - 0s 4ms/step - loss: 0.5690 - accuracy: 0.7534 - val_loss: 0.5330 - val_accuracy: 0.7765\n",
      "Epoch 5/10\n",
      "65/65 [==============================] - 0s 4ms/step - loss: 0.4823 - accuracy: 0.7958 - val_loss: 0.4748 - val_accuracy: 0.7938\n",
      "Epoch 6/10\n",
      "65/65 [==============================] - 0s 4ms/step - loss: 0.4039 - accuracy: 0.8401 - val_loss: 0.3956 - val_accuracy: 0.8516\n",
      "Epoch 7/10\n",
      "65/65 [==============================] - 0s 4ms/step - loss: 0.3616 - accuracy: 0.8492 - val_loss: 0.3708 - val_accuracy: 0.8748\n",
      "Epoch 8/10\n",
      "65/65 [==============================] - 0s 4ms/step - loss: 0.3352 - accuracy: 0.8651 - val_loss: 0.3343 - val_accuracy: 0.8786\n",
      "Epoch 9/10\n",
      "65/65 [==============================] - 0s 4ms/step - loss: 0.2763 - accuracy: 0.8988 - val_loss: 0.2968 - val_accuracy: 0.8921\n",
      "Epoch 10/10\n",
      "65/65 [==============================] - 0s 4ms/step - loss: 0.2391 - accuracy: 0.9171 - val_loss: 0.3321 - val_accuracy: 0.8497\n",
      "10/10 - 0s - loss: 0.8949 - accuracy: 0.5200\n",
      "test_loss: 0.8949242234230042\n",
      "test_accuracy: 0.5199999809265137\n"
     ]
    }
   ],
   "source": [
    "model=keras.models.Sequential()\n",
    "model.add(keras.layers.Conv2D(16, (3,3), activation='relu', input_shape=(28,28,3)))\n",
    "model.add(keras.layers.MaxPool2D(2,2))\n",
    "model.add(keras.layers.Conv2D(32, (3,3), activation='relu'))\n",
    "model.add(keras.layers.MaxPooling2D((2,2)))\n",
    "model.add(keras.layers.Flatten())\n",
    "model.add(keras.layers.Dense(32, activation='relu'))\n",
    "model.add(keras.layers.Dense(3, activation='softmax'))\n",
    "\n",
    "print('Model에 추가된 Layer 개수: ', len(model.layers))\n",
    "\n",
    "model.summary()\n",
    "\n",
    "#모델 컴파일\n",
    "model.compile(optimizer='adam',\n",
    "             loss='sparse_categorical_crossentropy',\n",
    "             metrics=['accuracy'])\n",
    "# 모델 훈련\n",
    "# model.fit(x_norm_train, y_train_2, epochs=10) 아까는 이렇게 작성했지만 이번에는 이렇게 작성\n",
    "history = model.fit(x_norm_train, y_train_2, epochs=10, validation_data=(x_norm_val, y_val))\n",
    "\n",
    "# 모델 시험\n",
    "test_loss, test_accuracy = model.evaluate(x_test_norm, y_test, verbose=2)\n",
    "print(f\"test_loss: {test_loss}\")\n",
    "print(f\"test_accuracy: {test_accuracy}\")"
   ]
  },
  {
   "cell_type": "markdown",
   "id": "f11ac672",
   "metadata": {},
   "source": [
    "### 시각화"
   ]
  },
  {
   "cell_type": "code",
   "execution_count": 57,
   "id": "995107b3",
   "metadata": {},
   "outputs": [
    {
     "data": {
      "image/png": "[encoded data removed]",
      "text/plain": [
       "<Figure size 864x360 with 2 Axes>"
      ]
     },
     "metadata": {},
     "output_type": "display_data"
    }
   ],
   "source": [
    "# 모델 학습 히스토리에서 loss, val_loss, mae, val_mae를 차트로 표현하기\n",
    "# 노드에 있는 코드 인용\n",
    "\n",
    "plt.style.use('seaborn-white')\n",
    "\n",
    "history_dict = history.history\n",
    "\n",
    "loss = history_dict['loss']\n",
    "val_loss = history_dict['val_loss']\n",
    "\n",
    "epochs = range(1, len(loss) + 1)\n",
    "fig = plt.figure(figsize=(12, 5))\n",
    "\n",
    "ax1 = fig.add_subplot(1, 2, 1)\n",
    "ax1.plot(epochs, loss, 'b-', label='train_loss')\n",
    "ax1.plot(epochs, val_loss, 'r-', label='val_loss')\n",
    "ax1.set_title('Train and Validation Loss')\n",
    "ax1.set_xlabel('Epochs')\n",
    "ax1.set_ylabel('Loss')\n",
    "ax1.grid()\n",
    "ax1.legend()\n",
    "\n",
    "accuracy = history_dict['accuracy']\n",
    "val_accuracy = history_dict['val_accuracy']\n",
    "\n",
    "ax2 = fig.add_subplot(1, 2, 2)\n",
    "ax2.plot(epochs, accuracy, 'b-', label='train_acc')\n",
    "ax2.plot(epochs, val_accuracy, 'r-', label='val_acc')\n",
    "ax2.set_title('Train and Validation Accuracy')\n",
    "ax2.set_xlabel('Epochs')\n",
    "ax2.set_ylabel('Accuracy')\n",
    "ax2.grid()\n",
    "ax2.legend()\n",
    "\n",
    "plt.show()"
   ]
  },
  {
   "cell_type": "markdown",
   "id": "d9749afc",
   "metadata": {},
   "source": [
    "### Step 12. 3번째 시도 결론"
   ]
  },
  {
   "cell_type": "markdown",
   "id": "87c65ee6",
   "metadata": {},
   "source": [
    "10/10 - 0s - loss: 1.3050 - accuracy: 0.5733   \n",
    "test_loss: 1.3049925565719604    \n",
    "test_accuracy: 0.5733333230018616    \n",
    "    \n",
    "10/10 - 0s - loss: 1.4044 - accuracy: 0.5033    \n",
    "test_loss: 1.4044197797775269   \n",
    "test_accuracy: 0.503333330154419    \n",
    "    \n",
    "10/10 - 0s - loss: 0.8949 - accuracy: 0.5200    \n",
    "test_loss: 0.8949242234230042   \n",
    "test_accuracy: 0.5199999809265137    \n",
    "\n",
    "2번째 시도보다 accuracy가 올라갔지만 처음 데이터양을 늘릴 때보다 정확도가 높지는 않다"
   ]
  },
  {
   "cell_type": "markdown",
   "id": "62469e9e",
   "metadata": {},
   "source": [
    "### Step 13. 4번째 시도_하이퍼파라미터 조절"
   ]
  },
  {
   "cell_type": "code",
   "execution_count": 61,
   "id": "113d165e",
   "metadata": {},
   "outputs": [
    {
     "name": "stdout",
     "output_type": "stream",
     "text": [
      "865  images to be resized.\n",
      "865  images resized.\n",
      "가위 이미지 resize 완료!\n",
      "865  images to be resized.\n",
      "865  images resized.\n",
      "바위 이미지 resize 완료!\n",
      "865  images to be resized.\n",
      "865  images resized.\n",
      "보 이미지 resize 완료!\n"
     ]
    }
   ],
   "source": [
    "def resize_images(img_path):\n",
    "\timages=glob.glob(img_path + \"/*.jpg\")  \n",
    "    \n",
    "\tprint(len(images), \" images to be resized.\")\n",
    "\n",
    "    # 파일마다 모두 28x28 사이즈로 바꾸어 저장\n",
    "\ttarget_size=(28,28)\n",
    "\tfor img in images:\n",
    "\t\told_img=Image.open(img)\n",
    "\t\tnew_img=old_img.resize(target_size,Image.ANTIALIAS)\n",
    "\t\tnew_img.save(img, \"JPEG\")\n",
    "    \n",
    "\tprint(len(images), \" images resized.\")\n",
    "\t\n",
    "# 가위 이미지가 저장된 디렉토리 아래의 모든 jpg 파일을 읽어들여서\n",
    "image_dir_path = os.getenv(\"HOME\") + \"/aiffel/rock_scissor_paper/scissor\"\n",
    "resize_images(image_dir_path)\n",
    "\n",
    "print(\"가위 이미지 resize 완료!\")\n",
    "\n",
    "# 바위 이미지가 저장된 디렉토리 아래의 모든 jpg 파일을 읽어들여서\n",
    "image_dir_path = os.getenv(\"HOME\") + \"/aiffel/rock_scissor_paper/rock\"\n",
    "resize_images(image_dir_path)\n",
    "\n",
    "print(\"바위 이미지 resize 완료!\")\n",
    "\n",
    "# 보 이미지가 저장된 디렉토리 아래의 모든 jpg 파일을 읽어들여서\n",
    "image_dir_path = os.getenv(\"HOME\") + \"/aiffel/rock_scissor_paper/paper\"\n",
    "resize_images(image_dir_path)\n",
    "\n",
    "print(\"보 이미지 resize 완료!\")"
   ]
  },
  {
   "cell_type": "code",
   "execution_count": 62,
   "id": "5e897993",
   "metadata": {},
   "outputs": [],
   "source": [
    "import numpy as np\n",
    "\n",
    "def load_data(img_path, number_of_data=2595):  \n",
    "    # 가위 : 0, 바위 : 1, 보 : 2\n",
    "    img_size=28\n",
    "    color=3\n",
    "    #이미지 데이터와 라벨(가위 : 0, 바위 : 1, 보 : 2) 데이터를 담을 행렬(matrix) 영역을 생성합니다.\n",
    "    imgs=np.zeros(number_of_data*img_size*img_size*color,dtype=np.int32).reshape(number_of_data,img_size,img_size,color)\n",
    "    labels=np.zeros(number_of_data,dtype=np.int32)\n",
    "\n",
    "    idx=0\n",
    "    for file in glob.iglob(img_path+'/scissor/*.jpg'):\n",
    "        img = np.array(Image.open(file),dtype=np.int32)\n",
    "        imgs[idx,:,:,:]=img    # 데이터 영역에 이미지 행렬을 복사\n",
    "        labels[idx]=0   # 가위 : 0\n",
    "        idx=idx+1\n",
    "\n",
    "    for file in glob.iglob(img_path+'/rock/*.jpg'):\n",
    "        img = np.array(Image.open(file),dtype=np.int32)\n",
    "        imgs[idx,:,:,:]=img    # 데이터 영역에 이미지 행렬을 복사\n",
    "        labels[idx]=1   # 바위 : 1\n",
    "        idx=idx+1  \n",
    "    \n",
    "    for file in glob.iglob(img_path+'/paper/*.jpg'):\n",
    "        img = np.array(Image.open(file),dtype=np.int32)\n",
    "        imgs[idx,:,:,:]=img    # 데이터 영역에 이미지 행렬을 복사\n",
    "        labels[idx]=2   # 보 : 2\n",
    "        idx=idx+1\n",
    "        \n",
    "    print(\"학습데이터(x_train)의 이미지 개수는\", idx,\"입니다.\")\n",
    "    return imgs, labels\n",
    "\n",
    "image_dir_path = os.getenv(\"HOME\") + \"/aiffel/rock_scissor_paper\""
   ]
  },
  {
   "cell_type": "code",
   "execution_count": 63,
   "id": "82ec6323",
   "metadata": {},
   "outputs": [
    {
     "name": "stdout",
     "output_type": "stream",
     "text": [
      "학습데이터(x_train)의 이미지 개수는 2595 입니다.\n",
      "x_train shape: (2595, 28, 28, 3)\n",
      "y_train shape: (2595,)\n",
      "x_train shape: (2595, 28, 28, 3)\n",
      "(2076, 28, 28, 3) (2076,)\n",
      "(519, 28, 28, 3) (519,)\n"
     ]
    }
   ],
   "source": [
    "(x_train, y_train)=load_data(image_dir_path)\n",
    "x_train_norm = x_train/255.0   # 입력은 0~1 사이의 값으로 정규화\n",
    "\n",
    "print(\"x_train shape: {}\".format(x_train.shape))\n",
    "print(\"y_train shape: {}\".format(y_train.shape))\n",
    "print(\"x_train shape: {}\".format(x_train_norm.shape))\n",
    "\n",
    "from sklearn.model_selection import train_test_split\n",
    "\n",
    "x_norm_train, x_norm_val, y_train_2, y_val = train_test_split(x_train_norm, y_train, \n",
    "                                                    test_size=0.2, \n",
    "                                                    shuffle=True,\n",
    "                                                    random_state=42)\n",
    "\n",
    "print(x_norm_train.shape, y_train_2.shape)\n",
    "print(x_norm_val.shape, y_val.shape)"
   ]
  },
  {
   "cell_type": "code",
   "execution_count": null,
   "id": "0eddb109",
   "metadata": {},
   "outputs": [],
   "source": [
    "x_norm_train 2076개\n",
    "검증데이터 519\n",
    "이렇게 나눔"
   ]
  },
  {
   "cell_type": "code",
   "execution_count": 69,
   "id": "742fd3ef",
   "metadata": {
    "scrolled": false
   },
   "outputs": [
    {
     "name": "stdout",
     "output_type": "stream",
     "text": [
      "Model에 추가된 Layer 개수:  7\n",
      "Model: \"sequential_10\"\n",
      "_________________________________________________________________\n",
      "Layer (type)                 Output Shape              Param #   \n",
      "=================================================================\n",
      "conv2d_20 (Conv2D)           (None, 26, 26, 32)        896       \n",
      "_________________________________________________________________\n",
      "max_pooling2d_20 (MaxPooling (None, 13, 13, 32)        0         \n",
      "_________________________________________________________________\n",
      "conv2d_21 (Conv2D)           (None, 11, 11, 64)        18496     \n",
      "_________________________________________________________________\n",
      "max_pooling2d_21 (MaxPooling (None, 5, 5, 64)          0         \n",
      "_________________________________________________________________\n",
      "flatten_10 (Flatten)         (None, 1600)              0         \n",
      "_________________________________________________________________\n",
      "dense_20 (Dense)             (None, 64)                102464    \n",
      "_________________________________________________________________\n",
      "dense_21 (Dense)             (None, 3)                 195       \n",
      "=================================================================\n",
      "Total params: 122,051\n",
      "Trainable params: 122,051\n",
      "Non-trainable params: 0\n",
      "_________________________________________________________________\n",
      "Epoch 1/20\n",
      "65/65 [==============================] - 1s 8ms/step - loss: 1.0066 - accuracy: 0.4875 - val_loss: 0.8885 - val_accuracy: 0.6089\n",
      "Epoch 2/20\n",
      "65/65 [==============================] - 0s 4ms/step - loss: 0.7566 - accuracy: 0.6570 - val_loss: 0.6488 - val_accuracy: 0.7283\n",
      "Epoch 3/20\n",
      "65/65 [==============================] - 0s 4ms/step - loss: 0.5667 - accuracy: 0.7466 - val_loss: 0.5817 - val_accuracy: 0.7399\n",
      "Epoch 4/20\n",
      "65/65 [==============================] - 0s 4ms/step - loss: 0.4233 - accuracy: 0.8338 - val_loss: 0.3994 - val_accuracy: 0.8382\n",
      "Epoch 5/20\n",
      "65/65 [==============================] - 0s 4ms/step - loss: 0.3332 - accuracy: 0.8772 - val_loss: 0.3123 - val_accuracy: 0.8960\n",
      "Epoch 6/20\n",
      "65/65 [==============================] - 0s 4ms/step - loss: 0.2474 - accuracy: 0.9162 - val_loss: 0.2801 - val_accuracy: 0.8805\n",
      "Epoch 7/20\n",
      "65/65 [==============================] - 0s 4ms/step - loss: 0.2117 - accuracy: 0.9316 - val_loss: 0.2917 - val_accuracy: 0.8786\n",
      "Epoch 8/20\n",
      "65/65 [==============================] - 0s 4ms/step - loss: 0.1790 - accuracy: 0.9398 - val_loss: 0.1955 - val_accuracy: 0.9229\n",
      "Epoch 9/20\n",
      "65/65 [==============================] - 0s 4ms/step - loss: 0.1294 - accuracy: 0.9619 - val_loss: 0.1847 - val_accuracy: 0.9287\n",
      "Epoch 10/20\n",
      "65/65 [==============================] - 0s 4ms/step - loss: 0.1129 - accuracy: 0.9687 - val_loss: 0.1306 - val_accuracy: 0.9634\n",
      "Epoch 11/20\n",
      "65/65 [==============================] - 0s 4ms/step - loss: 0.1031 - accuracy: 0.9692 - val_loss: 0.1385 - val_accuracy: 0.9403\n",
      "Epoch 12/20\n",
      "65/65 [==============================] - 0s 4ms/step - loss: 0.0796 - accuracy: 0.9783 - val_loss: 0.1037 - val_accuracy: 0.9672\n",
      "Epoch 13/20\n",
      "65/65 [==============================] - 0s 4ms/step - loss: 0.0544 - accuracy: 0.9865 - val_loss: 0.0858 - val_accuracy: 0.9711\n",
      "Epoch 14/20\n",
      "65/65 [==============================] - 0s 4ms/step - loss: 0.0474 - accuracy: 0.9899 - val_loss: 0.0780 - val_accuracy: 0.9730\n",
      "Epoch 15/20\n",
      "65/65 [==============================] - 0s 4ms/step - loss: 0.0366 - accuracy: 0.9933 - val_loss: 0.0650 - val_accuracy: 0.9846\n",
      "Epoch 16/20\n",
      "65/65 [==============================] - 0s 4ms/step - loss: 0.0293 - accuracy: 0.9966 - val_loss: 0.0659 - val_accuracy: 0.9788\n",
      "Epoch 17/20\n",
      "65/65 [==============================] - 0s 4ms/step - loss: 0.0267 - accuracy: 0.9961 - val_loss: 0.0481 - val_accuracy: 0.9904\n",
      "Epoch 18/20\n",
      "65/65 [==============================] - 0s 4ms/step - loss: 0.0217 - accuracy: 0.9981 - val_loss: 0.0498 - val_accuracy: 0.9865\n",
      "Epoch 19/20\n",
      "65/65 [==============================] - 0s 4ms/step - loss: 0.0237 - accuracy: 0.9957 - val_loss: 0.0445 - val_accuracy: 0.9942\n",
      "Epoch 20/20\n",
      "65/65 [==============================] - 0s 4ms/step - loss: 0.0112 - accuracy: 1.0000 - val_loss: 0.0368 - val_accuracy: 0.9865\n",
      "10/10 - 0s - loss: 1.8968 - accuracy: 0.6500\n",
      "test_loss: 1.8968255519866943\n",
      "test_accuracy: 0.6499999761581421\n"
     ]
    }
   ],
   "source": [
    "# 바꿔 볼 수 있는 하이퍼파라미터들\n",
    "n_channel_1=32\n",
    "n_channel_2=64\n",
    "n_dense=64\n",
    "n_train_epoch=20\n",
    "\n",
    "model=keras.models.Sequential()\n",
    "model.add(keras.layers.Conv2D(n_channel_1, (3,3), activation='relu', input_shape=(28,28,3)))\n",
    "model.add(keras.layers.MaxPool2D(2,2))\n",
    "model.add(keras.layers.Conv2D(n_channel_2, (3,3), activation='relu'))\n",
    "model.add(keras.layers.MaxPooling2D((2,2)))\n",
    "model.add(keras.layers.Flatten())\n",
    "model.add(keras.layers.Dense(n_dense, activation='relu'))\n",
    "model.add(keras.layers.Dense(3, activation='softmax'))\n",
    "\n",
    "print('Model에 추가된 Layer 개수: ', len(model.layers))\n",
    "\n",
    "model.summary()\n",
    "\n",
    "#모델 컴파일\n",
    "model.compile(optimizer='adam',\n",
    "             loss='sparse_categorical_crossentropy',\n",
    "             metrics=['accuracy'])\n",
    "\n",
    "# 모델 훈련\n",
    "history = model.fit(x_norm_train, y_train_2, epochs=n_train_epoch, validation_data=(x_norm_val, y_val))\n",
    "\n",
    "# 모델 시험\n",
    "test_loss, test_accuracy = model.evaluate(x_test_norm, y_test, verbose=2)\n",
    "print(f\"test_loss: {test_loss}\")\n",
    "print(f\"test_accuracy: {test_accuracy}\")"
   ]
  },
  {
   "cell_type": "code",
   "execution_count": 70,
   "id": "4d716c79",
   "metadata": {},
   "outputs": [
    {
     "data": {
      "image/png": "[encoded data removed]",
      "text/plain": [
       "<Figure size 864x360 with 2 Axes>"
      ]
     },
     "metadata": {},
     "output_type": "display_data"
    }
   ],
   "source": [
    "plt.style.use('seaborn-white')\n",
    "\n",
    "history_dict = history.history\n",
    "\n",
    "loss = history_dict['loss']\n",
    "val_loss = history_dict['val_loss']\n",
    "\n",
    "epochs = range(1, len(loss) + 1)\n",
    "fig = plt.figure(figsize=(12, 5))\n",
    "\n",
    "ax1 = fig.add_subplot(1, 2, 1)\n",
    "ax1.plot(epochs, loss, 'b-', label='train_loss')\n",
    "ax1.plot(epochs, val_loss, 'r-', label='val_loss')\n",
    "ax1.set_title('Train and Validation Loss')\n",
    "ax1.set_xlabel('Epochs')\n",
    "ax1.set_ylabel('Loss')\n",
    "ax1.grid()\n",
    "ax1.legend()\n",
    "\n",
    "accuracy = history_dict['accuracy']\n",
    "val_accuracy = history_dict['val_accuracy']\n",
    "\n",
    "ax2 = fig.add_subplot(1, 2, 2)\n",
    "ax2.plot(epochs, accuracy, 'b-', label='train_acc')\n",
    "ax2.plot(epochs, val_accuracy, 'r-', label='val_acc')\n",
    "ax2.set_title('Train and Validation Accuracy')\n",
    "ax2.set_xlabel('Epochs')\n",
    "ax2.set_ylabel('Accuracy')\n",
    "ax2.grid()\n",
    "ax2.legend()\n",
    "\n",
    "plt.show()"
   ]
  },
  {
   "cell_type": "markdown",
   "id": "24827ff8",
   "metadata": {},
   "source": [
    "### Step 14. 4번째 시도 결론"
   ]
  },
  {
   "cell_type": "markdown",
   "id": "da9980a7",
   "metadata": {},
   "source": [
    "10/10 - 0s - loss: 1.3050 - accuracy: 0.5733    \n",
    "test_loss: 1.3049925565719604   \n",
    "test_accuracy: 0.5733333230018616   \n",
    "    \n",
    "10/10 - 0s - loss: 1.4044 - accuracy: 0.5033    \n",
    "test_loss: 1.4044197797775269   \n",
    "test_accuracy: 0.503333330154419   \n",
    "    \n",
    "10/10 - 0s - loss: 0.8949 - accuracy: 0.5200    \n",
    "test_loss: 0.8949242234230042    \n",
    "test_accuracy: 0.5199999809265137   \n",
    "    \n",
    "10/10 - 0s - loss: 1.8968 - accuracy: 0.6500    \n",
    "test_loss: 1.8968255519866943   \n",
    "test_accuracy: 0.6499999761581421   \n",
    "\n",
    "예에에! 지금까지 정확도 중 제일 높다!"
   ]
  },
  {
   "cell_type": "markdown",
   "id": "6a29914e",
   "metadata": {},
   "source": [
    "# 2. 결론\n",
    "\n",
    "1. 총 train data 가위바위보 각 865장씩 사용   \n",
    "2. test data는 각 100장씩 사용   \n",
    "3. Acuuracy 60% 이상 달성   "
   ]
  },
  {
   "cell_type": "markdown",
   "id": "4cf7d7c3",
   "metadata": {},
   "source": [
    "# 3. 회고"
   ]
  },
  {
   "cell_type": "markdown",
   "id": "a0ed0dc2",
   "metadata": {},
   "source": [
    "### 1. 프로젝트에서 어려웠던 점, 해결을 위해 시도한 방법, 문제해결에 성공한 이유 또는 실패한 이유"
   ]
  },
  {
   "cell_type": "markdown",
   "id": "f84b9652",
   "metadata": {},
   "source": [
    "- **프로젝트에서 어려웠던 점**  \n",
    "    데이터 전처리\n",
    "\n",
    "- **해결을 위해 시도한 방법**  \n",
    "    포기하지 않았어요!  \n",
    "\n",
    "\n",
    "- **문제해결에 성공한 이유 또는 실패한 이유**  \n",
    "    노드 앞 내용들을 복습하며 시간을 많이 들였어요."
   ]
  },
  {
   "cell_type": "markdown",
   "id": "7d7b26db",
   "metadata": {},
   "source": [
    "### 2. 프로젝트를 진행하면서 알아낸 점 혹은 아직 모호한 점"
   ]
  },
  {
   "cell_type": "markdown",
   "id": "6aa9e63b",
   "metadata": {},
   "source": [
    "- **프로젝트를 진행하면서 알아낸 점**  \n",
    "파이썬 코드들에 대해서 새로 알게 된 부분들이 많았어요.    \n",
    "\n",
    "- **아직 모호한 점**    \n",
    "이미지 데이터 불러오는 것과 관련해서 에러가 났었는데 그 부분이 아직 모호해요.    "
   ]
  },
  {
   "cell_type": "markdown",
   "id": "6b506b76",
   "metadata": {},
   "source": [
    "### 3. 자기 다짐, 프로젝트를 진행하면서 느낀 점\n",
    "\n",
    "1. 끝까지 마무리하여 기뻐요!    \n",
    "2. 회고에 시간을 많이 투자하지 못해 아쉬워요.   \n",
    "3. 재미있게 진행한 프로젝트에요.      \n",
    "4. 노드에서 제공한 테스트데이터로 테스트 해보고 싶었는데 못했어요. 다음에!    \n",
    "5. 쥬피터노트북에서 이미지들을 한꺼번에 로컬로 다운로드 받는 방법을 알고 싶어요."
   ]
  },
  {
   "cell_type": "markdown",
   "id": "fe4af097",
   "metadata": {},
   "source": [
    "# 4. References"
   ]
  },
  {
   "cell_type": "markdown",
   "id": "e2fe6982",
   "metadata": {},
   "source": [
    "위키백과_PIL\n",
    "https://ko.wikipedia.org/wiki/Python_Imaging_Library\n",
    "\n",
    "np.zeros\n",
    "https://numpy.org/doc/stable/reference/generated/numpy.zeros.html"
   ]
  }
 ],
 "metadata": {
  "kernelspec": {
   "display_name": "Python 3 (ipykernel)",
   "language": "python",
   "name": "python3"
  },
  "language_info": {
   "codemirror_mode": {
    "name": "ipython",
    "version": 3
   },
   "file_extension": ".py",
   "mimetype": "text/x-python",
   "name": "python",
   "nbconvert_exporter": "python",
   "pygments_lexer": "ipython3",
   "version": "3.9.7"
  }
 },
 "nbformat": 4,
 "nbformat_minor": 5
}
