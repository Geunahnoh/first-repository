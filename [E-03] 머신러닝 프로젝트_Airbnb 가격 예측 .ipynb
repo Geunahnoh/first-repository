{
 "cells": [
  {
   "cell_type": "markdown",
   "id": "09cfce88",
   "metadata": {},
   "source": [
    "# 머신러닝 프로젝트\n",
    "### Airbnb (New York City) 데이터셋으로 가격 예측하기"
   ]
  },
  {
   "cell_type": "markdown",
   "id": "4723f255",
   "metadata": {},
   "source": [
    "## 프로젝트 구성\n",
    "\n",
    "노드 강사님의 tip 영상의 프로젝트 진행 순서를 기본으로 하고    \n",
    "중간중간 제가 해 본 시도들을 더 해 보았습니다.\n",
    "\n",
    "\n",
    "## 목차\n",
    "\n",
    "1. 데이터 소개 및 노드의 baseline 및 tip 성능 표시\n",
    "2. 조원들과 공유 후 적용한 아이디어\n",
    "3. 적용 과정(강사님의 tip영상의 진행 순서 + 중간중간 아이디어 적용)\n",
    "4. 결론\n",
    "5. 회고\n",
    "6. 참고한 레퍼런스"
   ]
  },
  {
   "cell_type": "markdown",
   "id": "641d1854",
   "metadata": {},
   "source": [
    "## 요약 결론\n",
    "강사님이 도출하신 성능보다는 더 나은 성능의 모델을 도출하지는 못했어요ㅠㅠ엉엉    \n",
    "하지만 직접 RandomizedSearchCV로 하이퍼파라미터를 찾고 모델을 조정해보는 작업은 재미있었습니다."
   ]
  },
  {
   "cell_type": "code",
   "execution_count": null,
   "id": "0f9ad178",
   "metadata": {},
   "outputs": [],
   "source": []
  },
  {
   "cell_type": "markdown",
   "id": "4d1ff334",
   "metadata": {},
   "source": [
    "## 1. 데이터 소개\n",
    "\n",
    "Airbnb (New York City)\n",
    "- 미국 NYC Airbnb 목록(2019)\n",
    "- 프로젝트 목적: 가격 예측(price)\n",
    "-제공 데이터(3개): train.csv, test.csv, y_test(최종 채점용)\n",
    "-평가 방식 MSE(평균 제곱 오차/실제 값과 예측값 차이) -> 제곱해 평균\n",
    "License CC0: Public Domain"
   ]
  },
  {
   "cell_type": "markdown",
   "id": "2fc5e9d0",
   "metadata": {},
   "source": [
    "### 노드의 baseline 및 tip 성능 표시\n",
    "#### baseline     \n",
    "MSE 51046\n",
    "\n",
    "#### tip     \n",
    "MSE 42778"
   ]
  },
  {
   "cell_type": "markdown",
   "id": "13eaca3d",
   "metadata": {},
   "source": [
    "## 2. 조원들과 공유 후 적용한 아이디어 \n",
    "#### <span style = \"color:orange;\"> (코드 진행과정에서 \"스스로 아이디어를 적용한 부분\"과 \"알게 된 부분\"은 주황색으로 표시)</span> \n",
    "\n",
    "\n",
    "1. 검증용 데이터 비율이 노드에서는 8:2 이었다. 이걸 7:3으로 조정하면?\n",
    "2. 하이퍼파라미터를 GridSearchCV나 RandomizedSearchCV로 찾아 조절해보면?\n",
    "3. 캐글의 다른 사람들의 분석한 자료들을 보며 적용할 부분 찾기"
   ]
  },
  {
   "cell_type": "markdown",
   "id": "9a12bc34",
   "metadata": {},
   "source": [
    "## 3. 적용과정(강사님의 tip영상의 진행 순서 + 중간중간 아이디어 적용)\n",
    "#### <span style = \"color:orange;\"> 코드 진행 기본 흐름은 노드 강사님의 tip 영상 흐름과 동일합니다</span> \n",
    "#### <span style = \"color:orange;\"> (코드 진행과정에서 \"스스로 아이디어를 적용한 부분\"과 \"알게 된 부분\"은 주황색으로 표시)</span> "
   ]
  },
  {
   "cell_type": "markdown",
   "id": "69e68543",
   "metadata": {},
   "source": [
    "### Step 1. 라이브러리와 데이터 불러오기"
   ]
  },
  {
   "cell_type": "code",
   "execution_count": 33,
   "id": "3f5bec08",
   "metadata": {},
   "outputs": [],
   "source": [
    "# 라이브러리 \n",
    "import pandas as pd"
   ]
  },
  {
   "cell_type": "code",
   "execution_count": 34,
   "id": "1fa667a2",
   "metadata": {},
   "outputs": [],
   "source": [
    "# 데이터 불러오기\n",
    "train = pd.read_csv('/aiffel/data/train.csv')\n",
    "test = pd.read_csv('/aiffel/data/test.csv')"
   ]
  },
  {
   "cell_type": "markdown",
   "id": "f6bca1d6",
   "metadata": {},
   "source": [
    "### Step 2. EDA"
   ]
  },
  {
   "cell_type": "code",
   "execution_count": 35,
   "id": "387f8859",
   "metadata": {},
   "outputs": [
    {
     "data": {
      "text/plain": [
       "((39116, 16), (9779, 15))"
      ]
     },
     "execution_count": 35,
     "metadata": {},
     "output_type": "execute_result"
    }
   ],
   "source": [
    "# 데이터 크기\n",
    "train.shape, test.shape"
   ]
  },
  {
   "cell_type": "code",
   "execution_count": 36,
   "id": "f06f03b5",
   "metadata": {},
   "outputs": [
    {
     "data": {
      "text/html": [
       "<div>\n",
       "<style scoped>\n",
       "    .dataframe tbody tr th:only-of-type {\n",
       "        vertical-align: middle;\n",
       "    }\n",
       "\n",
       "    .dataframe tbody tr th {\n",
       "        vertical-align: top;\n",
       "    }\n",
       "\n",
       "    .dataframe thead th {\n",
       "        text-align: right;\n",
       "    }\n",
       "</style>\n",
       "<table border=\"1\" class=\"dataframe\">\n",
       "  <thead>\n",
       "    <tr style=\"text-align: right;\">\n",
       "      <th></th>\n",
       "      <th>id</th>\n",
       "      <th>name</th>\n",
       "      <th>host_id</th>\n",
       "      <th>host_name</th>\n",
       "      <th>neighbourhood_group</th>\n",
       "      <th>neighbourhood</th>\n",
       "      <th>latitude</th>\n",
       "      <th>longitude</th>\n",
       "      <th>room_type</th>\n",
       "      <th>price</th>\n",
       "      <th>minimum_nights</th>\n",
       "      <th>number_of_reviews</th>\n",
       "      <th>last_review</th>\n",
       "      <th>reviews_per_month</th>\n",
       "      <th>calculated_host_listings_count</th>\n",
       "      <th>availability_365</th>\n",
       "    </tr>\n",
       "  </thead>\n",
       "  <tbody>\n",
       "    <tr>\n",
       "      <th>0</th>\n",
       "      <td>14963583</td>\n",
       "      <td>Room in South Harlem near Central Park</td>\n",
       "      <td>94219511</td>\n",
       "      <td>Gilles</td>\n",
       "      <td>Manhattan</td>\n",
       "      <td>Harlem</td>\n",
       "      <td>40.80167</td>\n",
       "      <td>-73.95781</td>\n",
       "      <td>Private room</td>\n",
       "      <td>70</td>\n",
       "      <td>3</td>\n",
       "      <td>3</td>\n",
       "      <td>2019-01-01</td>\n",
       "      <td>0.09</td>\n",
       "      <td>2</td>\n",
       "      <td>0</td>\n",
       "    </tr>\n",
       "    <tr>\n",
       "      <th>1</th>\n",
       "      <td>9458704</td>\n",
       "      <td>Large 1BR Apartment, near Times Sq (2nd Floor)</td>\n",
       "      <td>49015331</td>\n",
       "      <td>Iradj</td>\n",
       "      <td>Manhattan</td>\n",
       "      <td>Hell's Kitchen</td>\n",
       "      <td>40.76037</td>\n",
       "      <td>-73.99016</td>\n",
       "      <td>Entire home/apt</td>\n",
       "      <td>240</td>\n",
       "      <td>2</td>\n",
       "      <td>64</td>\n",
       "      <td>2019-06-30</td>\n",
       "      <td>1.68</td>\n",
       "      <td>2</td>\n",
       "      <td>262</td>\n",
       "    </tr>\n",
       "  </tbody>\n",
       "</table>\n",
       "</div>"
      ],
      "text/plain": [
       "         id                                            name   host_id  \\\n",
       "0  14963583          Room in South Harlem near Central Park  94219511   \n",
       "1   9458704  Large 1BR Apartment, near Times Sq (2nd Floor)  49015331   \n",
       "\n",
       "  host_name neighbourhood_group   neighbourhood  latitude  longitude  \\\n",
       "0    Gilles           Manhattan          Harlem  40.80167  -73.95781   \n",
       "1     Iradj           Manhattan  Hell's Kitchen  40.76037  -73.99016   \n",
       "\n",
       "         room_type  price  minimum_nights  number_of_reviews last_review  \\\n",
       "0     Private room     70               3                  3  2019-01-01   \n",
       "1  Entire home/apt    240               2                 64  2019-06-30   \n",
       "\n",
       "   reviews_per_month  calculated_host_listings_count  availability_365  \n",
       "0               0.09                               2                 0  \n",
       "1               1.68                               2               262  "
      ]
     },
     "metadata": {},
     "output_type": "display_data"
    },
    {
     "data": {
      "text/html": [
       "<div>\n",
       "<style scoped>\n",
       "    .dataframe tbody tr th:only-of-type {\n",
       "        vertical-align: middle;\n",
       "    }\n",
       "\n",
       "    .dataframe tbody tr th {\n",
       "        vertical-align: top;\n",
       "    }\n",
       "\n",
       "    .dataframe thead th {\n",
       "        text-align: right;\n",
       "    }\n",
       "</style>\n",
       "<table border=\"1\" class=\"dataframe\">\n",
       "  <thead>\n",
       "    <tr style=\"text-align: right;\">\n",
       "      <th></th>\n",
       "      <th>id</th>\n",
       "      <th>name</th>\n",
       "      <th>host_id</th>\n",
       "      <th>host_name</th>\n",
       "      <th>neighbourhood_group</th>\n",
       "      <th>neighbourhood</th>\n",
       "      <th>latitude</th>\n",
       "      <th>longitude</th>\n",
       "      <th>room_type</th>\n",
       "      <th>minimum_nights</th>\n",
       "      <th>number_of_reviews</th>\n",
       "      <th>last_review</th>\n",
       "      <th>reviews_per_month</th>\n",
       "      <th>calculated_host_listings_count</th>\n",
       "      <th>availability_365</th>\n",
       "    </tr>\n",
       "  </thead>\n",
       "  <tbody>\n",
       "    <tr>\n",
       "      <th>0</th>\n",
       "      <td>30913224</td>\n",
       "      <td>Cozy and Sunny Room Williamsburg, Luxury Building</td>\n",
       "      <td>33771081</td>\n",
       "      <td>Rémy</td>\n",
       "      <td>Brooklyn</td>\n",
       "      <td>Williamsburg</td>\n",
       "      <td>40.70959</td>\n",
       "      <td>-73.94652</td>\n",
       "      <td>Private room</td>\n",
       "      <td>3</td>\n",
       "      <td>2</td>\n",
       "      <td>2019-05-08</td>\n",
       "      <td>0.31</td>\n",
       "      <td>1</td>\n",
       "      <td>0</td>\n",
       "    </tr>\n",
       "    <tr>\n",
       "      <th>1</th>\n",
       "      <td>971247</td>\n",
       "      <td>Sunny Artist Live/Work Apartment</td>\n",
       "      <td>5308961</td>\n",
       "      <td>Larry</td>\n",
       "      <td>Manhattan</td>\n",
       "      <td>Upper West Side</td>\n",
       "      <td>40.79368</td>\n",
       "      <td>-73.96487</td>\n",
       "      <td>Entire home/apt</td>\n",
       "      <td>3</td>\n",
       "      <td>159</td>\n",
       "      <td>2019-07-03</td>\n",
       "      <td>2.09</td>\n",
       "      <td>1</td>\n",
       "      <td>244</td>\n",
       "    </tr>\n",
       "  </tbody>\n",
       "</table>\n",
       "</div>"
      ],
      "text/plain": [
       "         id                                               name   host_id  \\\n",
       "0  30913224  Cozy and Sunny Room Williamsburg, Luxury Building  33771081   \n",
       "1    971247                   Sunny Artist Live/Work Apartment   5308961   \n",
       "\n",
       "  host_name neighbourhood_group    neighbourhood  latitude  longitude  \\\n",
       "0      Rémy            Brooklyn     Williamsburg  40.70959  -73.94652   \n",
       "1     Larry           Manhattan  Upper West Side  40.79368  -73.96487   \n",
       "\n",
       "         room_type  minimum_nights  number_of_reviews last_review  \\\n",
       "0     Private room               3                  2  2019-05-08   \n",
       "1  Entire home/apt               3                159  2019-07-03   \n",
       "\n",
       "   reviews_per_month  calculated_host_listings_count  availability_365  \n",
       "0               0.31                               1                 0  \n",
       "1               2.09                               1               244  "
      ]
     },
     "metadata": {},
     "output_type": "display_data"
    }
   ],
   "source": [
    "# 데이터 샘플\n",
    "display(train.head(2))\n",
    "display(test.head(2))"
   ]
  },
  {
   "cell_type": "markdown",
   "id": "91d35ba0",
   "metadata": {},
   "source": [
    "## <span style = \"color:orange;\"> 새로 알게 된 부분: display</span> \n",
    "display는 하나의 셀에서 두 데이터를 보고 싶을 때 사용하는 것 같다    \n",
    "train.head(2)와 test.head(2)를 한 셀에서 실행시키면 test.head(2)만 나온다    \n",
    "-> 공식문서나 다른 블로그에서 display에 대한 부분을 설명해놓은 곳이 있나 찾아봤는데 적절한 건 찾지 못했다"
   ]
  },
  {
   "cell_type": "code",
   "execution_count": 37,
   "id": "ebb60d66",
   "metadata": {},
   "outputs": [
    {
     "name": "stdout",
     "output_type": "stream",
     "text": [
      "<class 'pandas.core.frame.DataFrame'>\n",
      "RangeIndex: 39116 entries, 0 to 39115\n",
      "Data columns (total 16 columns):\n",
      " #   Column                          Non-Null Count  Dtype  \n",
      "---  ------                          --------------  -----  \n",
      " 0   id                              39116 non-null  int64  \n",
      " 1   name                            39104 non-null  object \n",
      " 2   host_id                         39116 non-null  int64  \n",
      " 3   host_name                       39099 non-null  object \n",
      " 4   neighbourhood_group             39116 non-null  object \n",
      " 5   neighbourhood                   39116 non-null  object \n",
      " 6   latitude                        39116 non-null  float64\n",
      " 7   longitude                       39116 non-null  float64\n",
      " 8   room_type                       39116 non-null  object \n",
      " 9   price                           39116 non-null  int64  \n",
      " 10  minimum_nights                  39116 non-null  int64  \n",
      " 11  number_of_reviews               39116 non-null  int64  \n",
      " 12  last_review                     31122 non-null  object \n",
      " 13  reviews_per_month               31122 non-null  float64\n",
      " 14  calculated_host_listings_count  39116 non-null  int64  \n",
      " 15  availability_365                39116 non-null  int64  \n",
      "dtypes: float64(3), int64(7), object(6)\n",
      "memory usage: 4.8+ MB\n"
     ]
    }
   ],
   "source": [
    "# 데이터 타입\n",
    "train.info()"
   ]
  },
  {
   "cell_type": "code",
   "execution_count": 38,
   "id": "1578226e",
   "metadata": {},
   "outputs": [
    {
     "data": {
      "text/plain": [
       "id                                   0\n",
       "name                                12\n",
       "host_id                              0\n",
       "host_name                           17\n",
       "neighbourhood_group                  0\n",
       "neighbourhood                        0\n",
       "latitude                             0\n",
       "longitude                            0\n",
       "room_type                            0\n",
       "price                                0\n",
       "minimum_nights                       0\n",
       "number_of_reviews                    0\n",
       "last_review                       7994\n",
       "reviews_per_month                 7994\n",
       "calculated_host_listings_count       0\n",
       "availability_365                     0\n",
       "dtype: int64"
      ]
     },
     "execution_count": 38,
     "metadata": {},
     "output_type": "execute_result"
    }
   ],
   "source": [
    "# 결측치(train)\n",
    "train.isnull().sum()"
   ]
  },
  {
   "cell_type": "code",
   "execution_count": 39,
   "id": "0e11554d",
   "metadata": {},
   "outputs": [
    {
     "data": {
      "text/plain": [
       "id                                   0\n",
       "name                                 4\n",
       "host_id                              0\n",
       "host_name                            4\n",
       "neighbourhood_group                  0\n",
       "neighbourhood                        0\n",
       "latitude                             0\n",
       "longitude                            0\n",
       "room_type                            0\n",
       "minimum_nights                       0\n",
       "number_of_reviews                    0\n",
       "last_review                       2058\n",
       "reviews_per_month                 2058\n",
       "calculated_host_listings_count       0\n",
       "availability_365                     0\n",
       "dtype: int64"
      ]
     },
     "execution_count": 39,
     "metadata": {},
     "output_type": "execute_result"
    }
   ],
   "source": [
    "# 결측치(test)\n",
    "test.isnull().sum()"
   ]
  },
  {
   "cell_type": "code",
   "execution_count": 40,
   "id": "7334f288",
   "metadata": {},
   "outputs": [
    {
     "data": {
      "text/plain": [
       "<AxesSubplot:>"
      ]
     },
     "execution_count": 40,
     "metadata": {},
     "output_type": "execute_result"
    },
    {
     "data": {
      "image/png": "[encoded data removed]",
      "text/plain": [
       "<Figure size 432x288 with 1 Axes>"
      ]
     },
     "metadata": {
      "needs_background": "light"
     },
     "output_type": "display_data"
    }
   ],
   "source": [
    "# target(hist)\n",
    "train['price'].hist(bins=100)"
   ]
  },
  {
   "cell_type": "markdown",
   "id": "cfbc4cb8",
   "metadata": {},
   "source": [
    "금액의 분포가 좌측으로 쏠려있는 것을 알 수 있다"
   ]
  },
  {
   "cell_type": "code",
   "execution_count": 41,
   "id": "beb65b64",
   "metadata": {},
   "outputs": [
    {
     "data": {
      "text/plain": [
       "count    39116.000000\n",
       "mean       152.751150\n",
       "std        241.752501\n",
       "min          0.000000\n",
       "25%         69.000000\n",
       "50%        105.000000\n",
       "75%        175.000000\n",
       "max      10000.000000\n",
       "Name: price, dtype: float64"
      ]
     },
     "execution_count": 41,
     "metadata": {},
     "output_type": "execute_result"
    }
   ],
   "source": [
    "# target(describe)로 가격에 대한 정보를 살펴보자\n",
    "train['price'].describe()"
   ]
  },
  {
   "cell_type": "code",
   "execution_count": 42,
   "id": "607d0bba",
   "metadata": {},
   "outputs": [
    {
     "data": {
      "text/plain": [
       "219517861    256\n",
       "107434423    181\n",
       "30283594      99\n",
       "137358866     82\n",
       "12243051      80\n",
       "            ... \n",
       "73369106       1\n",
       "26620387       1\n",
       "176660539      1\n",
       "26004891       1\n",
       "2609535        1\n",
       "Name: host_id, Length: 30845, dtype: int64"
      ]
     },
     "execution_count": 42,
     "metadata": {},
     "output_type": "execute_result"
    }
   ],
   "source": [
    "# 피처(host_id)\n",
    "train['host_id'].value_counts()"
   ]
  },
  {
   "cell_type": "markdown",
   "id": "d3327bd2",
   "metadata": {},
   "source": [
    "host_id가 중복되는 것들이 얼마나 많은지 알 수 있다"
   ]
  },
  {
   "cell_type": "markdown",
   "id": "b3ddb19a",
   "metadata": {},
   "source": [
    "### Step 3. 데이터 전처리"
   ]
  },
  {
   "cell_type": "markdown",
   "id": "17496d59",
   "metadata": {},
   "source": [
    "### 1. price를 로그데이터로 바꾸기\n",
    "왜? price의 히스토그램을 봤을 때 가격의 분포가 좌측에 몰려있어서\n"
   ]
  },
  {
   "cell_type": "code",
   "execution_count": 43,
   "id": "c2dbc759",
   "metadata": {},
   "outputs": [
    {
     "name": "stdout",
     "output_type": "stream",
     "text": [
      "0     70\n",
      "1    240\n",
      "2    150\n",
      "Name: price, dtype: int64\n",
      "0    4.262680\n",
      "1    5.484797\n",
      "2    5.017280\n",
      "Name: price, dtype: float64\n",
      "0     70.0\n",
      "1    240.0\n",
      "2    150.0\n",
      "Name: price, dtype: float64\n"
     ]
    }
   ],
   "source": [
    "import numpy as np\n",
    "print(train['price'][:3])\n",
    "print(np.log1p(train['price'])[:3]) # 로그로 치환해주는 함수\n",
    "print(np.expm1(np.log1p(train['price'])[:3])) # 로그로 치환된 값을 다시 원래의 수로 돌려주는 함수"
   ]
  },
  {
   "cell_type": "markdown",
   "id": "77ede2b4",
   "metadata": {},
   "source": [
    "## <span style = \"color:orange;\"> 새로 알게 된 부분: 자자, 로그데이터로 바꾼다는게 무슨 뜻이냐</span> \n",
    "로그로 치환?"
   ]
  },
  {
   "cell_type": "markdown",
   "id": "2dbf9f25",
   "metadata": {},
   "source": [
    "numpy.log1p()    \n",
    "진수에 1을 더해준다. 보통 진수가 0이 되는 것을 방지하기 위해 사용한다\n",
    "\n",
    "print(np.log1p(0))    \n",
    "-> 0.0\n",
    "\n",
    "print(np.log1p(np.e-1))     \n",
    "-> 1.0\n",
    "\n",
    "0을 넣으면 +1이 자동으로 되어 0.0을 반환한다    \n",
    "e-1을 넣으면 +1이 자동으로 되어 1.0을 반환한다. 밑이 e인 자연로그라고 한다"
   ]
  },
  {
   "cell_type": "code",
   "execution_count": 44,
   "id": "e061ce07",
   "metadata": {},
   "outputs": [
    {
     "data": {
      "text/plain": [
       "<AxesSubplot:>"
      ]
     },
     "execution_count": 44,
     "metadata": {},
     "output_type": "execute_result"
    },
    {
     "data": {
      "image/png": "[encoded data removed]",
      "text/plain": [
       "<Figure size 432x288 with 1 Axes>"
      ]
     },
     "metadata": {
      "needs_background": "light"
     },
     "output_type": "display_data"
    }
   ],
   "source": [
    "train['price'] = np.log1p(train['price']) # 전체 price 컬럼에 로그데이터 함수 적용\n",
    "train['price'].hist(bins=100)"
   ]
  },
  {
   "cell_type": "markdown",
   "id": "e6fbe54c",
   "metadata": {},
   "source": [
    "이렇게 하면 아까 히스토그램보다 좀 더 고른 분포를 보여준다 = 정규분포에 가깝다"
   ]
  },
  {
   "cell_type": "markdown",
   "id": "619fa0b7",
   "metadata": {},
   "source": [
    "### 2. 결측치가 있는 컬럼 삭제, 결측치를 채울 수 있는 컬럼은 채우기"
   ]
  },
  {
   "cell_type": "code",
   "execution_count": 45,
   "id": "3623b379",
   "metadata": {},
   "outputs": [],
   "source": [
    "# 결측치가 있던 컬럼 삭제 (last_review 컬럼) -> 채울 수가 없을 것 같아서 삭제 \n",
    "train = train.drop('last_review', axis=1)\n",
    "test = test.drop('last_review', axis=1)"
   ]
  },
  {
   "cell_type": "code",
   "execution_count": 46,
   "id": "25f4cba9",
   "metadata": {},
   "outputs": [],
   "source": [
    "# 결측치 채우기 (reviews_per_month 컬럼) -> 이 컬럼은 0으로 채워보자 \n",
    "train['reviews_per_month'] = train['reviews_per_month'].fillna(0)\n",
    "test['reviews_per_month'] = test['reviews_per_month'].fillna(0)"
   ]
  },
  {
   "cell_type": "code",
   "execution_count": 47,
   "id": "6373a863",
   "metadata": {},
   "outputs": [
    {
     "data": {
      "text/plain": [
       "id                                 0\n",
       "name                              12\n",
       "host_id                            0\n",
       "host_name                         17\n",
       "neighbourhood_group                0\n",
       "neighbourhood                      0\n",
       "latitude                           0\n",
       "longitude                          0\n",
       "room_type                          0\n",
       "price                              0\n",
       "minimum_nights                     0\n",
       "number_of_reviews                  0\n",
       "reviews_per_month                  0\n",
       "calculated_host_listings_count     0\n",
       "availability_365                   0\n",
       "dtype: int64"
      ]
     },
     "execution_count": 47,
     "metadata": {},
     "output_type": "execute_result"
    }
   ],
   "source": [
    "# 결측치 확인\n",
    "train.isnull().sum()"
   ]
  },
  {
   "cell_type": "markdown",
   "id": "1b2b5786",
   "metadata": {},
   "source": [
    "### 3. 수치형 데이터, 범주형데이터 분리후 전처리\n",
    "수치형 데이터는 정규화(MinMaxScaler)     \n",
    "범주형 데이터는 레이블 인코딩"
   ]
  },
  {
   "cell_type": "markdown",
   "id": "aa4f42d2",
   "metadata": {},
   "source": [
    "수치형 데이터 확인"
   ]
  },
  {
   "cell_type": "code",
   "execution_count": 48,
   "id": "cd04c1d0",
   "metadata": {},
   "outputs": [],
   "source": [
    "# 수치형 피처 선택\n",
    "# 수치형 데이터와 범주형 데이터 분리 후 민맥스 스케일링 적용할 계획\n",
    "n_train = train.select_dtypes(exclude='object').copy()\n",
    "c_train = train.select_dtypes(include='object').copy()\n",
    "n_test = test.select_dtypes(exclude='object').copy()\n",
    "c_test = test.select_dtypes(include='object').copy()"
   ]
  },
  {
   "cell_type": "markdown",
   "id": "5102f16a",
   "metadata": {},
   "source": [
    "## <span style = \"color:orange;\"> 새로 알게 된 부분: select_dtyes</span>\n",
    "\n",
    "공식문서에는 Return a subset of the DataFrame’s columns based on the column dtypes. 이라고 되어 있다    \n",
    "subset은 부분집합으로 컬럼의 데이터타입에 기초해 데이터프레임의 부분집합을 출력한다고 이해했다    \n",
    "\n",
    "\n",
    "찾아본 자료의 예시를 적어보면    \n",
    "#### 데이터프레임에서 숫자형이 아닌 컬럼만 가져오는 경우     \n",
    "df = df.select_dtypes(include='object')\n",
    "   \n",
    "#### 데이터프레임에서 숫자형 컬럼만 가지고 오는 경우     \n",
    "df = df.select_dtypes(exclude='object')\n",
    "\n",
    "df = df.select_dtypes(include=['int64', 'float64'])\n"
   ]
  },
  {
   "cell_type": "code",
   "execution_count": 49,
   "id": "98537bbc",
   "metadata": {},
   "outputs": [
    {
     "data": {
      "text/html": [
       "<div>\n",
       "<style scoped>\n",
       "    .dataframe tbody tr th:only-of-type {\n",
       "        vertical-align: middle;\n",
       "    }\n",
       "\n",
       "    .dataframe tbody tr th {\n",
       "        vertical-align: top;\n",
       "    }\n",
       "\n",
       "    .dataframe thead th {\n",
       "        text-align: right;\n",
       "    }\n",
       "</style>\n",
       "<table border=\"1\" class=\"dataframe\">\n",
       "  <thead>\n",
       "    <tr style=\"text-align: right;\">\n",
       "      <th></th>\n",
       "      <th>id</th>\n",
       "      <th>host_id</th>\n",
       "      <th>latitude</th>\n",
       "      <th>longitude</th>\n",
       "      <th>price</th>\n",
       "      <th>minimum_nights</th>\n",
       "      <th>number_of_reviews</th>\n",
       "      <th>reviews_per_month</th>\n",
       "      <th>calculated_host_listings_count</th>\n",
       "      <th>availability_365</th>\n",
       "    </tr>\n",
       "  </thead>\n",
       "  <tbody>\n",
       "    <tr>\n",
       "      <th>count</th>\n",
       "      <td>3.911600e+04</td>\n",
       "      <td>3.911600e+04</td>\n",
       "      <td>39116.000000</td>\n",
       "      <td>39116.000000</td>\n",
       "      <td>39116.000000</td>\n",
       "      <td>39116.000000</td>\n",
       "      <td>39116.000000</td>\n",
       "      <td>39116.000000</td>\n",
       "      <td>39116.000000</td>\n",
       "      <td>39116.000000</td>\n",
       "    </tr>\n",
       "    <tr>\n",
       "      <th>mean</th>\n",
       "      <td>1.898464e+07</td>\n",
       "      <td>6.774143e+07</td>\n",
       "      <td>40.728848</td>\n",
       "      <td>-73.952125</td>\n",
       "      <td>4.737628</td>\n",
       "      <td>6.990720</td>\n",
       "      <td>23.272855</td>\n",
       "      <td>1.091963</td>\n",
       "      <td>7.090756</td>\n",
       "      <td>112.980826</td>\n",
       "    </tr>\n",
       "    <tr>\n",
       "      <th>std</th>\n",
       "      <td>1.099302e+07</td>\n",
       "      <td>7.881383e+07</td>\n",
       "      <td>0.054499</td>\n",
       "      <td>0.046354</td>\n",
       "      <td>0.694731</td>\n",
       "      <td>20.310323</td>\n",
       "      <td>44.589170</td>\n",
       "      <td>1.600772</td>\n",
       "      <td>32.661136</td>\n",
       "      <td>131.674306</td>\n",
       "    </tr>\n",
       "    <tr>\n",
       "      <th>min</th>\n",
       "      <td>2.539000e+03</td>\n",
       "      <td>2.438000e+03</td>\n",
       "      <td>40.499790</td>\n",
       "      <td>-74.244420</td>\n",
       "      <td>0.000000</td>\n",
       "      <td>1.000000</td>\n",
       "      <td>0.000000</td>\n",
       "      <td>0.000000</td>\n",
       "      <td>1.000000</td>\n",
       "      <td>0.000000</td>\n",
       "    </tr>\n",
       "    <tr>\n",
       "      <th>25%</th>\n",
       "      <td>9.412608e+06</td>\n",
       "      <td>7.834978e+06</td>\n",
       "      <td>40.690038</td>\n",
       "      <td>-73.983190</td>\n",
       "      <td>4.248495</td>\n",
       "      <td>1.000000</td>\n",
       "      <td>1.000000</td>\n",
       "      <td>0.040000</td>\n",
       "      <td>1.000000</td>\n",
       "      <td>0.000000</td>\n",
       "    </tr>\n",
       "    <tr>\n",
       "      <th>50%</th>\n",
       "      <td>1.963650e+07</td>\n",
       "      <td>3.070949e+07</td>\n",
       "      <td>40.723000</td>\n",
       "      <td>-73.955740</td>\n",
       "      <td>4.663439</td>\n",
       "      <td>2.000000</td>\n",
       "      <td>5.000000</td>\n",
       "      <td>0.370000</td>\n",
       "      <td>1.000000</td>\n",
       "      <td>45.000000</td>\n",
       "    </tr>\n",
       "    <tr>\n",
       "      <th>75%</th>\n",
       "      <td>2.913445e+07</td>\n",
       "      <td>1.074344e+08</td>\n",
       "      <td>40.762943</td>\n",
       "      <td>-73.936338</td>\n",
       "      <td>5.170484</td>\n",
       "      <td>5.000000</td>\n",
       "      <td>23.000000</td>\n",
       "      <td>1.590000</td>\n",
       "      <td>2.000000</td>\n",
       "      <td>228.000000</td>\n",
       "    </tr>\n",
       "    <tr>\n",
       "      <th>max</th>\n",
       "      <td>3.648561e+07</td>\n",
       "      <td>2.743213e+08</td>\n",
       "      <td>40.912340</td>\n",
       "      <td>-73.712990</td>\n",
       "      <td>9.210440</td>\n",
       "      <td>1250.000000</td>\n",
       "      <td>629.000000</td>\n",
       "      <td>58.500000</td>\n",
       "      <td>327.000000</td>\n",
       "      <td>365.000000</td>\n",
       "    </tr>\n",
       "  </tbody>\n",
       "</table>\n",
       "</div>"
      ],
      "text/plain": [
       "                 id       host_id      latitude     longitude         price  \\\n",
       "count  3.911600e+04  3.911600e+04  39116.000000  39116.000000  39116.000000   \n",
       "mean   1.898464e+07  6.774143e+07     40.728848    -73.952125      4.737628   \n",
       "std    1.099302e+07  7.881383e+07      0.054499      0.046354      0.694731   \n",
       "min    2.539000e+03  2.438000e+03     40.499790    -74.244420      0.000000   \n",
       "25%    9.412608e+06  7.834978e+06     40.690038    -73.983190      4.248495   \n",
       "50%    1.963650e+07  3.070949e+07     40.723000    -73.955740      4.663439   \n",
       "75%    2.913445e+07  1.074344e+08     40.762943    -73.936338      5.170484   \n",
       "max    3.648561e+07  2.743213e+08     40.912340    -73.712990      9.210440   \n",
       "\n",
       "       minimum_nights  number_of_reviews  reviews_per_month  \\\n",
       "count    39116.000000       39116.000000       39116.000000   \n",
       "mean         6.990720          23.272855           1.091963   \n",
       "std         20.310323          44.589170           1.600772   \n",
       "min          1.000000           0.000000           0.000000   \n",
       "25%          1.000000           1.000000           0.040000   \n",
       "50%          2.000000           5.000000           0.370000   \n",
       "75%          5.000000          23.000000           1.590000   \n",
       "max       1250.000000         629.000000          58.500000   \n",
       "\n",
       "       calculated_host_listings_count  availability_365  \n",
       "count                    39116.000000      39116.000000  \n",
       "mean                         7.090756        112.980826  \n",
       "std                         32.661136        131.674306  \n",
       "min                          1.000000          0.000000  \n",
       "25%                          1.000000          0.000000  \n",
       "50%                          1.000000         45.000000  \n",
       "75%                          2.000000        228.000000  \n",
       "max                        327.000000        365.000000  "
      ]
     },
     "execution_count": 49,
     "metadata": {},
     "output_type": "execute_result"
    }
   ],
   "source": [
    "n_train.describe()"
   ]
  },
  {
   "cell_type": "code",
   "execution_count": 50,
   "id": "7dc9d4b9",
   "metadata": {},
   "outputs": [
    {
     "data": {
      "text/html": [
       "<div>\n",
       "<style scoped>\n",
       "    .dataframe tbody tr th:only-of-type {\n",
       "        vertical-align: middle;\n",
       "    }\n",
       "\n",
       "    .dataframe tbody tr th {\n",
       "        vertical-align: top;\n",
       "    }\n",
       "\n",
       "    .dataframe thead th {\n",
       "        text-align: right;\n",
       "    }\n",
       "</style>\n",
       "<table border=\"1\" class=\"dataframe\">\n",
       "  <thead>\n",
       "    <tr style=\"text-align: right;\">\n",
       "      <th></th>\n",
       "      <th>id</th>\n",
       "      <th>host_id</th>\n",
       "      <th>latitude</th>\n",
       "      <th>longitude</th>\n",
       "      <th>price</th>\n",
       "      <th>minimum_nights</th>\n",
       "      <th>number_of_reviews</th>\n",
       "      <th>reviews_per_month</th>\n",
       "      <th>calculated_host_listings_count</th>\n",
       "      <th>availability_365</th>\n",
       "    </tr>\n",
       "  </thead>\n",
       "  <tbody>\n",
       "    <tr>\n",
       "      <th>0</th>\n",
       "      <td>14963583</td>\n",
       "      <td>94219511</td>\n",
       "      <td>40.80167</td>\n",
       "      <td>-73.95781</td>\n",
       "      <td>4.26268</td>\n",
       "      <td>3</td>\n",
       "      <td>3</td>\n",
       "      <td>0.09</td>\n",
       "      <td>2</td>\n",
       "      <td>0</td>\n",
       "    </tr>\n",
       "  </tbody>\n",
       "</table>\n",
       "</div>"
      ],
      "text/plain": [
       "         id   host_id  latitude  longitude    price  minimum_nights  \\\n",
       "0  14963583  94219511  40.80167  -73.95781  4.26268               3   \n",
       "\n",
       "   number_of_reviews  reviews_per_month  calculated_host_listings_count  \\\n",
       "0                  3               0.09                               2   \n",
       "\n",
       "   availability_365  \n",
       "0                 0  "
      ]
     },
     "metadata": {},
     "output_type": "display_data"
    },
    {
     "data": {
      "text/html": [
       "<div>\n",
       "<style scoped>\n",
       "    .dataframe tbody tr th:only-of-type {\n",
       "        vertical-align: middle;\n",
       "    }\n",
       "\n",
       "    .dataframe tbody tr th {\n",
       "        vertical-align: top;\n",
       "    }\n",
       "\n",
       "    .dataframe thead th {\n",
       "        text-align: right;\n",
       "    }\n",
       "</style>\n",
       "<table border=\"1\" class=\"dataframe\">\n",
       "  <thead>\n",
       "    <tr style=\"text-align: right;\">\n",
       "      <th></th>\n",
       "      <th>id</th>\n",
       "      <th>host_id</th>\n",
       "      <th>latitude</th>\n",
       "      <th>longitude</th>\n",
       "      <th>price</th>\n",
       "      <th>minimum_nights</th>\n",
       "      <th>number_of_reviews</th>\n",
       "      <th>reviews_per_month</th>\n",
       "      <th>calculated_host_listings_count</th>\n",
       "      <th>availability_365</th>\n",
       "    </tr>\n",
       "  </thead>\n",
       "  <tbody>\n",
       "    <tr>\n",
       "      <th>0</th>\n",
       "      <td>14963583</td>\n",
       "      <td>0.343458</td>\n",
       "      <td>0.731742</td>\n",
       "      <td>0.539318</td>\n",
       "      <td>4.26268</td>\n",
       "      <td>0.001601</td>\n",
       "      <td>0.004769</td>\n",
       "      <td>0.001538</td>\n",
       "      <td>0.003067</td>\n",
       "      <td>0.0</td>\n",
       "    </tr>\n",
       "  </tbody>\n",
       "</table>\n",
       "</div>"
      ],
      "text/plain": [
       "         id   host_id  latitude  longitude    price  minimum_nights  \\\n",
       "0  14963583  0.343458  0.731742   0.539318  4.26268        0.001601   \n",
       "\n",
       "   number_of_reviews  reviews_per_month  calculated_host_listings_count  \\\n",
       "0           0.004769           0.001538                        0.003067   \n",
       "\n",
       "   availability_365  \n",
       "0               0.0  "
      ]
     },
     "metadata": {},
     "output_type": "display_data"
    }
   ],
   "source": [
    "# 수치형 변수\n",
    "from sklearn.preprocessing import MinMaxScaler\n",
    "scaler = MinMaxScaler()\n",
    "cols = [\n",
    "    'host_id',\n",
    "    'latitude',\n",
    "    'longitude',\n",
    "    'minimum_nights',\n",
    "    'number_of_reviews',\n",
    "    'reviews_per_month',\n",
    "    'calculated_host_listings_count',\n",
    "    'availability_365'\n",
    "    \n",
    "]\n",
    "\n",
    "display(n_train.head(1))\n",
    "n_train[cols] = scaler.fit_transform(n_train[cols])\n",
    "n_test[cols] = scaler.transform(n_test[cols])\n",
    "display(n_train.head(1))\n"
   ]
  },
  {
   "cell_type": "markdown",
   "id": "c56178d2",
   "metadata": {},
   "source": [
    "MinMaxScaler가 적용된 것을 알 수 있다"
   ]
  },
  {
   "cell_type": "code",
   "execution_count": 51,
   "id": "e25c3ac6",
   "metadata": {},
   "outputs": [],
   "source": [
    "# 아이디 열 삭제\n",
    "\n",
    "n_train = n_train.drop('id', axis=1)\n",
    "n_test = n_test.drop('id', axis=1)"
   ]
  },
  {
   "cell_type": "markdown",
   "id": "ea6b66c7",
   "metadata": {},
   "source": [
    "범주형 데이터 확인"
   ]
  },
  {
   "cell_type": "code",
   "execution_count": 52,
   "id": "7363f81b",
   "metadata": {},
   "outputs": [
    {
     "data": {
      "text/html": [
       "<div>\n",
       "<style scoped>\n",
       "    .dataframe tbody tr th:only-of-type {\n",
       "        vertical-align: middle;\n",
       "    }\n",
       "\n",
       "    .dataframe tbody tr th {\n",
       "        vertical-align: top;\n",
       "    }\n",
       "\n",
       "    .dataframe thead th {\n",
       "        text-align: right;\n",
       "    }\n",
       "</style>\n",
       "<table border=\"1\" class=\"dataframe\">\n",
       "  <thead>\n",
       "    <tr style=\"text-align: right;\">\n",
       "      <th></th>\n",
       "      <th>name</th>\n",
       "      <th>host_name</th>\n",
       "      <th>neighbourhood_group</th>\n",
       "      <th>neighbourhood</th>\n",
       "      <th>room_type</th>\n",
       "    </tr>\n",
       "  </thead>\n",
       "  <tbody>\n",
       "    <tr>\n",
       "      <th>0</th>\n",
       "      <td>Room in South Harlem near Central Park</td>\n",
       "      <td>Gilles</td>\n",
       "      <td>Manhattan</td>\n",
       "      <td>Harlem</td>\n",
       "      <td>Private room</td>\n",
       "    </tr>\n",
       "  </tbody>\n",
       "</table>\n",
       "</div>"
      ],
      "text/plain": [
       "                                     name host_name neighbourhood_group  \\\n",
       "0  Room in South Harlem near Central Park    Gilles           Manhattan   \n",
       "\n",
       "  neighbourhood     room_type  \n",
       "0        Harlem  Private room  "
      ]
     },
     "execution_count": 52,
     "metadata": {},
     "output_type": "execute_result"
    }
   ],
   "source": [
    "c_train.head(1)\n",
    "# 아이디가 삭제된 것을 확인할 수 있다"
   ]
  },
  {
   "cell_type": "code",
   "execution_count": 53,
   "id": "eb0a2194",
   "metadata": {},
   "outputs": [
    {
     "data": {
      "text/html": [
       "<div>\n",
       "<style scoped>\n",
       "    .dataframe tbody tr th:only-of-type {\n",
       "        vertical-align: middle;\n",
       "    }\n",
       "\n",
       "    .dataframe tbody tr th {\n",
       "        vertical-align: top;\n",
       "    }\n",
       "\n",
       "    .dataframe thead th {\n",
       "        text-align: right;\n",
       "    }\n",
       "</style>\n",
       "<table border=\"1\" class=\"dataframe\">\n",
       "  <thead>\n",
       "    <tr style=\"text-align: right;\">\n",
       "      <th></th>\n",
       "      <th>name</th>\n",
       "      <th>host_name</th>\n",
       "      <th>neighbourhood_group</th>\n",
       "      <th>neighbourhood</th>\n",
       "      <th>room_type</th>\n",
       "    </tr>\n",
       "  </thead>\n",
       "  <tbody>\n",
       "    <tr>\n",
       "      <th>count</th>\n",
       "      <td>39104</td>\n",
       "      <td>39099</td>\n",
       "      <td>39116</td>\n",
       "      <td>39116</td>\n",
       "      <td>39116</td>\n",
       "    </tr>\n",
       "    <tr>\n",
       "      <th>unique</th>\n",
       "      <td>38420</td>\n",
       "      <td>9977</td>\n",
       "      <td>5</td>\n",
       "      <td>221</td>\n",
       "      <td>3</td>\n",
       "    </tr>\n",
       "    <tr>\n",
       "      <th>top</th>\n",
       "      <td>Home away from home</td>\n",
       "      <td>Michael</td>\n",
       "      <td>Manhattan</td>\n",
       "      <td>Williamsburg</td>\n",
       "      <td>Entire home/apt</td>\n",
       "    </tr>\n",
       "    <tr>\n",
       "      <th>freq</th>\n",
       "      <td>15</td>\n",
       "      <td>338</td>\n",
       "      <td>17331</td>\n",
       "      <td>3099</td>\n",
       "      <td>20299</td>\n",
       "    </tr>\n",
       "  </tbody>\n",
       "</table>\n",
       "</div>"
      ],
      "text/plain": [
       "                       name host_name neighbourhood_group neighbourhood  \\\n",
       "count                 39104     39099               39116         39116   \n",
       "unique                38420      9977                   5           221   \n",
       "top     Home away from home   Michael           Manhattan  Williamsburg   \n",
       "freq                     15       338               17331          3099   \n",
       "\n",
       "              room_type  \n",
       "count             39116  \n",
       "unique                3  \n",
       "top     Entire home/apt  \n",
       "freq              20299  "
      ]
     },
     "execution_count": 53,
     "metadata": {},
     "output_type": "execute_result"
    }
   ],
   "source": [
    "c_train.describe()"
   ]
  },
  {
   "cell_type": "markdown",
   "id": "7d0423e9",
   "metadata": {},
   "source": [
    "name과 host_name의 결측치 차이가 커서 두 컬럼은 삭제하고     \n",
    "나머지 세 컬럼에 대해서 레이블 인코딩 진행"
   ]
  },
  {
   "cell_type": "code",
   "execution_count": 54,
   "id": "c82cbd33",
   "metadata": {},
   "outputs": [
    {
     "data": {
      "text/html": [
       "<div>\n",
       "<style scoped>\n",
       "    .dataframe tbody tr th:only-of-type {\n",
       "        vertical-align: middle;\n",
       "    }\n",
       "\n",
       "    .dataframe tbody tr th {\n",
       "        vertical-align: top;\n",
       "    }\n",
       "\n",
       "    .dataframe thead th {\n",
       "        text-align: right;\n",
       "    }\n",
       "</style>\n",
       "<table border=\"1\" class=\"dataframe\">\n",
       "  <thead>\n",
       "    <tr style=\"text-align: right;\">\n",
       "      <th></th>\n",
       "      <th>name</th>\n",
       "      <th>host_name</th>\n",
       "      <th>neighbourhood_group</th>\n",
       "      <th>neighbourhood</th>\n",
       "      <th>room_type</th>\n",
       "    </tr>\n",
       "  </thead>\n",
       "  <tbody>\n",
       "    <tr>\n",
       "      <th>0</th>\n",
       "      <td>Room in South Harlem near Central Park</td>\n",
       "      <td>Gilles</td>\n",
       "      <td>Manhattan</td>\n",
       "      <td>Harlem</td>\n",
       "      <td>Private room</td>\n",
       "    </tr>\n",
       "  </tbody>\n",
       "</table>\n",
       "</div>"
      ],
      "text/plain": [
       "                                     name host_name neighbourhood_group  \\\n",
       "0  Room in South Harlem near Central Park    Gilles           Manhattan   \n",
       "\n",
       "  neighbourhood     room_type  \n",
       "0        Harlem  Private room  "
      ]
     },
     "metadata": {},
     "output_type": "display_data"
    },
    {
     "data": {
      "text/html": [
       "<div>\n",
       "<style scoped>\n",
       "    .dataframe tbody tr th:only-of-type {\n",
       "        vertical-align: middle;\n",
       "    }\n",
       "\n",
       "    .dataframe tbody tr th {\n",
       "        vertical-align: top;\n",
       "    }\n",
       "\n",
       "    .dataframe thead th {\n",
       "        text-align: right;\n",
       "    }\n",
       "</style>\n",
       "<table border=\"1\" class=\"dataframe\">\n",
       "  <thead>\n",
       "    <tr style=\"text-align: right;\">\n",
       "      <th></th>\n",
       "      <th>name</th>\n",
       "      <th>host_name</th>\n",
       "      <th>neighbourhood_group</th>\n",
       "      <th>neighbourhood</th>\n",
       "      <th>room_type</th>\n",
       "    </tr>\n",
       "  </thead>\n",
       "  <tbody>\n",
       "    <tr>\n",
       "      <th>0</th>\n",
       "      <td>Room in South Harlem near Central Park</td>\n",
       "      <td>Gilles</td>\n",
       "      <td>2</td>\n",
       "      <td>94</td>\n",
       "      <td>1</td>\n",
       "    </tr>\n",
       "  </tbody>\n",
       "</table>\n",
       "</div>"
      ],
      "text/plain": [
       "                                     name host_name  neighbourhood_group  \\\n",
       "0  Room in South Harlem near Central Park    Gilles                    2   \n",
       "\n",
       "   neighbourhood  room_type  \n",
       "0             94          1  "
      ]
     },
     "metadata": {},
     "output_type": "display_data"
    }
   ],
   "source": [
    "# 범주형 데이터 컬럼들 레이블 인코딩 진행\n",
    "from sklearn.preprocessing import LabelEncoder\n",
    "le = LabelEncoder()\n",
    "cols = [\n",
    "    'neighbourhood_group',\n",
    "    'neighbourhood',\n",
    "    'room_type'\n",
    "]\n",
    "\n",
    "display(c_train.head(1))\n",
    "for col in cols:\n",
    "    c_train[col] = le.fit_transform(c_train[col])\n",
    "    c_test[col] = le.transform(c_test[col])\n",
    "    \n",
    "display(c_train.head(1))"
   ]
  },
  {
   "cell_type": "code",
   "execution_count": 55,
   "id": "597729d3",
   "metadata": {},
   "outputs": [],
   "source": [
    "# 쓰지 않을 name, host_name 컬럼 삭제\n",
    "\n",
    "del_cols = ['name', 'host_name']\n",
    "c_train = c_train.drop(del_cols, axis=1)\n",
    "c_test = c_test.drop(del_cols, axis=1)"
   ]
  },
  {
   "cell_type": "code",
   "execution_count": 56,
   "id": "f27b131d",
   "metadata": {},
   "outputs": [
    {
     "name": "stdout",
     "output_type": "stream",
     "text": [
      "(39116, 12) (9779, 11)\n"
     ]
    },
    {
     "data": {
      "text/html": [
       "<div>\n",
       "<style scoped>\n",
       "    .dataframe tbody tr th:only-of-type {\n",
       "        vertical-align: middle;\n",
       "    }\n",
       "\n",
       "    .dataframe tbody tr th {\n",
       "        vertical-align: top;\n",
       "    }\n",
       "\n",
       "    .dataframe thead th {\n",
       "        text-align: right;\n",
       "    }\n",
       "</style>\n",
       "<table border=\"1\" class=\"dataframe\">\n",
       "  <thead>\n",
       "    <tr style=\"text-align: right;\">\n",
       "      <th></th>\n",
       "      <th>host_id</th>\n",
       "      <th>latitude</th>\n",
       "      <th>longitude</th>\n",
       "      <th>price</th>\n",
       "      <th>minimum_nights</th>\n",
       "      <th>number_of_reviews</th>\n",
       "      <th>reviews_per_month</th>\n",
       "      <th>calculated_host_listings_count</th>\n",
       "      <th>availability_365</th>\n",
       "      <th>neighbourhood_group</th>\n",
       "      <th>neighbourhood</th>\n",
       "      <th>room_type</th>\n",
       "    </tr>\n",
       "  </thead>\n",
       "  <tbody>\n",
       "    <tr>\n",
       "      <th>0</th>\n",
       "      <td>0.343458</td>\n",
       "      <td>0.731742</td>\n",
       "      <td>0.539318</td>\n",
       "      <td>4.262680</td>\n",
       "      <td>0.001601</td>\n",
       "      <td>0.004769</td>\n",
       "      <td>0.001538</td>\n",
       "      <td>0.003067</td>\n",
       "      <td>0.000000</td>\n",
       "      <td>2</td>\n",
       "      <td>94</td>\n",
       "      <td>1</td>\n",
       "    </tr>\n",
       "    <tr>\n",
       "      <th>1</th>\n",
       "      <td>0.178671</td>\n",
       "      <td>0.631633</td>\n",
       "      <td>0.478445</td>\n",
       "      <td>5.484797</td>\n",
       "      <td>0.000801</td>\n",
       "      <td>0.101749</td>\n",
       "      <td>0.028718</td>\n",
       "      <td>0.003067</td>\n",
       "      <td>0.717808</td>\n",
       "      <td>2</td>\n",
       "      <td>95</td>\n",
       "      <td>0</td>\n",
       "    </tr>\n",
       "    <tr>\n",
       "      <th>2</th>\n",
       "      <td>0.001595</td>\n",
       "      <td>0.558041</td>\n",
       "      <td>0.449354</td>\n",
       "      <td>5.017280</td>\n",
       "      <td>0.047238</td>\n",
       "      <td>0.001590</td>\n",
       "      <td>0.003419</td>\n",
       "      <td>0.000000</td>\n",
       "      <td>0.000000</td>\n",
       "      <td>2</td>\n",
       "      <td>209</td>\n",
       "      <td>0</td>\n",
       "    </tr>\n",
       "    <tr>\n",
       "      <th>3</th>\n",
       "      <td>0.013033</td>\n",
       "      <td>0.464162</td>\n",
       "      <td>0.579361</td>\n",
       "      <td>4.454347</td>\n",
       "      <td>0.002402</td>\n",
       "      <td>0.379968</td>\n",
       "      <td>0.049402</td>\n",
       "      <td>0.003067</td>\n",
       "      <td>0.002740</td>\n",
       "      <td>1</td>\n",
       "      <td>13</td>\n",
       "      <td>0</td>\n",
       "    </tr>\n",
       "    <tr>\n",
       "      <th>4</th>\n",
       "      <td>0.045468</td>\n",
       "      <td>0.458611</td>\n",
       "      <td>0.543571</td>\n",
       "      <td>3.806662</td>\n",
       "      <td>0.021617</td>\n",
       "      <td>0.000000</td>\n",
       "      <td>0.000000</td>\n",
       "      <td>0.000000</td>\n",
       "      <td>0.000000</td>\n",
       "      <td>1</td>\n",
       "      <td>13</td>\n",
       "      <td>1</td>\n",
       "    </tr>\n",
       "  </tbody>\n",
       "</table>\n",
       "</div>"
      ],
      "text/plain": [
       "    host_id  latitude  longitude     price  minimum_nights  number_of_reviews  \\\n",
       "0  0.343458  0.731742   0.539318  4.262680        0.001601           0.004769   \n",
       "1  0.178671  0.631633   0.478445  5.484797        0.000801           0.101749   \n",
       "2  0.001595  0.558041   0.449354  5.017280        0.047238           0.001590   \n",
       "3  0.013033  0.464162   0.579361  4.454347        0.002402           0.379968   \n",
       "4  0.045468  0.458611   0.543571  3.806662        0.021617           0.000000   \n",
       "\n",
       "   reviews_per_month  calculated_host_listings_count  availability_365  \\\n",
       "0           0.001538                        0.003067          0.000000   \n",
       "1           0.028718                        0.003067          0.717808   \n",
       "2           0.003419                        0.000000          0.000000   \n",
       "3           0.049402                        0.003067          0.002740   \n",
       "4           0.000000                        0.000000          0.000000   \n",
       "\n",
       "   neighbourhood_group  neighbourhood  room_type  \n",
       "0                    2             94          1  \n",
       "1                    2             95          0  \n",
       "2                    2            209          0  \n",
       "3                    1             13          0  \n",
       "4                    1             13          1  "
      ]
     },
     "execution_count": 56,
     "metadata": {},
     "output_type": "execute_result"
    }
   ],
   "source": [
    "# 분리한 데이터 다시 합치기\n",
    "train = pd.concat([n_train, c_train], axis=1)\n",
    "test = pd.concat([n_test, c_test], axis=1)\n",
    "print(train.shape, test.shape)\n",
    "train.head()"
   ]
  },
  {
   "cell_type": "code",
   "execution_count": 57,
   "id": "68d84367",
   "metadata": {},
   "outputs": [],
   "source": [
    "# 가격 값 복사\n",
    "target = train['price']\n",
    "train = train.drop('price', axis=1)"
   ]
  },
  {
   "cell_type": "markdown",
   "id": "c3be1a26",
   "metadata": {},
   "source": [
    "## <span style = \"color:orange;\"> 왜?</span>\n",
    "train data가 test data보다 컬럼이 1개 더 많았다. target 컬럼이 있었기 때문      \n",
    "여기에서는 target 컬럼이 price 컬럼     \n",
    "    \n",
    "머신러닝 모델에 학습을 시키기 위해서는 train data와 test data의 컬럼의 수가 동일해야 한다     \n",
    "그래서 train data의 price 컬럼을 target 이라는 변수에 옮겨 담아 놓고    \n",
    "train data에서는 price 컬럼을 빼주자     "
   ]
  },
  {
   "cell_type": "markdown",
   "id": "d0a69dc3",
   "metadata": {},
   "source": [
    "### Step 4. 검증데이터 분리"
   ]
  },
  {
   "cell_type": "markdown",
   "id": "68b3f644",
   "metadata": {},
   "source": [
    "### 노드에서의 검증데이터는 8:2로 분리"
   ]
  },
  {
   "cell_type": "code",
   "execution_count": 34,
   "id": "a7f6b52a",
   "metadata": {},
   "outputs": [
    {
     "data": {
      "text/plain": [
       "((31292, 11), (7824, 11), (31292,), (7824,))"
      ]
     },
     "execution_count": 34,
     "metadata": {},
     "output_type": "execute_result"
    }
   ],
   "source": [
    "# 검증 데이터 분리\n",
    "# from sklearn.model_selection import train_test_split\n",
    "\n",
    "# X_train, X_val, y_train, y_val = train_test_split(train, target, test_size=0.2, random_state=2022)\n",
    "# X_train.shape, X_val.shape, y_train.shape, y_val.shape"
   ]
  },
  {
   "cell_type": "markdown",
   "id": "9c12fe82",
   "metadata": {},
   "source": [
    "## <span style = \"color:orange;\"> 내가 시도해 본 부분: test_size를 7:3으로 분리하기</span>"
   ]
  },
  {
   "cell_type": "code",
   "execution_count": 58,
   "id": "b4f8128d",
   "metadata": {},
   "outputs": [
    {
     "data": {
      "text/plain": [
       "((27381, 11), (11735, 11), (27381,), (11735,))"
      ]
     },
     "execution_count": 58,
     "metadata": {},
     "output_type": "execute_result"
    }
   ],
   "source": [
    "# 검증 데이터 분리\n",
    "from sklearn.model_selection import train_test_split\n",
    "\n",
    "X_train, X_val, y_train, y_val = train_test_split(train, target, test_size=0.3, random_state=2022)\n",
    "X_train.shape, X_val.shape, y_train.shape, y_val.shape"
   ]
  },
  {
   "cell_type": "markdown",
   "id": "f4f06c25",
   "metadata": {},
   "source": [
    "## <span style = \"color:orange;\"> 내가 시도해 본 부분: RandomizedSearchCVd로 최적의 하이퍼파라미터 찾기</span>"
   ]
  },
  {
   "cell_type": "markdown",
   "id": "64bcc4d6",
   "metadata": {},
   "source": [
    "노드의 설명을 보면 xgboost의 하이퍼파라미터에는 아래와 같은 것들이 있다고 한다\n",
    "- booster (기본값: gbtree) : 부스팅 알고리즘(또는 dart, gblinear)\n",
    "- objective (기본값: binary:logistic) : 이진분류 (다중분류: multi:softmax)\n",
    "- max_depth (기본값: 6) : 최대 한도 깊이\n",
    "- learning_rate (기본값: 0.1) : 학습률\n",
    "- n_estimators (기본값: 100) : 트리의 수\n",
    "- subsample (기본값: 1) : 훈련 샘플 개수의 비율\n",
    "- colsample_bytree (기본값: 1) : 특성 개수의 비율\n",
    "- n_jobs (기본값: 1) : 사용 코어 수 (-1 : 모든 코어를 다 사용)"
   ]
  },
  {
   "cell_type": "code",
   "execution_count": 91,
   "id": "8b23d6ba",
   "metadata": {},
   "outputs": [],
   "source": [
    "from sklearn.model_selection import RandomizedSearchCV"
   ]
  },
  {
   "cell_type": "markdown",
   "id": "00b5dfb2",
   "metadata": {},
   "source": [
    "### 랜덤포레스트 하이퍼 파라미터 찾기"
   ]
  },
  {
   "cell_type": "code",
   "execution_count": 76,
   "id": "e38ab3d3",
   "metadata": {},
   "outputs": [],
   "source": [
    "#랜덤포레스트용_테스트해볼 파라미터 넣어주기\n",
    "params={'max_depth':[3, 5, 7],\n",
    "       'n_estimators':[100, 200, 300, 400, 500]\n",
    "       }"
   ]
  },
  {
   "cell_type": "code",
   "execution_count": 77,
   "id": "f10e9a0b",
   "metadata": {},
   "outputs": [],
   "source": [
    "#랜덤포레스트용_최적의 파라미터 찾기\n",
    "from sklearn.ensemble import RandomForestRegressor\n",
    "\n",
    "randonfr = RandomForestRegressor()"
   ]
  },
  {
   "cell_type": "code",
   "execution_count": 78,
   "id": "dee33f3c",
   "metadata": {},
   "outputs": [
    {
     "data": {
      "text/plain": [
       "RandomizedSearchCV(cv=3, estimator=RandomForestRegressor(), n_jobs=-1,\n",
       "                   param_distributions={'max_depth': [3, 5, 7],\n",
       "                                        'n_estimators': [100, 200, 300, 400,\n",
       "                                                         500]})"
      ]
     },
     "execution_count": 78,
     "metadata": {},
     "output_type": "execute_result"
    }
   ],
   "source": [
    "grid = RandomizedSearchCV(randonfr, params, cv=3, n_iter=10, n_jobs=-1)\n",
    "grid.fit(X_train, y_train)"
   ]
  },
  {
   "cell_type": "code",
   "execution_count": 79,
   "id": "9a7025ae",
   "metadata": {},
   "outputs": [
    {
     "data": {
      "text/plain": [
       "{'n_estimators': 500, 'max_depth': 7}"
      ]
     },
     "execution_count": 79,
     "metadata": {},
     "output_type": "execute_result"
    }
   ],
   "source": [
    "grid.best_params_"
   ]
  },
  {
   "cell_type": "markdown",
   "id": "fb1e6049",
   "metadata": {},
   "source": [
    "### XGBoost 하이퍼 파라미터 찾기_1번째 시도"
   ]
  },
  {
   "cell_type": "code",
   "execution_count": 60,
   "id": "86e5ae3a",
   "metadata": {},
   "outputs": [],
   "source": [
    "#XGBoost용 1번째 시도_테스트해볼 파라미터 넣어주기\n",
    "params={'learning_rate':[0.07, 0.05],\n",
    "       'max_depth':[3, 5, 7],\n",
    "       'n_estimators':[100, 200],\n",
    "       'subsample':[0.9, 0.8, 0.7]\n",
    "       }"
   ]
  },
  {
   "cell_type": "code",
   "execution_count": 62,
   "id": "c3aae548",
   "metadata": {},
   "outputs": [
    {
     "name": "stderr",
     "output_type": "stream",
     "text": [
      "/opt/conda/lib/python3.9/site-packages/pkg_resources/__init__.py:122: PkgResourcesDeprecationWarning: 0.996-ko-0.9.2 is an invalid version and will not be supported in a future release\n",
      "  warnings.warn(\n"
     ]
    }
   ],
   "source": [
    "# XGBoost용 1번째 시도_최적의 파라미터 찾기\n",
    "from xgboost import XGBRegressor\n",
    "xgb = XGBRegressor()"
   ]
  },
  {
   "cell_type": "code",
   "execution_count": 63,
   "id": "b3a6a664",
   "metadata": {},
   "outputs": [
    {
     "name": "stderr",
     "output_type": "stream",
     "text": [
      "/opt/conda/lib/python3.9/site-packages/pkg_resources/__init__.py:122: PkgResourcesDeprecationWarning: 0.996-ko-0.9.2 is an invalid version and will not be supported in a future release\n",
      "  warnings.warn(\n",
      "/opt/conda/lib/python3.9/site-packages/pkg_resources/__init__.py:122: PkgResourcesDeprecationWarning: 0.996-ko-0.9.2 is an invalid version and will not be supported in a future release\n",
      "  warnings.warn(\n"
     ]
    },
    {
     "data": {
      "text/plain": [
       "RandomizedSearchCV(cv=3,\n",
       "                   estimator=XGBRegressor(base_score=None, booster=None,\n",
       "                                          colsample_bylevel=None,\n",
       "                                          colsample_bynode=None,\n",
       "                                          colsample_bytree=None, gamma=None,\n",
       "                                          gpu_id=None, importance_type='gain',\n",
       "                                          interaction_constraints=None,\n",
       "                                          learning_rate=None,\n",
       "                                          max_delta_step=None, max_depth=None,\n",
       "                                          min_child_weight=None, missing=nan,\n",
       "                                          monotone_constraints=None,\n",
       "                                          n_estimators=100, n_jobs=None,\n",
       "                                          num_parallel_tree=None,\n",
       "                                          random_state=None, reg_alpha=None,\n",
       "                                          reg_lambda=None,\n",
       "                                          scale_pos_weight=None, subsample=None,\n",
       "                                          tree_method=None,\n",
       "                                          validate_parameters=None,\n",
       "                                          verbosity=None),\n",
       "                   n_jobs=-1,\n",
       "                   param_distributions={'learning_rate': [0.07, 0.05],\n",
       "                                        'max_depth': [3, 5, 7],\n",
       "                                        'n_estimators': [100, 200],\n",
       "                                        'subsample': [0.9, 0.8, 0.7]})"
      ]
     },
     "execution_count": 63,
     "metadata": {},
     "output_type": "execute_result"
    }
   ],
   "source": [
    "grid = RandomizedSearchCV(xgb, params, cv=3, n_iter=10, n_jobs=-1)\n",
    "grid.fit(X_train, y_train)"
   ]
  },
  {
   "cell_type": "code",
   "execution_count": 64,
   "id": "db46051b",
   "metadata": {},
   "outputs": [
    {
     "data": {
      "text/plain": [
       "{'subsample': 0.7, 'n_estimators': 200, 'max_depth': 5, 'learning_rate': 0.07}"
      ]
     },
     "execution_count": 64,
     "metadata": {},
     "output_type": "execute_result"
    }
   ],
   "source": [
    "grid.best_params_"
   ]
  },
  {
   "cell_type": "markdown",
   "id": "c50c6c28",
   "metadata": {},
   "source": [
    "### XGBoost 하이퍼 파라미터 찾기_2번째 시도"
   ]
  },
  {
   "cell_type": "code",
   "execution_count": 94,
   "id": "4e2ab31d",
   "metadata": {},
   "outputs": [],
   "source": [
    "#XGBoost용 2번째 시도_테스트해볼 파라미터 넣어주기\n",
    "params={'learning_rate':[0.1, 0.07, 0.05, 0.03],\n",
    "       'max_depth':[3, 5, 7, 9],\n",
    "       'n_estimators':[100, 200, 300],\n",
    "       'subsample':[1, 0.9, 0.8, 0.7, 0.6],\n",
    "        'colsample_bytree':[1, 0.9, 0.8]        \n",
    "       }"
   ]
  },
  {
   "cell_type": "code",
   "execution_count": 95,
   "id": "592916ee",
   "metadata": {},
   "outputs": [],
   "source": [
    "# XGBoost용 2번째 시도_최적의 파라미터 찾기\n",
    "from xgboost import XGBRegressor\n",
    "xgb = XGBRegressor()"
   ]
  },
  {
   "cell_type": "code",
   "execution_count": 96,
   "id": "6bc2b690",
   "metadata": {},
   "outputs": [
    {
     "name": "stderr",
     "output_type": "stream",
     "text": [
      "/opt/conda/lib/python3.9/site-packages/pkg_resources/__init__.py:122: PkgResourcesDeprecationWarning: 0.996-ko-0.9.2 is an invalid version and will not be supported in a future release\n",
      "  warnings.warn(\n",
      "/opt/conda/lib/python3.9/site-packages/pkg_resources/__init__.py:122: PkgResourcesDeprecationWarning: 0.996-ko-0.9.2 is an invalid version and will not be supported in a future release\n",
      "  warnings.warn(\n"
     ]
    },
    {
     "data": {
      "text/plain": [
       "RandomizedSearchCV(cv=3,\n",
       "                   estimator=XGBRegressor(base_score=None, booster=None,\n",
       "                                          colsample_bylevel=None,\n",
       "                                          colsample_bynode=None,\n",
       "                                          colsample_bytree=None, gamma=None,\n",
       "                                          gpu_id=None, importance_type='gain',\n",
       "                                          interaction_constraints=None,\n",
       "                                          learning_rate=None,\n",
       "                                          max_delta_step=None, max_depth=None,\n",
       "                                          min_child_weight=None, missing=nan,\n",
       "                                          monotone_constraints=None,\n",
       "                                          n_estimators=100, n...\n",
       "                                          num_parallel_tree=None,\n",
       "                                          random_state=None, reg_alpha=None,\n",
       "                                          reg_lambda=None,\n",
       "                                          scale_pos_weight=None, subsample=None,\n",
       "                                          tree_method=None,\n",
       "                                          validate_parameters=None,\n",
       "                                          verbosity=None),\n",
       "                   n_jobs=-1,\n",
       "                   param_distributions={'colsample_bytree': [1, 0.9, 0.8],\n",
       "                                        'learning_rate': [0.1, 0.07, 0.05,\n",
       "                                                          0.03],\n",
       "                                        'max_depth': [3, 5, 7, 9],\n",
       "                                        'n_estimators': [100, 200, 300],\n",
       "                                        'subsample': [1, 0.9, 0.8, 0.7, 0.6]})"
      ]
     },
     "execution_count": 96,
     "metadata": {},
     "output_type": "execute_result"
    }
   ],
   "source": [
    "grid = RandomizedSearchCV(xgb, params, cv=3, n_iter=10, n_jobs=-1)\n",
    "grid.fit(X_train, y_train)"
   ]
  },
  {
   "cell_type": "code",
   "execution_count": 97,
   "id": "58564d29",
   "metadata": {},
   "outputs": [
    {
     "data": {
      "text/plain": [
       "{'subsample': 0.8,\n",
       " 'n_estimators': 200,\n",
       " 'max_depth': 9,\n",
       " 'learning_rate': 0.03,\n",
       " 'colsample_bytree': 0.8}"
      ]
     },
     "execution_count": 97,
     "metadata": {},
     "output_type": "execute_result"
    }
   ],
   "source": [
    "grid.best_params_"
   ]
  },
  {
   "cell_type": "markdown",
   "id": "aae210df",
   "metadata": {},
   "source": [
    "### Step 5. 머신러닝"
   ]
  },
  {
   "cell_type": "code",
   "execution_count": 80,
   "id": "8784e3dd",
   "metadata": {},
   "outputs": [],
   "source": [
    "from sklearn.linear_model import LinearRegression\n",
    "from sklearn.metrics import mean_squared_error"
   ]
  },
  {
   "cell_type": "markdown",
   "id": "788507c4",
   "metadata": {},
   "source": [
    "### 선형 회귀_test size 8:2 -> 7:3으로 바꾼 뒤"
   ]
  },
  {
   "cell_type": "code",
   "execution_count": 83,
   "id": "a6f23eb4",
   "metadata": {},
   "outputs": [
    {
     "data": {
      "text/plain": [
       "0.25440075481647517"
      ]
     },
     "execution_count": 83,
     "metadata": {},
     "output_type": "execute_result"
    }
   ],
   "source": [
    "model = LinearRegression()\n",
    "model.fit(X_train, y_train)\n",
    "pred = model.predict(X_val)\n",
    "mean_squared_error(y_val, pred)"
   ]
  },
  {
   "cell_type": "markdown",
   "id": "cfcc9793",
   "metadata": {},
   "source": [
    "### 릿지 회귀_test size 8:2 -> 7:3으로 바꾼 뒤"
   ]
  },
  {
   "cell_type": "code",
   "execution_count": 85,
   "id": "2d743418",
   "metadata": {},
   "outputs": [
    {
     "data": {
      "text/plain": [
       "0.2545709468428823"
      ]
     },
     "execution_count": 85,
     "metadata": {},
     "output_type": "execute_result"
    }
   ],
   "source": [
    "from sklearn.linear_model import Ridge\n",
    "\n",
    "model = Ridge()\n",
    "model.fit(X_train, y_train)\n",
    "pred = model.predict(X_val)\n",
    "mean_squared_error(y_val, pred)"
   ]
  },
  {
   "cell_type": "markdown",
   "id": "ea025799",
   "metadata": {},
   "source": [
    "### 라쏘 회귀_test size 8:2 -> 7:3으로 바꾼 뒤"
   ]
  },
  {
   "cell_type": "code",
   "execution_count": 87,
   "id": "7e51bcce",
   "metadata": {},
   "outputs": [
    {
     "data": {
      "text/plain": [
       "0.46818064523240055"
      ]
     },
     "execution_count": 87,
     "metadata": {},
     "output_type": "execute_result"
    }
   ],
   "source": [
    "from sklearn.linear_model import Lasso\n",
    "\n",
    "model = Lasso()\n",
    "model.fit(X_train, y_train)\n",
    "pred = model.predict(X_val)\n",
    "mean_squared_error(y_val, pred)"
   ]
  },
  {
   "cell_type": "markdown",
   "id": "9fc3cdeb",
   "metadata": {},
   "source": [
    "### 엘라스틱넷 회귀_test size 8:2 -> 7:3으로 바꾼 뒤"
   ]
  },
  {
   "cell_type": "code",
   "execution_count": 89,
   "id": "55b08683",
   "metadata": {},
   "outputs": [
    {
     "data": {
      "text/plain": [
       "0.46802345371194637"
      ]
     },
     "execution_count": 89,
     "metadata": {},
     "output_type": "execute_result"
    }
   ],
   "source": [
    "from sklearn.linear_model import ElasticNet\n",
    "\n",
    "model = ElasticNet()\n",
    "model.fit(X_train, y_train)\n",
    "pred = model.predict(X_val)\n",
    "mean_squared_error(y_val, pred)"
   ]
  },
  {
   "cell_type": "markdown",
   "id": "f8620ca6",
   "metadata": {},
   "source": [
    "### 랜덤포레스트_노드"
   ]
  },
  {
   "cell_type": "code",
   "execution_count": 42,
   "id": "43377220",
   "metadata": {},
   "outputs": [
    {
     "data": {
      "text/plain": [
       "23271.321545454648"
      ]
     },
     "execution_count": 42,
     "metadata": {},
     "output_type": "execute_result"
    }
   ],
   "source": [
    "# 랜덤포레스트\n",
    "from sklearn.ensemble import RandomForestRegressor\n",
    "\n",
    "model = RandomForestRegressor(random_state=2022, n_estimators=200) #n_estimators=200 이 부분이 baseline과 다른 점\n",
    "model.fit(X_train, y_train)\n",
    "pred = model.predict(X_val)\n",
    "\n",
    "pred = np.expm1(pred) # baseline에서는 하지 않았는데 여기에서는 로그데이터로 치환해주었었기 때문에 다시 바꿔주기\n",
    "mean_squared_error(y_val, pred)"
   ]
  },
  {
   "cell_type": "markdown",
   "id": "55ddb1a5",
   "metadata": {},
   "source": [
    "### 랜덤포레스트 n_estimators=500 적용"
   ]
  },
  {
   "cell_type": "code",
   "execution_count": 70,
   "id": "fdf722aa",
   "metadata": {},
   "outputs": [
    {
     "data": {
      "text/plain": [
       "22545.72348064498"
      ]
     },
     "execution_count": 70,
     "metadata": {},
     "output_type": "execute_result"
    }
   ],
   "source": [
    "# 내가 해본 랜덤포레스트 1\n",
    "from sklearn.ensemble import RandomForestRegressor\n",
    "\n",
    "model = RandomForestRegressor(random_state=2022, n_estimators=500) \n",
    "model.fit(X_train, y_train)\n",
    "pred = model.predict(X_val)\n",
    "\n",
    "pred = np.expm1(pred) \n",
    "mean_squared_error(y_val, pred)"
   ]
  },
  {
   "cell_type": "markdown",
   "id": "2c951625",
   "metadata": {},
   "source": [
    "### 랜덤포레스트_RandomizedSearchCV로 찾아본 하이퍼파라미터 적용 "
   ]
  },
  {
   "cell_type": "markdown",
   "id": "fe901deb",
   "metadata": {},
   "source": [
    "random_state=2022, n_estimators=500, max_depth=7"
   ]
  },
  {
   "cell_type": "code",
   "execution_count": 81,
   "id": "14a08e78",
   "metadata": {},
   "outputs": [
    {
     "data": {
      "text/plain": [
       "19371.617849722035"
      ]
     },
     "execution_count": 81,
     "metadata": {},
     "output_type": "execute_result"
    }
   ],
   "source": [
    "from sklearn.ensemble import RandomForestRegressor\n",
    "\n",
    "model = RandomForestRegressor(random_state=2022, \n",
    "                              n_estimators=500, \n",
    "                              max_depth=7) #n_estimators=200 이 부분이 baseline과 다른 점\n",
    "model.fit(X_train, y_train)\n",
    "pred = model.predict(X_val)\n",
    "\n",
    "pred = np.expm1(pred) # baseline에서는 하지 않았는데 여기에서는 로그데이터로 치환해주었었기 때문에 다시 바꿔주기\n",
    "mean_squared_error(y_val, pred)"
   ]
  },
  {
   "cell_type": "markdown",
   "id": "5045c224",
   "metadata": {},
   "source": [
    "### XGBoost_노드 "
   ]
  },
  {
   "cell_type": "code",
   "execution_count": 43,
   "id": "2547a2c1",
   "metadata": {},
   "outputs": [
    {
     "data": {
      "text/plain": [
       "22286.997994177866"
      ]
     },
     "execution_count": 43,
     "metadata": {},
     "output_type": "execute_result"
    }
   ],
   "source": [
    "# Xgboost_노드\n",
    "from xgboost import XGBRegressor\n",
    "model = XGBRegressor(max_depth=10,\n",
    "                     learning_rate=0.02,\n",
    "                     n_estimators=500,\n",
    "                     random_state=2022)\n",
    "\n",
    "model.fit(X_train, y_train)\n",
    "pred = model.predict(X_val)\n",
    "\n",
    "pred = np.expm1(pred)\n",
    "mean_squared_error(y_val, pred)"
   ]
  },
  {
   "cell_type": "markdown",
   "id": "37f290e6",
   "metadata": {},
   "source": [
    "### XGBoost 1번째 시도_RandomizedSearchCV로 찾아본 하이퍼파라미터 적용 "
   ]
  },
  {
   "cell_type": "markdown",
   "id": "7696db95",
   "metadata": {},
   "source": [
    "subsample=0.7, max_depth=5, learning_rate=0.07, n_estimators=200, random_state=2022"
   ]
  },
  {
   "cell_type": "code",
   "execution_count": 67,
   "id": "5ea98145",
   "metadata": {},
   "outputs": [
    {
     "data": {
      "text/plain": [
       "20892.275492590714"
      ]
     },
     "execution_count": 67,
     "metadata": {},
     "output_type": "execute_result"
    }
   ],
   "source": [
    "from xgboost import XGBRegressor\n",
    "model = XGBRegressor(subsample=0.7,\n",
    "                     max_depth=5,\n",
    "                     learning_rate=0.07,\n",
    "                     n_estimators=200,\n",
    "                     random_state=2022)\n",
    "\n",
    "model.fit(X_train, y_train)\n",
    "pred = model.predict(X_val)\n",
    "\n",
    "pred = np.expm1(pred)\n",
    "mean_squared_error(y_val, pred)"
   ]
  },
  {
   "cell_type": "markdown",
   "id": "43bfc233",
   "metadata": {},
   "source": [
    "### XGBoost 2번째 시도_RandomizedSearchCV로 찾아본 하이퍼파라미터 적용 "
   ]
  },
  {
   "cell_type": "markdown",
   "id": "3b0dcb0b",
   "metadata": {},
   "source": [
    "subsample=0.8, max_depth=9, learning_rate=0.03, n_estimators=200, colsample_bytree=0.8, random_state=2022"
   ]
  },
  {
   "cell_type": "code",
   "execution_count": 99,
   "id": "f8d3edaf",
   "metadata": {},
   "outputs": [
    {
     "data": {
      "text/plain": [
       "20561.591183425513"
      ]
     },
     "execution_count": 99,
     "metadata": {},
     "output_type": "execute_result"
    }
   ],
   "source": [
    "from xgboost import XGBRegressor\n",
    "model = XGBRegressor(subsample=0.8,\n",
    "                     max_depth=9,\n",
    "                     learning_rate=0.03,\n",
    "                     n_estimators=200,\n",
    "                     colsample_bytree=0.8,\n",
    "                     random_state=2022)\n",
    "\n",
    "model.fit(X_train, y_train)\n",
    "pred = model.predict(X_val)\n",
    "\n",
    "pred = np.expm1(pred)\n",
    "mean_squared_error(y_val, pred)"
   ]
  },
  {
   "cell_type": "markdown",
   "id": "3edcc3f5",
   "metadata": {},
   "source": [
    "### Step 6. 채점"
   ]
  },
  {
   "cell_type": "markdown",
   "id": "52809a3e",
   "metadata": {},
   "source": [
    "### 선형 회귀_test size 8:2 -> 7:3으로 바꾼 뒤 예측 후 채점한 결과"
   ]
  },
  {
   "cell_type": "code",
   "execution_count": 84,
   "id": "2fed6723",
   "metadata": {},
   "outputs": [
    {
     "data": {
      "text/plain": [
       "50185.28125256089"
      ]
     },
     "execution_count": 84,
     "metadata": {},
     "output_type": "execute_result"
    }
   ],
   "source": [
    "y_test = pd.read_csv('/aiffel/data/y_test.csv')\n",
    "pred = model.predict(test)\n",
    "pred = np.expm1(pred)\n",
    "mean_squared_error(y_test, pred)"
   ]
  },
  {
   "cell_type": "markdown",
   "id": "6909b814",
   "metadata": {},
   "source": [
    "### 릿지 회귀_test size 8:2 -> 7:3으로 바꾼 뒤 예측 후 채점한 결과"
   ]
  },
  {
   "cell_type": "code",
   "execution_count": 86,
   "id": "90f2d668",
   "metadata": {},
   "outputs": [
    {
     "data": {
      "text/plain": [
       "50185.23814100875"
      ]
     },
     "execution_count": 86,
     "metadata": {},
     "output_type": "execute_result"
    }
   ],
   "source": [
    "y_test = pd.read_csv('/aiffel/data/y_test.csv')\n",
    "pred = model.predict(test)\n",
    "pred = np.expm1(pred)\n",
    "mean_squared_error(y_test, pred)"
   ]
  },
  {
   "cell_type": "markdown",
   "id": "af0366c0",
   "metadata": {},
   "source": [
    "### 라쏘 회귀_test size 8:2 -> 7:3으로 바꾼 뒤 예측 후 채점한 결과"
   ]
  },
  {
   "cell_type": "code",
   "execution_count": 88,
   "id": "f6a679f5",
   "metadata": {},
   "outputs": [
    {
     "data": {
      "text/plain": [
       "55881.64173622794"
      ]
     },
     "execution_count": 88,
     "metadata": {},
     "output_type": "execute_result"
    }
   ],
   "source": [
    "y_test = pd.read_csv('/aiffel/data/y_test.csv')\n",
    "pred = model.predict(test)\n",
    "pred = np.expm1(pred)\n",
    "mean_squared_error(y_test, pred)"
   ]
  },
  {
   "cell_type": "markdown",
   "id": "752711f7",
   "metadata": {},
   "source": [
    "### 엘라스틴 회귀_test size 8:2 -> 7:3으로 바꾼 뒤 예측 후 채점한 결과"
   ]
  },
  {
   "cell_type": "code",
   "execution_count": 90,
   "id": "d4d0a083",
   "metadata": {},
   "outputs": [
    {
     "data": {
      "text/plain": [
       "55866.066466304124"
      ]
     },
     "execution_count": 90,
     "metadata": {},
     "output_type": "execute_result"
    }
   ],
   "source": [
    "y_test = pd.read_csv('/aiffel/data/y_test.csv')\n",
    "pred = model.predict(test)\n",
    "pred = np.expm1(pred)\n",
    "mean_squared_error(y_test, pred)"
   ]
  },
  {
   "cell_type": "markdown",
   "id": "a79fffc0",
   "metadata": {},
   "source": [
    "### 랜덤포레스트로 예측 후 채점한 결과\n",
    "n_estimators=500"
   ]
  },
  {
   "cell_type": "code",
   "execution_count": 71,
   "id": "c079647c",
   "metadata": {},
   "outputs": [
    {
     "data": {
      "text/plain": [
       "44451.46480419184"
      ]
     },
     "execution_count": 71,
     "metadata": {},
     "output_type": "execute_result"
    }
   ],
   "source": [
    "y_test = pd.read_csv('/aiffel/data/y_test.csv')\n",
    "pred = model.predict(test)\n",
    "pred = np.expm1(pred)\n",
    "mean_squared_error(y_test, pred)"
   ]
  },
  {
   "cell_type": "markdown",
   "id": "11c5eea3",
   "metadata": {},
   "source": [
    "### 랜덤포레스트 RandomizedSerachCV로 하이퍼파라미터 찾아보고 예측 후 채점한 결과\n",
    "random_state=2022, n_estimators=500, max_depth=7"
   ]
  },
  {
   "cell_type": "code",
   "execution_count": 82,
   "id": "5496c7c7",
   "metadata": {},
   "outputs": [
    {
     "data": {
      "text/plain": [
       "47587.28982253796"
      ]
     },
     "execution_count": 82,
     "metadata": {},
     "output_type": "execute_result"
    }
   ],
   "source": [
    "y_test = pd.read_csv('/aiffel/data/y_test.csv')\n",
    "pred = model.predict(test)\n",
    "pred = np.expm1(pred)\n",
    "mean_squared_error(y_test, pred)"
   ]
  },
  {
   "cell_type": "markdown",
   "id": "c96046c9",
   "metadata": {},
   "source": [
    "### 노드에서 XGBoost로 예측 후 채점한 결과"
   ]
  },
  {
   "cell_type": "code",
   "execution_count": 44,
   "id": "c746732a",
   "metadata": {},
   "outputs": [
    {
     "data": {
      "text/plain": [
       "42778.2854814971"
      ]
     },
     "execution_count": 44,
     "metadata": {},
     "output_type": "execute_result"
    }
   ],
   "source": [
    "# test 데이터(= y_test)를 불러와 평가하기\n",
    "y_test = pd.read_csv('/aiffel/data/y_test.csv')\n",
    "\n",
    "# Xgboost로 예측\n",
    "pred = model.predict(test)\n",
    "pred = np.expm1(pred)\n",
    "mean_squared_error(y_test, pred)"
   ]
  },
  {
   "cell_type": "markdown",
   "id": "3b89025f",
   "metadata": {},
   "source": [
    "### XGBoost 1번째 시도로 예측 후 채점한 결과\n",
    "subsample=0.7, max_depth=5, learning_rate=0.07, n_estimators=200, random_state=2022"
   ]
  },
  {
   "cell_type": "code",
   "execution_count": 69,
   "id": "7a7ea0f7",
   "metadata": {},
   "outputs": [
    {
     "data": {
      "text/plain": [
       "45482.4749995101"
      ]
     },
     "execution_count": 69,
     "metadata": {},
     "output_type": "execute_result"
    }
   ],
   "source": [
    "y_test = pd.read_csv('/aiffel/data/y_test.csv')\n",
    "pred = model.predict(test)\n",
    "pred = np.expm1(pred)\n",
    "mean_squared_error(y_test, pred)"
   ]
  },
  {
   "cell_type": "markdown",
   "id": "87704663",
   "metadata": {},
   "source": [
    "### XGBoost 2번째 시도로 예측 후 채점한 결과\n",
    "subsample=0.8, max_depth=9, learning_rate=0.03, n_estimators=200, colsample_bytree=0.8, random_state=2022"
   ]
  },
  {
   "cell_type": "code",
   "execution_count": 100,
   "id": "2e22fbd6",
   "metadata": {},
   "outputs": [
    {
     "data": {
      "text/plain": [
       "43825.95729019506"
      ]
     },
     "execution_count": 100,
     "metadata": {},
     "output_type": "execute_result"
    }
   ],
   "source": [
    "y_test = pd.read_csv('/aiffel/data/y_test.csv')\n",
    "pred = model.predict(test)\n",
    "pred = np.expm1(pred)\n",
    "mean_squared_error(y_test, pred)"
   ]
  },
  {
   "cell_type": "markdown",
   "id": "add351bf",
   "metadata": {},
   "source": [
    "mse는 오차값으로 작으면 작을 수록 좋다"
   ]
  },
  {
   "cell_type": "code",
   "execution_count": null,
   "id": "9452b79c",
   "metadata": {},
   "outputs": [],
   "source": []
  },
  {
   "cell_type": "markdown",
   "id": "525444ba",
   "metadata": {},
   "source": [
    "## 4. 결론"
   ]
  },
  {
   "cell_type": "markdown",
   "id": "3299b2bd",
   "metadata": {},
   "source": [
    "### 1. 노드의 baseline 및 tip 성능, 내가 시도해 본 모델의 성능 비교\n",
    "#### baseline     \n",
    "MSE 51046    \n",
    "#### tip     \n",
    "MSE 42778\n",
    "#### XGBoost(하이퍼파라미터 수정)\n",
    "MSE 43825"
   ]
  },
  {
   "cell_type": "markdown",
   "id": "83c4804a",
   "metadata": {},
   "source": [
    "프로젝트가 baseline score(MSE 51046)과 tip score(MSE 42778)보다 점수가 낮게 나오도록 해보는 것이었으나    \n",
    "내가 해 본 모델들 중 가장 MSE가 낮은 모델의 score는 43825이다    \n",
    "그러므로, 강사님보다 점수가 더 낮게 해보는 건 아쉽게 실패!"
   ]
  },
  {
   "cell_type": "markdown",
   "id": "fbd6b606",
   "metadata": {},
   "source": [
    "### 2. 수정해 본 부분이 모델 성능에 대한 영향이 있었는지?\n",
    "수정해 본 부분은 아래와 같다.\n",
    "1. test_size를 7:3에서 8:2로 조정하고\n",
    "2. RandomizedSearchCV로 하이퍼파라미터를 찾기"
   ]
  },
  {
   "cell_type": "markdown",
   "id": "9e154595",
   "metadata": {},
   "source": [
    "test_size를 조절한 데이터들을 가지고      \n",
    "X_train과 y_train 데이터에서 RandomizedSearchCV로 하이퍼파라미터를 찾아보았다.     \n",
    "-> x_val과 y_val에 대해서는 방법을 몰라 RandomizedSearchCV에 같이 포함하지 못했다.    \n",
    "\n",
    "랜덤포레스트와 XGBoost에 대해서 하이퍼파라미터를 찾아보았다.    \n",
    "XGboost의 경우 1번째 시도와 2번째 시도로 나누어서 해 보았다.      \n",
    "이유는 2번째 하이퍼파라미터를 찾을 때에는 1번째 시도에서 포함하지 않았던 다른 파라미터들과 더 많은 값들을 RandomizedSearchCV에 포함하였다.    \n",
    "\n",
    "test_size를 조절한 부분은 test_size를 바꾸기 전/바꾼 후(다른 조건은 동일)로 비교하지 않아 직접적인 영향력이 있는지는 잘 모르겠다.    \n",
    "하지만 test_size와 RandomizedSearchCV를 통해 나온 하이퍼파라미터 값들을 조정하여, 조정하기 전과 비교해보니 점수에는 영향력이 있는 것을 알 수 있었다.\n",
    "\n",
    "#### 그러므로, test_size와 RandomizedSearchCV로 하이퍼파라미터를 조정한 것은 모델의 성능향상에 도움이 되었다고 할 수 있다."
   ]
  },
  {
   "cell_type": "markdown",
   "id": "1b31e2c8",
   "metadata": {},
   "source": [
    "### 3. 캐글의 다른 사람들의 코드도 봤는데 도움이 되었는지?\n",
    "강사님이 말씀해주신 것처럼 캐글의 해당 데이터셋에 대해 다른 사람들이 분석하고 가격을 예측한 자료들을 4개 정도 보았다.\n",
    "이렇게도 시각화를 하고, 이런 방향으로 분석을 할 수 있구나하는 것을 느낄 수 있었다.\n",
    "하지만 내 프로젝트에 바로 적용할 수 있는 부분을 찾지는 못하여 적용해보지는 못한 점이 아쉽다."
   ]
  },
  {
   "cell_type": "markdown",
   "id": "b9eb3931",
   "metadata": {},
   "source": [
    "## 5. 회고"
   ]
  },
  {
   "cell_type": "markdown",
   "id": "00f208b0",
   "metadata": {},
   "source": [
    "### 1. 프로젝트에서 어려웠던 점, 해결을 위해 시도한 방법, 문제해결에 성공한 이유 또는 실패한 이유"
   ]
  },
  {
   "cell_type": "markdown",
   "id": "70a586ca",
   "metadata": {},
   "source": [
    "- **프로젝트에서 어려웠던 점**  \n",
    "    1. 강사님보다 모델의 성능을 향상시키는 것\n",
    "    2. 수치형 데이터와 범주형 데이터를 전처리하는 과정을 이해하는 것    \n",
    "    3. price를 로그치환하여 numpy의 log1p() 함수를 사용했는데 이해하기 어려웠던 점\n",
    "\n",
    "\n",
    "\n",
    "- **해결을 위해 시도한 방법**  \n",
    "     1. 모델의 성능을 어떻게 향상시킬지 생각해본 아이디어를 조원들과 공유하기\n",
    "     2. 노드의 강의와 정리해놓은 노션페이지를 복습하며 필요한 부분 다시 공부하기\n",
    "     3. 캐글의 다른 사람들의 정리된 코드들을 보면서 적용할 부분 찾아보기\n",
    "\n",
    "\n",
    "- **문제해결에 성공한 이유 또는 실패한 이유**  \n",
    "    이번 프로젝트는 강사님보다 모델의 성능을 향상시키는 문제를 해결하는 것이었으니 실패했다고 할 수 있습니다.\n",
    "    이유는 데이터를 전처리할 수 있는 다른 추가적인 방법을 모르기 때문인 것 같다. 또 하이퍼파라미터에 대해 간략히 알고 있기에 어떤 연관성으로 모델의 성능에 영향을 미치는지 주체적으로 파악하기 어려웠던 것 같습니다."
   ]
  },
  {
   "cell_type": "markdown",
   "id": "d8947d66",
   "metadata": {},
   "source": [
    "### 2. 프로젝트를 진행하면서 알아낸 점 혹은 아직 모호한 점"
   ]
  },
  {
   "cell_type": "markdown",
   "id": "8a4f39d1",
   "metadata": {},
   "source": [
    "- **프로젝트를 진행하면서 알아낸 점**"
   ]
  },
  {
   "cell_type": "markdown",
   "id": "3f9712b2",
   "metadata": {},
   "source": [
    "1. 머신러닝 모델 학습의 전체 프로세스를 실습으로 경험   \n",
    "2. 직접 해 본 RandomizedSearchCV를 통한 최적의 하이퍼파라미터 찾기   \n",
    "3. XGBoost와 랜덤포레스트의 하이퍼파라미터들의 의미\n",
    "4. select_dtypes    \n",
    "object가 아닌 값들만 n_train 변수에 담아주고 복사하기     \n",
    "n_train = train.select_dtypes(exclude='object').copy()\n",
    "\n",
    "\n",
    "\n",
    "\n",
    "\n"
   ]
  },
  {
   "cell_type": "markdown",
   "id": "28847f23",
   "metadata": {},
   "source": [
    "- **아직 모호한 점**"
   ]
  },
  {
   "cell_type": "markdown",
   "id": "83e5d80f",
   "metadata": {},
   "source": [
    "Price 컬럼을 넘파이를 활용해 로그로 치환하는 함수가 이해가 잘 되지 않았습니다."
   ]
  },
  {
   "cell_type": "markdown",
   "id": "5a9b1f13",
   "metadata": {},
   "source": [
    "### 3. 자기 다짐, 프로젝트를 진행하면서 느낀 점"
   ]
  },
  {
   "cell_type": "markdown",
   "id": "28f909ea",
   "metadata": {},
   "source": [
    "이번에는 머신러닝의 전체 프로세스를 스스로 대략적으로나마 이해하고,     \n",
    "이 코드들이 어떤 의미가 있는지 70% 정도 이해할 수 있었음에 의미가 있다고 생각합니다.\n",
    "\n",
    "아쉽게 강사님보다 모델 성능 향상은 하지 못했지만 강사님의 tip 영상에서의 모델 score에 근접하게 나와서 신기하고 뿌듯했어요.   \n",
    "직접 RandomizedSearchCV를 해 본 것도 신기했습니다.\n",
    "\n",
    "배우고 싶은 부분도 있었는데요.\n",
    "캐글에서 다른 사람들이이 가격을 예측하거나 데이터 분석을 정리한 notebook을 봤는데 엄청났습니다.     \n",
    "일목요연하게 정리해놓은 것도 정말 보기 좋았고,    \n",
    "특히 어느 한 분이 표로 마지막에 여러 모델들에 대한 결과를 정리한 부분이 보기 좋았습니다.     \n",
    "다음에는 저도 그렇게 정리해면 좋겠다는 생각이 들었습니다.   "
   ]
  },
  {
   "cell_type": "markdown",
   "id": "4bb71c9c",
   "metadata": {},
   "source": [
    "## 참고한 레퍼런스"
   ]
  },
  {
   "cell_type": "markdown",
   "id": "fcfd1e25",
   "metadata": {},
   "source": [
    "<span style = \"color:gray;\">넘파이 로그로 치환 np.log1p()_1</span>     \n",
    "https://blog.naver.com/bb453/223021261471\n",
    "\n",
    "<span style = \"color:gray;\">넘파이 로그로 치환 np.log1p()_2</span>     \n",
    "https://prup.tistory.com/72\n",
    "\n",
    "<span style = \"color:gray;\">X_train, X_test, y_train, y_test 데이터 분리</span>   \n",
    "https://lsjsj92.tistory.com/545\n",
    "\n",
    "<span style = \"color:gray;\">캐글 Airbnb 데이터 분석 공유하신 분 notebook</span>     \n",
    "https://www.kaggle.com/code/jrw2200/smart-pricing-with-xgb-rfr-interpretations"
   ]
  }
 ],
 "metadata": {
  "kernelspec": {
   "display_name": "Python 3 (ipykernel)",
   "language": "python",
   "name": "python3"
  },
  "language_info": {
   "codemirror_mode": {
    "name": "ipython",
    "version": 3
   },
   "file_extension": ".py",
   "mimetype": "text/x-python",
   "name": "python",
   "nbconvert_exporter": "python",
   "pygments_lexer": "ipython3",
   "version": "3.9.7"
  }
 },
 "nbformat": 4,
 "nbformat_minor": 5
}
