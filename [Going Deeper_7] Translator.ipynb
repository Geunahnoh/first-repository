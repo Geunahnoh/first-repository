{
 "cells": [
  {
   "cell_type": "code",
   "execution_count": 1,
   "id": "79024948",
   "metadata": {},
   "outputs": [
    {
     "name": "stdout",
     "output_type": "stream",
     "text": [
      "Requirement already satisfied: IPython in /opt/conda/lib/python3.9/site-packages (7.28.0)\n",
      "Requirement already satisfied: setuptools>=18.5 in /opt/conda/lib/python3.9/site-packages (from IPython) (59.4.0)\n",
      "Requirement already satisfied: pexpect>4.3 in /opt/conda/lib/python3.9/site-packages (from IPython) (4.8.0)\n",
      "Requirement already satisfied: matplotlib-inline in /opt/conda/lib/python3.9/site-packages (from IPython) (0.1.3)\n",
      "Requirement already satisfied: traitlets>=4.2 in /opt/conda/lib/python3.9/site-packages (from IPython) (5.1.1)\n",
      "Requirement already satisfied: prompt-toolkit!=3.0.0,!=3.0.1,<3.1.0,>=2.0.0 in /opt/conda/lib/python3.9/site-packages (from IPython) (3.0.22)\n",
      "Requirement already satisfied: decorator in /opt/conda/lib/python3.9/site-packages (from IPython) (4.4.2)\n",
      "Requirement already satisfied: jedi>=0.16 in /opt/conda/lib/python3.9/site-packages (from IPython) (0.18.1)\n",
      "Requirement already satisfied: pygments in /opt/conda/lib/python3.9/site-packages (from IPython) (2.10.0)\n",
      "Requirement already satisfied: backcall in /opt/conda/lib/python3.9/site-packages (from IPython) (0.2.0)\n",
      "Requirement already satisfied: pickleshare in /opt/conda/lib/python3.9/site-packages (from IPython) (0.7.5)\n",
      "Requirement already satisfied: parso<0.9.0,>=0.8.0 in /opt/conda/lib/python3.9/site-packages (from jedi>=0.16->IPython) (0.8.3)\n",
      "Requirement already satisfied: ptyprocess>=0.5 in /opt/conda/lib/python3.9/site-packages (from pexpect>4.3->IPython) (0.7.0)\n",
      "Requirement already satisfied: wcwidth in /opt/conda/lib/python3.9/site-packages (from prompt-toolkit!=3.0.0,!=3.0.1,<3.1.0,>=2.0.0->IPython) (0.2.5)\n",
      "\u001b[33mWARNING: Running pip as the 'root' user can result in broken permissions and conflicting behaviour with the system package manager. It is recommended to use a virtual environment instead: https://pip.pypa.io/warnings/venv\u001b[0m\n"
     ]
    }
   ],
   "source": [
    "!pip install IPython  \n",
    "from IPython.display import Image"
   ]
  },
  {
   "cell_type": "code",
   "execution_count": null,
   "id": "b1936b57",
   "metadata": {},
   "outputs": [],
   "source": [
    "import os, re\n",
    "\n",
    "def preprocess_sentence(sentence):\n",
    "sentence = sentence.lower().strip() # 1. 소문자로, 공백 없애기\n",
    "sentence = re.sub(r\"([?.!,¿])\", r\" \\1 \", sentence) # 2. 특수문자 양쪽에 공백\n",
    "sentence = sentence.strip() # 5. 양쪽 공백 지우기. 1번에서도 공백 없애기 했는데 두번째이네\n",
    "sentence = re.sub(r'[\" \"]+', \" \", sentence) # 3. 여러개 공백은 공백 하나로\n",
    "\n",
    "return sentence"
   ]
  },
  {
   "cell_type": "code",
   "execution_count": null,
   "id": "a28dc235",
   "metadata": {},
   "outputs": [],
   "source": []
  },
  {
   "cell_type": "markdown",
   "id": "668f72e0",
   "metadata": {},
   "source": [
    "# (1) 데이터 전처리"
   ]
  },
  {
   "cell_type": "markdown",
   "id": "342daabb",
   "metadata": {},
   "source": [
    "# 1. 필요한 라이브러리 불러오기"
   ]
  },
  {
   "cell_type": "code",
   "execution_count": 2,
   "id": "3c3dcc7e",
   "metadata": {},
   "outputs": [],
   "source": [
    "import pandas as pd\n",
    "from tensorflow.keras.preprocessing.text import Tokenizer\n",
    "from tensorflow.keras.preprocessing.sequence import pad_sequences\n",
    "from tensorflow.keras.utils import to_categorical\n",
    "import numpy as np"
   ]
  },
  {
   "cell_type": "markdown",
   "id": "72524270",
   "metadata": {},
   "source": [
    "# 2. 데이터 판다스로 불러오기"
   ]
  },
  {
   "cell_type": "code",
   "execution_count": 3,
   "id": "705fc098",
   "metadata": {},
   "outputs": [
    {
     "name": "stdout",
     "output_type": "stream",
     "text": [
      "전체 샘플의 수 : 217975\n"
     ]
    },
    {
     "data": {
      "text/html": [
       "<div>\n",
       "<style scoped>\n",
       "    .dataframe tbody tr th:only-of-type {\n",
       "        vertical-align: middle;\n",
       "    }\n",
       "\n",
       "    .dataframe tbody tr th {\n",
       "        vertical-align: top;\n",
       "    }\n",
       "\n",
       "    .dataframe thead th {\n",
       "        text-align: right;\n",
       "    }\n",
       "</style>\n",
       "<table border=\"1\" class=\"dataframe\">\n",
       "  <thead>\n",
       "    <tr style=\"text-align: right;\">\n",
       "      <th></th>\n",
       "      <th>eng</th>\n",
       "      <th>fra</th>\n",
       "      <th>cc</th>\n",
       "    </tr>\n",
       "  </thead>\n",
       "  <tbody>\n",
       "    <tr>\n",
       "      <th>25766</th>\n",
       "      <td>I dropped my keys.</td>\n",
       "      <td>J'ai fait tomber mes clés.</td>\n",
       "      <td>CC-BY 2.0 (France) Attribution: tatoeba.org #1...</td>\n",
       "    </tr>\n",
       "    <tr>\n",
       "      <th>208626</th>\n",
       "      <td>I just want to say how thankful I am for all y...</td>\n",
       "      <td>Je veux simplement exprimer combien je suis re...</td>\n",
       "      <td>CC-BY 2.0 (France) Attribution: tatoeba.org #2...</td>\n",
       "    </tr>\n",
       "    <tr>\n",
       "      <th>126316</th>\n",
       "      <td>What should I do if Tom calls?</td>\n",
       "      <td>Que devrais-je faire si Tom appelle ?</td>\n",
       "      <td>CC-BY 2.0 (France) Attribution: tatoeba.org #3...</td>\n",
       "    </tr>\n",
       "    <tr>\n",
       "      <th>18087</th>\n",
       "      <td>Where's the cat?</td>\n",
       "      <td>Où est le chat ?</td>\n",
       "      <td>CC-BY 2.0 (France) Attribution: tatoeba.org #1...</td>\n",
       "    </tr>\n",
       "    <tr>\n",
       "      <th>148514</th>\n",
       "      <td>Could you tell me your name again?</td>\n",
       "      <td>Pourriez-vous, de nouveau, me dire votre nom ?</td>\n",
       "      <td>CC-BY 2.0 (France) Attribution: tatoeba.org #2...</td>\n",
       "    </tr>\n",
       "  </tbody>\n",
       "</table>\n",
       "</div>"
      ],
      "text/plain": [
       "                                                      eng  \\\n",
       "25766                                  I dropped my keys.   \n",
       "208626  I just want to say how thankful I am for all y...   \n",
       "126316                     What should I do if Tom calls?   \n",
       "18087                                    Where's the cat?   \n",
       "148514                 Could you tell me your name again?   \n",
       "\n",
       "                                                      fra  \\\n",
       "25766                          J'ai fait tomber mes clés.   \n",
       "208626  Je veux simplement exprimer combien je suis re...   \n",
       "126316              Que devrais-je faire si Tom appelle ?   \n",
       "18087                                    Où est le chat ?   \n",
       "148514     Pourriez-vous, de nouveau, me dire votre nom ?   \n",
       "\n",
       "                                                       cc  \n",
       "25766   CC-BY 2.0 (France) Attribution: tatoeba.org #1...  \n",
       "208626  CC-BY 2.0 (France) Attribution: tatoeba.org #2...  \n",
       "126316  CC-BY 2.0 (France) Attribution: tatoeba.org #3...  \n",
       "18087   CC-BY 2.0 (France) Attribution: tatoeba.org #1...  \n",
       "148514  CC-BY 2.0 (France) Attribution: tatoeba.org #2...  "
      ]
     },
     "execution_count": 3,
     "metadata": {},
     "output_type": "execute_result"
    }
   ],
   "source": [
    "import os\n",
    "file_path = os.getenv('HOME')+'/aiffel/translator_seq2seq/data/fra.txt'\n",
    "lines = pd.read_csv(file_path, names=['eng', 'fra', 'cc'], sep='\\t')\n",
    "print('전체 샘플의 수 :',len(lines))\n",
    "lines.sample(5) #샘플 5개 출력"
   ]
  },
  {
   "cell_type": "markdown",
   "id": "c379ddc2",
   "metadata": {},
   "source": [
    "# 2-1. 불필요한 열 삭제하고, 훈련데이터 5만개로 줄이기"
   ]
  },
  {
   "cell_type": "code",
   "execution_count": 4,
   "id": "15ca0a06",
   "metadata": {},
   "outputs": [
    {
     "data": {
      "text/html": [
       "<div>\n",
       "<style scoped>\n",
       "    .dataframe tbody tr th:only-of-type {\n",
       "        vertical-align: middle;\n",
       "    }\n",
       "\n",
       "    .dataframe tbody tr th {\n",
       "        vertical-align: top;\n",
       "    }\n",
       "\n",
       "    .dataframe thead th {\n",
       "        text-align: right;\n",
       "    }\n",
       "</style>\n",
       "<table border=\"1\" class=\"dataframe\">\n",
       "  <thead>\n",
       "    <tr style=\"text-align: right;\">\n",
       "      <th></th>\n",
       "      <th>eng</th>\n",
       "      <th>fra</th>\n",
       "    </tr>\n",
       "  </thead>\n",
       "  <tbody>\n",
       "    <tr>\n",
       "      <th>31269</th>\n",
       "      <td>Don't tell anybody.</td>\n",
       "      <td>Ne le dis à quiconque !</td>\n",
       "    </tr>\n",
       "    <tr>\n",
       "      <th>15500</th>\n",
       "      <td>I won the fight.</td>\n",
       "      <td>J'ai gagné le combat.</td>\n",
       "    </tr>\n",
       "    <tr>\n",
       "      <th>42501</th>\n",
       "      <td>Those were the days.</td>\n",
       "      <td>C'était le bon temps.</td>\n",
       "    </tr>\n",
       "    <tr>\n",
       "      <th>7079</th>\n",
       "      <td>Do you get it?</td>\n",
       "      <td>Pigez-vous ?</td>\n",
       "    </tr>\n",
       "    <tr>\n",
       "      <th>14147</th>\n",
       "      <td>Did someone die?</td>\n",
       "      <td>Quelqu'un est-il mort ?</td>\n",
       "    </tr>\n",
       "  </tbody>\n",
       "</table>\n",
       "</div>"
      ],
      "text/plain": [
       "                        eng                      fra\n",
       "31269   Don't tell anybody.  Ne le dis à quiconque !\n",
       "15500      I won the fight.    J'ai gagné le combat.\n",
       "42501  Those were the days.    C'était le bon temps.\n",
       "7079         Do you get it?             Pigez-vous ?\n",
       "14147      Did someone die?  Quelqu'un est-il mort ?"
      ]
     },
     "execution_count": 4,
     "metadata": {},
     "output_type": "execute_result"
    }
   ],
   "source": [
    "lines = lines[['eng', 'fra']][:50000] # 5만개 샘플 사용\n",
    "lines.sample(5)"
   ]
  },
  {
   "cell_type": "markdown",
   "id": "f3450afa",
   "metadata": {},
   "source": [
    "# 3. 디코더에 시작 토큰 \\t (<sos>), 종료 토큰 \\n (<eos>) 추가하기"
   ]
  },
  {
   "cell_type": "code",
   "execution_count": 5,
   "id": "cf0cfb9e",
   "metadata": {},
   "outputs": [
    {
     "name": "stdout",
     "output_type": "stream",
     "text": [
      "전체 샘플의 수 : 50000\n"
     ]
    },
    {
     "data": {
      "text/html": [
       "<div>\n",
       "<style scoped>\n",
       "    .dataframe tbody tr th:only-of-type {\n",
       "        vertical-align: middle;\n",
       "    }\n",
       "\n",
       "    .dataframe tbody tr th {\n",
       "        vertical-align: top;\n",
       "    }\n",
       "\n",
       "    .dataframe thead th {\n",
       "        text-align: right;\n",
       "    }\n",
       "</style>\n",
       "<table border=\"1\" class=\"dataframe\">\n",
       "  <thead>\n",
       "    <tr style=\"text-align: right;\">\n",
       "      <th></th>\n",
       "      <th>eng</th>\n",
       "      <th>fra</th>\n",
       "    </tr>\n",
       "  </thead>\n",
       "  <tbody>\n",
       "    <tr>\n",
       "      <th>2571</th>\n",
       "      <td>Tom stayed.</td>\n",
       "      <td>\\t Tom est resté. \\n</td>\n",
       "    </tr>\n",
       "    <tr>\n",
       "      <th>31452</th>\n",
       "      <td>Get out of my seat.</td>\n",
       "      <td>\\t Sors de mon siège ! \\n</td>\n",
       "    </tr>\n",
       "    <tr>\n",
       "      <th>25284</th>\n",
       "      <td>He speaks English.</td>\n",
       "      <td>\\t Il parle anglais. \\n</td>\n",
       "    </tr>\n",
       "    <tr>\n",
       "      <th>13318</th>\n",
       "      <td>We're freezing.</td>\n",
       "      <td>\\t On se gèle. \\n</td>\n",
       "    </tr>\n",
       "    <tr>\n",
       "      <th>21895</th>\n",
       "      <td>Spit it out, Tom.</td>\n",
       "      <td>\\t Crache-la, Tom. \\n</td>\n",
       "    </tr>\n",
       "  </tbody>\n",
       "</table>\n",
       "</div>"
      ],
      "text/plain": [
       "                       eng                        fra\n",
       "2571           Tom stayed.       \\t Tom est resté. \\n\n",
       "31452  Get out of my seat.  \\t Sors de mon siège ! \\n\n",
       "25284   He speaks English.    \\t Il parle anglais. \\n\n",
       "13318      We're freezing.          \\t On se gèle. \\n\n",
       "21895    Spit it out, Tom.      \\t Crache-la, Tom. \\n"
      ]
     },
     "execution_count": 5,
     "metadata": {},
     "output_type": "execute_result"
    }
   ],
   "source": [
    "# 시작 토큰과 종료 토큰 추가\n",
    "sos_token = '\\t'\n",
    "eos_token = '\\n'\n",
    "lines.fra = lines.fra.apply(lambda x : '\\t '+ x + ' \\n')\n",
    "print('전체 샘플의 수 :',len(lines))\n",
    "lines.sample(5)"
   ]
  },
  {
   "cell_type": "markdown",
   "id": "76ff4f34",
   "metadata": {},
   "source": [
    "# 4. Tokenizer(단어 사전, 단어장) 생성하기\n",
    "이제 단어장(vocabulary)을 만들고, \n",
    "각 단어에 부여된 고유한 정수로, 텍스트 시퀀스를 정수 시퀀스로 변환하는 정수 인코딩 과정을 거친다\n",
    "\n",
    "이때 영어와 프랑스어는 사용하는 언어가 다르므로 단어장을 별도로 만들어줍니다. \n",
    "그리고 정상적으로 정수 시퀀스로 변환되었는지 3개의 행을 출력합니다."
   ]
  },
  {
   "cell_type": "code",
   "execution_count": 6,
   "id": "68b16159",
   "metadata": {},
   "outputs": [
    {
     "data": {
      "text/plain": [
       "[[19, 4, 7], [19, 4, 7], [19, 4, 7]]"
      ]
     },
     "execution_count": 6,
     "metadata": {},
     "output_type": "execute_result"
    }
   ],
   "source": [
    "eng_tokenizer = Tokenizer(char_level=True)   # 문자 단위로 Tokenizer를 생성합니다. \n",
    "eng_tokenizer.fit_on_texts(lines.eng)               # 50000개의 행을 가진 eng의 각 행에 토큰화를 수행 # fit_on_texts 메서드 찾아보기\n",
    "input_text = eng_tokenizer.texts_to_sequences(lines.eng)    # 단어를 숫자값 인덱스로 변환하여 저장 # 이미 texts_to_sequences가 되어있나?\n",
    "input_text[:3]"
   ]
  },
  {
   "cell_type": "code",
   "execution_count": 7,
   "id": "ccab9523",
   "metadata": {},
   "outputs": [
    {
     "data": {
      "text/plain": [
       "[[10, 1, 19, 5, 1, 31, 1, 11],\n",
       " [10, 1, 15, 5, 12, 16, 29, 2, 14, 1, 11],\n",
       " [10, 1, 2, 7, 1, 12, 9, 8, 4, 2, 1, 31, 1, 11]]"
      ]
     },
     "execution_count": 7,
     "metadata": {},
     "output_type": "execute_result"
    }
   ],
   "source": [
    "fra_tokenizer = Tokenizer(char_level=True)   # 문자 단위로 Tokenizer를 생성합니다. \n",
    "fra_tokenizer.fit_on_texts(lines.fra)                 # 50000개의 행을 가진 fra의 각 행에 토큰화를 수행\n",
    "target_text = fra_tokenizer.texts_to_sequences(lines.fra)     # 단어를 숫자값 인덱스로 변환하여 저장\n",
    "target_text[:3]"
   ]
  },
  {
   "cell_type": "markdown",
   "id": "89679f51",
   "metadata": {},
   "source": [
    "# 5. 단어장의 크기를 변수에 담아주기(0번 토큰도 있으므로 +1하기)"
   ]
  },
  {
   "cell_type": "code",
   "execution_count": 8,
   "id": "5ac0fa5c",
   "metadata": {},
   "outputs": [
    {
     "name": "stdout",
     "output_type": "stream",
     "text": [
      "영어 단어장의 크기 : 52\n",
      "프랑스어 단어장의 크기 : 73\n"
     ]
    }
   ],
   "source": [
    "eng_vocab_size = len(eng_tokenizer.word_index) + 1\n",
    "fra_vocab_size = len(fra_tokenizer.word_index) + 1\n",
    "print('영어 단어장의 크기 :', eng_vocab_size)\n",
    "print('프랑스어 단어장의 크기 :', fra_vocab_size)"
   ]
  },
  {
   "cell_type": "code",
   "execution_count": 9,
   "id": "4d22b15a",
   "metadata": {},
   "outputs": [
    {
     "data": {
      "text/plain": [
       "{' ': 1,\n",
       " 'e': 2,\n",
       " 's': 3,\n",
       " 't': 4,\n",
       " 'a': 5,\n",
       " 'i': 6,\n",
       " 'n': 7,\n",
       " 'u': 8,\n",
       " 'o': 9,\n",
       " '\\t': 10,\n",
       " '\\n': 11,\n",
       " 'r': 12,\n",
       " 'l': 13,\n",
       " '.': 14,\n",
       " 'm': 15,\n",
       " 'c': 16,\n",
       " 'p': 17,\n",
       " 'd': 18,\n",
       " 'v': 19,\n",
       " \"'\": 20,\n",
       " 'é': 21,\n",
       " 'j': 22,\n",
       " 'f': 23,\n",
       " '-': 24,\n",
       " 'b': 25,\n",
       " '?': 26,\n",
       " 'q': 27,\n",
       " 'g': 28,\n",
       " 'h': 29,\n",
       " 'z': 30,\n",
       " '!': 31,\n",
       " 'x': 32,\n",
       " 'ê': 33,\n",
       " 'à': 34,\n",
       " 'y': 35,\n",
       " 'è': 36,\n",
       " 'ç': 37,\n",
       " '\\u202f': 38,\n",
       " '\\xa0': 39,\n",
       " ',': 40,\n",
       " 'î': 41,\n",
       " 'ô': 42,\n",
       " '’': 43,\n",
       " 'ù': 44,\n",
       " 'û': 45,\n",
       " 'â': 46,\n",
       " 'œ': 47,\n",
       " 'k': 48,\n",
       " 'ï': 49,\n",
       " '0': 50,\n",
       " 'w': 51,\n",
       " '1': 52,\n",
       " '3': 53,\n",
       " '\\u2009': 54,\n",
       " '2': 55,\n",
       " '9': 56,\n",
       " 'ë': 57,\n",
       " '«': 58,\n",
       " '»': 59,\n",
       " '5': 60,\n",
       " '7': 61,\n",
       " '8': 62,\n",
       " ':': 63,\n",
       " '6': 64,\n",
       " '4': 65,\n",
       " '%': 66,\n",
       " '\"': 67,\n",
       " '&': 68,\n",
       " '(': 69,\n",
       " ')': 70,\n",
       " '$': 71,\n",
       " '‘': 72}"
      ]
     },
     "execution_count": 9,
     "metadata": {},
     "output_type": "execute_result"
    }
   ],
   "source": [
    "# 프랑스어 토크나이저된(알파벳 기준으로 나눔) 단어장, word:index의 구조로 되어있음\n",
    "fra_tokenizer.word_index"
   ]
  },
  {
   "cell_type": "code",
   "execution_count": 10,
   "id": "8910c40a",
   "metadata": {},
   "outputs": [
    {
     "data": {
      "text/plain": [
       "{' ': 1,\n",
       " 'e': 2,\n",
       " 't': 3,\n",
       " 'o': 4,\n",
       " 'i': 5,\n",
       " 'a': 6,\n",
       " '.': 7,\n",
       " 's': 8,\n",
       " 'r': 9,\n",
       " 'n': 10,\n",
       " 'h': 11,\n",
       " 'l': 12,\n",
       " 'd': 13,\n",
       " 'y': 14,\n",
       " 'u': 15,\n",
       " 'm': 16,\n",
       " 'w': 17,\n",
       " \"'\": 18,\n",
       " 'g': 19,\n",
       " 'c': 20,\n",
       " 'p': 21,\n",
       " 'k': 22,\n",
       " 'b': 23,\n",
       " 'f': 24,\n",
       " 'v': 25,\n",
       " '?': 26,\n",
       " 'j': 27,\n",
       " '!': 28,\n",
       " 'x': 29,\n",
       " ',': 30,\n",
       " 'z': 31,\n",
       " 'q': 32,\n",
       " '0': 33,\n",
       " '-': 34,\n",
       " '3': 35,\n",
       " '1': 36,\n",
       " '2': 37,\n",
       " '9': 38,\n",
       " ':': 39,\n",
       " '5': 40,\n",
       " '7': 41,\n",
       " '8': 42,\n",
       " '6': 43,\n",
       " '$': 44,\n",
       " '\"': 45,\n",
       " '%': 46,\n",
       " '4': 47,\n",
       " 'é': 48,\n",
       " '’': 49,\n",
       " '&': 50,\n",
       " '/': 51}"
      ]
     },
     "execution_count": 10,
     "metadata": {},
     "output_type": "execute_result"
    }
   ],
   "source": [
    "eng_tokenizer.word_index"
   ]
  },
  {
   "cell_type": "markdown",
   "id": "70d72fe1",
   "metadata": {},
   "source": [
    "# 6. 영어 데이터, 프랑스어 데이터들의 최대 길이 구하기\n",
    "# 또 기본 통계 정보도 구하기(패딩하기 위해)"
   ]
  },
  {
   "cell_type": "code",
   "execution_count": 11,
   "id": "ccd5368a",
   "metadata": {},
   "outputs": [
    {
     "name": "stdout",
     "output_type": "stream",
     "text": [
      "영어 시퀀스의 최대 길이 21\n",
      "프랑스어 시퀀스의 최대 길이 69\n"
     ]
    }
   ],
   "source": [
    "max_eng_seq_len = max([len(line) for line in input_text])\n",
    "max_fra_seq_len = max([len(line) for line in target_text])\n",
    "print('영어 시퀀스의 최대 길이', max_eng_seq_len)\n",
    "print('프랑스어 시퀀스의 최대 길이', max_fra_seq_len)"
   ]
  },
  {
   "cell_type": "code",
   "execution_count": 12,
   "id": "8006ef8d",
   "metadata": {},
   "outputs": [
    {
     "name": "stdout",
     "output_type": "stream",
     "text": [
      "전체 샘플의 수 : 50000\n",
      "영어 단어장의 크기 : 52\n",
      "프랑스어 단어장의 크기 : 73\n",
      "영어 시퀀스의 최대 길이 21\n",
      "프랑스어 시퀀스의 최대 길이 69\n"
     ]
    }
   ],
   "source": [
    "print('전체 샘플의 수 :',len(lines))\n",
    "print('영어 단어장의 크기 :', eng_vocab_size)\n",
    "print('프랑스어 단어장의 크기 :', fra_vocab_size)\n",
    "print('영어 시퀀스의 최대 길이', max_eng_seq_len)\n",
    "print('프랑스어 시퀀스의 최대 길이', max_fra_seq_len)"
   ]
  },
  {
   "cell_type": "markdown",
   "id": "f81317aa",
   "metadata": {},
   "source": [
    "# 7. 프랑스어 데이터, 즉 프랑스어 시퀀스를 2가지 버전(입력 데이터, 출력 데이터)으로 준비\n",
    "\n",
    "인코더의 입력으로 사용되는 영어 시퀀스와 달리, 프랑스어 시퀀스는 2가지 버전으로 나누어 준비\n",
    "\n",
    "1. 디코더의 출력과 비교해야 할 정답 데이터로 사용하기 위해\n",
    "2. 교사 강요(Teacher forcing)을 위해 디코더의 입력으로 사용하기 위해\n",
    "\n",
    "\n",
    "같은 문장을 굳이 2가지 버전으로 나누는 이유는, \n",
    "디코더의 입력으로 사용할 시퀀스는 <eos> 토큰이 필요가 없고, 디코더의 출력과 비교할 시퀀스는 <sos>가 필요가 없기 때문\n",
    "    \n",
    "가령, 영어로 'I am a person'이라는 문장을 프랑스어 'Je suis une personne'로 번역하는 번역기를 만든다고 해봅시다. \n",
    "훈련 과정에서 디코더는 '<sos> Je suis une personne'를 입력받아서 'Je suis une personne <eos>'를 예측하도록 훈련되므로, \n",
    "이런 방식으로 생성된 두가지 버전의 시퀀스를 준비"
   ]
  },
  {
   "cell_type": "code",
   "execution_count": 13,
   "id": "b269527b",
   "metadata": {},
   "outputs": [
    {
     "data": {
      "text/plain": [
       "11"
      ]
     },
     "execution_count": 13,
     "metadata": {},
     "output_type": "execute_result"
    }
   ],
   "source": [
    "fra_tokenizer.word_index[eos_token]\n",
    "# 이건 왜 출력해본걸까.. 아 숫자 11은 <eos> 토큰을 의미하는 걸 확인하기 위해서 였던 것 같다\n",
    "# 숫자 10은 <sos> 시작을 의미하는 토큰"
   ]
  },
  {
   "cell_type": "code",
   "execution_count": 15,
   "id": "ce6cb6a4",
   "metadata": {},
   "outputs": [],
   "source": [
    "encoder_input = input_text\n",
    "# 종료 토큰 제거\n",
    "decoder_input = [[ char for char in line if char != fra_tokenizer.word_index[eos_token] ] for line in target_text] \n",
    "# 시작 토큰 제거\n",
    "decoder_target = [[ char for char in line if char != fra_tokenizer.word_index[sos_token] ] for line in target_text]\n",
    "\n",
    "\n",
    "# 리스트 내포 실행순서 공부하기"
   ]
  },
  {
   "cell_type": "code",
   "execution_count": 16,
   "id": "6585906c",
   "metadata": {},
   "outputs": [
    {
     "name": "stdout",
     "output_type": "stream",
     "text": [
      "[[10, 1, 19, 5, 1, 31, 1], [10, 1, 15, 5, 12, 16, 29, 2, 14, 1], [10, 1, 2, 7, 1, 12, 9, 8, 4, 2, 1, 31, 1]]\n",
      "[[1, 19, 5, 1, 31, 1, 11], [1, 15, 5, 12, 16, 29, 2, 14, 1, 11], [1, 2, 7, 1, 12, 9, 8, 4, 2, 1, 31, 1, 11]]\n"
     ]
    }
   ],
   "source": [
    "print(decoder_input[:3])\n",
    "print(decoder_target[:3])"
   ]
  },
  {
   "cell_type": "markdown",
   "id": "a60d7040",
   "metadata": {},
   "source": [
    "# 8. 영어 데이터, 프랑스어 입력 데이터, 프랑스어 출력 데이터 각각에 패딩\n",
    "max_eng_seq_len, max_fra_seq_len 활용"
   ]
  },
  {
   "cell_type": "code",
   "execution_count": 17,
   "id": "dd76ff25",
   "metadata": {},
   "outputs": [
    {
     "name": "stdout",
     "output_type": "stream",
     "text": [
      "영어 데이터의 크기(shape) : (50000, 21)\n",
      "프랑스어 입력데이터의 크기(shape) : (50000, 69)\n",
      "프랑스어 출력데이터의 크기(shape) : (50000, 69)\n"
     ]
    }
   ],
   "source": [
    "encoder_input = pad_sequences(encoder_input, maxlen = max_eng_seq_len, padding='post') # 뒤에 패딩\n",
    "decoder_input = pad_sequences(decoder_input, maxlen = max_fra_seq_len, padding='post')\n",
    "decoder_target = pad_sequences(decoder_target, maxlen = max_fra_seq_len, padding='post')\n",
    "print('영어 데이터의 크기(shape) :',np.shape(encoder_input))\n",
    "print('프랑스어 입력데이터의 크기(shape) :',np.shape(decoder_input))\n",
    "print('프랑스어 출력데이터의 크기(shape) :',np.shape(decoder_target))"
   ]
  },
  {
   "cell_type": "code",
   "execution_count": 18,
   "id": "6c3dfb9b",
   "metadata": {},
   "outputs": [
    {
     "name": "stdout",
     "output_type": "stream",
     "text": [
      "[19  4  7  0  0  0  0  0  0  0  0  0  0  0  0  0  0  0  0  0  0]\n"
     ]
    }
   ],
   "source": [
    "print(encoder_input[0])"
   ]
  },
  {
   "cell_type": "code",
   "execution_count": 19,
   "id": "d2326237",
   "metadata": {},
   "outputs": [
    {
     "data": {
      "text/plain": [
       "(69,)"
      ]
     },
     "execution_count": 19,
     "metadata": {},
     "output_type": "execute_result"
    }
   ],
   "source": [
    "decoder_input[0].shape"
   ]
  },
  {
   "cell_type": "markdown",
   "id": "59de5e3b",
   "metadata": {},
   "source": [
    "# 9. 원핫 인코딩 진행\n",
    "이제 각 정수에 대해서 벡터화 방법으로 원-핫 인코딩을 진행"
   ]
  },
  {
   "cell_type": "code",
   "execution_count": 20,
   "id": "20f4bc23",
   "metadata": {},
   "outputs": [
    {
     "name": "stdout",
     "output_type": "stream",
     "text": [
      "영어 데이터의 크기(shape) : (50000, 21, 52)\n",
      "프랑스어 입력데이터의 크기(shape) : (50000, 69, 73)\n",
      "프랑스어 출력데이터의 크기(shape) : (50000, 69, 73)\n"
     ]
    }
   ],
   "source": [
    "encoder_input = to_categorical(encoder_input)\n",
    "decoder_input = to_categorical(decoder_input)\n",
    "decoder_target = to_categorical(decoder_target)\n",
    "print('영어 데이터의 크기(shape) :',np.shape(encoder_input))\n",
    "print('프랑스어 입력데이터의 크기(shape) :',np.shape(decoder_input))\n",
    "print('프랑스어 출력데이터의 크기(shape) :',np.shape(decoder_target))"
   ]
  },
  {
   "cell_type": "markdown",
   "id": "ca1e52fc",
   "metadata": {},
   "source": [
    "원-핫 인코딩을 하고나서의 데이터의 크기는 (샘플의 수 × 샘플의 길이 × 단어장의 크기) 가 됩니다. \n",
    "원-핫 인코딩은 각 정수를 단어장의 크기를 가지는 원-핫 벡터로 인코딩하는 과정이기 때문입니다."
   ]
  },
  {
   "cell_type": "markdown",
   "id": "a4a94d84",
   "metadata": {},
   "source": [
    "# 10. 훈련용 데이터, 검증용 데이터 나누어주기\n",
    "훈련과정의 validation을 위해 위에서 생성한 데이터 50000건 중 3000건만 검증데이터로 삼고, \n",
    "나머지를 학습데이터로 삼겠습니다."
   ]
  },
  {
   "cell_type": "code",
   "execution_count": 18,
   "id": "92d8b5bd",
   "metadata": {},
   "outputs": [
    {
     "name": "stdout",
     "output_type": "stream",
     "text": [
      "영어 학습데이터의 크기(shape) : (50000, 21, 52)\n",
      "프랑스어 학습 입력데이터의 크기(shape) : (50000, 69, 73)\n",
      "프랑스어 학습 출력데이터의 크기(shape) : (50000, 69, 73)\n"
     ]
    }
   ],
   "source": [
    "n_of_val = 3000\n",
    "\n",
    "encoder_input_train = encoder_input[:-n_of_val]\n",
    "decoder_input_train = decoder_input[:-n_of_val]\n",
    "decoder_target_train = decoder_target[:-n_of_val]\n",
    "\n",
    "encoder_input_test = encoder_input[-n_of_val:]\n",
    "decoder_input_test = decoder_input[-n_of_val:]\n",
    "decoder_target_test = decoder_target[-n_of_val:]\n",
    "\n",
    "print('영어 학습데이터의 크기(shape) :',np.shape(encoder_input))\n",
    "print('프랑스어 학습 입력데이터의 크기(shape) :',np.shape(decoder_input))\n",
    "print('프랑스어 학습 출력데이터의 크기(shape) :',np.shape(decoder_target))"
   ]
  },
  {
   "cell_type": "code",
   "execution_count": null,
   "id": "fe284421",
   "metadata": {},
   "outputs": [],
   "source": []
  },
  {
   "cell_type": "markdown",
   "id": "e1f08c7d",
   "metadata": {},
   "source": [
    "# (2) 모델 훈련하기\n",
    "# 0. 필요한 도구 임포트"
   ]
  },
  {
   "cell_type": "code",
   "execution_count": 21,
   "id": "0ea6790c",
   "metadata": {},
   "outputs": [
    {
     "name": "stdout",
     "output_type": "stream",
     "text": [
      "⏳\n"
     ]
    }
   ],
   "source": [
    "\n",
    "from tensorflow.keras.layers import Input, LSTM, Embedding, Dense\n",
    "from tensorflow.keras.models import Model\n",
    "\n",
    "print('⏳')"
   ]
  },
  {
   "cell_type": "markdown",
   "id": "5ccd65e5",
   "metadata": {},
   "source": [
    "# 1. 인코더 설계"
   ]
  },
  {
   "cell_type": "code",
   "execution_count": 23,
   "id": "be267887",
   "metadata": {},
   "outputs": [],
   "source": [
    "# 입력 텐서 생성.\n",
    "encoder_inputs = Input(shape=(None, eng_vocab_size)) # 한 배치사이즈의 크기 (None, eng_vocab_size) 이 부분 숫자 맞는지, none이라 한 이유는? \n",
    "# hidden size가 256인 인코더의 LSTM 셀 생성\n",
    "encoder_lstm = LSTM(units = 256, return_state = True) # return_state = True로 해서 hidden state와 cell state를 리턴받을 수 있도록 합니다\n",
    "# 디코더로 전달할 hidden state, cell state를 리턴. encoder_outputs은 여기서는 불필요.\n",
    "encoder_outputs, state_h, state_c = encoder_lstm(encoder_inputs)\n",
    "# hidden state와 cell state를 다음 time step으로 전달하기 위해서 별도 저장.\n",
    "encoder_states = [state_h, state_c]"
   ]
  },
  {
   "cell_type": "markdown",
   "id": "46838e18",
   "metadata": {},
   "source": [
    "### 여기에서는 함수형 API로 모델을 쌓은 건가요? 네!\n",
    "\n",
    "### 인코더에 넣을 때는 텐서의 형태로 넣어주어야 한다? 네..!\n",
    "\n",
    "### 순환층을 셀이라고 하고, 하나의 셀은 여러개의 뉴런으로 구성된다고 하는데, 위에서 256개라고 하면 하나의 LSTM \n",
    "### 층 안에 256개의 작은 셀들이 있는 거라고 생각하면 될까요? 네!\n",
    "\n",
    "### hidden_size가 256이면 hidden_state로 나오는 값이 256개가 된다는 의미일까요? 네!\n",
    "\n",
    "### return_sequence 와 return_state가 있는데\n",
    "return_seauence=true는 모든 타임 스텝의 hidden state를 출력\n",
    "예: 길이가 6이면 총 6개의 hidden state값이 나옴\n",
    "\n",
    "return_state=true는 마지막 타임 스텝의 output(hidden state) \n",
    "### <- 결국에는 output이 곧 hidden state인가요?? 네!\n",
    "무튼 output, hidden state, cell state가 출력된다(아아 이게 최종이었네)\n",
    "즉 마지막 output 값이 2번 출력되고 cell state가 나온다\n",
    "\n",
    "\n",
    "### 위 코드에서의 encoder_outputs와 state_h는 같은 값인가요??? 네!\n",
    "\n",
    "\n",
    "\n",
    "\n",
    "\n",
    "\n",
    "\n",
    "### 질문! encoder_outputs나 state_h는 tensor로 나오던데 어떻게 확인하면 되나요?\n",
    "아래와 같이 텐서로 출력되는 것으로 확인하나요?\n",
    "\n",
    "### encoder_outputs, state_h, state_c = encoder_lstm(encoder_inputs) 여기에서 출력값은\n",
    "원래 lstm 레이어에서는 세개로 나누어 나오나요? ㅇ아아 모델의 그림을 보면 ht, ht, ct 이렇게 나오므로~\n",
    "내가 변수만 다르게 넣은 것 같다\n",
    "\n"
   ]
  },
  {
   "cell_type": "code",
   "execution_count": 24,
   "id": "e3f04e37",
   "metadata": {},
   "outputs": [
    {
     "data": {
      "text/plain": [
       "[<KerasTensor: shape=(None, 256) dtype=float32 (created by layer 'lstm')>,\n",
       " <KerasTensor: shape=(None, 256) dtype=float32 (created by layer 'lstm')>,\n",
       " <KerasTensor: shape=(None, 256) dtype=float32 (created by layer 'lstm')>]"
      ]
     },
     "execution_count": 24,
     "metadata": {},
     "output_type": "execute_result"
    }
   ],
   "source": [
    "encoder_lstm(encoder_inputs)"
   ]
  },
  {
   "cell_type": "code",
   "execution_count": 25,
   "id": "f373b330",
   "metadata": {},
   "outputs": [
    {
     "data": {
      "text/plain": [
       "<KerasTensor: shape=(None, 256) dtype=float32 (created by layer 'lstm')>"
      ]
     },
     "execution_count": 25,
     "metadata": {},
     "output_type": "execute_result"
    }
   ],
   "source": [
    "encoder_outputs"
   ]
  },
  {
   "cell_type": "code",
   "execution_count": 26,
   "id": "31ec59e5",
   "metadata": {},
   "outputs": [
    {
     "data": {
      "text/plain": [
       "<KerasTensor: shape=(None, 256) dtype=float32 (created by layer 'lstm')>"
      ]
     },
     "execution_count": 26,
     "metadata": {},
     "output_type": "execute_result"
    }
   ],
   "source": [
    "state_h"
   ]
  },
  {
   "cell_type": "code",
   "execution_count": 27,
   "id": "3fa07376",
   "metadata": {},
   "outputs": [
    {
     "data": {
      "text/plain": [
       "<KerasTensor: shape=(None, 256) dtype=float32 (created by layer 'lstm')>"
      ]
     },
     "execution_count": 27,
     "metadata": {},
     "output_type": "execute_result"
    }
   ],
   "source": [
    "state_c"
   ]
  },
  {
   "cell_type": "code",
   "execution_count": 29,
   "id": "367ef1f9",
   "metadata": {},
   "outputs": [
    {
     "data": {
      "image/jpeg": "[encoded data removed]",
      "text/plain": [
       "<IPython.core.display.Image object>"
      ]
     },
     "execution_count": 29,
     "metadata": {},
     "output_type": "execute_result"
    }
   ],
   "source": [
    "Image(\"[GD_7_Translator] images/01.jpg\")"
   ]
  },
  {
   "cell_type": "code",
   "execution_count": null,
   "id": "8ad4e597",
   "metadata": {},
   "outputs": [],
   "source": []
  },
  {
   "cell_type": "markdown",
   "id": "881bdd72",
   "metadata": {},
   "source": [
    "# 2. 디코더 설계"
   ]
  },
  {
   "cell_type": "code",
   "execution_count": null,
   "id": "4a6e4553",
   "metadata": {},
   "outputs": [],
   "source": [
    "# 코드 돌리진 말기\n",
    "# 입력 텐서 생성.\n",
    "decoder_inputs = Input(shape=(None, fra_vocab_size)) # fra_vocab_size = len(fra_tokenizer.word_index) + 1 이렇게 해서 나온 것\n",
    "# hidden size가 256인 인코더의 LSTM 셀 생성\n",
    "decoder_lstm = LSTM(units = 256, return_sequences = True, return_state=True) # 여기에서는 return_sequence=True를 주었다, 매 hidden state를 출력하기 위해?\n",
    "# decoder_outputs는 모든 time step의 hidden state\n",
    "decoder_outputs, _, _= decoder_lstm(decoder_inputs, initial_state = encoder_states)"
   ]
  },
  {
   "cell_type": "markdown",
   "id": "4ebfcdf0",
   "metadata": {},
   "source": [
    "### 이렇게 되면, \n",
    "return_seauences=true이니 \n",
    "디코더 lstm에서 매 타임스텝의 hidden state를 출력하고\n",
    "\n",
    "return_state=true이니\n",
    "디코더 lstm에서 나오는 최종 hidden state와 cell state를 출력한다????\n",
    "\n",
    "\n",
    "### 질문! decoder_outputs은 return_sequences=true를 통해 나오는 매 타임스텝마다의 hidden_state가 다 담긴 변수?\n",
    "### returen_sequences를 설정하든 안하든 decoder_outputs, encoder_outputs은 나오는거죠?\n",
    "### encoder_outputs에서 담긴 건 최종 타임스텝의 hidden_state? 아니면 cell state도 같이? - hidden_state만 인듯!"
   ]
  },
  {
   "cell_type": "code",
   "execution_count": null,
   "id": "f768cb08",
   "metadata": {},
   "outputs": [],
   "source": [
    "인코더는 이렇게 했는데, \n",
    "encoder_outputs, state_h, state_c = encoder_lstm(encoder_inputs) 여기에서\n",
    "\n",
    "decoder_outputs, _, _= decoder_lstm(decoder_inputs, initial_state = encoder_states) \n",
    "이렇게 decoder_lstm()안에 변수를 두 개 넣을 수 있나봐 신기"
   ]
  },
  {
   "cell_type": "code",
   "execution_count": null,
   "id": "f62f7716",
   "metadata": {},
   "outputs": [],
   "source": [
    "기본적으로 LSTM은 3차원 텐서이지요 (배츠사이즈, 타임, 피쳐) 라고 한느데\n",
    "https://www.facebook.com/groups/TensorFlowKR/permalink/954273444913714/"
   ]
  },
  {
   "cell_type": "code",
   "execution_count": 28,
   "id": "fa884b49",
   "metadata": {},
   "outputs": [
    {
     "data": {
      "image/png": "[encoded data removed]",
      "text/plain": [
       "<IPython.core.display.Image object>"
      ]
     },
     "execution_count": 28,
     "metadata": {},
     "output_type": "execute_result"
    }
   ],
   "source": [
    "Image(\"[GD_7_Translator] images/05.PNG\")"
   ]
  },
  {
   "cell_type": "markdown",
   "id": "c6bf3e48",
   "metadata": {},
   "source": [
    "# 질문! 여기에서 출력값의 hidden states가 왜 4개의 값이 나오지? units의 수를 3개 있으면 3개 아닌가?\n",
    "\n",
    "\n",
    "챗gpt에게 물어보니 4번의 타임스텝이 있다고 한다\n",
    "처음에 입력을 만들 때 단어 벡터의 차원은 5이고, 문장의 길이가 4인 경우를 가정한 입력을 만들었었다.\n",
    "\n",
    "train_X = [[0.1, 4.2, 1.5, 1.1, 2.8], [1.0, 3.1, 2.5, 0.7, 1.1], [0.3, 2.1, 1.5, 2.1, 0.1], [2.2, 1.4, 0.5, 0.9, 1.1]]\n",
    "print(np.shape(train_X))"
   ]
  },
  {
   "cell_type": "markdown",
   "id": "1d301399",
   "metadata": {},
   "source": [
    "# 또 다른 질문\n",
    "# 단어 하나당 벡터의 차원은 5, 문장의 길이는 4로 만들었는데\n",
    "lstm을 지나면 decoder_outputs에는 [00000 000000 000000] 이렇게 한 문장당 세 개의 값이 나온다.\n",
    "### 한 문장에 대한   5차원의 벡터값이 3차원으로 바뀐거라고 이해하면 되나? \n",
    "### lstm안에서 설정한 units의 수가 3이었기 때문에?\n",
    "### 항상 이 유닛수는 한 문장의 00차원의 수보다 작아야 하나요? 커도 괜찮나요?"
   ]
  },
  {
   "cell_type": "code",
   "execution_count": null,
   "id": "9a56748b",
   "metadata": {},
   "outputs": [],
   "source": [
    "다시 디코더 만드는 코드를 보면"
   ]
  },
  {
   "cell_type": "code",
   "execution_count": null,
   "id": "a06865ed",
   "metadata": {},
   "outputs": [],
   "source": [
    "# 입력 텐서 생성.\n",
    "decoder_inputs = Input(shape=(None, fra_vocab_size)) # fra_vocab_size = len(fra_tokenizer.word_index) + 1 이렇게 해서 나온 것\n",
    "# hidden size가 256인 인코더의 LSTM 셀 생성\n",
    "decoder_lstm = LSTM(units = 256, return_sequences = True, return_state=True)\n",
    "# decoder_outputs는 모든 time step의 hidden state\n",
    "decoder_outputs, _, _= decoder_lstm(decoder_inputs, initial_state = encoder_states)\n",
    "\n"
   ]
  },
  {
   "cell_type": "markdown",
   "id": "0e0115aa",
   "metadata": {},
   "source": [
    "### 이렇게 되면, \n",
    "return_seauences=true이니 \n",
    "디코더 lstm에서 매 타임스텝의 hidden state를 출력하고,\n",
    "\n",
    "return_state=true이니\n",
    "디코더 lstm에서 나오는 최종 hidden state와 cell state를 출력한다???? 응 그런 것 같아"
   ]
  },
  {
   "cell_type": "markdown",
   "id": "a0f388c0",
   "metadata": {},
   "source": [
    "decoder_outputs는 모든 time step의 hidden state?? - 어디서 나온 말이야? 무슨 뜻?\n",
    "아 그러게 return_sequences니까 모든 타임 스텝의 히든 스테이츠가 decoder_outputs에 담기는 걸까? 오호오호\n",
    "\n",
    "decoder_outputs, _, _= decoder_lstm(decoder_inputs, initial_state = encoder_states)\n",
    "\n",
    "1. 이렇게 decoder_lstm 층 안에(decoder_inputs를 넣고, 매개변수인 initial_state를 넣으면 \n",
    "이 때의 initial_state는 encorder_states로 \n",
    "encorder_states가 뭐였냐 하면 encoder_states = [state_h, state_c] 이렇게 나온 값\n",
    "\n",
    "그래서 encorder에서 나온 마지막 타임스텝의 hidden_state와 cell state를 디코더 lstm의 초기 상태를 정의해 줌\n",
    "initial_state가 추가되었는데요. LSTM 셀의 초기 상태를 정의해줄 수 있는 인자\n",
    "\n",
    "\n",
    "\n",
    "2. 여기 코드에서 _,_를 한 이유는 첫번째 _에는 state_h, state_c가 나오는데 _의 의미는 이 부분을 불러오지 않겠다는 의미이겠지\n",
    "왜? 여기에서는 출력 문장을 재생성하는 층이므로 마지막에 나오는 decorder_outputs만 중요하지, state_h, state_c는 굳이 필요 없으므로\n",
    "\n",
    "\n",
    "또 state_h, state_c는 return_state=true를 통해서 나온 값이다. 마지막 타임스텝의 hidden state, cell state\n",
    "\n",
    "그런데 이 디코더에서는 필요가 없다고 한다. 음 이유는 뭘까?\n",
    "### 전체 타임스텝의 hidden_state를 통해서 각 히든 스테이트마다 단어들을 번역하려고?\n",
    "### 각 히든 스텝들이 한 단어들이 되는건가?????\n",
    "### 히든 스테이트에서 나오는 값이 정확히 무엇을 의미하는가? \n",
    "\n",
    "위에서 출력문장을 재생성하는 층이므로 decoder_outputs만 중요하다....?고 썼다.\n",
    "참고로 인코더에서는\n",
    "encoder_outputs, state_h, state_c = encoder_lstm(encoder_inputs)\n",
    "encoder_states = [state_h, state_c]\n",
    "게 했다.\n"
   ]
  },
  {
   "cell_type": "code",
   "execution_count": null,
   "id": "34c87499",
   "metadata": {},
   "outputs": [],
   "source": []
  },
  {
   "cell_type": "markdown",
   "id": "d3a5c05c",
   "metadata": {},
   "source": [
    "### 잠깐! 교사강요가 어디에서 적용되는건가?"
   ]
  },
  {
   "cell_type": "markdown",
   "id": "185b25c3",
   "metadata": {},
   "source": [
    "-> 이게 훈련과정인거니까, 교사 강요를 적용한 걸까?\n",
    "\n",
    "아까 교사강요를 적용한거는 어떻게 한다고 했지?\n",
    "\n",
    "\n",
    "위에서 교사강요를 위해 이 디코더 시퀀스는 디코더의 입력으로 사용하기 위한 것이라고 했어. \n",
    "이 시퀀스는 문장의 끝을 알려주는 <EOS> 토큰이 필요없다고 했어\n",
    "    \n",
    "\n",
    "## 아 그래서 <EOS> 토큰을 뺀 decoder_input에 담긴 시퀀스 데이터들을 사용하는거!    \n",
    "    전처리단계에서 2가지 버전을 만들때 decoder_input과 decoder_target을 만들었는데, 교사강요에서는 decorder_input을 사용\n",
    "    실습에서 먼저 설계한 디코더는 decorder_input인 것 같아\n",
    "    \n",
    "    \n",
    "아까\n",
    "# 종료 토큰 제거\n",
    "# decoder_input = [[ char for char in line if char != fra_tokenizer.word_index[eos_token] ] for line in target_text] \n",
    "    \n",
    "이렇게 해주었어\n",
    "    \n",
    "    숫자 11(<EOS> 토큰 의미)가 제거되었음"
   ]
  },
  {
   "cell_type": "code",
   "execution_count": 31,
   "id": "9d6127b2",
   "metadata": {},
   "outputs": [
    {
     "data": {
      "image/png": "[encoded data removed]",
      "text/plain": [
       "<IPython.core.display.Image object>"
      ]
     },
     "execution_count": 31,
     "metadata": {},
     "output_type": "execute_result"
    }
   ],
   "source": [
    "Image(\"[GD_7_Translator] images/07.PNG\")"
   ]
  },
  {
   "cell_type": "code",
   "execution_count": null,
   "id": "49b4a635",
   "metadata": {},
   "outputs": [],
   "source": [
    "이렇게 종료토큰을 제거했던 decoder_input을 그 다음에는 패딩을 해줌\n",
    "\n",
    "decoder_input = pad_sequences(decoder_input, maxlen = max_fra_seq_len, padding='post')\n",
    "\n",
    "그럼\n",
    "프랑스어 입력데이터의 크기(shape) : (50000, 69)\n",
    "    이렇게 나옴\n",
    "    "
   ]
  },
  {
   "cell_type": "code",
   "execution_count": 32,
   "id": "eef9801a",
   "metadata": {},
   "outputs": [
    {
     "data": {
      "image/png": "[encoded data removed]",
      "text/plain": [
       "<IPython.core.display.Image object>"
      ]
     },
     "execution_count": 32,
     "metadata": {},
     "output_type": "execute_result"
    }
   ],
   "source": [
    "Image(\"[GD_7_Translator] images/08.PNG\")"
   ]
  },
  {
   "cell_type": "code",
   "execution_count": null,
   "id": "230436c6",
   "metadata": {},
   "outputs": [],
   "source": [
    "패딩을 하고 나면 이렇게 보임"
   ]
  },
  {
   "cell_type": "code",
   "execution_count": null,
   "id": "02944307",
   "metadata": {},
   "outputs": [],
   "source": [
    "그리고 나면 이제 원핫 인코딩\n",
    "\n",
    "\n",
    "decoder_input = to_categorical(decoder_input)\n",
    "프랑스어 입력데이터의 크기(shape) : (50000, 69, 73) 이렇게 됨\n",
    "    \n",
    "    \n",
    "원핫인코딩 후 \n",
    "decoder_input[:3] 해보면"
   ]
  },
  {
   "cell_type": "code",
   "execution_count": 33,
   "id": "a6bd8b55",
   "metadata": {},
   "outputs": [
    {
     "data": {
      "image/png": "[encoded data removed]",
      "text/plain": [
       "<IPython.core.display.Image object>"
      ]
     },
     "execution_count": 33,
     "metadata": {},
     "output_type": "execute_result"
    }
   ],
   "source": [
    "Image(\"[GD_7_Translator] images/09.PNG\")"
   ]
  },
  {
   "cell_type": "code",
   "execution_count": null,
   "id": "0036c565",
   "metadata": {},
   "outputs": [],
   "source": [
    "3개가 나오는데 하나당 73차원이라는 거겠지?\n",
    "\n",
    "음..\n",
    "\n",
    "\n",
    "여기에서 (50000, 69, 73) 원핫인코딩후 데이터의 크기는 \n",
    "(샘플의 수*샘플의 길이*단어장의 크기)라고 한다.\n",
    "\n",
    "\n",
    "그럼 50000이 샘플의 수, 69가 샘플의 길이 - 패딩을 max_fra_seq_len으로 했는데 이 때의 숫자가 69였다\n",
    "\n",
    "73이 단어장의 크기라고 하는데 이거는 fra_vocab_size의 값이 73이었다.\n",
    "\n",
    "\n",
    "\n",
    "그렇게 되면 위 데이터는 총 3개의 샘플에 대한 원핫인코딩이 된 값이라 할 수 있는데 \n"
   ]
  },
  {
   "cell_type": "code",
   "execution_count": 34,
   "id": "c0a0496f",
   "metadata": {},
   "outputs": [
    {
     "data": {
      "text/plain": [
       "array([[0., 0., 0., ..., 0., 0., 0.],\n",
       "       [0., 1., 0., ..., 0., 0., 0.],\n",
       "       [0., 0., 0., ..., 0., 0., 0.],\n",
       "       ...,\n",
       "       [1., 0., 0., ..., 0., 0., 0.],\n",
       "       [1., 0., 0., ..., 0., 0., 0.],\n",
       "       [1., 0., 0., ..., 0., 0., 0.]], dtype=float32)"
      ]
     },
     "execution_count": 34,
     "metadata": {},
     "output_type": "execute_result"
    }
   ],
   "source": [
    "decoder_input[0]"
   ]
  },
  {
   "cell_type": "code",
   "execution_count": 35,
   "id": "a84465fc",
   "metadata": {},
   "outputs": [
    {
     "data": {
      "text/plain": [
       "(69, 73)"
      ]
     },
     "execution_count": 35,
     "metadata": {},
     "output_type": "execute_result"
    }
   ],
   "source": [
    "decoder_input[0].shape"
   ]
  },
  {
   "cell_type": "code",
   "execution_count": 36,
   "id": "df30061f",
   "metadata": {},
   "outputs": [
    {
     "data": {
      "text/plain": [
       "array([0., 0., 0., 0., 0., 0., 0., 0., 0., 0., 1., 0., 0., 0., 0., 0., 0.,\n",
       "       0., 0., 0., 0., 0., 0., 0., 0., 0., 0., 0., 0., 0., 0., 0., 0., 0.,\n",
       "       0., 0., 0., 0., 0., 0., 0., 0., 0., 0., 0., 0., 0., 0., 0., 0., 0.,\n",
       "       0., 0., 0., 0., 0., 0., 0., 0., 0., 0., 0., 0., 0., 0., 0., 0., 0.,\n",
       "       0., 0., 0., 0., 0.], dtype=float32)"
      ]
     },
     "execution_count": 36,
     "metadata": {},
     "output_type": "execute_result"
    }
   ],
   "source": [
    "decoder_input[0][0]"
   ]
  },
  {
   "cell_type": "code",
   "execution_count": 37,
   "id": "238351a9",
   "metadata": {},
   "outputs": [
    {
     "data": {
      "text/plain": [
       "array([0., 1., 0., 0., 0., 0., 0., 0., 0., 0., 0., 0., 0., 0., 0., 0., 0.,\n",
       "       0., 0., 0., 0., 0., 0., 0., 0., 0., 0., 0., 0., 0., 0., 0., 0., 0.,\n",
       "       0., 0., 0., 0., 0., 0., 0., 0., 0., 0., 0., 0., 0., 0., 0., 0., 0.,\n",
       "       0., 0., 0., 0., 0., 0., 0., 0., 0., 0., 0., 0., 0., 0., 0., 0., 0.,\n",
       "       0., 0., 0., 0., 0.], dtype=float32)"
      ]
     },
     "execution_count": 37,
     "metadata": {},
     "output_type": "execute_result"
    }
   ],
   "source": [
    "decoder_input[0][1]"
   ]
  },
  {
   "cell_type": "code",
   "execution_count": 38,
   "id": "f270d935",
   "metadata": {},
   "outputs": [
    {
     "data": {
      "text/plain": [
       "73"
      ]
     },
     "execution_count": 38,
     "metadata": {},
     "output_type": "execute_result"
    }
   ],
   "source": [
    "len(decoder_input[0][0])"
   ]
  },
  {
   "cell_type": "code",
   "execution_count": 39,
   "id": "eee7c8d5",
   "metadata": {},
   "outputs": [
    {
     "data": {
      "text/plain": [
       "(73,)"
      ]
     },
     "execution_count": 39,
     "metadata": {},
     "output_type": "execute_result"
    }
   ],
   "source": [
    "decoder_input[0][0].shape"
   ]
  },
  {
   "cell_type": "markdown",
   "id": "ebc552f5",
   "metadata": {},
   "source": [
    "아 한 줄에 들어있는게 73개이네\n",
    "\n",
    "\n",
    "단어장의 크기는 73\n",
    "단어장에 들어가있는 단어는 73개\n",
    "그럼 단어의 개수만큼 원핫인코딩을 하니까 가로 하나가 73개의 값이 들어가는 것 같다:)\n",
    "    \n",
    "하나의 decoder_input에 들어있는 샘플의 수는 50000개\n",
    "그 중 하나는"
   ]
  },
  {
   "cell_type": "code",
   "execution_count": 40,
   "id": "54350d6b",
   "metadata": {},
   "outputs": [
    {
     "data": {
      "text/plain": [
       "array([[0., 0., 0., ..., 0., 0., 0.],\n",
       "       [0., 1., 0., ..., 0., 0., 0.],\n",
       "       [0., 0., 0., ..., 0., 0., 0.],\n",
       "       ...,\n",
       "       [1., 0., 0., ..., 0., 0., 0.],\n",
       "       [1., 0., 0., ..., 0., 0., 0.],\n",
       "       [1., 0., 0., ..., 0., 0., 0.]], dtype=float32)"
      ]
     },
     "execution_count": 40,
     "metadata": {},
     "output_type": "execute_result"
    }
   ],
   "source": [
    "decoder_input[0]"
   ]
  },
  {
   "cell_type": "code",
   "execution_count": null,
   "id": "5ba481b9",
   "metadata": {},
   "outputs": [],
   "source": [
    "인데 가로 73개 세로 69개\n",
    "\n",
    "이 말은 샘플 하나의 문장 길이가 69, 단어 69(max_fra_seq_len)이었으니까\n",
    "하나의 단어당 73차원으로 표현한 거라고 이해하면 될까?"
   ]
  },
  {
   "cell_type": "markdown",
   "id": "cf412bca",
   "metadata": {},
   "source": [
    "### 질문! 0번 토큰을 고려하여 +1을 하고 저장해줍니다. 이 부분에서 <pad>는 나중에 알아서 eng_tokenizer.word_index\n",
    "fra_tokenizer.word_index에 포함되는 건가요?"
   ]
  },
  {
   "cell_type": "code",
   "execution_count": null,
   "id": "30627ce5",
   "metadata": {},
   "outputs": [],
   "source": [
    "원핫인코딩을 해준 다음에는\n",
    "\n",
    "n_of_val = 3000\n",
    "\n",
    "decoder_input_train = decoder_input[:-n_of_val]\n",
    "decoder_input_test = decoder_input[-n_of_val:]"
   ]
  },
  {
   "cell_type": "code",
   "execution_count": null,
   "id": "96e9d828",
   "metadata": {},
   "outputs": [],
   "source": [
    "을 통해 훈련용, 검증용 데이터로 나누어줌"
   ]
  },
  {
   "cell_type": "code",
   "execution_count": null,
   "id": "991d3478",
   "metadata": {},
   "outputs": [],
   "source": []
  },
  {
   "cell_type": "markdown",
   "id": "5a51b329",
   "metadata": {},
   "source": [
    "# 그래서 디코더 설계(교사강요를 위한, 종료 토큰을 뺀 decoder_input으로 만든 데이터를 활용한)를 다시 보면"
   ]
  },
  {
   "cell_type": "code",
   "execution_count": 28,
   "id": "11a1ab67",
   "metadata": {},
   "outputs": [],
   "source": [
    "# 입력 텐서 생성.\n",
    "decoder_inputs = Input(shape=(None, fra_vocab_size)) # 이거는 73이었음\n",
    "# hidden size가 256인 인코더의 LSTM 셀 생성\n",
    "decoder_lstm = LSTM(units = 256, return_sequences = True, return_state=True)\n",
    "# decoder_outputs는 모든 time step의 hidden state\n",
    "decoder_outputs, _, _= decoder_lstm(decoder_inputs, initial_state = encoder_states)"
   ]
  },
  {
   "cell_type": "markdown",
   "id": "41b43915",
   "metadata": {},
   "source": [
    "# 디코더 출력층 설계"
   ]
  },
  {
   "cell_type": "code",
   "execution_count": 29,
   "id": "c1fa6246",
   "metadata": {},
   "outputs": [],
   "source": [
    "decoder_softmax_layer = Dense(fra_vocab_size, activation='softmax') # fra_vocab_size = 73 이었음\n",
    "decoder_outputs = decoder_softmax_layer(decoder_outputs)"
   ]
  },
  {
   "cell_type": "code",
   "execution_count": 30,
   "id": "6dd9f4f5",
   "metadata": {},
   "outputs": [
    {
     "data": {
      "text/plain": [
       "<KerasTensor: shape=(None, None, 73) dtype=float32 (created by layer 'dense')>"
      ]
     },
     "execution_count": 30,
     "metadata": {},
     "output_type": "execute_result"
    }
   ],
   "source": [
    "decoder_outputs"
   ]
  },
  {
   "cell_type": "code",
   "execution_count": 31,
   "id": "7fd2df95",
   "metadata": {},
   "outputs": [
    {
     "data": {
      "text/plain": [
       "<KerasTensor: shape=(None, 73) dtype=float32 (created by layer 'tf.__operators__.getitem')>"
      ]
     },
     "execution_count": 31,
     "metadata": {},
     "output_type": "execute_result"
    }
   ],
   "source": [
    "decoder_outputs[1]"
   ]
  },
  {
   "cell_type": "markdown",
   "id": "e910e671",
   "metadata": {},
   "source": [
    "## 매 타임스텝마다의 다중 클래스 분류 문제라고 하는데.. 읭? 그게 무슨 의미?\n",
    "그래서 프랑스어 단어장으로부터 한가지 문자만 선택한다\n",
    "소프트맥스의 확률로 나오는 걸 \n",
    "## 텐서의 값을 실제로 볼 수는 없는건가?\n",
    "\n",
    "나오는 소프트맥스의 확률값으로 다음에 올 한 글자를 예측"
   ]
  },
  {
   "cell_type": "code",
   "execution_count": null,
   "id": "a7d2e3ad",
   "metadata": {},
   "outputs": [],
   "source": []
  },
  {
   "cell_type": "code",
   "execution_count": null,
   "id": "4eadf4e3",
   "metadata": {},
   "outputs": [],
   "source": []
  },
  {
   "cell_type": "markdown",
   "id": "451593ab",
   "metadata": {},
   "source": [
    "# 최종적으로 인코더와 디코더를 연결함"
   ]
  },
  {
   "cell_type": "code",
   "execution_count": null,
   "id": "9dac1aab",
   "metadata": {},
   "outputs": [],
   "source": [
    "model = Model([encoder_inputs, decoder_inputs], decoder_outputs)\n",
    "model.compile(optimizer=\"rmsprop\", loss=\"categorical_crossentropy\")\n",
    "model.summary()\n",
    "# 함수형 API"
   ]
  },
  {
   "cell_type": "code",
   "execution_count": null,
   "id": "b3607be7",
   "metadata": {},
   "outputs": [],
   "source": [
    "함수형 API에서\n",
    "model = keras.Model(inputs=inputs, outputs=outputs) 로 사용\n",
    "\n",
    "이걸 \n",
    "model = Model([encoder_inputs, decoder_inputs], decoder_outputs) 에 대입해보면\n",
    "\n",
    "[encoder_inputs, decoder_inputs] 이 부분이 잘 이해가 가지 않는 건데\n",
    "\n",
    "음.. 왜 이해가 안돼?"
   ]
  },
  {
   "cell_type": "code",
   "execution_count": 43,
   "id": "ec3d993a",
   "metadata": {},
   "outputs": [
    {
     "data": {
      "text/plain": [
       "[<KerasTensor: shape=(None, None, 52) dtype=float32 (created by layer 'input_1')>,\n",
       " <KerasTensor: shape=(None, None, 73) dtype=float32 (created by layer 'input_2')>]"
      ]
     },
     "execution_count": 43,
     "metadata": {},
     "output_type": "execute_result"
    }
   ],
   "source": [
    "[encoder_inputs, decoder_inputs]"
   ]
  },
  {
   "cell_type": "markdown",
   "id": "b72ea3a0",
   "metadata": {},
   "source": [
    "## 질문! 이렇게 출력해보면 이렇게 나오는데, 그럼 이거는 한 리스트안에 두 개의 인풋 텐서를 담아주었다는 의미인가?\n",
    "\n",
    "충돌이 일어나지는 않나?\n",
    "그럼 인코더에서는 알아서 encoder_inputs만 들어가서 학습되는건가?\n",
    "\n",
    "\n",
    "모델이 학습을 할 때 인풋에 두 가지 종류의 인풋이 들어가는 건데 \n",
    "encoder_inputs이 들어갈 차례에는 encoder_inputs이 학습되고, decoder_inputs이 들어갈 차례에는 decoder_inputs이 들어가는 건가?\n",
    "\n",
    "<인코더>\n",
    "입력 텐서 생성.\n",
    "encoder_inputs = Input(shape=(None, eng_vocab_size))\n",
    "\n",
    "hidden size가 256인 인코더의 LSTM 셀 생성\n",
    "encoder_lstm = LSTM(units = 256, return_state = True)\n",
    "\n",
    "디코더로 전달할 hidden state, cell state를 리턴. encoder_outputs은 여기서는 불필요.\n",
    "encoder_outputs, state_h, state_c = encoder_lstm(encoder_inputs)\n",
    "\n",
    "hidden state와 cell state를 다음 time step으로 전달하기 위해서 별도 저장.\n",
    "encoder_states = [state_h, state_c]\n",
    "\n",
    "\n",
    "<디코더>\n",
    "입력 텐서 생성.\n",
    "decoder_inputs = Input(shape=(None, fra_vocab_size)) # 이거는 73이었음\n",
    "\n",
    "hidden size가 256인 인코더의 LSTM 셀 생성\n",
    "decoder_lstm = LSTM(units = 256, return_sequences = True, return_state=True)\n",
    "\n",
    "decoder_outputs는 모든 time step의 hidden state\n",
    "decoder_outputs, _, _= decoder_lstm(decoder_inputs, initial_state = encoder_states) <- 이 부분에서만 인코더랑 연결해줌\n",
    "\n",
    "\n",
    "-> 그래서 여기에서 encoder_outputs은 사용하지 않을 것이기 때문에 따로 변수에 담아주지 않았을까?"
   ]
  },
  {
   "cell_type": "markdown",
   "id": "6fd48de3",
   "metadata": {},
   "source": [
    "# 다시 돌아와서 모델을 컴파일 하고 서머리를 출력해보면"
   ]
  },
  {
   "cell_type": "code",
   "execution_count": 44,
   "id": "cfda3d85",
   "metadata": {},
   "outputs": [
    {
     "name": "stdout",
     "output_type": "stream",
     "text": [
      "Model: \"model\"\n",
      "__________________________________________________________________________________________________\n",
      "Layer (type)                    Output Shape         Param #     Connected to                     \n",
      "==================================================================================================\n",
      "input_1 (InputLayer)            [(None, None, 52)]   0                                            \n",
      "__________________________________________________________________________________________________\n",
      "input_2 (InputLayer)            [(None, None, 73)]   0                                            \n",
      "__________________________________________________________________________________________________\n",
      "lstm (LSTM)                     [(None, 256), (None, 316416      input_1[0][0]                    \n",
      "__________________________________________________________________________________________________\n",
      "lstm_1 (LSTM)                   [(None, None, 256),  337920      input_2[0][0]                    \n",
      "                                                                 lstm[0][1]                       \n",
      "                                                                 lstm[0][2]                       \n",
      "__________________________________________________________________________________________________\n",
      "dense (Dense)                   (None, None, 73)     18761       lstm_1[0][0]                     \n",
      "==================================================================================================\n",
      "Total params: 673,097\n",
      "Trainable params: 673,097\n",
      "Non-trainable params: 0\n",
      "__________________________________________________________________________________________________\n"
     ]
    }
   ],
   "source": [
    "model = Model([encoder_inputs, decoder_inputs], decoder_outputs)\n",
    "model.compile(optimizer=\"rmsprop\", loss=\"categorical_crossentropy\")\n",
    "model.summary()"
   ]
  },
  {
   "cell_type": "markdown",
   "id": "8dea7a18",
   "metadata": {},
   "source": [
    "# 이 connected to 부분이 잘 이해가 안돼요."
   ]
  },
  {
   "cell_type": "code",
   "execution_count": 46,
   "id": "1ca2f9bd",
   "metadata": {},
   "outputs": [
    {
     "data": {
      "image/png": "[encoded data removed]",
      "text/plain": [
       "<IPython.core.display.Image object>"
      ]
     },
     "execution_count": 46,
     "metadata": {},
     "output_type": "execute_result"
    }
   ],
   "source": [
    "from tensorflow.keras import utils \n",
    "utils.plot_model(model)"
   ]
  },
  {
   "cell_type": "code",
   "execution_count": 48,
   "id": "6d8a16be",
   "metadata": {},
   "outputs": [
    {
     "data": {
      "image/png": "[encoded data removed]",
      "text/plain": [
       "<IPython.core.display.Image object>"
      ]
     },
     "execution_count": 48,
     "metadata": {},
     "output_type": "execute_result"
    }
   ],
   "source": [
    "from tensorflow.keras import utils \n",
    "utils.plot_model(model, show_shapes=True)"
   ]
  },
  {
   "cell_type": "code",
   "execution_count": null,
   "id": "f9353862",
   "metadata": {},
   "outputs": [],
   "source": [
    "input_1에서 영어 단어장의 크기가 52\n",
    "lstm에서 output의 256은 units=256이었음, 왜 [ , , ]? 값이 세 개가 들어있을까?\n",
    "아 encoder_outputs, state_h, state_c라서?!\n",
    "\n",
    "input_2에서 프랑스어 단어장의 크기가 73\n",
    "lstm_1에서 프랑스 인풋을 넣고, 거기에 encoder 에서의 state_h와 state_c를 넣으면\n",
    "output으로는 lstm_1 디코더의 lstm 층에서 역시 units=256으로 주었기에 256으로 나옴\n",
    "세 개가 나오는 이유는 decoder_output, decoder에서의 마지막 hidden_state, cell_state인 것 같다\n",
    "\n",
    "여기에서 output이 (None, None, 256) 이렇게 나오는 건 음.. 모든 타임스텝의 히든 스테이트를 출력한 것들의 모임인데\n",
    "그게 3차원이 되는건가? 그래서 그런가?\n",
    "\n",
    "그리고 보면 inputlayer에서는 다 none, none, 52 / none, none, 73이다\n",
    "이유는?\n",
    "\n",
    "밑에서 살펴보면"
   ]
  },
  {
   "cell_type": "code",
   "execution_count": 47,
   "id": "2ef25cea",
   "metadata": {},
   "outputs": [
    {
     "ename": "NameError",
     "evalue": "name 'lstm' is not defined",
     "output_type": "error",
     "traceback": [
      "\u001b[0;31m---------------------------------------------------------------------------\u001b[0m",
      "\u001b[0;31mNameError\u001b[0m                                 Traceback (most recent call last)",
      "\u001b[0;32m/tmp/ipykernel_1119/1400600647.py\u001b[0m in \u001b[0;36m<module>\u001b[0;34m\u001b[0m\n\u001b[0;32m----> 1\u001b[0;31m \u001b[0mlstm\u001b[0m\u001b[0;34m[\u001b[0m\u001b[0;36m0\u001b[0m\u001b[0;34m]\u001b[0m\u001b[0;34m[\u001b[0m\u001b[0;36m1\u001b[0m\u001b[0;34m]\u001b[0m\u001b[0;34m\u001b[0m\u001b[0;34m\u001b[0m\u001b[0m\n\u001b[0m",
      "\u001b[0;31mNameError\u001b[0m: name 'lstm' is not defined"
     ]
    }
   ],
   "source": [
    "lstm[0][1]"
   ]
  },
  {
   "cell_type": "code",
   "execution_count": 49,
   "id": "1d878a2f",
   "metadata": {},
   "outputs": [
    {
     "data": {
      "text/plain": [
       "<KerasTensor: shape=(None, None, 73) dtype=float32 (created by layer 'input_2')>"
      ]
     },
     "execution_count": 49,
     "metadata": {},
     "output_type": "execute_result"
    }
   ],
   "source": [
    "decoder_inputs"
   ]
  },
  {
   "cell_type": "markdown",
   "id": "6824b268",
   "metadata": {},
   "source": [
    "decoder_inputs = Input(shape=(None, fra_vocab_size)) 이렇게 정의한 거였는데\n",
    "\n",
    "## 여기까지만 보면 2차원아닌가, 3차원이 되는 이유는?"
   ]
  },
  {
   "cell_type": "code",
   "execution_count": null,
   "id": "da5c63ca",
   "metadata": {},
   "outputs": [],
   "source": []
  },
  {
   "cell_type": "markdown",
   "id": "04d62fac",
   "metadata": {},
   "source": [
    "# 다시 model.fit으로 돌아오면"
   ]
  },
  {
   "cell_type": "code",
   "execution_count": 50,
   "id": "bc717a0f",
   "metadata": {},
   "outputs": [
    {
     "name": "stdout",
     "output_type": "stream",
     "text": [
      "Epoch 1/10\n",
      "368/368 [==============================] - 40s 21ms/step - loss: 0.9704 - val_loss: 0.8352\n",
      "Epoch 2/10\n",
      "368/368 [==============================] - 7s 18ms/step - loss: 0.5932 - val_loss: 0.6803\n",
      "Epoch 3/10\n",
      "368/368 [==============================] - 7s 19ms/step - loss: 0.4941 - val_loss: 0.5942\n",
      "Epoch 4/10\n",
      "368/368 [==============================] - 7s 18ms/step - loss: 0.4325 - val_loss: 0.5324\n",
      "Epoch 5/10\n",
      "368/368 [==============================] - 7s 18ms/step - loss: 0.3935 - val_loss: 0.4986\n",
      "Epoch 6/10\n",
      "368/368 [==============================] - 7s 18ms/step - loss: 0.3625 - val_loss: 0.4730\n",
      "Epoch 7/10\n",
      "368/368 [==============================] - 6s 18ms/step - loss: 0.3399 - val_loss: 0.4489\n",
      "Epoch 8/10\n",
      "368/368 [==============================] - 6s 18ms/step - loss: 0.3217 - val_loss: 0.4308\n",
      "Epoch 9/10\n",
      "368/368 [==============================] - 6s 18ms/step - loss: 0.3068 - val_loss: 0.4201\n",
      "Epoch 10/10\n",
      "368/368 [==============================] - 6s 18ms/step - loss: 0.2944 - val_loss: 0.4113\n"
     ]
    },
    {
     "data": {
      "text/plain": [
       "<keras.callbacks.History at 0x7fa3c1a8d280>"
      ]
     },
     "execution_count": 50,
     "metadata": {},
     "output_type": "execute_result"
    }
   ],
   "source": [
    "model.fit(x=[encoder_input_train, decoder_input_train], y=decoder_target_train, validation_data = ([encoder_input_test, decoder_input_test], decoder_target_test),\n",
    "          batch_size=128, epochs=10)"
   ]
  },
  {
   "cell_type": "markdown",
   "id": "7b9004e8",
   "metadata": {},
   "source": [
    "1. 여기에서 x를 보면 x에 encoder_input_train, decoder_input_train이 들어간다\n",
    "\n",
    "model = Model([encoder_inputs, decoder_inputs], decoder_outputs) 이 부분의 \n",
    "([encoder_inputs, decoder_inputs]과 비슷해 보임\n",
    "\n",
    "2. 인풋에는 decoder_target_train이 들어가지 않지만, y에는 decoder_target_train이 들어간다.\n",
    "-> 아 이 부분 때문에 \n",
    "-> y는 outputs에 해당하는 건가?\n",
    "\n",
    "보통 model.fit(inputs, targets, epochs, batch_size)라고 하면\n",
    "targets에는 훈련 타깃이고 inputs는 입력 샘플이라고 한다\n",
    "\n",
    "그럼 여기에서 y는 decoder_target_train이 target이 되는 걸까? 훈련 타깃\n",
    "\n",
    "그래서 디코더의 출력과 비교할 정답 데이터로 사용→ <SOS> 토큰 필요 없음 이렇게? \n",
    "decoder_target_train이게 정답데이터가 되는 것? (그런듯!!)\n",
    "    \n",
    "    \n",
    "    \n",
    " \n",
    " \n",
    "\n",
    "*아까 훈련용/검증용 데이터를 이렇게 나눔\n",
    "\n",
    "encoder_input_train = encoder_input[:-n_of_val]\n",
    "decoder_input_train = decoder_input[:-n_of_val]\n",
    "decoder_target_train = decoder_target[:-n_of_val]\n",
    "\n",
    "encoder_input_test = encoder_input[-n_of_val:]\n",
    "decoder_input_test = decoder_input[-n_of_val:]\n",
    "decoder_target_test = decoder_target[-n_of_val:]"
   ]
  },
  {
   "cell_type": "markdown",
   "id": "0f436b71",
   "metadata": {},
   "source": [
    "# 5-9. 모델 테스트하기"
   ]
  },
  {
   "cell_type": "markdown",
   "id": "45b46530",
   "metadata": {},
   "source": [
    "이제 테스트를 해 볼 건데\n",
    "이를 위해서 테스트 단계의 디코더 모델은 설계를 다시 해줄 필요가 있다. \n",
    "\n",
    "\n",
    "물론 이전에 학습된 디코더 모델의 레이어는 그대로 사용\n",
    "왜 이렇게 번거로운 과정이 생기는 것일까? \n",
    "\n",
    "Text Generator 모델을 만들어 보신 분이라면 알 수 있다. \n",
    "훈련시에는 학습해야 할 타겟 문장을 디코더 모델의 입력, 출력 시퀀스로 넣어 주고, 디코더 모델이 타겟 문장을 한꺼번에 출력하게 할 수 있습니다. \n",
    "\n",
    "-> 이 말이 타겟 문장을 여기에서는 decoder_targer_train이거?\n",
    "이거를 디코더 모델의 입력 시퀀스(inputs에), 출력 시퀀스(outputs)에 넣어준다는 말인가?????????\n",
    "\n",
    "\n",
    "-> 또는... decoder_input_train와 decoder_target_train는 같은 데이터 \n",
    "사실 decoder_input_train는 종료 토큰이 없고\n",
    "decoder_target_train는는 시작 토큰이 없는 것 \n",
    "\n",
    "그래서 이 두개가 모두 학습해야할 타겟문장이 되는거?\n",
    "그래서 이 타겟 문장을 디코더 모델의 입력으로 decoder_input_train을 넣어주고\n",
    "decoder_target_train을 디코더 모델의 출력으로 넣어준다?\n",
    "\n",
    "\n",
    "\n",
    "\n",
    "\n",
    "그러나 테스트 단계에서는 그럴 수가 없습니다. \n",
    "하나의 문장을 만들어 내기 위해 루프를 돌며 단어를 하나씩 차례차례 예측하면서, \n",
    "예측된 단어가 다음 입력으로 재사용되는 과정이 반복되기 때문입니다.\n",
    "-> 이 부분이 잘 이해가 안된다. 6/19 질문하고 나서 조금 정리된듯\n",
    "\n",
    "\n",
    "정리하면, 테스트 단계에서의 디코더의 동작 순서는 아래와 같습니다.\n",
    "\n",
    "\n",
    "\n",
    "\n",
    "1. 인코더에 입력 문장을 넣어 마지막 time step의 hidden, cell state를 얻는다. -> 이건 이미 하지 않았어?\n",
    "2. <sos> 토큰인 '\\t'를 디코더에 입력한다. -> 또 새로 넣는다고?\n",
    "3. 이전 time step의 출력층의 예측 결과를 현재 time step의 입력으로 한다. -> 이것도 하고 있지 않았니? \n",
    "    \n",
    "### -> 이거는 디코더에서의 출력층 의미???\n",
    "4. 3을 반복하다가 <eos> 토큰인 '\\n'이 예측되면 이를 중단한다. -> 음 이건 이해돼\n",
    "\n",
    "    \n",
    "훈련 과정을 구현하는 것과의 차이점은, \n",
    "이전 time step의 출력층의 예측 결과를 현재 time step의 입력으로 사용하는 단계를 추가해야 한다는 것입니다. "
   ]
  },
  {
   "cell_type": "markdown",
   "id": "72b7e3f2",
   "metadata": {},
   "source": [
    "## -> 나는 이 부분이 잘 이해되지 않는다. 이미 이전 타임스텝의 출력층의 예측결과를 현재 타임스템의 입력으로 사용?\n",
    "\n",
    "\n",
    "아 이전에는 이전 타임스템의 hidden state만 사용했는데 이제는 디코더 lstm 층에서 이전 셀에서의 output을 다음 타임스텝의 입력으로 쓴다고?\n",
    "\n",
    "    \n",
    "    \n",
    "    \n",
    "그렇기 때문에 루프를 돌며 디코더의 LSTM 셀을 수동 제어하는 느낌으로 설계해야 합니다. 코드가 좀 더 길어지게 되는데요.\n",
    "\n",
    "우선 인코더를 정의합니다. encoder_inputs와 encoder_states는 이미 정의한 것들을 재사용합니다."
   ]
  },
  {
   "cell_type": "code",
   "execution_count": null,
   "id": "0bab8f9e",
   "metadata": {},
   "outputs": [],
   "source": [
    "<디코더>\n",
    "입력 텐서 생성.\n",
    "decoder_inputs = Input(shape=(None, fra_vocab_size)) # 이거는 73이었음\n",
    "\n",
    "hidden size가 256인 인코더의 LSTM 셀 생성\n",
    "decoder_lstm = LSTM(units = 256, return_sequences = True, return_state=True)\n",
    "\n",
    "decoder_outputs는 모든 time step의 hidden state\n",
    "decoder_outputs, _, _= decoder_lstm(decoder_inputs, initial_state = encoder_states) <- 이 부분에서만 인코더랑 연결해줌\n",
    "\n",
    "아까 이 디코더를 다시 보면, 디코더에서는 return_sequences = True, return_state=True 이렇게 하면서 \n",
    "이전 타임스텝에서의 모든 히든 스테이트를 출력하고 있었엉\n",
    "\n",
    "코드랑 직접 비교해봐야 하나?\n",
    "\n"
   ]
  },
  {
   "cell_type": "markdown",
   "id": "a14c50d5",
   "metadata": {},
   "source": [
    "# 1. 인코더 정의"
   ]
  },
  {
   "cell_type": "code",
   "execution_count": 51,
   "id": "0e445d53",
   "metadata": {},
   "outputs": [
    {
     "name": "stdout",
     "output_type": "stream",
     "text": [
      "Model: \"model_1\"\n",
      "_________________________________________________________________\n",
      "Layer (type)                 Output Shape              Param #   \n",
      "=================================================================\n",
      "input_1 (InputLayer)         [(None, None, 52)]        0         \n",
      "_________________________________________________________________\n",
      "lstm (LSTM)                  [(None, 256), (None, 256) 316416    \n",
      "=================================================================\n",
      "Total params: 316,416\n",
      "Trainable params: 316,416\n",
      "Non-trainable params: 0\n",
      "_________________________________________________________________\n"
     ]
    }
   ],
   "source": [
    "encoder_model = Model(inputs = encoder_inputs, outputs = encoder_states)\n",
    "encoder_model.summary()"
   ]
  },
  {
   "cell_type": "code",
   "execution_count": null,
   "id": "f07e5bba",
   "metadata": {},
   "outputs": [],
   "source": [
    "아까와 동일"
   ]
  },
  {
   "cell_type": "markdown",
   "id": "65c1ebff",
   "metadata": {},
   "source": [
    "# 2. 테스트용 디코더 설계"
   ]
  },
  {
   "cell_type": "code",
   "execution_count": null,
   "id": "9ddb9dd5",
   "metadata": {},
   "outputs": [],
   "source": [
    "# 이전 time step의 hidden state를 저장하는 텐서\n",
    "decoder_state_input_h = Input(shape=(256,))\n",
    "# 이전 time step의 cell state를 저장하는 텐서\n",
    "decoder_state_input_c = Input(shape=(256,))\n",
    "# 이전 time step의 hidden state와 cell state를 하나의 변수에 저장\n",
    "decoder_states_inputs = [decoder_state_input_h, decoder_state_input_c]\n",
    "\n",
    "##### 이 부분을 추가로 넣은것 같은데\n",
    "\n",
    "\n",
    "# decoder_states_inputs를 현재 time step의 초기 상태로 사용.\n",
    "# 구체적인 동작 자체는 def decode_sequence()에 구현.\n",
    "decoder_outputs, state_h, state_c = decoder_lstm(decoder_inputs, initial_state = decoder_states_inputs)\n",
    "# 현재 time step의 hidden state와 cell state를 하나의 변수에 저장.\n",
    "decoder_states = [state_h, state_c]\n",
    "\n",
    "\n",
    "\n",
    "<디코더>\n",
    "입력 텐서 생성.\n",
    "decoder_inputs = Input(shape=(None, fra_vocab_size)) # 이거는 73이었음\n",
    "\n",
    "hidden size가 256인 인코더의 LSTM 셀 생성\n",
    "decoder_lstm = LSTM(units = 256, return_sequences = True, return_state=True)\n",
    "\n",
    "decoder_outputs는 모든 time step의 hidden state\n",
    "decoder_outputs, _, _= decoder_lstm(decoder_inputs, initial_state = encoder_states) <- 이 부분에서만 인코더랑 연결해줌"
   ]
  },
  {
   "cell_type": "code",
   "execution_count": 52,
   "id": "3e1590be",
   "metadata": {},
   "outputs": [],
   "source": [
    "# 이전 time step의 hidden state를 저장하는 텐서\n",
    "decoder_state_input_h = Input(shape=(256,))\n",
    "# 이전 time step의 cell state를 저장하는 텐서\n",
    "decoder_state_input_c = Input(shape=(256,))\n",
    "# 이전 time step의 hidden state와 cell state를 하나의 변수에 저장\n",
    "decoder_states_inputs = [decoder_state_input_h, decoder_state_input_c]\n",
    "\n",
    "# decoder_states_inputs를 현재 time step의 초기 상태로 사용.\n",
    "# 구체적인 동작 자체는 def decode_sequence()에 구현.\n",
    "decoder_outputs, state_h, state_c = decoder_lstm(decoder_inputs, initial_state = decoder_states_inputs)\n",
    "# 현재 time step의 hidden state와 cell state를 하나의 변수에 저장.\n",
    "decoder_states = [state_h, state_c]"
   ]
  },
  {
   "cell_type": "code",
   "execution_count": null,
   "id": "5e8ce696",
   "metadata": {},
   "outputs": [],
   "source": [
    "훈련 과정에서의 디코더보다 코드가 좀 더 길어졌죠? \n",
    "이전 time step의 출력 결과를 현재 time step의 입력으로 사용하기 위해서 디코더 LSTM 셀의 동작을 좀 더 세분화해서 구현했습니다. \n",
    "동작 자체는 이후에 구현할 함수 decode_sequence()에서 좀 더 자세히 다루겠습니다.\n",
    "\n",
    "디코더의 출력층을 재설계해줍니다."
   ]
  },
  {
   "cell_type": "code",
   "execution_count": null,
   "id": "4f714ab9",
   "metadata": {},
   "outputs": [],
   "source": [
    "요 윗부분이 c를 만들어준 부분 같다."
   ]
  },
  {
   "cell_type": "markdown",
   "id": "3031a90c",
   "metadata": {},
   "source": [
    "# 3. 디코더 출력층 재설계"
   ]
  },
  {
   "cell_type": "code",
   "execution_count": null,
   "id": "530d5263",
   "metadata": {},
   "outputs": [],
   "source": [
    "decoder_outputs = decoder_softmax_layer(decoder_outputs)\n",
    "\n",
    "->여기에서 decoder_outputs는 \n",
    "decoder_outputs, state_h, state_c = decoder_lstm(decoder_inputs, initial_state = decoder_states_inputs)에서 나옴\n",
    "\n",
    "->decoder_inputs는 이전에 디코더 첫번째 설계할 때 \n",
    "decoder_inputs = Input(shape=(None, fra_vocab_size)) # 이거는 73이었음 \n",
    "이렇게 설정함\n",
    "\n",
    "->decoder_softmax_layer는....?\n",
    "이전에 디코더 첫번째 모델 만들 때\n",
    "decoder_softmax_layer = Dense(fra_vocab_size, activation='softmax')\n",
    "이렇게 설정함\n",
    "\n",
    "-> 이렇게 하면 decoder_softmax_layer(decoder_outputs)에서 dense()안에 decoder_outputs를 fra_vocab_size대신 넣는다는 건가?\n",
    "\n",
    "\n",
    "\n",
    "\n",
    "\n",
    "\n",
    "decoder_model = Model(inputs=[decoder_inputs] + decoder_states_inputs, outputs=[decoder_outputs] + decoder_states)\n",
    "\n",
    "->model = Model([encoder_inputs, decoder_inputs], decoder_outputs) 아까는 이러한 형태였음\n",
    "\n",
    "이번에는 인풋에 [decoder_inputs] + decoder_states_inputs이렇게 넣음\n",
    "이전에는 인풋에 [encoder_inputs, decoder_inputs] 이렇게 넣음\n",
    "차이점은 encoder_inputs이 들어가지 않는다는 것\n",
    "\n",
    "이번에는 아웃풋에 [decoder_outputs] + decoder_states 이렇게 넣음\n",
    "이전에는 아웃풋에 decoder_outputs 이렇게 넣음\n",
    "차이점은 + decoder_states 이 친구가 추가된 것\n",
    "\n",
    "\n",
    "의미는???????\n",
    "\n",
    "\n",
    "\n",
    "decoder_model.summary()"
   ]
  },
  {
   "cell_type": "code",
   "execution_count": null,
   "id": "03209cd0",
   "metadata": {},
   "outputs": [],
   "source": [
    "여기는 그래도 이해가 좀 되는데.."
   ]
  },
  {
   "cell_type": "code",
   "execution_count": 53,
   "id": "6ef0355c",
   "metadata": {},
   "outputs": [
    {
     "name": "stdout",
     "output_type": "stream",
     "text": [
      "Model: \"model_2\"\n",
      "__________________________________________________________________________________________________\n",
      "Layer (type)                    Output Shape         Param #     Connected to                     \n",
      "==================================================================================================\n",
      "input_2 (InputLayer)            [(None, None, 73)]   0                                            \n",
      "__________________________________________________________________________________________________\n",
      "input_3 (InputLayer)            [(None, 256)]        0                                            \n",
      "__________________________________________________________________________________________________\n",
      "input_4 (InputLayer)            [(None, 256)]        0                                            \n",
      "__________________________________________________________________________________________________\n",
      "lstm_1 (LSTM)                   [(None, None, 256),  337920      input_2[0][0]                    \n",
      "                                                                 input_3[0][0]                    \n",
      "                                                                 input_4[0][0]                    \n",
      "__________________________________________________________________________________________________\n",
      "dense (Dense)                   (None, None, 73)     18761       lstm_1[1][0]                     \n",
      "==================================================================================================\n",
      "Total params: 356,681\n",
      "Trainable params: 356,681\n",
      "Non-trainable params: 0\n",
      "__________________________________________________________________________________________________\n"
     ]
    }
   ],
   "source": [
    "decoder_outputs = decoder_softmax_layer(decoder_outputs)\n",
    "decoder_model = Model(inputs=[decoder_inputs] + decoder_states_inputs, outputs=[decoder_outputs] + decoder_states)\n",
    "decoder_model.summary()"
   ]
  },
  {
   "cell_type": "code",
   "execution_count": 54,
   "id": "01a2ed8e",
   "metadata": {},
   "outputs": [
    {
     "data": {
      "image/png": "[encoded data removed]",
      "text/plain": [
       "<IPython.core.display.Image object>"
      ]
     },
     "execution_count": 54,
     "metadata": {},
     "output_type": "execute_result"
    }
   ],
   "source": [
    "utils.plot_model(decoder_model, show_shapes=True)"
   ]
  },
  {
   "cell_type": "markdown",
   "id": "901094f6",
   "metadata": {},
   "source": [
    "## 왜 인풋이 세 개나 되죠?ㅋㅋㅋㅋㅋㅋㅋㅋㅋ"
   ]
  },
  {
   "cell_type": "code",
   "execution_count": null,
   "id": "763718e2",
   "metadata": {},
   "outputs": [],
   "source": []
  },
  {
   "cell_type": "markdown",
   "id": "1e44cccf",
   "metadata": {},
   "source": [
    "# 4. 단어에서 정수로, 정수에서 단어로 바꾸는 사전(dictionary)을 준비해 둡니다."
   ]
  },
  {
   "cell_type": "code",
   "execution_count": null,
   "id": "64f75249",
   "metadata": {},
   "outputs": [],
   "source": [
    "테스트 결과를 해석하기 위해선 다시 사전이 필요하겠죠? \n",
    "우리는 이전 스텝에서 문장을 숫자 인덱스로 바꾸는 Tokenizer를 만들면서 자동으로 만들어진 사전을 이미 가지고 있습니다."
   ]
  },
  {
   "cell_type": "code",
   "execution_count": null,
   "id": "4fe699dd",
   "metadata": {},
   "outputs": [],
   "source": [
    "eng2idx = eng_tokenizer.word_index\n",
    "fra2idx = fra_tokenizer.word_index\n",
    "idx2eng = eng_tokenizer.index_word\n",
    "idx2fra = fra_tokenizer.index_word"
   ]
  },
  {
   "cell_type": "markdown",
   "id": "4476b617",
   "metadata": {},
   "source": [
    "# 5. 이제 예측 과정을 위한 함수 decode_sequence()를 구현"
   ]
  },
  {
   "cell_type": "code",
   "execution_count": null,
   "id": "efda55ac",
   "metadata": {},
   "outputs": [],
   "source": [
    "이제 예측 과정을 위한 함수 decode_sequence()를 구현합니다. \n",
    "decode_sequence()의 입력으로 들어가는 것은 번역하고자 하는 문장의 정수 시퀀스입니다. \n",
    "decode_sequence() 내부에는 인코더를 구현한 encoder_model이 있어서 이 모델에 번역하고자 하는 문장의 정수 시퀀스인 'input_seq'를 입력하면,\n",
    "encoder_model은 마지막 시점의 hidden state를 리턴합니다."
   ]
  },
  {
   "cell_type": "code",
   "execution_count": null,
   "id": "7ba62780",
   "metadata": {},
   "outputs": [],
   "source": [
    "이 hidden state는 디코더의 첫번째 시점의 hidden state가 되고, \n",
    "디코더는 이제 번역 문장을 완성하기 위한 예측 과정을 진행합니다. \n",
    "디코더의 예측 과정에서는 이전 시점에서 예측한 단어를 디코더의 현재 시점의 입력으로 넣어주는 작업을 진행합니다. \n",
    "그리고 이 작업은 종료를 의미하는 종료 토큰을 만나거나, 주어진 최대 길이를 넘을 때까지 반복합니다."
   ]
  },
  {
   "cell_type": "code",
   "execution_count": null,
   "id": "a2facd8e",
   "metadata": {},
   "outputs": [],
   "source": [
    "def decode_sequence(input_seq):\n",
    "    # 입력으로부터 인코더의 상태를 얻음\n",
    "    states_value = encoder_model.predict(input_seq)\n",
    "\n",
    "    # <SOS>에 해당하는 원-핫 벡터 생성\n",
    "    target_seq = np.zeros((1, 1, fra_vocab_size))\n",
    "    target_seq[0, 0, fra2idx['\\t']] = 1.\n",
    "\n",
    "    stop_condition = False\n",
    "    decoded_sentence = \"\"\n",
    "\n",
    "    # stop_condition이 True가 될 때까지 루프 반복\n",
    "    while not stop_condition:\n",
    "        # 이점 시점의 상태 states_value를 현 시점의 초기 상태로 사용\n",
    "        output_tokens, h, c = decoder_model.predict([target_seq] + states_value)\n",
    "\n",
    "        # 예측 결과를 문자로 변환\n",
    "        sampled_token_index = np.argmax(output_tokens[0, -1, :])\n",
    "        sampled_char = idx2fra[sampled_token_index]\n",
    "\n",
    "        # 현재 시점의 예측 문자를 예측 문장에 추가\n",
    "        decoded_sentence += sampled_char\n",
    "\n",
    "        # <eos>에 도달하거나 최대 길이를 넘으면 중단.\n",
    "        if (sampled_char == '\\n' or\n",
    "           len(decoded_sentence) > max_fra_seq_len):\n",
    "            stop_condition = True\n",
    "\n",
    "        # 현재 시점의 예측 결과를 다음 시점의 입력으로 사용하기 위해 저장\n",
    "        target_seq = np.zeros((1, 1, fra_vocab_size))\n",
    "        target_seq[0, 0, sampled_token_index] = 1.\n",
    "\n",
    "        # 현재 시점의 상태를 다음 시점의 상태로 사용하기 위해 저장\n",
    "        states_value = [h, c]\n",
    "\n",
    "    return decoded_sentence"
   ]
  },
  {
   "cell_type": "markdown",
   "id": "de0f8c5e",
   "metadata": {},
   "source": [
    "# 6. 이렇게 구현한 함수에 번역하고자 하는 문장의 인덱스를 임의로 입력하여 출력 결과를 테스트해보겠습니다."
   ]
  },
  {
   "cell_type": "code",
   "execution_count": null,
   "id": "ba95d7ca",
   "metadata": {},
   "outputs": [],
   "source": [
    "import numpy as np\n",
    "for seq_index in [3,50,100,300,1001]: # 입력 문장의 인덱스 (자유롭게 선택해 보세요)\n",
    "    input_seq = encoder_input[seq_index: seq_index + 1]\n",
    "    decoded_sentence = decode_sequence(input_seq)\n",
    "    print(35 * \"-\")\n",
    "    print('입력 문장:', lines.eng[seq_index])\n",
    "    print('정답 문장:', lines.fra[seq_index][1:len(lines.fra[seq_index])-1]) # '\\t'와 '\\n'을 빼고 출력\n",
    "    print('번역기가 번역한 문장:', decoded_sentence[:len(decoded_sentence)-1]) # '\\n'을 빼고 출력"
   ]
  },
  {
   "cell_type": "code",
   "execution_count": null,
   "id": "33b0488f",
   "metadata": {},
   "outputs": [],
   "source": []
  },
  {
   "cell_type": "code",
   "execution_count": null,
   "id": "d71f0887",
   "metadata": {},
   "outputs": [],
   "source": []
  },
  {
   "cell_type": "code",
   "execution_count": null,
   "id": "a9796ff2",
   "metadata": {},
   "outputs": [],
   "source": []
  },
  {
   "cell_type": "code",
   "execution_count": null,
   "id": "4495b869",
   "metadata": {},
   "outputs": [],
   "source": []
  },
  {
   "cell_type": "markdown",
   "id": "a97eb8c0",
   "metadata": {},
   "source": [
    "# 7-10. 단어수준으로 번역기 업그레이드하기"
   ]
  },
  {
   "cell_type": "markdown",
   "id": "06db39c5",
   "metadata": {},
   "source": [
    "# 라이브러리 확인"
   ]
  },
  {
   "cell_type": "code",
   "execution_count": null,
   "id": "48a5a838",
   "metadata": {},
   "outputs": [],
   "source": [
    "import tensorflow\n",
    "\n",
    "print(tensorflow.__version__)"
   ]
  },
  {
   "cell_type": "code",
   "execution_count": null,
   "id": "1a511ec4",
   "metadata": {},
   "outputs": [],
   "source": [
    "실습에서 구현한 번역기는 글자 단위(Character-level)에서 구현된 번역기였습니다. 하지만 실제 번역기의 경우에는 글자 단위가 아니라 단어 단위(Word-level)에서 구현되는 것이 좀 더 보편적입니다.\n",
    "\n",
    "동일한 데이터셋을 사용하면서 글자 단위와는 다른 전처리와 to_categorical() 함수가 아닌 임베딩 층(Embedding layer)를 추가하여 단어 단위의 번역기를 완성시켜보겠습니다. 하지만, 단어 단위로 할 경우에는 단어의 개수가 글자 단위로 했을 경우와 비교하여 단어장의 크기(Vocabulary) 크기도 커지고, 학습 속도도 좀 더 느려집니다. 학습과 테스트 시의 원활한 진행을 위해서 데이터에서 상위 33,000개의 샘플만 사용해주세요.\n",
    "\n",
    "33000개 중 3000개는 테스트 데이터로 분리하여 모델을 학습한 후에 번역을 테스트 하는 용도로 사용합니다."
   ]
  },
  {
   "cell_type": "markdown",
   "id": "9eaf9f9b",
   "metadata": {},
   "source": [
    "# Step 1. 정제, 정규화, 전처리 (영어, 프랑스어 모두!)"
   ]
  },
  {
   "cell_type": "code",
   "execution_count": null,
   "id": "f9fc24e9",
   "metadata": {},
   "outputs": [],
   "source": [
    "글자 단위가 아닌 단어 단위의 번역기를 하기 위해서는 글자 단위에서는 신경쓰지 않았던 몇 가지 추가적인 전처리가 필요합니다.\n",
    "\n",
    "1. 구두점(Punctuation)을 단어와 분리해주세요.\n",
    "일반적으로 영어권 언어의 경우에는 띄어쓰기 단위로 단어를 분리합니다. 토큰화(Tokenization) 라고도 불리는 이 작업은 어디서부터 어디까지가 하나의 단어인지를 구분하는 작업인데요, 그런데 띄어쓰기를 해주기 전에 구두점을 분리하는 작업이 필요할 때가 있습니다.\n",
    "예를 들어서 'he is a good boy!'라는 문장이 있을 때, 이를 띄어쓰기 단위로 토큰화한다면 ['he', 'is', 'a', 'good', 'boy!']가 됩니다. 그런데 실제로 !는 boy와 붙어있는 한 단어가 아니므로 좀 더 올바른 전처리는 ['he', 'is', 'a', 'good', 'boy', '!']가 맞습니다.\n",
    "!나 ? 또는 온점과 같은 특수문자들을 구두점(punctuation)이라고 부릅니다. 이들을 토큰화하기 전에 단어와 미리 분리시켜주세요!\n",
    "\n",
    "분리 전 : he is a Good boy!\n",
    "분리 후 : he is a Good boy !\n",
    "2. 소문자로 바꿔주세요.\n",
    "기계가 보기에는 스펠링이 같더라도 대문자로 된 단어와 소문자로 된 단어는 서로 다른 단어입니다. 예를 들어 'Good'과 'good'은 기계가 보기에는 다른 단어입니다. 그래서 모든 문장에 대해서 전부 영어로 바꿔주는 작업을 하겠습니다.\n",
    "\n",
    "변환 전 : he is a Good boy !\n",
    "변환 후 : he is a good boy !\n",
    "3. 띄어쓰기 단위로 토큰화를 수행하세요.\n",
    "띄어쓰기 단위로 토큰화를 수행해서 단어를 분리하는 작업을 해주세요. 기계는 이렇게 분리된 토큰들을 각각 하나의 단어로 인식할 수 있게 됩니다.\n",
    "\n",
    "토큰화 전 : 'he is a good boy !'\n",
    "토큰화 후 : ['he', 'is', 'a', 'good', 'boy', '!']"
   ]
  },
  {
   "cell_type": "markdown",
   "id": "6bd15386",
   "metadata": {},
   "source": [
    "# Step 2. 디코더의 문장에 시작 토큰과 종료 토큰을 넣어주세요."
   ]
  },
  {
   "cell_type": "code",
   "execution_count": null,
   "id": "d3b6634a",
   "metadata": {},
   "outputs": [],
   "source": [
    "글자 단위 번역기를 구현할 때와 마찬가지로 디코더의 입력 시퀀스 맨 앞에는 시작을 의미하는 토큰인 <sos>가 필요합니다. 그리고 교사 강요를 수행할 때, 디코더의 실제값이 되는 디코더의 레이블 시퀀스에는 종료를 의미하는 종료 토큰 <eos>가 필요합니다.\n",
    "예를 들어 번역 문장이 \"Courez!\" 였다고 한다면, Step 1을 거친 후에는 다음과 같은 결과를 얻습니다.\n",
    "\n",
    "Step 1을 수행한 후 : ['courez', '!']\n",
    "이 문장에 대해서 각각 디코더의 입력 시퀀스와 레이블 시퀀스를 만들면 다음과 같습니다.\n",
    "\n",
    "입력 시퀀스 : ['<sos>', 'courez', '!']\n",
    "레이블 시퀀스 : ['courez', '!', '<eos>']\n",
    "참고로 Step 2가 반드시 Step 1이 끝난 후에 이루어질 필요는 없습니다!\n",
    "Step 1을 수행하는 중간에 수행해도 상관없습니다."
   ]
  },
  {
   "cell_type": "markdown",
   "id": "c1d738b1",
   "metadata": {},
   "source": [
    "# Step 3. 케라스의 토크나이저로 텍스트를 숫자로 바꿔보세요."
   ]
  },
  {
   "cell_type": "code",
   "execution_count": null,
   "id": "94f9ec35",
   "metadata": {},
   "outputs": [],
   "source": [
    "딥러닝 모델은 텍스트가 아닌 숫자를 처리합니다. 케라스 토크나이저를 사용해서 각 단어를 고유한 정수로 바꿔보세요.\n",
    "케라스 토크나이저의 사용법은 아래의 링크에서 2. 케라스(Keras)의 텍스트 전처리에 설명되어 있습니다.\n",
    "\n",
    "위키독스\n",
    "위 링크의 가이드를 통해서 영어와 프랑스어에 대한 토크나이저를 각각 생성하고, tokenizer.texts_to_sequences()를 사용하여 모든 샘플에 대해서 정수 시퀀스로 변환해보세요."
   ]
  },
  {
   "cell_type": "markdown",
   "id": "8b03ba11",
   "metadata": {},
   "source": [
    "# Step 4. 임베딩 층(Embedding layer) 사용하기"
   ]
  },
  {
   "cell_type": "code",
   "execution_count": null,
   "id": "ea1f4297",
   "metadata": {},
   "outputs": [],
   "source": [
    "이번에는 입력이 되는 각 단어를 임베딩 층을 사용하여 벡터화하겠습니다.\n",
    "임베딩 층을 사용하는 방법과 그 설명에 대해서는 아래의 링크의 1. 케라스 임베딩 층(Keras Embedding layer) 을 참고하세요."
   ]
  },
  {
   "cell_type": "code",
   "execution_count": null,
   "id": "d3c9008f",
   "metadata": {},
   "outputs": [],
   "source": [
    "from tensorflow.keras.layers import Input, Embedding, Masking\n",
    "\n",
    "# 인코더에서 사용할 임베딩 층 사용 예시\n",
    "encoder_inputs = Input(shape=(None,))\n",
    "enc_emb =  Embedding(단어장의 크기, 임베딩 벡터의 차원)(encoder_inputs)\n",
    "encoder_lstm = LSTM(hidden state의 크기, return_state=True)\n",
    "encoder_outputs, state_h, state_c = encoder_lstm(enc_emb)"
   ]
  },
  {
   "cell_type": "code",
   "execution_count": null,
   "id": "fb0c4ce4",
   "metadata": {},
   "outputs": [],
   "source": [
    "주의할 점은 인코더와 디코더의 임베딩 층은 서로 다른 임베딩 층을 사용해야 하지만, 디코더의 훈련 과정과 테스트 과정(예측 과정)에서의 임베딩 층은 동일해야 한다는 것입니다!"
   ]
  },
  {
   "cell_type": "markdown",
   "id": "107d509e",
   "metadata": {},
   "source": [
    "# Step 5. 모델 구현하기\n"
   ]
  },
  {
   "cell_type": "code",
   "execution_count": null,
   "id": "855e881d",
   "metadata": {},
   "outputs": [],
   "source": [
    "글자 단위 번역기에서 구현한 모델을 참고로 단어 단위 번역기의 모델을 완성시켜보세요! 이때는 label이 integer 값이므로 categorical entropy loss가 아닌 sparse categorical entropy loss를 사용합니다."
   ]
  },
  {
   "cell_type": "markdown",
   "id": "e4088b4c",
   "metadata": {},
   "source": [
    "# Step 6. 모델 평가하기"
   ]
  },
  {
   "cell_type": "code",
   "execution_count": null,
   "id": "d5773ba5",
   "metadata": {},
   "outputs": [],
   "source": [
    "단어 단위 번역기를 이용하여 훈련 데이터의 샘플과 테스트 데이터의 샘플로 번역 문장을 만들어보고 정답 문장과 번역 문장을 비교해보세요. 이전 스텝들에서 우리가 공부했던 모델의 경우 글자 단위에서 구현된 번역기이며 현재 프로젝트를 진행할 때 사용하는 모델은 단어 단위에서 구현되는 번역기입니다.\n",
    "\n",
    "Embedding layer가 추가되기 때문에 학습했던 내용 그대로 사용할 경우 shape에서 error가 발생합니다.\n",
    "decode sentence를 구성할 때 고민해보세요!!"
   ]
  },
  {
   "cell_type": "code",
   "execution_count": null,
   "id": "41c10ff3",
   "metadata": {},
   "outputs": [],
   "source": []
  },
  {
   "cell_type": "code",
   "execution_count": null,
   "id": "56a1cd7e",
   "metadata": {},
   "outputs": [],
   "source": []
  },
  {
   "cell_type": "code",
   "execution_count": null,
   "id": "f8b6f234",
   "metadata": {},
   "outputs": [],
   "source": []
  },
  {
   "cell_type": "markdown",
   "id": "6b02f919",
   "metadata": {},
   "source": [
    "\n",
    "\n",
    "\n",
    "tf.keras.layers.LSTM\n",
    "https://www.tensorflow.org/api_docs/python/tf/keras/layers/LSTM\n",
    "\n",
    "LSTM return_state, return_sequence\n",
    "https://wikidocs.net/106473\n",
    "\n",
    "https://simpling.tistory.com/19"
   ]
  }
 ],
 "metadata": {
  "kernelspec": {
   "display_name": "Python 3 (ipykernel)",
   "language": "python",
   "name": "python3"
  },
  "language_info": {
   "codemirror_mode": {
    "name": "ipython",
    "version": 3
   },
   "file_extension": ".py",
   "mimetype": "text/x-python",
   "name": "python",
   "nbconvert_exporter": "python",
   "pygments_lexer": "ipython3",
   "version": "3.9.7"
  }
 },
 "nbformat": 4,
 "nbformat_minor": 5
}
