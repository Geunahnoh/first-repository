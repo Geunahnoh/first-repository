{
 "cells": [
  {
   "cell_type": "markdown",
   "id": "8dc87a2e",
   "metadata": {},
   "source": [
    "# 미니 프로젝트 1"
   ]
  },
  {
   "cell_type": "markdown",
   "id": "f96c50ca",
   "metadata": {},
   "source": [
    "## 프로젝트 구성\n",
    "프로젝트는 두 개의 데이터셋으로 진행됩니다.\n",
    "그리고 각 데이터셋으로 아래와 같은 과정을 실습합니다.\n",
    "1. 비정상 데이터를 정상 데이터로 만들기_AirPassengers 데이터셋 사용 \n",
    "2. 강의에 활용되었던 분류 모델의 성능 높이기_robot_execution_failures 데이터셋 사용\n",
    "\n",
    "## 목차\n",
    "1. 미니 프로젝트 1-1. 비정상 데이터를 정상 데이터로 만들어보기 \n",
    "2. 결론\n",
    "3. 미니 프로젝트 1-2. 강의에 활용되었던 분류 모델의 성능 높이기\n",
    "4. 결론\n",
    "5. 회고\n",
    "6. Reference\n",
    "\n",
    "## 글씨 색 표시\n",
    "### <span style = \"color:orange;\">궁금해서 찾아본 부분, 새로 알게 된 것</span>    \n",
    "### <span style = \"color:red;\">출력 결과 중 특이사항 표시</span>"
   ]
  },
  {
   "cell_type": "markdown",
   "id": "72861e79",
   "metadata": {},
   "source": [
    "## 1. 미니 프로젝트 1-1. 비정상 데이터를 정상 데이터로 만들기 \n",
    "Step 1. 필요한 데이터 불러오기     \n",
    "Step 2. 분산을 일정하게 만들기     \n",
    "Step 3. 차분을 통해 추세 제거하기     \n",
    "Step 4. 계절 차분을 통해 계절성 제거하기    \n",
    "Step 5. 검정을 통해 정상성 확인하기"
   ]
  },
  {
   "cell_type": "markdown",
   "id": "6baa2f54",
   "metadata": {},
   "source": [
    "### Step 1. 필요한 데이터 불러오기"
   ]
  },
  {
   "cell_type": "code",
   "execution_count": 6,
   "id": "90ca98a2",
   "metadata": {},
   "outputs": [],
   "source": [
    "# 데이터가 저장된 폴더를 연결\n",
    "!mkdir -p aiffel/time_series_basic\n",
    "#!ln -s data/* aiffel/time_series_basic\n",
    "# !cp data/AirPassengers.csv aiffel/time_series_basic/"
   ]
  },
  {
   "cell_type": "code",
   "execution_count": 7,
   "id": "46c023a3",
   "metadata": {},
   "outputs": [
    {
     "name": "stdout",
     "output_type": "stream",
     "text": [
      "Requirement already satisfied: tsfresh in /opt/conda/lib/python3.9/site-packages (0.20.0)\n",
      "Requirement already satisfied: dask[dataframe]>=2.9.0 in /opt/conda/lib/python3.9/site-packages (from tsfresh) (2023.3.2)\n",
      "Requirement already satisfied: numpy>=1.15.1 in /opt/conda/lib/python3.9/site-packages (from tsfresh) (1.21.6)\n",
      "Requirement already satisfied: distributed>=2.11.0 in /opt/conda/lib/python3.9/site-packages (from tsfresh) (2023.3.2.1)\n",
      "Requirement already satisfied: requests>=2.9.1 in /opt/conda/lib/python3.9/site-packages (from tsfresh) (2.26.0)\n",
      "Requirement already satisfied: scikit-learn>=0.22.0 in /opt/conda/lib/python3.9/site-packages (from tsfresh) (1.0)\n",
      "Requirement already satisfied: stumpy>=1.7.2 in /opt/conda/lib/python3.9/site-packages (from tsfresh) (1.11.1)\n",
      "Requirement already satisfied: tqdm>=4.10.0 in /opt/conda/lib/python3.9/site-packages (from tsfresh) (4.62.3)\n",
      "Requirement already satisfied: cloudpickle in /opt/conda/lib/python3.9/site-packages (from tsfresh) (2.0.0)\n",
      "Requirement already satisfied: scipy>=1.2.0 in /opt/conda/lib/python3.9/site-packages (from tsfresh) (1.7.1)\n",
      "Requirement already satisfied: pandas>=0.25.0 in /opt/conda/lib/python3.9/site-packages (from tsfresh) (1.3.3)\n",
      "Requirement already satisfied: patsy>=0.4.1 in /opt/conda/lib/python3.9/site-packages (from tsfresh) (0.5.2)\n",
      "Requirement already satisfied: statsmodels>=0.13 in /opt/conda/lib/python3.9/site-packages (from tsfresh) (0.13.0)\n",
      "Requirement already satisfied: importlib-metadata>=4.13.0 in /opt/conda/lib/python3.9/site-packages (from dask[dataframe]>=2.9.0->tsfresh) (6.3.0)\n",
      "Requirement already satisfied: partd>=1.2.0 in /opt/conda/lib/python3.9/site-packages (from dask[dataframe]>=2.9.0->tsfresh) (1.4.0)\n",
      "Requirement already satisfied: toolz>=0.8.2 in /opt/conda/lib/python3.9/site-packages (from dask[dataframe]>=2.9.0->tsfresh) (0.12.0)\n",
      "Requirement already satisfied: pyyaml>=5.3.1 in /opt/conda/lib/python3.9/site-packages (from dask[dataframe]>=2.9.0->tsfresh) (6.0)\n",
      "Requirement already satisfied: fsspec>=0.6.0 in /opt/conda/lib/python3.9/site-packages (from dask[dataframe]>=2.9.0->tsfresh) (2022.2.0)\n",
      "Requirement already satisfied: click>=7.0 in /opt/conda/lib/python3.9/site-packages (from dask[dataframe]>=2.9.0->tsfresh) (8.0.3)\n",
      "Requirement already satisfied: packaging>=20.0 in /opt/conda/lib/python3.9/site-packages (from dask[dataframe]>=2.9.0->tsfresh) (21.3)\n",
      "Requirement already satisfied: urllib3>=1.24.3 in /opt/conda/lib/python3.9/site-packages (from distributed>=2.11.0->tsfresh) (1.26.7)\n",
      "Requirement already satisfied: locket>=1.0.0 in /opt/conda/lib/python3.9/site-packages (from distributed>=2.11.0->tsfresh) (1.0.0)\n",
      "Requirement already satisfied: tornado>=6.0.3 in /opt/conda/lib/python3.9/site-packages (from distributed>=2.11.0->tsfresh) (6.1)\n",
      "Requirement already satisfied: sortedcontainers>=2.0.5 in /opt/conda/lib/python3.9/site-packages (from distributed>=2.11.0->tsfresh) (2.4.0)\n",
      "Requirement already satisfied: jinja2>=2.10.3 in /opt/conda/lib/python3.9/site-packages (from distributed>=2.11.0->tsfresh) (3.0.3)\n",
      "Requirement already satisfied: tblib>=1.6.0 in /opt/conda/lib/python3.9/site-packages (from distributed>=2.11.0->tsfresh) (1.7.0)\n",
      "Requirement already satisfied: zict>=2.1.0 in /opt/conda/lib/python3.9/site-packages (from distributed>=2.11.0->tsfresh) (2.2.0)\n",
      "Requirement already satisfied: msgpack>=1.0.0 in /opt/conda/lib/python3.9/site-packages (from distributed>=2.11.0->tsfresh) (1.0.3)\n",
      "Requirement already satisfied: psutil>=5.7.0 in /opt/conda/lib/python3.9/site-packages (from distributed>=2.11.0->tsfresh) (5.9.0)\n",
      "Requirement already satisfied: pytz>=2017.3 in /opt/conda/lib/python3.9/site-packages (from pandas>=0.25.0->tsfresh) (2021.3)\n",
      "Requirement already satisfied: python-dateutil>=2.7.3 in /opt/conda/lib/python3.9/site-packages (from pandas>=0.25.0->tsfresh) (2.8.2)\n",
      "Requirement already satisfied: six in /opt/conda/lib/python3.9/site-packages (from patsy>=0.4.1->tsfresh) (1.16.0)\n",
      "Requirement already satisfied: idna<4,>=2.5 in /opt/conda/lib/python3.9/site-packages (from requests>=2.9.1->tsfresh) (2.10)\n",
      "Requirement already satisfied: certifi>=2017.4.17 in /opt/conda/lib/python3.9/site-packages (from requests>=2.9.1->tsfresh) (2021.10.8)\n",
      "Requirement already satisfied: charset-normalizer~=2.0.0 in /opt/conda/lib/python3.9/site-packages (from requests>=2.9.1->tsfresh) (2.0.12)\n",
      "Requirement already satisfied: threadpoolctl>=2.0.0 in /opt/conda/lib/python3.9/site-packages (from scikit-learn>=0.22.0->tsfresh) (3.1.0)\n",
      "Requirement already satisfied: joblib>=0.11 in /opt/conda/lib/python3.9/site-packages (from scikit-learn>=0.22.0->tsfresh) (1.1.0)\n",
      "Requirement already satisfied: numba>=0.54 in /opt/conda/lib/python3.9/site-packages (from stumpy>=1.7.2->tsfresh) (0.55.1)\n",
      "Requirement already satisfied: zipp>=0.5 in /opt/conda/lib/python3.9/site-packages (from importlib-metadata>=4.13.0->dask[dataframe]>=2.9.0->tsfresh) (3.7.0)\n",
      "Requirement already satisfied: MarkupSafe>=2.0 in /opt/conda/lib/python3.9/site-packages (from jinja2>=2.10.3->distributed>=2.11.0->tsfresh) (2.1.0)\n",
      "Requirement already satisfied: llvmlite<0.39,>=0.38.0rc1 in /opt/conda/lib/python3.9/site-packages (from numba>=0.54->stumpy>=1.7.2->tsfresh) (0.38.0)\n",
      "Requirement already satisfied: setuptools in /opt/conda/lib/python3.9/site-packages (from numba>=0.54->stumpy>=1.7.2->tsfresh) (60.9.3)\n",
      "Requirement already satisfied: pyparsing!=3.0.5,>=2.0.2 in /opt/conda/lib/python3.9/site-packages (from packaging>=20.0->dask[dataframe]>=2.9.0->tsfresh) (3.0.7)\n",
      "Requirement already satisfied: heapdict in /opt/conda/lib/python3.9/site-packages (from zict>=2.1.0->distributed>=2.11.0->tsfresh) (1.0.1)\n",
      "\u001b[33mWARNING: Running pip as the 'root' user can result in broken permissions and conflicting behaviour with the system package manager. It is recommended to use a virtual environment instead: https://pip.pypa.io/warnings/venv\u001b[0m\u001b[33m\n",
      "\u001b[0m"
     ]
    }
   ],
   "source": [
    "#tsfresh 설치\n",
    "!pip install tsfresh"
   ]
  },
  {
   "cell_type": "markdown",
   "id": "1a9e738c",
   "metadata": {},
   "source": [
    "## <span style = \"color:orange;\">tsfresh가 뭐죠?</span>\n",
    "라이브러리    \n",
    "시계열의 feature를 자동으로 추출    \n",
    "\n",
    "시계열 노드 4-2에 따르면,     \n",
    "- 기술 통계학 지표, 비선형성과 복잡도 지표, 기록 압축 지표 등등 각종 지표를 자동으로 추출     \n",
    "- 논문에 따르면 63개의 시계열 특징 추출 방법론을 활용해 794개의 특징을 포착할 수 있음     \n",
    "- 현재는 1200개 이상의 특징을 지원하고 있음    "
   ]
  },
  {
   "cell_type": "code",
   "execution_count": null,
   "id": "b9d3ed13",
   "metadata": {},
   "outputs": [],
   "source": [
    "# 라이브러리 버전 충돌을 피하기 위해 런타임을 재시작\n",
    "import os\n",
    "os.kill(os.getpid(), 9)"
   ]
  },
  {
   "cell_type": "markdown",
   "id": "ab8b3f37",
   "metadata": {},
   "source": [
    "#### <span style = \"color:red;\">여기에서는 실행하지 않았습니다.</span>"
   ]
  },
  {
   "cell_type": "code",
   "execution_count": 24,
   "id": "4689bd05",
   "metadata": {},
   "outputs": [],
   "source": [
    "# 라이브러리 불러오기\n",
    "import pandas as pd\n",
    "import matplotlib.pyplot as plt\n",
    "import numpy as np"
   ]
  },
  {
   "cell_type": "code",
   "execution_count": 4,
   "id": "23cc4a7a",
   "metadata": {},
   "outputs": [
    {
     "data": {
      "text/html": [
       "<div>\n",
       "<style scoped>\n",
       "    .dataframe tbody tr th:only-of-type {\n",
       "        vertical-align: middle;\n",
       "    }\n",
       "\n",
       "    .dataframe tbody tr th {\n",
       "        vertical-align: top;\n",
       "    }\n",
       "\n",
       "    .dataframe thead th {\n",
       "        text-align: right;\n",
       "    }\n",
       "</style>\n",
       "<table border=\"1\" class=\"dataframe\">\n",
       "  <thead>\n",
       "    <tr style=\"text-align: right;\">\n",
       "      <th></th>\n",
       "      <th>Month</th>\n",
       "      <th>#Passengers</th>\n",
       "    </tr>\n",
       "  </thead>\n",
       "  <tbody>\n",
       "    <tr>\n",
       "      <th>0</th>\n",
       "      <td>1949-01</td>\n",
       "      <td>112</td>\n",
       "    </tr>\n",
       "    <tr>\n",
       "      <th>1</th>\n",
       "      <td>1949-02</td>\n",
       "      <td>118</td>\n",
       "    </tr>\n",
       "    <tr>\n",
       "      <th>2</th>\n",
       "      <td>1949-03</td>\n",
       "      <td>132</td>\n",
       "    </tr>\n",
       "    <tr>\n",
       "      <th>3</th>\n",
       "      <td>1949-04</td>\n",
       "      <td>129</td>\n",
       "    </tr>\n",
       "    <tr>\n",
       "      <th>4</th>\n",
       "      <td>1949-05</td>\n",
       "      <td>121</td>\n",
       "    </tr>\n",
       "    <tr>\n",
       "      <th>...</th>\n",
       "      <td>...</td>\n",
       "      <td>...</td>\n",
       "    </tr>\n",
       "    <tr>\n",
       "      <th>139</th>\n",
       "      <td>1960-08</td>\n",
       "      <td>606</td>\n",
       "    </tr>\n",
       "    <tr>\n",
       "      <th>140</th>\n",
       "      <td>1960-09</td>\n",
       "      <td>508</td>\n",
       "    </tr>\n",
       "    <tr>\n",
       "      <th>141</th>\n",
       "      <td>1960-10</td>\n",
       "      <td>461</td>\n",
       "    </tr>\n",
       "    <tr>\n",
       "      <th>142</th>\n",
       "      <td>1960-11</td>\n",
       "      <td>390</td>\n",
       "    </tr>\n",
       "    <tr>\n",
       "      <th>143</th>\n",
       "      <td>1960-12</td>\n",
       "      <td>432</td>\n",
       "    </tr>\n",
       "  </tbody>\n",
       "</table>\n",
       "<p>144 rows × 2 columns</p>\n",
       "</div>"
      ],
      "text/plain": [
       "       Month  #Passengers\n",
       "0    1949-01          112\n",
       "1    1949-02          118\n",
       "2    1949-03          132\n",
       "3    1949-04          129\n",
       "4    1949-05          121\n",
       "..       ...          ...\n",
       "139  1960-08          606\n",
       "140  1960-09          508\n",
       "141  1960-10          461\n",
       "142  1960-11          390\n",
       "143  1960-12          432\n",
       "\n",
       "[144 rows x 2 columns]"
      ]
     },
     "execution_count": 4,
     "metadata": {},
     "output_type": "execute_result"
    }
   ],
   "source": [
    "# air passengers 데이터를 불러오기\n",
    "ap = pd.read_csv('/aiffel/aiffel/time_series_basic/AirPassengers.csv')\n",
    "ap"
   ]
  },
  {
   "cell_type": "code",
   "execution_count": 32,
   "id": "64f51e55",
   "metadata": {},
   "outputs": [
    {
     "ename": "KeyError",
     "evalue": "\"['Month'] not found in axis\"",
     "output_type": "error",
     "traceback": [
      "\u001b[0;31m---------------------------------------------------------------------------\u001b[0m",
      "\u001b[0;31mKeyError\u001b[0m                                  Traceback (most recent call last)",
      "\u001b[0;32m/tmp/ipykernel_31/1747170119.py\u001b[0m in \u001b[0;36m<module>\u001b[0;34m\u001b[0m\n\u001b[1;32m      1\u001b[0m \u001b[0;31m# 'Month' column 삭제\u001b[0m\u001b[0;34m\u001b[0m\u001b[0;34m\u001b[0m\u001b[0m\n\u001b[1;32m      2\u001b[0m \u001b[0;34m\u001b[0m\u001b[0m\n\u001b[0;32m----> 3\u001b[0;31m \u001b[0map\u001b[0m\u001b[0;34m.\u001b[0m\u001b[0mdrop\u001b[0m\u001b[0;34m(\u001b[0m\u001b[0;34m'Month'\u001b[0m\u001b[0;34m)\u001b[0m\u001b[0;34m\u001b[0m\u001b[0;34m\u001b[0m\u001b[0m\n\u001b[0m\u001b[1;32m      4\u001b[0m \u001b[0map\u001b[0m\u001b[0;34m\u001b[0m\u001b[0;34m\u001b[0m\u001b[0m\n",
      "\u001b[0;32m/opt/conda/lib/python3.9/site-packages/pandas/util/_decorators.py\u001b[0m in \u001b[0;36mwrapper\u001b[0;34m(*args, **kwargs)\u001b[0m\n\u001b[1;32m    309\u001b[0m                     \u001b[0mstacklevel\u001b[0m\u001b[0;34m=\u001b[0m\u001b[0mstacklevel\u001b[0m\u001b[0;34m,\u001b[0m\u001b[0;34m\u001b[0m\u001b[0;34m\u001b[0m\u001b[0m\n\u001b[1;32m    310\u001b[0m                 )\n\u001b[0;32m--> 311\u001b[0;31m             \u001b[0;32mreturn\u001b[0m \u001b[0mfunc\u001b[0m\u001b[0;34m(\u001b[0m\u001b[0;34m*\u001b[0m\u001b[0margs\u001b[0m\u001b[0;34m,\u001b[0m \u001b[0;34m**\u001b[0m\u001b[0mkwargs\u001b[0m\u001b[0;34m)\u001b[0m\u001b[0;34m\u001b[0m\u001b[0;34m\u001b[0m\u001b[0m\n\u001b[0m\u001b[1;32m    312\u001b[0m \u001b[0;34m\u001b[0m\u001b[0m\n\u001b[1;32m    313\u001b[0m         \u001b[0;32mreturn\u001b[0m \u001b[0mwrapper\u001b[0m\u001b[0;34m\u001b[0m\u001b[0;34m\u001b[0m\u001b[0m\n",
      "\u001b[0;32m/opt/conda/lib/python3.9/site-packages/pandas/core/frame.py\u001b[0m in \u001b[0;36mdrop\u001b[0;34m(self, labels, axis, index, columns, level, inplace, errors)\u001b[0m\n\u001b[1;32m   4904\u001b[0m                 \u001b[0mweight\u001b[0m  \u001b[0;36m1.0\u001b[0m     \u001b[0;36m0.8\u001b[0m\u001b[0;34m\u001b[0m\u001b[0;34m\u001b[0m\u001b[0m\n\u001b[1;32m   4905\u001b[0m         \"\"\"\n\u001b[0;32m-> 4906\u001b[0;31m         return super().drop(\n\u001b[0m\u001b[1;32m   4907\u001b[0m             \u001b[0mlabels\u001b[0m\u001b[0;34m=\u001b[0m\u001b[0mlabels\u001b[0m\u001b[0;34m,\u001b[0m\u001b[0;34m\u001b[0m\u001b[0;34m\u001b[0m\u001b[0m\n\u001b[1;32m   4908\u001b[0m             \u001b[0maxis\u001b[0m\u001b[0;34m=\u001b[0m\u001b[0maxis\u001b[0m\u001b[0;34m,\u001b[0m\u001b[0;34m\u001b[0m\u001b[0;34m\u001b[0m\u001b[0m\n",
      "\u001b[0;32m/opt/conda/lib/python3.9/site-packages/pandas/core/generic.py\u001b[0m in \u001b[0;36mdrop\u001b[0;34m(self, labels, axis, index, columns, level, inplace, errors)\u001b[0m\n\u001b[1;32m   4148\u001b[0m         \u001b[0;32mfor\u001b[0m \u001b[0maxis\u001b[0m\u001b[0;34m,\u001b[0m \u001b[0mlabels\u001b[0m \u001b[0;32min\u001b[0m \u001b[0maxes\u001b[0m\u001b[0;34m.\u001b[0m\u001b[0mitems\u001b[0m\u001b[0;34m(\u001b[0m\u001b[0;34m)\u001b[0m\u001b[0;34m:\u001b[0m\u001b[0;34m\u001b[0m\u001b[0;34m\u001b[0m\u001b[0m\n\u001b[1;32m   4149\u001b[0m             \u001b[0;32mif\u001b[0m \u001b[0mlabels\u001b[0m \u001b[0;32mis\u001b[0m \u001b[0;32mnot\u001b[0m \u001b[0;32mNone\u001b[0m\u001b[0;34m:\u001b[0m\u001b[0;34m\u001b[0m\u001b[0;34m\u001b[0m\u001b[0m\n\u001b[0;32m-> 4150\u001b[0;31m                 \u001b[0mobj\u001b[0m \u001b[0;34m=\u001b[0m \u001b[0mobj\u001b[0m\u001b[0;34m.\u001b[0m\u001b[0m_drop_axis\u001b[0m\u001b[0;34m(\u001b[0m\u001b[0mlabels\u001b[0m\u001b[0;34m,\u001b[0m \u001b[0maxis\u001b[0m\u001b[0;34m,\u001b[0m \u001b[0mlevel\u001b[0m\u001b[0;34m=\u001b[0m\u001b[0mlevel\u001b[0m\u001b[0;34m,\u001b[0m \u001b[0merrors\u001b[0m\u001b[0;34m=\u001b[0m\u001b[0merrors\u001b[0m\u001b[0;34m)\u001b[0m\u001b[0;34m\u001b[0m\u001b[0;34m\u001b[0m\u001b[0m\n\u001b[0m\u001b[1;32m   4151\u001b[0m \u001b[0;34m\u001b[0m\u001b[0m\n\u001b[1;32m   4152\u001b[0m         \u001b[0;32mif\u001b[0m \u001b[0minplace\u001b[0m\u001b[0;34m:\u001b[0m\u001b[0;34m\u001b[0m\u001b[0;34m\u001b[0m\u001b[0m\n",
      "\u001b[0;32m/opt/conda/lib/python3.9/site-packages/pandas/core/generic.py\u001b[0m in \u001b[0;36m_drop_axis\u001b[0;34m(self, labels, axis, level, errors)\u001b[0m\n\u001b[1;32m   4183\u001b[0m                 \u001b[0mnew_axis\u001b[0m \u001b[0;34m=\u001b[0m \u001b[0maxis\u001b[0m\u001b[0;34m.\u001b[0m\u001b[0mdrop\u001b[0m\u001b[0;34m(\u001b[0m\u001b[0mlabels\u001b[0m\u001b[0;34m,\u001b[0m \u001b[0mlevel\u001b[0m\u001b[0;34m=\u001b[0m\u001b[0mlevel\u001b[0m\u001b[0;34m,\u001b[0m \u001b[0merrors\u001b[0m\u001b[0;34m=\u001b[0m\u001b[0merrors\u001b[0m\u001b[0;34m)\u001b[0m\u001b[0;34m\u001b[0m\u001b[0;34m\u001b[0m\u001b[0m\n\u001b[1;32m   4184\u001b[0m             \u001b[0;32melse\u001b[0m\u001b[0;34m:\u001b[0m\u001b[0;34m\u001b[0m\u001b[0;34m\u001b[0m\u001b[0m\n\u001b[0;32m-> 4185\u001b[0;31m                 \u001b[0mnew_axis\u001b[0m \u001b[0;34m=\u001b[0m \u001b[0maxis\u001b[0m\u001b[0;34m.\u001b[0m\u001b[0mdrop\u001b[0m\u001b[0;34m(\u001b[0m\u001b[0mlabels\u001b[0m\u001b[0;34m,\u001b[0m \u001b[0merrors\u001b[0m\u001b[0;34m=\u001b[0m\u001b[0merrors\u001b[0m\u001b[0;34m)\u001b[0m\u001b[0;34m\u001b[0m\u001b[0;34m\u001b[0m\u001b[0m\n\u001b[0m\u001b[1;32m   4186\u001b[0m             \u001b[0mresult\u001b[0m \u001b[0;34m=\u001b[0m \u001b[0mself\u001b[0m\u001b[0;34m.\u001b[0m\u001b[0mreindex\u001b[0m\u001b[0;34m(\u001b[0m\u001b[0;34m**\u001b[0m\u001b[0;34m{\u001b[0m\u001b[0maxis_name\u001b[0m\u001b[0;34m:\u001b[0m \u001b[0mnew_axis\u001b[0m\u001b[0;34m}\u001b[0m\u001b[0;34m)\u001b[0m\u001b[0;34m\u001b[0m\u001b[0;34m\u001b[0m\u001b[0m\n\u001b[1;32m   4187\u001b[0m \u001b[0;34m\u001b[0m\u001b[0m\n",
      "\u001b[0;32m/opt/conda/lib/python3.9/site-packages/pandas/core/indexes/base.py\u001b[0m in \u001b[0;36mdrop\u001b[0;34m(self, labels, errors)\u001b[0m\n\u001b[1;32m   6015\u001b[0m         \u001b[0;32mif\u001b[0m \u001b[0mmask\u001b[0m\u001b[0;34m.\u001b[0m\u001b[0many\u001b[0m\u001b[0;34m(\u001b[0m\u001b[0;34m)\u001b[0m\u001b[0;34m:\u001b[0m\u001b[0;34m\u001b[0m\u001b[0;34m\u001b[0m\u001b[0m\n\u001b[1;32m   6016\u001b[0m             \u001b[0;32mif\u001b[0m \u001b[0merrors\u001b[0m \u001b[0;34m!=\u001b[0m \u001b[0;34m\"ignore\"\u001b[0m\u001b[0;34m:\u001b[0m\u001b[0;34m\u001b[0m\u001b[0;34m\u001b[0m\u001b[0m\n\u001b[0;32m-> 6017\u001b[0;31m                 \u001b[0;32mraise\u001b[0m \u001b[0mKeyError\u001b[0m\u001b[0;34m(\u001b[0m\u001b[0;34mf\"{labels[mask]} not found in axis\"\u001b[0m\u001b[0;34m)\u001b[0m\u001b[0;34m\u001b[0m\u001b[0;34m\u001b[0m\u001b[0m\n\u001b[0m\u001b[1;32m   6018\u001b[0m             \u001b[0mindexer\u001b[0m \u001b[0;34m=\u001b[0m \u001b[0mindexer\u001b[0m\u001b[0;34m[\u001b[0m\u001b[0;34m~\u001b[0m\u001b[0mmask\u001b[0m\u001b[0;34m]\u001b[0m\u001b[0;34m\u001b[0m\u001b[0;34m\u001b[0m\u001b[0m\n\u001b[1;32m   6019\u001b[0m         \u001b[0;32mreturn\u001b[0m \u001b[0mself\u001b[0m\u001b[0;34m.\u001b[0m\u001b[0mdelete\u001b[0m\u001b[0;34m(\u001b[0m\u001b[0mindexer\u001b[0m\u001b[0;34m)\u001b[0m\u001b[0;34m\u001b[0m\u001b[0;34m\u001b[0m\u001b[0m\n",
      "\u001b[0;31mKeyError\u001b[0m: \"['Month'] not found in axis\""
     ]
    }
   ],
   "source": [
    "# 'Month' column 삭제\n",
    "\n",
    "ap.drop('Month')\n",
    "ap"
   ]
  },
  {
   "cell_type": "markdown",
   "id": "17009f98",
   "metadata": {},
   "source": [
    "#### <span style = \"color:red;\">이렇게 하면 에러가 난다</span>      \n",
    "KeyError: \"['Month'] not found in axis\"    \n",
    "\n",
    "axis는 축을 의미하는데, 열을 삭제하고 싶으면 axis =1을 넣어주어야 하기 때문"
   ]
  },
  {
   "cell_type": "markdown",
   "id": "e9fe66ad",
   "metadata": {},
   "source": [
    "## <span style = \"color:orange;\">왜 Month 컬럼을 삭제할까?</span>\n",
    "시계열 데이터를 보기 위해서는 날짜 정보가 담긴 Month가 아니라    \n",
    "Passengers 열만 필요하므로"
   ]
  },
  {
   "cell_type": "code",
   "execution_count": 33,
   "id": "caa20898",
   "metadata": {},
   "outputs": [
    {
     "data": {
      "text/html": [
       "<div>\n",
       "<style scoped>\n",
       "    .dataframe tbody tr th:only-of-type {\n",
       "        vertical-align: middle;\n",
       "    }\n",
       "\n",
       "    .dataframe tbody tr th {\n",
       "        vertical-align: top;\n",
       "    }\n",
       "\n",
       "    .dataframe thead th {\n",
       "        text-align: right;\n",
       "    }\n",
       "</style>\n",
       "<table border=\"1\" class=\"dataframe\">\n",
       "  <thead>\n",
       "    <tr style=\"text-align: right;\">\n",
       "      <th></th>\n",
       "      <th>#Passengers</th>\n",
       "    </tr>\n",
       "  </thead>\n",
       "  <tbody>\n",
       "    <tr>\n",
       "      <th>0</th>\n",
       "      <td>112</td>\n",
       "    </tr>\n",
       "    <tr>\n",
       "      <th>1</th>\n",
       "      <td>118</td>\n",
       "    </tr>\n",
       "    <tr>\n",
       "      <th>2</th>\n",
       "      <td>132</td>\n",
       "    </tr>\n",
       "    <tr>\n",
       "      <th>3</th>\n",
       "      <td>129</td>\n",
       "    </tr>\n",
       "    <tr>\n",
       "      <th>4</th>\n",
       "      <td>121</td>\n",
       "    </tr>\n",
       "    <tr>\n",
       "      <th>...</th>\n",
       "      <td>...</td>\n",
       "    </tr>\n",
       "    <tr>\n",
       "      <th>139</th>\n",
       "      <td>606</td>\n",
       "    </tr>\n",
       "    <tr>\n",
       "      <th>140</th>\n",
       "      <td>508</td>\n",
       "    </tr>\n",
       "    <tr>\n",
       "      <th>141</th>\n",
       "      <td>461</td>\n",
       "    </tr>\n",
       "    <tr>\n",
       "      <th>142</th>\n",
       "      <td>390</td>\n",
       "    </tr>\n",
       "    <tr>\n",
       "      <th>143</th>\n",
       "      <td>432</td>\n",
       "    </tr>\n",
       "  </tbody>\n",
       "</table>\n",
       "<p>144 rows × 1 columns</p>\n",
       "</div>"
      ],
      "text/plain": [
       "     #Passengers\n",
       "0            112\n",
       "1            118\n",
       "2            132\n",
       "3            129\n",
       "4            121\n",
       "..           ...\n",
       "139          606\n",
       "140          508\n",
       "141          461\n",
       "142          390\n",
       "143          432\n",
       "\n",
       "[144 rows x 1 columns]"
      ]
     },
     "execution_count": 33,
     "metadata": {},
     "output_type": "execute_result"
    }
   ],
   "source": [
    "ap.drop('Month', axis = 1)"
   ]
  },
  {
   "cell_type": "code",
   "execution_count": 34,
   "id": "45bcde47",
   "metadata": {},
   "outputs": [
    {
     "data": {
      "text/html": [
       "<div>\n",
       "<style scoped>\n",
       "    .dataframe tbody tr th:only-of-type {\n",
       "        vertical-align: middle;\n",
       "    }\n",
       "\n",
       "    .dataframe tbody tr th {\n",
       "        vertical-align: top;\n",
       "    }\n",
       "\n",
       "    .dataframe thead th {\n",
       "        text-align: right;\n",
       "    }\n",
       "</style>\n",
       "<table border=\"1\" class=\"dataframe\">\n",
       "  <thead>\n",
       "    <tr style=\"text-align: right;\">\n",
       "      <th></th>\n",
       "      <th>Month</th>\n",
       "      <th>#Passengers</th>\n",
       "    </tr>\n",
       "  </thead>\n",
       "  <tbody>\n",
       "    <tr>\n",
       "      <th>0</th>\n",
       "      <td>1949-01</td>\n",
       "      <td>112</td>\n",
       "    </tr>\n",
       "    <tr>\n",
       "      <th>1</th>\n",
       "      <td>1949-02</td>\n",
       "      <td>118</td>\n",
       "    </tr>\n",
       "    <tr>\n",
       "      <th>2</th>\n",
       "      <td>1949-03</td>\n",
       "      <td>132</td>\n",
       "    </tr>\n",
       "    <tr>\n",
       "      <th>3</th>\n",
       "      <td>1949-04</td>\n",
       "      <td>129</td>\n",
       "    </tr>\n",
       "    <tr>\n",
       "      <th>4</th>\n",
       "      <td>1949-05</td>\n",
       "      <td>121</td>\n",
       "    </tr>\n",
       "    <tr>\n",
       "      <th>...</th>\n",
       "      <td>...</td>\n",
       "      <td>...</td>\n",
       "    </tr>\n",
       "    <tr>\n",
       "      <th>139</th>\n",
       "      <td>1960-08</td>\n",
       "      <td>606</td>\n",
       "    </tr>\n",
       "    <tr>\n",
       "      <th>140</th>\n",
       "      <td>1960-09</td>\n",
       "      <td>508</td>\n",
       "    </tr>\n",
       "    <tr>\n",
       "      <th>141</th>\n",
       "      <td>1960-10</td>\n",
       "      <td>461</td>\n",
       "    </tr>\n",
       "    <tr>\n",
       "      <th>142</th>\n",
       "      <td>1960-11</td>\n",
       "      <td>390</td>\n",
       "    </tr>\n",
       "    <tr>\n",
       "      <th>143</th>\n",
       "      <td>1960-12</td>\n",
       "      <td>432</td>\n",
       "    </tr>\n",
       "  </tbody>\n",
       "</table>\n",
       "<p>144 rows × 2 columns</p>\n",
       "</div>"
      ],
      "text/plain": [
       "       Month  #Passengers\n",
       "0    1949-01          112\n",
       "1    1949-02          118\n",
       "2    1949-03          132\n",
       "3    1949-04          129\n",
       "4    1949-05          121\n",
       "..       ...          ...\n",
       "139  1960-08          606\n",
       "140  1960-09          508\n",
       "141  1960-10          461\n",
       "142  1960-11          390\n",
       "143  1960-12          432\n",
       "\n",
       "[144 rows x 2 columns]"
      ]
     },
     "execution_count": 34,
     "metadata": {},
     "output_type": "execute_result"
    }
   ],
   "source": [
    "ap"
   ]
  },
  {
   "cell_type": "markdown",
   "id": "e3041cc5",
   "metadata": {},
   "source": [
    "#### <span style = \"color:red;\">이렇게 하면 출력은 되나 ap를 출력해보면 Month 컬럼이 여전히 보인다</span>      \n",
    "inplace = True를 해야 원본 데이터(ap)에 적용되기 때문에"
   ]
  },
  {
   "cell_type": "markdown",
   "id": "6e19e11c",
   "metadata": {},
   "source": [
    "## <span style = \"color:orange;\">inplace 함수란?</span>\n",
    "inplace = True는 기존 데이터프레임(ap)에 drop을 한 결과를 반영하여 덮어쓰게 된다"
   ]
  },
  {
   "cell_type": "code",
   "execution_count": 35,
   "id": "d728b528",
   "metadata": {},
   "outputs": [],
   "source": [
    "# 그래서 최종적으로는\n",
    "ap.drop('Month', axis = 1, inplace = True)"
   ]
  },
  {
   "cell_type": "code",
   "execution_count": 36,
   "id": "4601e6cb",
   "metadata": {},
   "outputs": [
    {
     "data": {
      "text/html": [
       "<div>\n",
       "<style scoped>\n",
       "    .dataframe tbody tr th:only-of-type {\n",
       "        vertical-align: middle;\n",
       "    }\n",
       "\n",
       "    .dataframe tbody tr th {\n",
       "        vertical-align: top;\n",
       "    }\n",
       "\n",
       "    .dataframe thead th {\n",
       "        text-align: right;\n",
       "    }\n",
       "</style>\n",
       "<table border=\"1\" class=\"dataframe\">\n",
       "  <thead>\n",
       "    <tr style=\"text-align: right;\">\n",
       "      <th></th>\n",
       "      <th>#Passengers</th>\n",
       "    </tr>\n",
       "  </thead>\n",
       "  <tbody>\n",
       "    <tr>\n",
       "      <th>0</th>\n",
       "      <td>112</td>\n",
       "    </tr>\n",
       "    <tr>\n",
       "      <th>1</th>\n",
       "      <td>118</td>\n",
       "    </tr>\n",
       "    <tr>\n",
       "      <th>2</th>\n",
       "      <td>132</td>\n",
       "    </tr>\n",
       "    <tr>\n",
       "      <th>3</th>\n",
       "      <td>129</td>\n",
       "    </tr>\n",
       "    <tr>\n",
       "      <th>4</th>\n",
       "      <td>121</td>\n",
       "    </tr>\n",
       "    <tr>\n",
       "      <th>...</th>\n",
       "      <td>...</td>\n",
       "    </tr>\n",
       "    <tr>\n",
       "      <th>139</th>\n",
       "      <td>606</td>\n",
       "    </tr>\n",
       "    <tr>\n",
       "      <th>140</th>\n",
       "      <td>508</td>\n",
       "    </tr>\n",
       "    <tr>\n",
       "      <th>141</th>\n",
       "      <td>461</td>\n",
       "    </tr>\n",
       "    <tr>\n",
       "      <th>142</th>\n",
       "      <td>390</td>\n",
       "    </tr>\n",
       "    <tr>\n",
       "      <th>143</th>\n",
       "      <td>432</td>\n",
       "    </tr>\n",
       "  </tbody>\n",
       "</table>\n",
       "<p>144 rows × 1 columns</p>\n",
       "</div>"
      ],
      "text/plain": [
       "     #Passengers\n",
       "0            112\n",
       "1            118\n",
       "2            132\n",
       "3            129\n",
       "4            121\n",
       "..           ...\n",
       "139          606\n",
       "140          508\n",
       "141          461\n",
       "142          390\n",
       "143          432\n",
       "\n",
       "[144 rows x 1 columns]"
      ]
     },
     "execution_count": 36,
     "metadata": {},
     "output_type": "execute_result"
    }
   ],
   "source": [
    "ap"
   ]
  },
  {
   "cell_type": "markdown",
   "id": "ec905be8",
   "metadata": {},
   "source": [
    "#### <span style = \"color:red;\">inplace = True 적용 후, Month 컬럼 삭제가 적용되었다</span>      "
   ]
  },
  {
   "cell_type": "code",
   "execution_count": 37,
   "id": "b01c64b4",
   "metadata": {},
   "outputs": [
    {
     "data": {
      "text/plain": [
       "<Figure size 432x288 with 0 Axes>"
      ]
     },
     "execution_count": 37,
     "metadata": {},
     "output_type": "execute_result"
    },
    {
     "data": {
      "text/plain": [
       "<Figure size 432x288 with 0 Axes>"
      ]
     },
     "metadata": {},
     "output_type": "display_data"
    }
   ],
   "source": [
    "# ap를 시각화해보기\n",
    "plt.figure()\n",
    "# plt.plot(ap)\n",
    "# plt.show()"
   ]
  },
  {
   "cell_type": "markdown",
   "id": "244eef65",
   "metadata": {},
   "source": [
    "## <span style = \"color:orange;\">plt.figure()</span>\n",
    "Matplotlib을 줄여서 plt라고 한다    \n",
    "plt.figure()는 새로운 figure를 생성해준다고 함"
   ]
  },
  {
   "cell_type": "markdown",
   "id": "d16258df",
   "metadata": {},
   "source": [
    "## <span style = \"color:orange;\">figure란?</span>\n",
    "Matplotlib의 figure 클래스가 있는데    \n",
    "    \n",
    "Plot(플롯: 표시하다, 도표를 만들다) = Figure(그림) + Axes(축)    \n",
    "\n",
    "plt.Figure 클래스는 플롯에 필요한 모든 요소를 가지고 있는 최상위 클래스이다    \n",
    "(축, 그래프, 텍스트, 레이블을 표시하는 모든 객체를 포함하는 컨테이너)    \n",
    "\n",
    "plt.figure() 메서드를 실행하여 해당 인스턴스를 생성한다고 한다     \n",
    "[출처: https://blog.naver.com/icbanq/222973804100]"
   ]
  },
  {
   "cell_type": "code",
   "execution_count": 39,
   "id": "754713e2",
   "metadata": {},
   "outputs": [
    {
     "data": {
      "text/plain": [
       "[<matplotlib.lines.Line2D at 0x7fc54e23e190>]"
      ]
     },
     "execution_count": 39,
     "metadata": {},
     "output_type": "execute_result"
    },
    {
     "data": {
      "image/png": "[encoded data removed]",
      "text/plain": [
       "<Figure size 432x288 with 1 Axes>"
      ]
     },
     "metadata": {
      "needs_background": "light"
     },
     "output_type": "display_data"
    }
   ],
   "source": [
    "plt.figure()\n",
    "plt.plot(ap)\n",
    "# plt.show()"
   ]
  },
  {
   "cell_type": "markdown",
   "id": "a584ec72",
   "metadata": {},
   "source": [
    "## <span style = \"color:orange;\">plt.plot()</span>\n",
    "\n",
    "matplotlib.pyplot은 모듈 이름    \n",
    "명령어 스타일로 동작하는 함수의 모음\n",
    "\n",
    "\n",
    "matplotlib.pyplot 모듈의 각각의 함수를 사용해서 간편하게 그래프를 만들고 변화를 줄 수 있다.\n",
    "[출처: https://wikidocs.net/92071]"
   ]
  },
  {
   "cell_type": "code",
   "execution_count": 42,
   "id": "9d5c5a55",
   "metadata": {},
   "outputs": [
    {
     "data": {
      "text/plain": [
       "[<matplotlib.lines.Line2D at 0x7fc54e1970d0>]"
      ]
     },
     "execution_count": 42,
     "metadata": {},
     "output_type": "execute_result"
    },
    {
     "data": {
      "image/png": "[encoded data removed]",
      "text/plain": [
       "<Figure size 432x288 with 1 Axes>"
      ]
     },
     "metadata": {
      "needs_background": "light"
     },
     "output_type": "display_data"
    }
   ],
   "source": [
    "# 예시\n",
    "plt.plot([1, 2, 3, 4])"
   ]
  },
  {
   "cell_type": "code",
   "execution_count": 44,
   "id": "c285a100",
   "metadata": {},
   "outputs": [
    {
     "data": {
      "image/png": "[encoded data removed]",
      "text/plain": [
       "<Figure size 432x288 with 1 Axes>"
      ]
     },
     "metadata": {
      "needs_background": "light"
     },
     "output_type": "display_data"
    }
   ],
   "source": [
    "plt.plot([1, 2, 3, 4])\n",
    "plt.show()"
   ]
  },
  {
   "cell_type": "markdown",
   "id": "88c614e0",
   "metadata": {},
   "source": [
    "pyplot.plot() 과 plt.plot()은 같은 말 같다     \n",
    "     \n",
    "위키독스에 의하면    \n",
    "pyplot.plot() 함수에 하나의 숫자 리스트를 입력함으로써 위와 같은 그래프가 그려진다    \n",
    "#### plot() 함수는 리스트의 값들이 y값들이라고 가정하고, x값 [0, 1, 2, 3]을 자동으로 만들어낸다.\n",
    "matplotlib.pyplot 모듈의 show() 함수는 그래프를 화면에 나타나도록 한다"
   ]
  },
  {
   "cell_type": "code",
   "execution_count": 40,
   "id": "89ceaacf",
   "metadata": {},
   "outputs": [
    {
     "data": {
      "image/png": "[encoded data removed]",
      "text/plain": [
       "<Figure size 432x288 with 1 Axes>"
      ]
     },
     "metadata": {
      "needs_background": "light"
     },
     "output_type": "display_data"
    }
   ],
   "source": [
    "plt.figure()\n",
    "plt.plot(ap)\n",
    "plt.show()"
   ]
  },
  {
   "cell_type": "code",
   "execution_count": 46,
   "id": "8e180875",
   "metadata": {},
   "outputs": [
    {
     "data": {
      "text/html": [
       "<div>\n",
       "<style scoped>\n",
       "    .dataframe tbody tr th:only-of-type {\n",
       "        vertical-align: middle;\n",
       "    }\n",
       "\n",
       "    .dataframe tbody tr th {\n",
       "        vertical-align: top;\n",
       "    }\n",
       "\n",
       "    .dataframe thead th {\n",
       "        text-align: right;\n",
       "    }\n",
       "</style>\n",
       "<table border=\"1\" class=\"dataframe\">\n",
       "  <thead>\n",
       "    <tr style=\"text-align: right;\">\n",
       "      <th></th>\n",
       "      <th>#Passengers</th>\n",
       "    </tr>\n",
       "  </thead>\n",
       "  <tbody>\n",
       "    <tr>\n",
       "      <th>138</th>\n",
       "      <td>622</td>\n",
       "    </tr>\n",
       "    <tr>\n",
       "      <th>139</th>\n",
       "      <td>606</td>\n",
       "    </tr>\n",
       "    <tr>\n",
       "      <th>127</th>\n",
       "      <td>559</td>\n",
       "    </tr>\n",
       "    <tr>\n",
       "      <th>126</th>\n",
       "      <td>548</td>\n",
       "    </tr>\n",
       "    <tr>\n",
       "      <th>137</th>\n",
       "      <td>535</td>\n",
       "    </tr>\n",
       "    <tr>\n",
       "      <th>...</th>\n",
       "      <td>...</td>\n",
       "    </tr>\n",
       "    <tr>\n",
       "      <th>11</th>\n",
       "      <td>118</td>\n",
       "    </tr>\n",
       "    <tr>\n",
       "      <th>12</th>\n",
       "      <td>115</td>\n",
       "    </tr>\n",
       "    <tr>\n",
       "      <th>22</th>\n",
       "      <td>114</td>\n",
       "    </tr>\n",
       "    <tr>\n",
       "      <th>0</th>\n",
       "      <td>112</td>\n",
       "    </tr>\n",
       "    <tr>\n",
       "      <th>10</th>\n",
       "      <td>104</td>\n",
       "    </tr>\n",
       "  </tbody>\n",
       "</table>\n",
       "<p>144 rows × 1 columns</p>\n",
       "</div>"
      ],
      "text/plain": [
       "     #Passengers\n",
       "138          622\n",
       "139          606\n",
       "127          559\n",
       "126          548\n",
       "137          535\n",
       "..           ...\n",
       "11           118\n",
       "12           115\n",
       "22           114\n",
       "0            112\n",
       "10           104\n",
       "\n",
       "[144 rows x 1 columns]"
      ]
     },
     "execution_count": 46,
     "metadata": {},
     "output_type": "execute_result"
    }
   ],
   "source": [
    "ap.sort_values(by=['#Passengers'], ascending=False)"
   ]
  },
  {
   "cell_type": "markdown",
   "id": "77030d5b",
   "metadata": {},
   "source": [
    "#### <span style = \"color:red;\">plot() 함수는 ()안의 값들이 y값으로 가정하고, x값을 자동으로 만들어 내는지 위 그래프에서도 확인해보자</span>          \n",
    "- ap의 #Passengers 열을 내림차순으로 정렬함(sort_values(by=['정렬을 할 기준이 되는 열'], ascending=False(내림차순의미)) 사용\n",
    "- #Passengers의 값은 가장 적은게 104, 많은 값이 622이다.\n",
    "- 그래프를 다시 보면 y축이 100에서 700까지 되어있는 것을 확인할 수 있다.\n",
    "- 그렇다면 ply.plot()에서 ()안에 들어오는 값을 y값으로 받는다는 것이 맞는 말임을 확인할 수 있다.\n",
    "    \n",
    "           \n",
    "- x축을 보면 0부터 140까지의 범위를 확인할 수 있다.\n",
    "- 음.. 내 생각에는 인덱스 번호는 x축으로 받은건가 하는 생각이 든다"
   ]
  },
  {
   "cell_type": "markdown",
   "id": "be009a7f",
   "metadata": {},
   "source": [
    "### Step 2. 분산을 일정하게 만들기"
   ]
  },
  {
   "cell_type": "markdown",
   "id": "d5fd5cf1",
   "metadata": {},
   "source": [
    "분산을 일정하게 만들기 위해     \n",
    "log transformation을 사용\n",
    "       \n",
    "       \n",
    "사용하는 이유는 (노드 출처)\n",
    "- 큰 수를  같은비율의 작은 수로 만들 수 있기 때문\n",
    "- 복잡한 계산을 쉽게 만들 수 있기 때문\n",
    "- 왜도(skewness)와 첨도(kurtosis)를 줄여서 데이터 분석 시 의미있는 결과를 도출하기 위해서"
   ]
  },
  {
   "cell_type": "code",
   "execution_count": 47,
   "id": "6f662b8a",
   "metadata": {},
   "outputs": [],
   "source": [
    "# np.log를 통해서 log transformation\n",
    "log_transformed = np.log(ap)"
   ]
  },
  {
   "cell_type": "code",
   "execution_count": 48,
   "id": "43a437d6",
   "metadata": {},
   "outputs": [
    {
     "data": {
      "text/html": [
       "<div>\n",
       "<style scoped>\n",
       "    .dataframe tbody tr th:only-of-type {\n",
       "        vertical-align: middle;\n",
       "    }\n",
       "\n",
       "    .dataframe tbody tr th {\n",
       "        vertical-align: top;\n",
       "    }\n",
       "\n",
       "    .dataframe thead th {\n",
       "        text-align: right;\n",
       "    }\n",
       "</style>\n",
       "<table border=\"1\" class=\"dataframe\">\n",
       "  <thead>\n",
       "    <tr style=\"text-align: right;\">\n",
       "      <th></th>\n",
       "      <th>#Passengers</th>\n",
       "    </tr>\n",
       "  </thead>\n",
       "  <tbody>\n",
       "    <tr>\n",
       "      <th>0</th>\n",
       "      <td>4.718499</td>\n",
       "    </tr>\n",
       "    <tr>\n",
       "      <th>1</th>\n",
       "      <td>4.770685</td>\n",
       "    </tr>\n",
       "    <tr>\n",
       "      <th>2</th>\n",
       "      <td>4.882802</td>\n",
       "    </tr>\n",
       "    <tr>\n",
       "      <th>3</th>\n",
       "      <td>4.859812</td>\n",
       "    </tr>\n",
       "    <tr>\n",
       "      <th>4</th>\n",
       "      <td>4.795791</td>\n",
       "    </tr>\n",
       "    <tr>\n",
       "      <th>...</th>\n",
       "      <td>...</td>\n",
       "    </tr>\n",
       "    <tr>\n",
       "      <th>139</th>\n",
       "      <td>6.406880</td>\n",
       "    </tr>\n",
       "    <tr>\n",
       "      <th>140</th>\n",
       "      <td>6.230481</td>\n",
       "    </tr>\n",
       "    <tr>\n",
       "      <th>141</th>\n",
       "      <td>6.133398</td>\n",
       "    </tr>\n",
       "    <tr>\n",
       "      <th>142</th>\n",
       "      <td>5.966147</td>\n",
       "    </tr>\n",
       "    <tr>\n",
       "      <th>143</th>\n",
       "      <td>6.068426</td>\n",
       "    </tr>\n",
       "  </tbody>\n",
       "</table>\n",
       "<p>144 rows × 1 columns</p>\n",
       "</div>"
      ],
      "text/plain": [
       "     #Passengers\n",
       "0       4.718499\n",
       "1       4.770685\n",
       "2       4.882802\n",
       "3       4.859812\n",
       "4       4.795791\n",
       "..           ...\n",
       "139     6.406880\n",
       "140     6.230481\n",
       "141     6.133398\n",
       "142     5.966147\n",
       "143     6.068426\n",
       "\n",
       "[144 rows x 1 columns]"
      ]
     },
     "execution_count": 48,
     "metadata": {},
     "output_type": "execute_result"
    }
   ],
   "source": [
    "log_transformed"
   ]
  },
  {
   "cell_type": "code",
   "execution_count": 49,
   "id": "ce84cfc5",
   "metadata": {},
   "outputs": [
    {
     "data": {
      "image/png": "[encoded data removed]",
      "text/plain": [
       "<Figure size 432x288 with 1 Axes>"
      ]
     },
     "metadata": {
      "needs_background": "light"
     },
     "output_type": "display_data"
    }
   ],
   "source": [
    "# 분산이 일정해진 것을 눈으로 확인, 시각화\n",
    "plt.figure()\n",
    "plt.plot(log_transformed)\n",
    "plt.show()"
   ]
  },
  {
   "cell_type": "markdown",
   "id": "aa7faa29",
   "metadata": {},
   "source": [
    "### Step 3. 차분을 통해 추세 제거하기"
   ]
  },
  {
   "cell_type": "code",
   "execution_count": 50,
   "id": "b0deab3f",
   "metadata": {},
   "outputs": [],
   "source": [
    "# diff() 함수를 통해 간단하게 차분을 수행할 수 있음\n",
    "diffed = log_transformed.diff()[1:]"
   ]
  },
  {
   "cell_type": "markdown",
   "id": "660a3b4c",
   "metadata": {},
   "source": [
    "## <span style = \"color:orange;\">차분(differencing)이란?</span>\n",
    "시계열 데이터들의 시간상의 차이를 구하는 것\n",
    "\n",
    "#### AirPassengers 데이터의 경우     \n",
    "trend 및 계절성이 뚜렷한 시계열이다.     \n",
    "이러한 데이터들을 Non-stationary라고 한다.     \n",
    "= 이 말은 비정상성을 띈다고 할 수 있는 것 같다.\n",
    "          \n",
    "          \n",
    "              \n",
    "차분을 하는 이유는 이러한 trend와 계절성을 띄는 비정상성을 띄는 데이터에서 \n",
    "#### \"trend를 없애기 위해서\"\n",
    "\n",
    "그래서 diff() 함수를 사용한다\n",
    "\n",
    "-> log transformation을 사용하는 것처럼      \n",
    "비정상시계열을 정상시계열로 전환하는 방법 중 하나라고 생각하면 될 것 같다\n",
    "\n",
    "\n",
    "#### <span style = \"color:red;\"> 위 코드에서 [1:]이 붙은 이유는 1행부터 끝까지라는 의미로 사용된 것 같다</span>  "
   ]
  },
  {
   "cell_type": "code",
   "execution_count": 51,
   "id": "9d69d247",
   "metadata": {},
   "outputs": [
    {
     "data": {
      "text/html": [
       "<div>\n",
       "<style scoped>\n",
       "    .dataframe tbody tr th:only-of-type {\n",
       "        vertical-align: middle;\n",
       "    }\n",
       "\n",
       "    .dataframe tbody tr th {\n",
       "        vertical-align: top;\n",
       "    }\n",
       "\n",
       "    .dataframe thead th {\n",
       "        text-align: right;\n",
       "    }\n",
       "</style>\n",
       "<table border=\"1\" class=\"dataframe\">\n",
       "  <thead>\n",
       "    <tr style=\"text-align: right;\">\n",
       "      <th></th>\n",
       "      <th>#Passengers</th>\n",
       "    </tr>\n",
       "  </thead>\n",
       "  <tbody>\n",
       "    <tr>\n",
       "      <th>1</th>\n",
       "      <td>0.052186</td>\n",
       "    </tr>\n",
       "    <tr>\n",
       "      <th>2</th>\n",
       "      <td>0.112117</td>\n",
       "    </tr>\n",
       "    <tr>\n",
       "      <th>3</th>\n",
       "      <td>-0.022990</td>\n",
       "    </tr>\n",
       "    <tr>\n",
       "      <th>4</th>\n",
       "      <td>-0.064022</td>\n",
       "    </tr>\n",
       "    <tr>\n",
       "      <th>5</th>\n",
       "      <td>0.109484</td>\n",
       "    </tr>\n",
       "    <tr>\n",
       "      <th>...</th>\n",
       "      <td>...</td>\n",
       "    </tr>\n",
       "    <tr>\n",
       "      <th>139</th>\n",
       "      <td>-0.026060</td>\n",
       "    </tr>\n",
       "    <tr>\n",
       "      <th>140</th>\n",
       "      <td>-0.176399</td>\n",
       "    </tr>\n",
       "    <tr>\n",
       "      <th>141</th>\n",
       "      <td>-0.097083</td>\n",
       "    </tr>\n",
       "    <tr>\n",
       "      <th>142</th>\n",
       "      <td>-0.167251</td>\n",
       "    </tr>\n",
       "    <tr>\n",
       "      <th>143</th>\n",
       "      <td>0.102279</td>\n",
       "    </tr>\n",
       "  </tbody>\n",
       "</table>\n",
       "<p>143 rows × 1 columns</p>\n",
       "</div>"
      ],
      "text/plain": [
       "     #Passengers\n",
       "1       0.052186\n",
       "2       0.112117\n",
       "3      -0.022990\n",
       "4      -0.064022\n",
       "5       0.109484\n",
       "..           ...\n",
       "139    -0.026060\n",
       "140    -0.176399\n",
       "141    -0.097083\n",
       "142    -0.167251\n",
       "143     0.102279\n",
       "\n",
       "[143 rows x 1 columns]"
      ]
     },
     "execution_count": 51,
     "metadata": {},
     "output_type": "execute_result"
    }
   ],
   "source": [
    "diffed"
   ]
  },
  {
   "cell_type": "code",
   "execution_count": 52,
   "id": "3062ff43",
   "metadata": {},
   "outputs": [
    {
     "data": {
      "image/png": "[encoded data removed]",
      "text/plain": [
       "<Figure size 432x288 with 1 Axes>"
      ]
     },
     "metadata": {
      "needs_background": "light"
     },
     "output_type": "display_data"
    }
   ],
   "source": [
    "# 시각화\n",
    "plt.figure()\n",
    "plt.plot(diffed)\n",
    "plt.show()"
   ]
  },
  {
   "cell_type": "markdown",
   "id": "d1c8f47d",
   "metadata": {},
   "source": [
    "#### <span style = \"color:red;\">np.log()로 분산을 제거하고, diff()로 차분을 제거한 시각화</span> \n",
    "(왜 차분을 제거? trend(추세)를 제외하고 보고싶어서)"
   ]
  },
  {
   "cell_type": "markdown",
   "id": "9d0090db",
   "metadata": {},
   "source": [
    "### Step 4. 계절 차분을 통해 계절성 제거하기"
   ]
  },
  {
   "cell_type": "markdown",
   "id": "2974feee",
   "metadata": {},
   "source": [
    "## <span style = \"color:orange;\">이거 왜 하는건데?</span>\n",
    "\n",
    "- AirPassengers 데이터는 12개월을 주기로 하는 계절성이 포함되어 있어서     \n",
    "= 계절성이 있어서\n",
    "        \n",
    "\n",
    "- 이런 경우엔 계절 차분을 통해서 계절성을 데이터에서 제거할 수 있다     \n",
    "위에서는 trend만 제거했으니 이번에는 계절성을 제거"
   ]
  },
  {
   "cell_type": "code",
   "execution_count": 53,
   "id": "cc12e6d7",
   "metadata": {},
   "outputs": [],
   "source": [
    "# diff에 12라는 값을 넣어주면 주기를 12로 하는 계절 차분을 수행할 수 있다고 함\n",
    "seasonally_diffed = diffed.diff(12)\n",
    "# 차분을 하면 데이터가 짧아지기 때문에 빈칸을 제거해야 한다고 함\n",
    "# seasonally_diffed.dropna(inplace = True)\n",
    "\n",
    "# 위 코드 하나만 실행해봄"
   ]
  },
  {
   "cell_type": "code",
   "execution_count": 54,
   "id": "9638a4b3",
   "metadata": {},
   "outputs": [
    {
     "data": {
      "text/html": [
       "<div>\n",
       "<style scoped>\n",
       "    .dataframe tbody tr th:only-of-type {\n",
       "        vertical-align: middle;\n",
       "    }\n",
       "\n",
       "    .dataframe tbody tr th {\n",
       "        vertical-align: top;\n",
       "    }\n",
       "\n",
       "    .dataframe thead th {\n",
       "        text-align: right;\n",
       "    }\n",
       "</style>\n",
       "<table border=\"1\" class=\"dataframe\">\n",
       "  <thead>\n",
       "    <tr style=\"text-align: right;\">\n",
       "      <th></th>\n",
       "      <th>#Passengers</th>\n",
       "    </tr>\n",
       "  </thead>\n",
       "  <tbody>\n",
       "    <tr>\n",
       "      <th>1</th>\n",
       "      <td>NaN</td>\n",
       "    </tr>\n",
       "    <tr>\n",
       "      <th>2</th>\n",
       "      <td>NaN</td>\n",
       "    </tr>\n",
       "    <tr>\n",
       "      <th>3</th>\n",
       "      <td>NaN</td>\n",
       "    </tr>\n",
       "    <tr>\n",
       "      <th>4</th>\n",
       "      <td>NaN</td>\n",
       "    </tr>\n",
       "    <tr>\n",
       "      <th>5</th>\n",
       "      <td>NaN</td>\n",
       "    </tr>\n",
       "    <tr>\n",
       "      <th>...</th>\n",
       "      <td>...</td>\n",
       "    </tr>\n",
       "    <tr>\n",
       "      <th>139</th>\n",
       "      <td>-0.045934</td>\n",
       "    </tr>\n",
       "    <tr>\n",
       "      <th>140</th>\n",
       "      <td>0.012024</td>\n",
       "    </tr>\n",
       "    <tr>\n",
       "      <th>141</th>\n",
       "      <td>0.031830</td>\n",
       "    </tr>\n",
       "    <tr>\n",
       "      <th>142</th>\n",
       "      <td>-0.050082</td>\n",
       "    </tr>\n",
       "    <tr>\n",
       "      <th>143</th>\n",
       "      <td>-0.009964</td>\n",
       "    </tr>\n",
       "  </tbody>\n",
       "</table>\n",
       "<p>143 rows × 1 columns</p>\n",
       "</div>"
      ],
      "text/plain": [
       "     #Passengers\n",
       "1            NaN\n",
       "2            NaN\n",
       "3            NaN\n",
       "4            NaN\n",
       "5            NaN\n",
       "..           ...\n",
       "139    -0.045934\n",
       "140     0.012024\n",
       "141     0.031830\n",
       "142    -0.050082\n",
       "143    -0.009964\n",
       "\n",
       "[143 rows x 1 columns]"
      ]
     },
     "execution_count": 54,
     "metadata": {},
     "output_type": "execute_result"
    }
   ],
   "source": [
    "seasonally_diffed"
   ]
  },
  {
   "cell_type": "markdown",
   "id": "453a1fe8",
   "metadata": {},
   "source": [
    "#### <span style = \"color:red;\">결측치가 있음</span>\n",
    "#### <span style = \"color:red;\">그래서 노드에서 차분을 하면 데이터가 짧아지기 때문에 빈칸을 제거해야 한다고 한 것 같다</span>"
   ]
  },
  {
   "cell_type": "code",
   "execution_count": 55,
   "id": "68cce988",
   "metadata": {},
   "outputs": [],
   "source": [
    "seasonally_diffed.dropna(inplace = True)"
   ]
  },
  {
   "cell_type": "code",
   "execution_count": 56,
   "id": "9e1de376",
   "metadata": {},
   "outputs": [
    {
     "data": {
      "text/html": [
       "<div>\n",
       "<style scoped>\n",
       "    .dataframe tbody tr th:only-of-type {\n",
       "        vertical-align: middle;\n",
       "    }\n",
       "\n",
       "    .dataframe tbody tr th {\n",
       "        vertical-align: top;\n",
       "    }\n",
       "\n",
       "    .dataframe thead th {\n",
       "        text-align: right;\n",
       "    }\n",
       "</style>\n",
       "<table border=\"1\" class=\"dataframe\">\n",
       "  <thead>\n",
       "    <tr style=\"text-align: right;\">\n",
       "      <th></th>\n",
       "      <th>#Passengers</th>\n",
       "    </tr>\n",
       "  </thead>\n",
       "  <tbody>\n",
       "    <tr>\n",
       "      <th>13</th>\n",
       "      <td>0.039164</td>\n",
       "    </tr>\n",
       "    <tr>\n",
       "      <th>14</th>\n",
       "      <td>0.000361</td>\n",
       "    </tr>\n",
       "    <tr>\n",
       "      <th>15</th>\n",
       "      <td>-0.020496</td>\n",
       "    </tr>\n",
       "    <tr>\n",
       "      <th>16</th>\n",
       "      <td>-0.012939</td>\n",
       "    </tr>\n",
       "    <tr>\n",
       "      <th>17</th>\n",
       "      <td>0.066148</td>\n",
       "    </tr>\n",
       "    <tr>\n",
       "      <th>...</th>\n",
       "      <td>...</td>\n",
       "    </tr>\n",
       "    <tr>\n",
       "      <th>139</th>\n",
       "      <td>-0.045934</td>\n",
       "    </tr>\n",
       "    <tr>\n",
       "      <th>140</th>\n",
       "      <td>0.012024</td>\n",
       "    </tr>\n",
       "    <tr>\n",
       "      <th>141</th>\n",
       "      <td>0.031830</td>\n",
       "    </tr>\n",
       "    <tr>\n",
       "      <th>142</th>\n",
       "      <td>-0.050082</td>\n",
       "    </tr>\n",
       "    <tr>\n",
       "      <th>143</th>\n",
       "      <td>-0.009964</td>\n",
       "    </tr>\n",
       "  </tbody>\n",
       "</table>\n",
       "<p>131 rows × 1 columns</p>\n",
       "</div>"
      ],
      "text/plain": [
       "     #Passengers\n",
       "13      0.039164\n",
       "14      0.000361\n",
       "15     -0.020496\n",
       "16     -0.012939\n",
       "17      0.066148\n",
       "..           ...\n",
       "139    -0.045934\n",
       "140     0.012024\n",
       "141     0.031830\n",
       "142    -0.050082\n",
       "143    -0.009964\n",
       "\n",
       "[131 rows x 1 columns]"
      ]
     },
     "execution_count": 56,
     "metadata": {},
     "output_type": "execute_result"
    }
   ],
   "source": [
    "seasonally_diffed"
   ]
  },
  {
   "cell_type": "markdown",
   "id": "537593b5",
   "metadata": {},
   "source": [
    "#### <span style = \"color:red;\">결측치 포함 143행이었는데, 결측치 제거하고 131행이 되었음</span>"
   ]
  },
  {
   "cell_type": "code",
   "execution_count": 57,
   "id": "c31e7f1e",
   "metadata": {},
   "outputs": [
    {
     "data": {
      "text/plain": [
       "pandas.core.frame.DataFrame"
      ]
     },
     "execution_count": 57,
     "metadata": {},
     "output_type": "execute_result"
    }
   ],
   "source": [
    "type(seasonally_diffed)"
   ]
  },
  {
   "cell_type": "markdown",
   "id": "b5a63d1d",
   "metadata": {},
   "source": [
    "## <span style = \"color:orange;\">dropna()</span>\n",
    "#### 공식문서에는 remove missing values라고 나와있음\n",
    "\n",
    "기본설정은\n",
    "dropna(inplace=False)\n",
    "\n",
    "inplace=False는 dropna를 한 값을 이전 데이터에 덮어쓰지 않는다는 의미\n",
    "\n",
    "missing values를 제거하는 거라고 하니까 NaN 값을 빼주는 것 같다"
   ]
  },
  {
   "cell_type": "code",
   "execution_count": 58,
   "id": "6939449c",
   "metadata": {},
   "outputs": [
    {
     "data": {
      "image/png": "[encoded data removed]",
      "text/plain": [
       "<Figure size 432x288 with 1 Axes>"
      ]
     },
     "metadata": {
      "needs_background": "light"
     },
     "output_type": "display_data"
    }
   ],
   "source": [
    "# 시각화\n",
    "plt.figure()\n",
    "plt.plot(seasonally_diffed)\n",
    "plt.show()"
   ]
  },
  {
   "cell_type": "markdown",
   "id": "9717c1cb",
   "metadata": {},
   "source": [
    "### Step 5. 검정을 통해 정상성 확인하기"
   ]
  },
  {
   "cell_type": "markdown",
   "id": "147ebc10",
   "metadata": {},
   "source": [
    "#### <span style = \"color:red;\">정상성을 확인하는 방법으로는 무엇이 있을까? </span>"
   ]
  },
  {
   "cell_type": "markdown",
   "id": "35ce9177",
   "metadata": {},
   "source": [
    "## <span style = \"color:orange;\">정상성이란?</span>\n",
    "\n",
    "시간에 상관없이 시계열이 일정한 성질을 띠는 시계열을 지칭     \n",
    "시간에 상관없이 일정한 것을 의미\n",
    "\n",
    "\n",
    "평균, 분산 등의 통계적 특성이 변하지 않는 일정한 상태를 의미하며 시계열의 안정적인 수준을 뜻한다      \n",
    "정상성을 띄게 하려면 평균, 분산이 시간의 흐름에 따라 일정해야 하고,        \n",
    "시차(lag)에 따른 공분산이 일정해야 한다 [출처: 시계열 노드 2-30]"
   ]
  },
  {
   "cell_type": "markdown",
   "id": "ec28899e",
   "metadata": {},
   "source": [
    "## <span style = \"color:orange;\">정상성을 확인하는 방법</span>\n",
    "\n",
    "1. KPSS 검정\n",
    "2. ADF 검정"
   ]
  },
  {
   "cell_type": "markdown",
   "id": "faf25dfc",
   "metadata": {},
   "source": [
    "## <span style = \"color:orange;\">모르는 용어</span>\n",
    "\n",
    "단위근 검정\n",
    "귀무가설\n",
    "대립가설\n",
    "\n",
    "\n",
    "#### 단위근이란\n",
    "\n",
    "확률론의 데이터 검정에서 쓰이는 개념\n",
    "주로 '단위근 검정'의 형식으로 등장한다\n",
    "[출처: https://rfriend.tistory.com/694]\n",
    "\n",
    "\n",
    "해당 수식에서 모든 근의 절대값은 1보다 커야 하며, 이 근 중에서 크기가 1인 근을 단위근이라 한다     \n",
    "확률과정에서 식의 근을 찾을 때, 그리고 단위근이 존재하면 정상성이 아니기 때문에      \n",
    "단위근을 통해서 정상성을 확인할 수 있다     \n",
    "[출처: 시계열 노드 2-3]\n",
    "\n",
    "\n",
    "#### 귀무가설(null hypothesis)\n",
    "\n",
    "연구에서 검증해야 하는 가설이며      \n",
    "차이가 없거나 이것이 맞는지 혹은 맞지 않다는 통계학적인 증거를 통해 증명해야 한다\n",
    "\n",
    "\n",
    "\n",
    "#### 대립가설(alternative hypothesis)\n",
    "\n",
    "귀무가설이 기각되었을 때 대신 채택되는 가설을 의미한다\n",
    "\n",
    "[출처: 시계열 노드 2-3]"
   ]
  },
  {
   "cell_type": "markdown",
   "id": "5d4a70d5",
   "metadata": {},
   "source": [
    "## <span style = \"color:orange;\">단위근 검정</span>\n",
    "대부분의 검정은 단위근 검정이라고 한다\n",
    "\n",
    "단위근 검정이란 시계열의 확률적 추세 여부를 검정하는 것으로서 단위근의 존재 여부를 귀무가설로 둔다     \n",
    "#### 단위근이 존재하면, 그 시계열은 비정상 시계열\n",
    "\n",
    "[출처: https://modulabs.co.kr/blog/time-series-stationarity/]\n",
    "\n",
    "## <span style = \"color:orange;\">KPSS 검정</span>\n",
    "\n",
    "KPSS 검정 역시 일종의 단위근 검정이지만,     \n",
    "다른 검정들과는 다르게 귀무가설이 ‘시계열 과정이 정상적(Stationary)이다’로 설정되어 있다     \n",
    "대립 가설은 ‘시계열 과정이 비정상적(non-stationary)이다’로 설정되어 있다     \n",
    "Python에서는 statsmodels 라이브러리에서 kpss를 import하여 사용할 수 있다\n",
    "\n",
    "\n",
    "[출처: https://modulabs.co.kr/blog/time-series-stationarity/]\n",
    "\n",
    "시계열이 평균이나 선형 추세(Linear Trend) 주변에 단위근으로 고정되어 있지 않은지 확인할 수 있으며      \n",
    "시계열 데이터의 정상성을 검정하는 방법 중 하나이다\n",
    "\n",
    "[출처: 시계열 노드 2-3]\n",
    "\n",
    "\n",
    "## <span style = \"color:orange;\">ADF 검정</span>\n",
    "     \n",
    "       \n",
    "ADF 검정은      \n",
    "시계열에 단위근(unit root)이 존재하는지의 여부를 결정함으로써 정상시계열인지 여부를 판단한다      \n",
    "#### 단위근이 존재하면, 그 시계열은 비정상 시계열      \n",
    "단위근이 존재하지 않으면 정상 시계열이니, 단위근을 확인해보는 방법으로 정상성을 확인할 수 있다     \n",
    "[출처: https://rfriend.tistory.com/694]\n",
    "\n",
    "\n",
    "시계열 데이터에서 단위근이 존재하는지의 여부를 찾는 검정 방법으로       \n",
    "시계열 데이터의 정상성을 검정하는 방법 중 하나이다     \n",
    "[출처: 시계열 노드 2-3]\n",
    "\n",
    "\n",
    "\n",
    "## <span style = \"color:orange;\">ADF 검정의 논리</span>\n",
    "\n",
    "ADF는 기본적으로, 시계열에 단위근이 존재한다고 가정*, 즉 시계열이 비정상적이라고 가정\n",
    "#### <span style = \"color:red;\">-> 그럼 귀무가설이 \"이 시계열은 단위근이 존재하므로 비정상 시계열이다.\" 라는 건가?</span>\n",
    "검정 결과 귀무가설이 기각된다면(= p-value가 유의수준보다 작다면) 대상 시계열은 정상으로 판단될 수 있다     \n",
    "검정 결과 귀무가설이 기각되지 않는다면 대상 시계열은 비정상으로 판단된다\n",
    "\n",
    "[출처: https://playinpap.github.io/easypeasy-time-series-02/]"
   ]
  },
  {
   "cell_type": "markdown",
   "id": "26932da7",
   "metadata": {},
   "source": [
    "#### <span style = \"color:red;\">KPSS 검정은 ADF 검정과는 귀무가설과 대립가설이 정반대이므로 해석에 유의하라고 함</span>"
   ]
  },
  {
   "cell_type": "markdown",
   "id": "220b6b70",
   "metadata": {},
   "source": [
    "### 노드로 다시 돌아와서_노드는 ADF 검정을 사용\n",
    "\n",
    "#### adfuller\n",
    "시계열 데이터를 통계 분석하고 검증할 때 사용\n",
    "\n",
    "adfuller를 사용하면 대표적으로 다음과 같은 값을 얻을 수 있다고 함\n",
    "\n",
    "- adf(단위근 검정, Augmented Dickey Fuller) : 정상성을 확인하기 위한 단위근 검정방법\n",
    "- p-value(유의 검정) : 관찰된 데이터가 귀무가설이 맞다면 통계값 1이 실제로 관측된 값 이상일 확률\n",
    "- usedlag : 사용된 시차의 수\n",
    "- nobs : ADF 회귀 및 임계값 계산에 사용된 관측치의 수\n",
    "- critical values(임계값) : 1%, 5% 및 10% 수준에서 테스트 통계에 대한 임계값\n",
    "- icbest : 0, 1, …, maxlag 값 중 lag 길이를 자동으로 결정할 때 autolag를 사용하며     \n",
    "이때 autolag를 none으로 지정할 수 있는데 none으로 지정하지 않는 경우 최대화된 정보 기준\n",
    "\n",
    "\n",
    "[출처: 시계열 노드 5-1]"
   ]
  },
  {
   "cell_type": "code",
   "execution_count": 61,
   "id": "2eb0a859",
   "metadata": {},
   "outputs": [],
   "source": [
    "from statsmodels.tsa.stattools import adfuller\n",
    "\n",
    "def adf_test(x): # adf검정을 위한 함수 정의\n",
    "    stat, p_value, lags, nobs, crit, icb = adfuller(x) # adfuller 함수를 이용하면 6가지 output이 나온다고 함, 이게 위에서 말한 6가지\n",
    "    print('ADF statistics')\n",
    "    print(stat) # ADF 검정 통계량\n",
    "    print('P-value')\n",
    "    print(p_value) # P-value"
   ]
  },
  {
   "cell_type": "code",
   "execution_count": 62,
   "id": "a9fb9675",
   "metadata": {},
   "outputs": [
    {
     "name": "stdout",
     "output_type": "stream",
     "text": [
      "ADF statistics\n",
      "-4.443324941831123\n",
      "P-value\n",
      "0.0002485912311384052\n"
     ]
    }
   ],
   "source": [
    "# 계절차분까지 수행한 데이터로 adf 테스트를 수행\n",
    "adf_test(seasonally_diffed)"
   ]
  },
  {
   "cell_type": "markdown",
   "id": "332ec40e",
   "metadata": {},
   "source": [
    "#### <span style = \"color:red;\">유의수준 0.01에서 단위근이 존재한다라는 귀무가설을 기각하고 시계열은 정상적이다라는 대립가설을 채택할 수 있습니다</span>\n",
    "\n",
    "라고 노드에서 이야기함\n",
    "\n",
    "\n",
    "## <span style = \"color:orange;\">이게 무슨 뜻일까</span>\n",
    "#### 위 ADF 검정에 대한 설명에서 단위근이 존재하면 그 시계열은 비정상 시계열이라고 한다      \n",
    "단위근이 존재한다라는 귀무가설을 기각했다고 하니     \n",
    "그 말은 단위근이 없다는 뜻     \n",
    "\n",
    "여기에서 귀무가설은 \"단위근이 존재한다\"로 한 것 같고     \n",
    "대립가설은 \"시계열은 정상적이다\"라고 한 것 같다     \n",
    "\n",
    "*귀무가설: 연구에서 검증해야하는 가설     \n",
    "*대립가설: 귀무가설이 기각되었을 때 대신 채택되는 가설     \n",
    "\n",
    "\n",
    "아 그러면 귀무가설은 \"이 시계열은 비정상 시계열이다.\" 였을까?     \n",
    "\"단위근이 존재한다\"였던 거 같기도 하고...\n",
    "\n",
    "\n",
    "#### <span style = \"color:red;\">노드의 ADF 검정에 관한 부분에 귀무가설, 대립가설이 나온다</span>     \n",
    "* 귀무가설: 시계열에 단위근이 존재한다(=단위근이 존재하면 그 시계열은 비정상 시계열이다)      \n",
    "* 대립가설: 시계열이 정상성을 만족한다\n",
    "\n",
    "\n",
    "#### 귀무가설을 기각하는 증거가 유의수준 0.01이라는 것인 것 같은데     \n",
    "이 말은 무슨 말일까 \n",
    "\n",
    "\n",
    "## <span style = \"color:orange;\">ADF함수의 결과 해석</span>\n",
    "이 함수는 adf, pvalue, usedlag, nobs, critical values, icbest \n",
    "\n",
    "위에서는 ADF statistics과 P-value만 출력했다\n",
    "\n",
    "\n",
    "\n",
    "\n",
    "## <span style = \"color:orange;\">유의수준.. p-value에 대해서 먼저 보면</span>\n",
    "\n",
    "p-value는 유의확률이라고도 불린다.      \n",
    "귀무가설이 관찰된 데이터의 통계치와 양립할 수 있는지를 0부터 1까지의 숫자로 나타낸다     \n",
    "0에 가까울수록 통계치가 귀무가설과의 양립하는 정도가 낮다      \n",
    "#### *양립하다: 두 가지가 동시에 따로 성립하다\n",
    "\n",
    "\n",
    "#### <span style = \"color:red;\"> P-value를 통해 귀무가설을 기각(대립가설을 채택)하기 위해서, 기준을 둔다</span> \n",
    "#### <span style = \"color:red;\">이를 유의수준(significance level)이라고 부른다</span> \n",
    "\n",
    "\n",
    "일반적으로 사용되는 값은 0.05나 0.01\n",
    "\n",
    "     \n",
    "     \n",
    "#### <span style = \"color:red;\">유의수준은 (1- 신뢰도)이다</span> \n",
    "\n",
    "유의수준으로 0.05를 이용했을 때의 신뢰도는 0.95 (95%)        \n",
    "현재 진행중인 분석의 중요도나 엄밀함에 따라서 0.05보다 느슨한(높은) 값을 기준으로 둘 수도 있고            \n",
    "0.01보다도 까다로운(낮은) 값을 기준으로 둘 수도 있다                 \n",
    "      \n",
    "      \n",
    "예를 들어서, 어떤 시계열이 정상적인지 알고 싶고, 약 95%의 신뢰도로 이를 검정해보고 싶다고 한다          \n",
    "그래서 ADF 검정을 이용하였고 출력값에 p-value가 0.06이 나왔다       \n",
    "      \n",
    "      \n",
    "ADF 검정의 귀무가설은 '단위근이 존재한다'였다     \n",
    "그리고 단위근이 존재하면 비정상 시계열이다      \n",
    "      \n",
    "       \n",
    "95%의 신뢰도를 바탕으로 0.05라는 유의수준을 두었는데 출력값의 p-value는 이보다 높게 나왔다(0.06이 나옴)      \n",
    "이 경우에는 귀무가설을 기각할 수 없다      \n",
    "      \n",
    "즉 이 시계열이 정상 시계열이라고 결론 내릴 수 없다     \n",
    "[출처: https://modulabs.co.kr/blog/time-series-stationarity/]"
   ]
  },
  {
   "cell_type": "markdown",
   "id": "133fc305",
   "metadata": {},
   "source": [
    "## <span style = \"color:orange;\">그럼 다시 노드에서 말한</span>\n",
    "#### <span style = \"color:red;\">유의수준 0.01에서 단위근이 존재한다라는 귀무가설을 기각하고 시계열은 정상적이다라는 대립가설을 채택할 수 있습니다</span>\n",
    "\n",
    "\n",
    "이 말은, 유의수준을 0.01로 기준을 두었고     \n",
    "ADF 검정을 통해 나온 p-value는 0.0002485912311384052 이었다   \n",
    "유의수준이 p-value와 같은 말인 것 같은데.. 기준으로 잡은 유의수준 0.01보다 p-value가 작으므로    \n",
    "또 0에 가까울수록 통계치가 귀무가설과의 양립하는 정도가 낮다고 하므로   \n",
    " \n",
    "-> 귀무가설(이 시계열은 비정상 시계열이다)을 기각할 수 있다    \n",
    "-> 대립가설(이 시계열은 정상 시계열이다)을 채택할 수 있다\n",
    "\n",
    "는 의미로 이해"
   ]
  },
  {
   "cell_type": "markdown",
   "id": "667b4967",
   "metadata": {},
   "source": [
    "## 2. 결론\n",
    "1. AirPassengers 데이터셋은 비정상 시계열 데이터이다.\n",
    "2. 비정상 시계열을 정상 시계열로 만들기 위해 아래와 같은 단계를 진행하였다.\n",
    "- log 변환으로 분산을 일정하게 만들어주기\n",
    "- 차분을 통해 trend(추세)를 제거하기\n",
    "- 계절 차분을 통해 계절성 제거하기\n",
    "3. ADF 검정을 통해 정상 시계열임을 확인할 수 있었다."
   ]
  },
  {
   "cell_type": "markdown",
   "id": "cde3da5f",
   "metadata": {},
   "source": [
    "## 3. 미니 프로젝트 1-2. 강의에 활용되었던 분류 모델의 성능 높이기"
   ]
  },
  {
   "cell_type": "markdown",
   "id": "19aeda2d",
   "metadata": {},
   "source": [
    "### <span style = \"color:red;\">시계열 분류</span>\n",
    "Step 1. 데이터 다운로드 및 불러오기     \n",
    "Step 2. 데이터셋 확인(timeseries와 y 확인)      \n",
    "Step 3. 데이터셋 가공      \n",
    "Step 4. 데이터셋 나누기     \n",
    "Step 5. Feature extraction      \n",
    "Step 6. impute       \n",
    "Step 7. RandomForest, XGBoost 사용 및 score 확인       \n",
    "Step 8. XGBoost plot_importance 확인 및 시각화      \n",
    "Step 9. Classification report를 통한 검증 및 분석 \n",
    "Step 10. Logistic Regression 사용"
   ]
  },
  {
   "cell_type": "markdown",
   "id": "11e2de8e",
   "metadata": {},
   "source": [
    "### Step 1. 데이터 다운로드 및 불러오기"
   ]
  },
  {
   "cell_type": "code",
   "execution_count": 42,
   "id": "71f1bd3f",
   "metadata": {},
   "outputs": [],
   "source": [
    "from tsfresh.examples.robot_execution_failures import download_robot_execution_failures, load_robot_execution_failures\n",
    "\n",
    "download_robot_execution_failures() "
   ]
  },
  {
   "cell_type": "markdown",
   "id": "05b07704",
   "metadata": {},
   "source": [
    "#### <span style = \"color:red;\">download_robot_execution_failures()</span>\n",
    "\n",
    "이 친구만 따로 해보니 출력되는 건 없다..    \n",
    "다운로드 해주는 건가 보다"
   ]
  },
  {
   "cell_type": "code",
   "execution_count": 43,
   "id": "f8a002e6",
   "metadata": {},
   "outputs": [
    {
     "data": {
      "text/plain": [
       "(      id  time  F_x  F_y  F_z  T_x  T_y  T_z\n",
       " 0      1     0   -1   -1   63   -3   -1    0\n",
       " 1      1     1    0    0   62   -3   -1    0\n",
       " 2      1     2   -1   -1   61   -3    0    0\n",
       " 3      1     3   -1   -1   63   -2   -1    0\n",
       " 4      1     4   -1   -1   63   -3   -1    0\n",
       " ...   ..   ...  ...  ...  ...  ...  ...  ...\n",
       " 1315  88    10  -10    2   39  -21  -24    5\n",
       " 1316  88    11  -11    2   38  -24  -22    6\n",
       " 1317  88    12  -12    3   23  -24  -24    5\n",
       " 1318  88    13  -13    4   26  -29  -27    5\n",
       " 1319  88    14  -13    2   15  -25  -25    6\n",
       " \n",
       " [1320 rows x 8 columns],\n",
       " 1      True\n",
       " 2      True\n",
       " 3      True\n",
       " 4      True\n",
       " 5      True\n",
       "       ...  \n",
       " 84    False\n",
       " 85    False\n",
       " 86    False\n",
       " 87    False\n",
       " 88    False\n",
       " Length: 88, dtype: bool)"
      ]
     },
     "execution_count": 43,
     "metadata": {},
     "output_type": "execute_result"
    }
   ],
   "source": [
    "load_robot_execution_failures()"
   ]
  },
  {
   "cell_type": "code",
   "execution_count": 44,
   "id": "b5bdd675",
   "metadata": {},
   "outputs": [
    {
     "data": {
      "text/plain": [
       "tuple"
      ]
     },
     "execution_count": 44,
     "metadata": {},
     "output_type": "execute_result"
    }
   ],
   "source": [
    "type(load_robot_execution_failures())"
   ]
  },
  {
   "cell_type": "markdown",
   "id": "a2f4ae58",
   "metadata": {},
   "source": [
    "load_robot_execution_failures()만 따로 출력해보니 위와 같다\n",
    "\n",
    "이 데이터는 1320*8로 이루어져 있고, 또 1 True, 2 True 같이 데이터가 또 있는 것 같다     \n",
    "(type은 튜플이라고 나온다)\n",
    "\n",
    "#### <span style = \"color:red;\">그래서 노드 코드에서 timeseries, y로 따로 담아주는 것 같다</span>"
   ]
  },
  {
   "cell_type": "code",
   "execution_count": 45,
   "id": "7fd8696f",
   "metadata": {},
   "outputs": [],
   "source": [
    "timeseries, y = load_robot_execution_failures()"
   ]
  },
  {
   "cell_type": "markdown",
   "id": "c8fe15c1",
   "metadata": {},
   "source": [
    "### Step 2. 데이터셋 확인(timeseries와 y 확인)"
   ]
  },
  {
   "cell_type": "code",
   "execution_count": 46,
   "id": "fd29a71c",
   "metadata": {},
   "outputs": [
    {
     "data": {
      "text/html": [
       "<div>\n",
       "<style scoped>\n",
       "    .dataframe tbody tr th:only-of-type {\n",
       "        vertical-align: middle;\n",
       "    }\n",
       "\n",
       "    .dataframe tbody tr th {\n",
       "        vertical-align: top;\n",
       "    }\n",
       "\n",
       "    .dataframe thead th {\n",
       "        text-align: right;\n",
       "    }\n",
       "</style>\n",
       "<table border=\"1\" class=\"dataframe\">\n",
       "  <thead>\n",
       "    <tr style=\"text-align: right;\">\n",
       "      <th></th>\n",
       "      <th>id</th>\n",
       "      <th>time</th>\n",
       "      <th>F_x</th>\n",
       "      <th>F_y</th>\n",
       "      <th>F_z</th>\n",
       "      <th>T_x</th>\n",
       "      <th>T_y</th>\n",
       "      <th>T_z</th>\n",
       "    </tr>\n",
       "  </thead>\n",
       "  <tbody>\n",
       "    <tr>\n",
       "      <th>0</th>\n",
       "      <td>1</td>\n",
       "      <td>0</td>\n",
       "      <td>-1</td>\n",
       "      <td>-1</td>\n",
       "      <td>63</td>\n",
       "      <td>-3</td>\n",
       "      <td>-1</td>\n",
       "      <td>0</td>\n",
       "    </tr>\n",
       "    <tr>\n",
       "      <th>1</th>\n",
       "      <td>1</td>\n",
       "      <td>1</td>\n",
       "      <td>0</td>\n",
       "      <td>0</td>\n",
       "      <td>62</td>\n",
       "      <td>-3</td>\n",
       "      <td>-1</td>\n",
       "      <td>0</td>\n",
       "    </tr>\n",
       "    <tr>\n",
       "      <th>2</th>\n",
       "      <td>1</td>\n",
       "      <td>2</td>\n",
       "      <td>-1</td>\n",
       "      <td>-1</td>\n",
       "      <td>61</td>\n",
       "      <td>-3</td>\n",
       "      <td>0</td>\n",
       "      <td>0</td>\n",
       "    </tr>\n",
       "    <tr>\n",
       "      <th>3</th>\n",
       "      <td>1</td>\n",
       "      <td>3</td>\n",
       "      <td>-1</td>\n",
       "      <td>-1</td>\n",
       "      <td>63</td>\n",
       "      <td>-2</td>\n",
       "      <td>-1</td>\n",
       "      <td>0</td>\n",
       "    </tr>\n",
       "    <tr>\n",
       "      <th>4</th>\n",
       "      <td>1</td>\n",
       "      <td>4</td>\n",
       "      <td>-1</td>\n",
       "      <td>-1</td>\n",
       "      <td>63</td>\n",
       "      <td>-3</td>\n",
       "      <td>-1</td>\n",
       "      <td>0</td>\n",
       "    </tr>\n",
       "    <tr>\n",
       "      <th>...</th>\n",
       "      <td>...</td>\n",
       "      <td>...</td>\n",
       "      <td>...</td>\n",
       "      <td>...</td>\n",
       "      <td>...</td>\n",
       "      <td>...</td>\n",
       "      <td>...</td>\n",
       "      <td>...</td>\n",
       "    </tr>\n",
       "    <tr>\n",
       "      <th>1315</th>\n",
       "      <td>88</td>\n",
       "      <td>10</td>\n",
       "      <td>-10</td>\n",
       "      <td>2</td>\n",
       "      <td>39</td>\n",
       "      <td>-21</td>\n",
       "      <td>-24</td>\n",
       "      <td>5</td>\n",
       "    </tr>\n",
       "    <tr>\n",
       "      <th>1316</th>\n",
       "      <td>88</td>\n",
       "      <td>11</td>\n",
       "      <td>-11</td>\n",
       "      <td>2</td>\n",
       "      <td>38</td>\n",
       "      <td>-24</td>\n",
       "      <td>-22</td>\n",
       "      <td>6</td>\n",
       "    </tr>\n",
       "    <tr>\n",
       "      <th>1317</th>\n",
       "      <td>88</td>\n",
       "      <td>12</td>\n",
       "      <td>-12</td>\n",
       "      <td>3</td>\n",
       "      <td>23</td>\n",
       "      <td>-24</td>\n",
       "      <td>-24</td>\n",
       "      <td>5</td>\n",
       "    </tr>\n",
       "    <tr>\n",
       "      <th>1318</th>\n",
       "      <td>88</td>\n",
       "      <td>13</td>\n",
       "      <td>-13</td>\n",
       "      <td>4</td>\n",
       "      <td>26</td>\n",
       "      <td>-29</td>\n",
       "      <td>-27</td>\n",
       "      <td>5</td>\n",
       "    </tr>\n",
       "    <tr>\n",
       "      <th>1319</th>\n",
       "      <td>88</td>\n",
       "      <td>14</td>\n",
       "      <td>-13</td>\n",
       "      <td>2</td>\n",
       "      <td>15</td>\n",
       "      <td>-25</td>\n",
       "      <td>-25</td>\n",
       "      <td>6</td>\n",
       "    </tr>\n",
       "  </tbody>\n",
       "</table>\n",
       "<p>1320 rows × 8 columns</p>\n",
       "</div>"
      ],
      "text/plain": [
       "      id  time  F_x  F_y  F_z  T_x  T_y  T_z\n",
       "0      1     0   -1   -1   63   -3   -1    0\n",
       "1      1     1    0    0   62   -3   -1    0\n",
       "2      1     2   -1   -1   61   -3    0    0\n",
       "3      1     3   -1   -1   63   -2   -1    0\n",
       "4      1     4   -1   -1   63   -3   -1    0\n",
       "...   ..   ...  ...  ...  ...  ...  ...  ...\n",
       "1315  88    10  -10    2   39  -21  -24    5\n",
       "1316  88    11  -11    2   38  -24  -22    6\n",
       "1317  88    12  -12    3   23  -24  -24    5\n",
       "1318  88    13  -13    4   26  -29  -27    5\n",
       "1319  88    14  -13    2   15  -25  -25    6\n",
       "\n",
       "[1320 rows x 8 columns]"
      ]
     },
     "execution_count": 46,
     "metadata": {},
     "output_type": "execute_result"
    }
   ],
   "source": [
    "timeseries # id, time을 제외하고 6개 column의 X변수가 나타난다(노드)\n",
    "# 음.. id와 time은 x 변수에 해당이 안되는거니 참고해서 데이터를 보라는 말?"
   ]
  },
  {
   "cell_type": "code",
   "execution_count": 47,
   "id": "a5bb3ab1",
   "metadata": {},
   "outputs": [
    {
     "data": {
      "text/plain": [
       "1      True\n",
       "2      True\n",
       "3      True\n",
       "4      True\n",
       "5      True\n",
       "      ...  \n",
       "84    False\n",
       "85    False\n",
       "86    False\n",
       "87    False\n",
       "88    False\n",
       "Length: 88, dtype: bool"
      ]
     },
     "execution_count": 47,
     "metadata": {},
     "output_type": "execute_result"
    }
   ],
   "source": [
    "y"
   ]
  },
  {
   "cell_type": "markdown",
   "id": "ffcafd47",
   "metadata": {},
   "source": [
    "### Step 3. 데이터셋 가공"
   ]
  },
  {
   "cell_type": "code",
   "execution_count": 48,
   "id": "6de802f5",
   "metadata": {},
   "outputs": [],
   "source": [
    "def custom_classification_split(x,y,test_size=0.3): # 수업 때 보았던 custom split 함수\n",
    "    \n",
    "    num_true = int(y.sum()*test_size)\n",
    "    num_false = int((len(y)-y.sum())*test_size)\n",
    "    \n",
    "    id_list = y[y==False].head(num_false).index.to_list() + y[y==True].head(num_true).index.to_list()\n",
    "    \n",
    "    y_train = y.drop(id_list) # [[YOUR CODE]] \n",
    "    y_test = y.iloc[id_list].sort_index() # [[YOUR CODE]]\n",
    "    X_train = timeseries[~timeseries['id'].isin(id_list)] # [[YOUR CODE]]\n",
    "    X_test = timeseries[timeseries['id'].isin(id_list)] # [[YOUR CODE]]\n",
    "    \n",
    "    return X_train, y_train, X_test, y_test"
   ]
  },
  {
   "cell_type": "markdown",
   "id": "4226056d",
   "metadata": {},
   "source": [
    "id를 기준으로 하기 때문에 사이킷런의 데이터 나누기 함수를 사용하지 못하고    \n",
    "함수를 새로 정의해 줌    \n",
    "    \n",
    "X_train = timeseries[~timeseries['id'].isin(id_list)]     \n",
    "이 부분의 ~는 노드에서        \n",
    "#### <span style = \"color:red;\">안에 조건이 포함되어 있지 않는 것만 사용한다는 의미라고 함</span>"
   ]
  },
  {
   "cell_type": "markdown",
   "id": "8ef70108",
   "metadata": {},
   "source": [
    "## <span style = \"color:orange;\">.isin()</span>\n",
    "\n",
    "요소가 df 또는 Series에 포함되는지 검사    \n",
    "DataFrame.isin(values)"
   ]
  },
  {
   "cell_type": "markdown",
   "id": "06262841",
   "metadata": {},
   "source": [
    "### Step 4. 데이터셋 나누기"
   ]
  },
  {
   "cell_type": "code",
   "execution_count": 49,
   "id": "29369bbb",
   "metadata": {},
   "outputs": [],
   "source": [
    "# test set의 비율을 0.25로 지정해주세요.\n",
    "X_train, y_train, X_test, y_test = custom_classification_split(timeseries, y, test_size = 0.25)"
   ]
  },
  {
   "cell_type": "markdown",
   "id": "72f926ec",
   "metadata": {},
   "source": [
    "#### <span style = \"color:red;\">tsfresh의 EfficientParameters을 사용</span>\n",
    "* tsfresh는 시계열의 feature를 자동으로 추출해주는 라이브러리\n",
    "\n",
    "EfficientParameters는 큰 계산비용이 필요한 calculator를 제외하고 가능한 모든 특징을 생성해준다고 한다"
   ]
  },
  {
   "cell_type": "code",
   "execution_count": 50,
   "id": "a39913e1",
   "metadata": {},
   "outputs": [],
   "source": [
    "from tsfresh import extract_features\n",
    "from tsfresh.feature_extraction import EfficientFCParameters\n",
    "from tsfresh.utilities.dataframe_functions import impute\n",
    "\n",
    "settings = EfficientFCParameters()"
   ]
  },
  {
   "cell_type": "code",
   "execution_count": 51,
   "id": "8cd05ae0",
   "metadata": {},
   "outputs": [
    {
     "data": {
      "text/plain": [
       "{'variance_larger_than_standard_deviation': None, 'has_duplicate_max': None, 'has_duplicate_min': None, 'has_duplicate': None, 'sum_values': None, 'abs_energy': None, 'mean_abs_change': None, 'mean_change': None, 'mean_second_derivative_central': None, 'median': None, 'mean': None, 'length': None, 'standard_deviation': None, 'variation_coefficient': None, 'variance': None, 'skewness': None, 'kurtosis': None, 'root_mean_square': None, 'absolute_sum_of_changes': None, 'longest_strike_below_mean': None, 'longest_strike_above_mean': None, 'count_above_mean': None, 'count_below_mean': None, 'last_location_of_maximum': None, 'first_location_of_maximum': None, 'last_location_of_minimum': None, 'first_location_of_minimum': None, 'percentage_of_reoccurring_values_to_all_values': None, 'percentage_of_reoccurring_datapoints_to_all_datapoints': None, 'sum_of_reoccurring_values': None, 'sum_of_reoccurring_data_points': None, 'ratio_value_number_to_time_series_length': None, 'maximum': None, 'absolute_maximum': None, 'minimum': None, 'benford_correlation': None, 'time_reversal_asymmetry_statistic': [{'lag': 1}, {'lag': 2}, {'lag': 3}], 'c3': [{'lag': 1}, {'lag': 2}, {'lag': 3}], 'cid_ce': [{'normalize': True}, {'normalize': False}], 'symmetry_looking': [{'r': 0.0}, {'r': 0.05}, {'r': 0.1}, {'r': 0.15000000000000002}, {'r': 0.2}, {'r': 0.25}, {'r': 0.30000000000000004}, {'r': 0.35000000000000003}, {'r': 0.4}, {'r': 0.45}, {'r': 0.5}, {'r': 0.55}, {'r': 0.6000000000000001}, {'r': 0.65}, {'r': 0.7000000000000001}, {'r': 0.75}, {'r': 0.8}, {'r': 0.8500000000000001}, {'r': 0.9}, {'r': 0.9500000000000001}], 'large_standard_deviation': [{'r': 0.05}, {'r': 0.1}, {'r': 0.15000000000000002}, {'r': 0.2}, {'r': 0.25}, {'r': 0.30000000000000004}, {'r': 0.35000000000000003}, {'r': 0.4}, {'r': 0.45}, {'r': 0.5}, {'r': 0.55}, {'r': 0.6000000000000001}, {'r': 0.65}, {'r': 0.7000000000000001}, {'r': 0.75}, {'r': 0.8}, {'r': 0.8500000000000001}, {'r': 0.9}, {'r': 0.9500000000000001}], 'quantile': [{'q': 0.1}, {'q': 0.2}, {'q': 0.3}, {'q': 0.4}, {'q': 0.6}, {'q': 0.7}, {'q': 0.8}, {'q': 0.9}], 'autocorrelation': [{'lag': 0}, {'lag': 1}, {'lag': 2}, {'lag': 3}, {'lag': 4}, {'lag': 5}, {'lag': 6}, {'lag': 7}, {'lag': 8}, {'lag': 9}], 'agg_autocorrelation': [{'f_agg': 'mean', 'maxlag': 40}, {'f_agg': 'median', 'maxlag': 40}, {'f_agg': 'var', 'maxlag': 40}], 'partial_autocorrelation': [{'lag': 0}, {'lag': 1}, {'lag': 2}, {'lag': 3}, {'lag': 4}, {'lag': 5}, {'lag': 6}, {'lag': 7}, {'lag': 8}, {'lag': 9}], 'number_cwt_peaks': [{'n': 1}, {'n': 5}], 'number_peaks': [{'n': 1}, {'n': 3}, {'n': 5}, {'n': 10}, {'n': 50}], 'binned_entropy': [{'max_bins': 10}], 'index_mass_quantile': [{'q': 0.1}, {'q': 0.2}, {'q': 0.3}, {'q': 0.4}, {'q': 0.6}, {'q': 0.7}, {'q': 0.8}, {'q': 0.9}], 'cwt_coefficients': [{'widths': (2, 5, 10, 20), 'coeff': 0, 'w': 2}, {'widths': (2, 5, 10, 20), 'coeff': 0, 'w': 5}, {'widths': (2, 5, 10, 20), 'coeff': 0, 'w': 10}, {'widths': (2, 5, 10, 20), 'coeff': 0, 'w': 20}, {'widths': (2, 5, 10, 20), 'coeff': 1, 'w': 2}, {'widths': (2, 5, 10, 20), 'coeff': 1, 'w': 5}, {'widths': (2, 5, 10, 20), 'coeff': 1, 'w': 10}, {'widths': (2, 5, 10, 20), 'coeff': 1, 'w': 20}, {'widths': (2, 5, 10, 20), 'coeff': 2, 'w': 2}, {'widths': (2, 5, 10, 20), 'coeff': 2, 'w': 5}, {'widths': (2, 5, 10, 20), 'coeff': 2, 'w': 10}, {'widths': (2, 5, 10, 20), 'coeff': 2, 'w': 20}, {'widths': (2, 5, 10, 20), 'coeff': 3, 'w': 2}, {'widths': (2, 5, 10, 20), 'coeff': 3, 'w': 5}, {'widths': (2, 5, 10, 20), 'coeff': 3, 'w': 10}, {'widths': (2, 5, 10, 20), 'coeff': 3, 'w': 20}, {'widths': (2, 5, 10, 20), 'coeff': 4, 'w': 2}, {'widths': (2, 5, 10, 20), 'coeff': 4, 'w': 5}, {'widths': (2, 5, 10, 20), 'coeff': 4, 'w': 10}, {'widths': (2, 5, 10, 20), 'coeff': 4, 'w': 20}, {'widths': (2, 5, 10, 20), 'coeff': 5, 'w': 2}, {'widths': (2, 5, 10, 20), 'coeff': 5, 'w': 5}, {'widths': (2, 5, 10, 20), 'coeff': 5, 'w': 10}, {'widths': (2, 5, 10, 20), 'coeff': 5, 'w': 20}, {'widths': (2, 5, 10, 20), 'coeff': 6, 'w': 2}, {'widths': (2, 5, 10, 20), 'coeff': 6, 'w': 5}, {'widths': (2, 5, 10, 20), 'coeff': 6, 'w': 10}, {'widths': (2, 5, 10, 20), 'coeff': 6, 'w': 20}, {'widths': (2, 5, 10, 20), 'coeff': 7, 'w': 2}, {'widths': (2, 5, 10, 20), 'coeff': 7, 'w': 5}, {'widths': (2, 5, 10, 20), 'coeff': 7, 'w': 10}, {'widths': (2, 5, 10, 20), 'coeff': 7, 'w': 20}, {'widths': (2, 5, 10, 20), 'coeff': 8, 'w': 2}, {'widths': (2, 5, 10, 20), 'coeff': 8, 'w': 5}, {'widths': (2, 5, 10, 20), 'coeff': 8, 'w': 10}, {'widths': (2, 5, 10, 20), 'coeff': 8, 'w': 20}, {'widths': (2, 5, 10, 20), 'coeff': 9, 'w': 2}, {'widths': (2, 5, 10, 20), 'coeff': 9, 'w': 5}, {'widths': (2, 5, 10, 20), 'coeff': 9, 'w': 10}, {'widths': (2, 5, 10, 20), 'coeff': 9, 'w': 20}, {'widths': (2, 5, 10, 20), 'coeff': 10, 'w': 2}, {'widths': (2, 5, 10, 20), 'coeff': 10, 'w': 5}, {'widths': (2, 5, 10, 20), 'coeff': 10, 'w': 10}, {'widths': (2, 5, 10, 20), 'coeff': 10, 'w': 20}, {'widths': (2, 5, 10, 20), 'coeff': 11, 'w': 2}, {'widths': (2, 5, 10, 20), 'coeff': 11, 'w': 5}, {'widths': (2, 5, 10, 20), 'coeff': 11, 'w': 10}, {'widths': (2, 5, 10, 20), 'coeff': 11, 'w': 20}, {'widths': (2, 5, 10, 20), 'coeff': 12, 'w': 2}, {'widths': (2, 5, 10, 20), 'coeff': 12, 'w': 5}, {'widths': (2, 5, 10, 20), 'coeff': 12, 'w': 10}, {'widths': (2, 5, 10, 20), 'coeff': 12, 'w': 20}, {'widths': (2, 5, 10, 20), 'coeff': 13, 'w': 2}, {'widths': (2, 5, 10, 20), 'coeff': 13, 'w': 5}, {'widths': (2, 5, 10, 20), 'coeff': 13, 'w': 10}, {'widths': (2, 5, 10, 20), 'coeff': 13, 'w': 20}, {'widths': (2, 5, 10, 20), 'coeff': 14, 'w': 2}, {'widths': (2, 5, 10, 20), 'coeff': 14, 'w': 5}, {'widths': (2, 5, 10, 20), 'coeff': 14, 'w': 10}, {'widths': (2, 5, 10, 20), 'coeff': 14, 'w': 20}], 'spkt_welch_density': [{'coeff': 2}, {'coeff': 5}, {'coeff': 8}], 'ar_coefficient': [{'coeff': 0, 'k': 10}, {'coeff': 1, 'k': 10}, {'coeff': 2, 'k': 10}, {'coeff': 3, 'k': 10}, {'coeff': 4, 'k': 10}, {'coeff': 5, 'k': 10}, {'coeff': 6, 'k': 10}, {'coeff': 7, 'k': 10}, {'coeff': 8, 'k': 10}, {'coeff': 9, 'k': 10}, {'coeff': 10, 'k': 10}], 'change_quantiles': [{'ql': 0.0, 'qh': 0.2, 'isabs': False, 'f_agg': 'mean'}, {'ql': 0.0, 'qh': 0.2, 'isabs': False, 'f_agg': 'var'}, {'ql': 0.0, 'qh': 0.2, 'isabs': True, 'f_agg': 'mean'}, {'ql': 0.0, 'qh': 0.2, 'isabs': True, 'f_agg': 'var'}, {'ql': 0.0, 'qh': 0.4, 'isabs': False, 'f_agg': 'mean'}, {'ql': 0.0, 'qh': 0.4, 'isabs': False, 'f_agg': 'var'}, {'ql': 0.0, 'qh': 0.4, 'isabs': True, 'f_agg': 'mean'}, {'ql': 0.0, 'qh': 0.4, 'isabs': True, 'f_agg': 'var'}, {'ql': 0.0, 'qh': 0.6, 'isabs': False, 'f_agg': 'mean'}, {'ql': 0.0, 'qh': 0.6, 'isabs': False, 'f_agg': 'var'}, {'ql': 0.0, 'qh': 0.6, 'isabs': True, 'f_agg': 'mean'}, {'ql': 0.0, 'qh': 0.6, 'isabs': True, 'f_agg': 'var'}, {'ql': 0.0, 'qh': 0.8, 'isabs': False, 'f_agg': 'mean'}, {'ql': 0.0, 'qh': 0.8, 'isabs': False, 'f_agg': 'var'}, {'ql': 0.0, 'qh': 0.8, 'isabs': True, 'f_agg': 'mean'}, {'ql': 0.0, 'qh': 0.8, 'isabs': True, 'f_agg': 'var'}, {'ql': 0.0, 'qh': 1.0, 'isabs': False, 'f_agg': 'mean'}, {'ql': 0.0, 'qh': 1.0, 'isabs': False, 'f_agg': 'var'}, {'ql': 0.0, 'qh': 1.0, 'isabs': True, 'f_agg': 'mean'}, {'ql': 0.0, 'qh': 1.0, 'isabs': True, 'f_agg': 'var'}, {'ql': 0.2, 'qh': 0.4, 'isabs': False, 'f_agg': 'mean'}, {'ql': 0.2, 'qh': 0.4, 'isabs': False, 'f_agg': 'var'}, {'ql': 0.2, 'qh': 0.4, 'isabs': True, 'f_agg': 'mean'}, {'ql': 0.2, 'qh': 0.4, 'isabs': True, 'f_agg': 'var'}, {'ql': 0.2, 'qh': 0.6, 'isabs': False, 'f_agg': 'mean'}, {'ql': 0.2, 'qh': 0.6, 'isabs': False, 'f_agg': 'var'}, {'ql': 0.2, 'qh': 0.6, 'isabs': True, 'f_agg': 'mean'}, {'ql': 0.2, 'qh': 0.6, 'isabs': True, 'f_agg': 'var'}, {'ql': 0.2, 'qh': 0.8, 'isabs': False, 'f_agg': 'mean'}, {'ql': 0.2, 'qh': 0.8, 'isabs': False, 'f_agg': 'var'}, {'ql': 0.2, 'qh': 0.8, 'isabs': True, 'f_agg': 'mean'}, {'ql': 0.2, 'qh': 0.8, 'isabs': True, 'f_agg': 'var'}, {'ql': 0.2, 'qh': 1.0, 'isabs': False, 'f_agg': 'mean'}, {'ql': 0.2, 'qh': 1.0, 'isabs': False, 'f_agg': 'var'}, {'ql': 0.2, 'qh': 1.0, 'isabs': True, 'f_agg': 'mean'}, {'ql': 0.2, 'qh': 1.0, 'isabs': True, 'f_agg': 'var'}, {'ql': 0.4, 'qh': 0.6, 'isabs': False, 'f_agg': 'mean'}, {'ql': 0.4, 'qh': 0.6, 'isabs': False, 'f_agg': 'var'}, {'ql': 0.4, 'qh': 0.6, 'isabs': True, 'f_agg': 'mean'}, {'ql': 0.4, 'qh': 0.6, 'isabs': True, 'f_agg': 'var'}, {'ql': 0.4, 'qh': 0.8, 'isabs': False, 'f_agg': 'mean'}, {'ql': 0.4, 'qh': 0.8, 'isabs': False, 'f_agg': 'var'}, {'ql': 0.4, 'qh': 0.8, 'isabs': True, 'f_agg': 'mean'}, {'ql': 0.4, 'qh': 0.8, 'isabs': True, 'f_agg': 'var'}, {'ql': 0.4, 'qh': 1.0, 'isabs': False, 'f_agg': 'mean'}, {'ql': 0.4, 'qh': 1.0, 'isabs': False, 'f_agg': 'var'}, {'ql': 0.4, 'qh': 1.0, 'isabs': True, 'f_agg': 'mean'}, {'ql': 0.4, 'qh': 1.0, 'isabs': True, 'f_agg': 'var'}, {'ql': 0.6, 'qh': 0.8, 'isabs': False, 'f_agg': 'mean'}, {'ql': 0.6, 'qh': 0.8, 'isabs': False, 'f_agg': 'var'}, {'ql': 0.6, 'qh': 0.8, 'isabs': True, 'f_agg': 'mean'}, {'ql': 0.6, 'qh': 0.8, 'isabs': True, 'f_agg': 'var'}, {'ql': 0.6, 'qh': 1.0, 'isabs': False, 'f_agg': 'mean'}, {'ql': 0.6, 'qh': 1.0, 'isabs': False, 'f_agg': 'var'}, {'ql': 0.6, 'qh': 1.0, 'isabs': True, 'f_agg': 'mean'}, {'ql': 0.6, 'qh': 1.0, 'isabs': True, 'f_agg': 'var'}, {'ql': 0.8, 'qh': 1.0, 'isabs': False, 'f_agg': 'mean'}, {'ql': 0.8, 'qh': 1.0, 'isabs': False, 'f_agg': 'var'}, {'ql': 0.8, 'qh': 1.0, 'isabs': True, 'f_agg': 'mean'}, {'ql': 0.8, 'qh': 1.0, 'isabs': True, 'f_agg': 'var'}], 'fft_coefficient': [{'coeff': 0, 'attr': 'real'}, {'coeff': 1, 'attr': 'real'}, {'coeff': 2, 'attr': 'real'}, {'coeff': 3, 'attr': 'real'}, {'coeff': 4, 'attr': 'real'}, {'coeff': 5, 'attr': 'real'}, {'coeff': 6, 'attr': 'real'}, {'coeff': 7, 'attr': 'real'}, {'coeff': 8, 'attr': 'real'}, {'coeff': 9, 'attr': 'real'}, {'coeff': 10, 'attr': 'real'}, {'coeff': 11, 'attr': 'real'}, {'coeff': 12, 'attr': 'real'}, {'coeff': 13, 'attr': 'real'}, {'coeff': 14, 'attr': 'real'}, {'coeff': 15, 'attr': 'real'}, {'coeff': 16, 'attr': 'real'}, {'coeff': 17, 'attr': 'real'}, {'coeff': 18, 'attr': 'real'}, {'coeff': 19, 'attr': 'real'}, {'coeff': 20, 'attr': 'real'}, {'coeff': 21, 'attr': 'real'}, {'coeff': 22, 'attr': 'real'}, {'coeff': 23, 'attr': 'real'}, {'coeff': 24, 'attr': 'real'}, {'coeff': 25, 'attr': 'real'}, {'coeff': 26, 'attr': 'real'}, {'coeff': 27, 'attr': 'real'}, {'coeff': 28, 'attr': 'real'}, {'coeff': 29, 'attr': 'real'}, {'coeff': 30, 'attr': 'real'}, {'coeff': 31, 'attr': 'real'}, {'coeff': 32, 'attr': 'real'}, {'coeff': 33, 'attr': 'real'}, {'coeff': 34, 'attr': 'real'}, {'coeff': 35, 'attr': 'real'}, {'coeff': 36, 'attr': 'real'}, {'coeff': 37, 'attr': 'real'}, {'coeff': 38, 'attr': 'real'}, {'coeff': 39, 'attr': 'real'}, {'coeff': 40, 'attr': 'real'}, {'coeff': 41, 'attr': 'real'}, {'coeff': 42, 'attr': 'real'}, {'coeff': 43, 'attr': 'real'}, {'coeff': 44, 'attr': 'real'}, {'coeff': 45, 'attr': 'real'}, {'coeff': 46, 'attr': 'real'}, {'coeff': 47, 'attr': 'real'}, {'coeff': 48, 'attr': 'real'}, {'coeff': 49, 'attr': 'real'}, {'coeff': 50, 'attr': 'real'}, {'coeff': 51, 'attr': 'real'}, {'coeff': 52, 'attr': 'real'}, {'coeff': 53, 'attr': 'real'}, {'coeff': 54, 'attr': 'real'}, {'coeff': 55, 'attr': 'real'}, {'coeff': 56, 'attr': 'real'}, {'coeff': 57, 'attr': 'real'}, {'coeff': 58, 'attr': 'real'}, {'coeff': 59, 'attr': 'real'}, {'coeff': 60, 'attr': 'real'}, {'coeff': 61, 'attr': 'real'}, {'coeff': 62, 'attr': 'real'}, {'coeff': 63, 'attr': 'real'}, {'coeff': 64, 'attr': 'real'}, {'coeff': 65, 'attr': 'real'}, {'coeff': 66, 'attr': 'real'}, {'coeff': 67, 'attr': 'real'}, {'coeff': 68, 'attr': 'real'}, {'coeff': 69, 'attr': 'real'}, {'coeff': 70, 'attr': 'real'}, {'coeff': 71, 'attr': 'real'}, {'coeff': 72, 'attr': 'real'}, {'coeff': 73, 'attr': 'real'}, {'coeff': 74, 'attr': 'real'}, {'coeff': 75, 'attr': 'real'}, {'coeff': 76, 'attr': 'real'}, {'coeff': 77, 'attr': 'real'}, {'coeff': 78, 'attr': 'real'}, {'coeff': 79, 'attr': 'real'}, {'coeff': 80, 'attr': 'real'}, {'coeff': 81, 'attr': 'real'}, {'coeff': 82, 'attr': 'real'}, {'coeff': 83, 'attr': 'real'}, {'coeff': 84, 'attr': 'real'}, {'coeff': 85, 'attr': 'real'}, {'coeff': 86, 'attr': 'real'}, {'coeff': 87, 'attr': 'real'}, {'coeff': 88, 'attr': 'real'}, {'coeff': 89, 'attr': 'real'}, {'coeff': 90, 'attr': 'real'}, {'coeff': 91, 'attr': 'real'}, {'coeff': 92, 'attr': 'real'}, {'coeff': 93, 'attr': 'real'}, {'coeff': 94, 'attr': 'real'}, {'coeff': 95, 'attr': 'real'}, {'coeff': 96, 'attr': 'real'}, {'coeff': 97, 'attr': 'real'}, {'coeff': 98, 'attr': 'real'}, {'coeff': 99, 'attr': 'real'}, {'coeff': 0, 'attr': 'imag'}, {'coeff': 1, 'attr': 'imag'}, {'coeff': 2, 'attr': 'imag'}, {'coeff': 3, 'attr': 'imag'}, {'coeff': 4, 'attr': 'imag'}, {'coeff': 5, 'attr': 'imag'}, {'coeff': 6, 'attr': 'imag'}, {'coeff': 7, 'attr': 'imag'}, {'coeff': 8, 'attr': 'imag'}, {'coeff': 9, 'attr': 'imag'}, {'coeff': 10, 'attr': 'imag'}, {'coeff': 11, 'attr': 'imag'}, {'coeff': 12, 'attr': 'imag'}, {'coeff': 13, 'attr': 'imag'}, {'coeff': 14, 'attr': 'imag'}, {'coeff': 15, 'attr': 'imag'}, {'coeff': 16, 'attr': 'imag'}, {'coeff': 17, 'attr': 'imag'}, {'coeff': 18, 'attr': 'imag'}, {'coeff': 19, 'attr': 'imag'}, {'coeff': 20, 'attr': 'imag'}, {'coeff': 21, 'attr': 'imag'}, {'coeff': 22, 'attr': 'imag'}, {'coeff': 23, 'attr': 'imag'}, {'coeff': 24, 'attr': 'imag'}, {'coeff': 25, 'attr': 'imag'}, {'coeff': 26, 'attr': 'imag'}, {'coeff': 27, 'attr': 'imag'}, {'coeff': 28, 'attr': 'imag'}, {'coeff': 29, 'attr': 'imag'}, {'coeff': 30, 'attr': 'imag'}, {'coeff': 31, 'attr': 'imag'}, {'coeff': 32, 'attr': 'imag'}, {'coeff': 33, 'attr': 'imag'}, {'coeff': 34, 'attr': 'imag'}, {'coeff': 35, 'attr': 'imag'}, {'coeff': 36, 'attr': 'imag'}, {'coeff': 37, 'attr': 'imag'}, {'coeff': 38, 'attr': 'imag'}, {'coeff': 39, 'attr': 'imag'}, {'coeff': 40, 'attr': 'imag'}, {'coeff': 41, 'attr': 'imag'}, {'coeff': 42, 'attr': 'imag'}, {'coeff': 43, 'attr': 'imag'}, {'coeff': 44, 'attr': 'imag'}, {'coeff': 45, 'attr': 'imag'}, {'coeff': 46, 'attr': 'imag'}, {'coeff': 47, 'attr': 'imag'}, {'coeff': 48, 'attr': 'imag'}, {'coeff': 49, 'attr': 'imag'}, {'coeff': 50, 'attr': 'imag'}, {'coeff': 51, 'attr': 'imag'}, {'coeff': 52, 'attr': 'imag'}, {'coeff': 53, 'attr': 'imag'}, {'coeff': 54, 'attr': 'imag'}, {'coeff': 55, 'attr': 'imag'}, {'coeff': 56, 'attr': 'imag'}, {'coeff': 57, 'attr': 'imag'}, {'coeff': 58, 'attr': 'imag'}, {'coeff': 59, 'attr': 'imag'}, {'coeff': 60, 'attr': 'imag'}, {'coeff': 61, 'attr': 'imag'}, {'coeff': 62, 'attr': 'imag'}, {'coeff': 63, 'attr': 'imag'}, {'coeff': 64, 'attr': 'imag'}, {'coeff': 65, 'attr': 'imag'}, {'coeff': 66, 'attr': 'imag'}, {'coeff': 67, 'attr': 'imag'}, {'coeff': 68, 'attr': 'imag'}, {'coeff': 69, 'attr': 'imag'}, {'coeff': 70, 'attr': 'imag'}, {'coeff': 71, 'attr': 'imag'}, {'coeff': 72, 'attr': 'imag'}, {'coeff': 73, 'attr': 'imag'}, {'coeff': 74, 'attr': 'imag'}, {'coeff': 75, 'attr': 'imag'}, {'coeff': 76, 'attr': 'imag'}, {'coeff': 77, 'attr': 'imag'}, {'coeff': 78, 'attr': 'imag'}, {'coeff': 79, 'attr': 'imag'}, {'coeff': 80, 'attr': 'imag'}, {'coeff': 81, 'attr': 'imag'}, {'coeff': 82, 'attr': 'imag'}, {'coeff': 83, 'attr': 'imag'}, {'coeff': 84, 'attr': 'imag'}, {'coeff': 85, 'attr': 'imag'}, {'coeff': 86, 'attr': 'imag'}, {'coeff': 87, 'attr': 'imag'}, {'coeff': 88, 'attr': 'imag'}, {'coeff': 89, 'attr': 'imag'}, {'coeff': 90, 'attr': 'imag'}, {'coeff': 91, 'attr': 'imag'}, {'coeff': 92, 'attr': 'imag'}, {'coeff': 93, 'attr': 'imag'}, {'coeff': 94, 'attr': 'imag'}, {'coeff': 95, 'attr': 'imag'}, {'coeff': 96, 'attr': 'imag'}, {'coeff': 97, 'attr': 'imag'}, {'coeff': 98, 'attr': 'imag'}, {'coeff': 99, 'attr': 'imag'}, {'coeff': 0, 'attr': 'abs'}, {'coeff': 1, 'attr': 'abs'}, {'coeff': 2, 'attr': 'abs'}, {'coeff': 3, 'attr': 'abs'}, {'coeff': 4, 'attr': 'abs'}, {'coeff': 5, 'attr': 'abs'}, {'coeff': 6, 'attr': 'abs'}, {'coeff': 7, 'attr': 'abs'}, {'coeff': 8, 'attr': 'abs'}, {'coeff': 9, 'attr': 'abs'}, {'coeff': 10, 'attr': 'abs'}, {'coeff': 11, 'attr': 'abs'}, {'coeff': 12, 'attr': 'abs'}, {'coeff': 13, 'attr': 'abs'}, {'coeff': 14, 'attr': 'abs'}, {'coeff': 15, 'attr': 'abs'}, {'coeff': 16, 'attr': 'abs'}, {'coeff': 17, 'attr': 'abs'}, {'coeff': 18, 'attr': 'abs'}, {'coeff': 19, 'attr': 'abs'}, {'coeff': 20, 'attr': 'abs'}, {'coeff': 21, 'attr': 'abs'}, {'coeff': 22, 'attr': 'abs'}, {'coeff': 23, 'attr': 'abs'}, {'coeff': 24, 'attr': 'abs'}, {'coeff': 25, 'attr': 'abs'}, {'coeff': 26, 'attr': 'abs'}, {'coeff': 27, 'attr': 'abs'}, {'coeff': 28, 'attr': 'abs'}, {'coeff': 29, 'attr': 'abs'}, {'coeff': 30, 'attr': 'abs'}, {'coeff': 31, 'attr': 'abs'}, {'coeff': 32, 'attr': 'abs'}, {'coeff': 33, 'attr': 'abs'}, {'coeff': 34, 'attr': 'abs'}, {'coeff': 35, 'attr': 'abs'}, {'coeff': 36, 'attr': 'abs'}, {'coeff': 37, 'attr': 'abs'}, {'coeff': 38, 'attr': 'abs'}, {'coeff': 39, 'attr': 'abs'}, {'coeff': 40, 'attr': 'abs'}, {'coeff': 41, 'attr': 'abs'}, {'coeff': 42, 'attr': 'abs'}, {'coeff': 43, 'attr': 'abs'}, {'coeff': 44, 'attr': 'abs'}, {'coeff': 45, 'attr': 'abs'}, {'coeff': 46, 'attr': 'abs'}, {'coeff': 47, 'attr': 'abs'}, {'coeff': 48, 'attr': 'abs'}, {'coeff': 49, 'attr': 'abs'}, {'coeff': 50, 'attr': 'abs'}, {'coeff': 51, 'attr': 'abs'}, {'coeff': 52, 'attr': 'abs'}, {'coeff': 53, 'attr': 'abs'}, {'coeff': 54, 'attr': 'abs'}, {'coeff': 55, 'attr': 'abs'}, {'coeff': 56, 'attr': 'abs'}, {'coeff': 57, 'attr': 'abs'}, {'coeff': 58, 'attr': 'abs'}, {'coeff': 59, 'attr': 'abs'}, {'coeff': 60, 'attr': 'abs'}, {'coeff': 61, 'attr': 'abs'}, {'coeff': 62, 'attr': 'abs'}, {'coeff': 63, 'attr': 'abs'}, {'coeff': 64, 'attr': 'abs'}, {'coeff': 65, 'attr': 'abs'}, {'coeff': 66, 'attr': 'abs'}, {'coeff': 67, 'attr': 'abs'}, {'coeff': 68, 'attr': 'abs'}, {'coeff': 69, 'attr': 'abs'}, {'coeff': 70, 'attr': 'abs'}, {'coeff': 71, 'attr': 'abs'}, {'coeff': 72, 'attr': 'abs'}, {'coeff': 73, 'attr': 'abs'}, {'coeff': 74, 'attr': 'abs'}, {'coeff': 75, 'attr': 'abs'}, {'coeff': 76, 'attr': 'abs'}, {'coeff': 77, 'attr': 'abs'}, {'coeff': 78, 'attr': 'abs'}, {'coeff': 79, 'attr': 'abs'}, {'coeff': 80, 'attr': 'abs'}, {'coeff': 81, 'attr': 'abs'}, {'coeff': 82, 'attr': 'abs'}, {'coeff': 83, 'attr': 'abs'}, {'coeff': 84, 'attr': 'abs'}, {'coeff': 85, 'attr': 'abs'}, {'coeff': 86, 'attr': 'abs'}, {'coeff': 87, 'attr': 'abs'}, {'coeff': 88, 'attr': 'abs'}, {'coeff': 89, 'attr': 'abs'}, {'coeff': 90, 'attr': 'abs'}, {'coeff': 91, 'attr': 'abs'}, {'coeff': 92, 'attr': 'abs'}, {'coeff': 93, 'attr': 'abs'}, {'coeff': 94, 'attr': 'abs'}, {'coeff': 95, 'attr': 'abs'}, {'coeff': 96, 'attr': 'abs'}, {'coeff': 97, 'attr': 'abs'}, {'coeff': 98, 'attr': 'abs'}, {'coeff': 99, 'attr': 'abs'}, {'coeff': 0, 'attr': 'angle'}, {'coeff': 1, 'attr': 'angle'}, {'coeff': 2, 'attr': 'angle'}, {'coeff': 3, 'attr': 'angle'}, {'coeff': 4, 'attr': 'angle'}, {'coeff': 5, 'attr': 'angle'}, {'coeff': 6, 'attr': 'angle'}, {'coeff': 7, 'attr': 'angle'}, {'coeff': 8, 'attr': 'angle'}, {'coeff': 9, 'attr': 'angle'}, {'coeff': 10, 'attr': 'angle'}, {'coeff': 11, 'attr': 'angle'}, {'coeff': 12, 'attr': 'angle'}, {'coeff': 13, 'attr': 'angle'}, {'coeff': 14, 'attr': 'angle'}, {'coeff': 15, 'attr': 'angle'}, {'coeff': 16, 'attr': 'angle'}, {'coeff': 17, 'attr': 'angle'}, {'coeff': 18, 'attr': 'angle'}, {'coeff': 19, 'attr': 'angle'}, {'coeff': 20, 'attr': 'angle'}, {'coeff': 21, 'attr': 'angle'}, {'coeff': 22, 'attr': 'angle'}, {'coeff': 23, 'attr': 'angle'}, {'coeff': 24, 'attr': 'angle'}, {'coeff': 25, 'attr': 'angle'}, {'coeff': 26, 'attr': 'angle'}, {'coeff': 27, 'attr': 'angle'}, {'coeff': 28, 'attr': 'angle'}, {'coeff': 29, 'attr': 'angle'}, {'coeff': 30, 'attr': 'angle'}, {'coeff': 31, 'attr': 'angle'}, {'coeff': 32, 'attr': 'angle'}, {'coeff': 33, 'attr': 'angle'}, {'coeff': 34, 'attr': 'angle'}, {'coeff': 35, 'attr': 'angle'}, {'coeff': 36, 'attr': 'angle'}, {'coeff': 37, 'attr': 'angle'}, {'coeff': 38, 'attr': 'angle'}, {'coeff': 39, 'attr': 'angle'}, {'coeff': 40, 'attr': 'angle'}, {'coeff': 41, 'attr': 'angle'}, {'coeff': 42, 'attr': 'angle'}, {'coeff': 43, 'attr': 'angle'}, {'coeff': 44, 'attr': 'angle'}, {'coeff': 45, 'attr': 'angle'}, {'coeff': 46, 'attr': 'angle'}, {'coeff': 47, 'attr': 'angle'}, {'coeff': 48, 'attr': 'angle'}, {'coeff': 49, 'attr': 'angle'}, {'coeff': 50, 'attr': 'angle'}, {'coeff': 51, 'attr': 'angle'}, {'coeff': 52, 'attr': 'angle'}, {'coeff': 53, 'attr': 'angle'}, {'coeff': 54, 'attr': 'angle'}, {'coeff': 55, 'attr': 'angle'}, {'coeff': 56, 'attr': 'angle'}, {'coeff': 57, 'attr': 'angle'}, {'coeff': 58, 'attr': 'angle'}, {'coeff': 59, 'attr': 'angle'}, {'coeff': 60, 'attr': 'angle'}, {'coeff': 61, 'attr': 'angle'}, {'coeff': 62, 'attr': 'angle'}, {'coeff': 63, 'attr': 'angle'}, {'coeff': 64, 'attr': 'angle'}, {'coeff': 65, 'attr': 'angle'}, {'coeff': 66, 'attr': 'angle'}, {'coeff': 67, 'attr': 'angle'}, {'coeff': 68, 'attr': 'angle'}, {'coeff': 69, 'attr': 'angle'}, {'coeff': 70, 'attr': 'angle'}, {'coeff': 71, 'attr': 'angle'}, {'coeff': 72, 'attr': 'angle'}, {'coeff': 73, 'attr': 'angle'}, {'coeff': 74, 'attr': 'angle'}, {'coeff': 75, 'attr': 'angle'}, {'coeff': 76, 'attr': 'angle'}, {'coeff': 77, 'attr': 'angle'}, {'coeff': 78, 'attr': 'angle'}, {'coeff': 79, 'attr': 'angle'}, {'coeff': 80, 'attr': 'angle'}, {'coeff': 81, 'attr': 'angle'}, {'coeff': 82, 'attr': 'angle'}, {'coeff': 83, 'attr': 'angle'}, {'coeff': 84, 'attr': 'angle'}, {'coeff': 85, 'attr': 'angle'}, {'coeff': 86, 'attr': 'angle'}, {'coeff': 87, 'attr': 'angle'}, {'coeff': 88, 'attr': 'angle'}, {'coeff': 89, 'attr': 'angle'}, {'coeff': 90, 'attr': 'angle'}, {'coeff': 91, 'attr': 'angle'}, {'coeff': 92, 'attr': 'angle'}, {'coeff': 93, 'attr': 'angle'}, {'coeff': 94, 'attr': 'angle'}, {'coeff': 95, 'attr': 'angle'}, {'coeff': 96, 'attr': 'angle'}, {'coeff': 97, 'attr': 'angle'}, {'coeff': 98, 'attr': 'angle'}, {'coeff': 99, 'attr': 'angle'}], 'fft_aggregated': [{'aggtype': 'centroid'}, {'aggtype': 'variance'}, {'aggtype': 'skew'}, {'aggtype': 'kurtosis'}], 'value_count': [{'value': 0}, {'value': 1}, {'value': -1}], 'range_count': [{'min': -1, 'max': 1}, {'min': -1000000000000.0, 'max': 0}, {'min': 0, 'max': 1000000000000.0}], 'friedrich_coefficients': [{'coeff': 0, 'm': 3, 'r': 30}, {'coeff': 1, 'm': 3, 'r': 30}, {'coeff': 2, 'm': 3, 'r': 30}, {'coeff': 3, 'm': 3, 'r': 30}], 'max_langevin_fixed_point': [{'m': 3, 'r': 30}], 'linear_trend': [{'attr': 'pvalue'}, {'attr': 'rvalue'}, {'attr': 'intercept'}, {'attr': 'slope'}, {'attr': 'stderr'}], 'agg_linear_trend': [{'attr': 'rvalue', 'chunk_len': 5, 'f_agg': 'max'}, {'attr': 'rvalue', 'chunk_len': 5, 'f_agg': 'min'}, {'attr': 'rvalue', 'chunk_len': 5, 'f_agg': 'mean'}, {'attr': 'rvalue', 'chunk_len': 5, 'f_agg': 'var'}, {'attr': 'rvalue', 'chunk_len': 10, 'f_agg': 'max'}, {'attr': 'rvalue', 'chunk_len': 10, 'f_agg': 'min'}, {'attr': 'rvalue', 'chunk_len': 10, 'f_agg': 'mean'}, {'attr': 'rvalue', 'chunk_len': 10, 'f_agg': 'var'}, {'attr': 'rvalue', 'chunk_len': 50, 'f_agg': 'max'}, {'attr': 'rvalue', 'chunk_len': 50, 'f_agg': 'min'}, {'attr': 'rvalue', 'chunk_len': 50, 'f_agg': 'mean'}, {'attr': 'rvalue', 'chunk_len': 50, 'f_agg': 'var'}, {'attr': 'intercept', 'chunk_len': 5, 'f_agg': 'max'}, {'attr': 'intercept', 'chunk_len': 5, 'f_agg': 'min'}, {'attr': 'intercept', 'chunk_len': 5, 'f_agg': 'mean'}, {'attr': 'intercept', 'chunk_len': 5, 'f_agg': 'var'}, {'attr': 'intercept', 'chunk_len': 10, 'f_agg': 'max'}, {'attr': 'intercept', 'chunk_len': 10, 'f_agg': 'min'}, {'attr': 'intercept', 'chunk_len': 10, 'f_agg': 'mean'}, {'attr': 'intercept', 'chunk_len': 10, 'f_agg': 'var'}, {'attr': 'intercept', 'chunk_len': 50, 'f_agg': 'max'}, {'attr': 'intercept', 'chunk_len': 50, 'f_agg': 'min'}, {'attr': 'intercept', 'chunk_len': 50, 'f_agg': 'mean'}, {'attr': 'intercept', 'chunk_len': 50, 'f_agg': 'var'}, {'attr': 'slope', 'chunk_len': 5, 'f_agg': 'max'}, {'attr': 'slope', 'chunk_len': 5, 'f_agg': 'min'}, {'attr': 'slope', 'chunk_len': 5, 'f_agg': 'mean'}, {'attr': 'slope', 'chunk_len': 5, 'f_agg': 'var'}, {'attr': 'slope', 'chunk_len': 10, 'f_agg': 'max'}, {'attr': 'slope', 'chunk_len': 10, 'f_agg': 'min'}, {'attr': 'slope', 'chunk_len': 10, 'f_agg': 'mean'}, {'attr': 'slope', 'chunk_len': 10, 'f_agg': 'var'}, {'attr': 'slope', 'chunk_len': 50, 'f_agg': 'max'}, {'attr': 'slope', 'chunk_len': 50, 'f_agg': 'min'}, {'attr': 'slope', 'chunk_len': 50, 'f_agg': 'mean'}, {'attr': 'slope', 'chunk_len': 50, 'f_agg': 'var'}, {'attr': 'stderr', 'chunk_len': 5, 'f_agg': 'max'}, {'attr': 'stderr', 'chunk_len': 5, 'f_agg': 'min'}, {'attr': 'stderr', 'chunk_len': 5, 'f_agg': 'mean'}, {'attr': 'stderr', 'chunk_len': 5, 'f_agg': 'var'}, {'attr': 'stderr', 'chunk_len': 10, 'f_agg': 'max'}, {'attr': 'stderr', 'chunk_len': 10, 'f_agg': 'min'}, {'attr': 'stderr', 'chunk_len': 10, 'f_agg': 'mean'}, {'attr': 'stderr', 'chunk_len': 10, 'f_agg': 'var'}, {'attr': 'stderr', 'chunk_len': 50, 'f_agg': 'max'}, {'attr': 'stderr', 'chunk_len': 50, 'f_agg': 'min'}, {'attr': 'stderr', 'chunk_len': 50, 'f_agg': 'mean'}, {'attr': 'stderr', 'chunk_len': 50, 'f_agg': 'var'}], 'augmented_dickey_fuller': [{'attr': 'teststat'}, {'attr': 'pvalue'}, {'attr': 'usedlag'}], 'number_crossing_m': [{'m': 0}, {'m': -1}, {'m': 1}], 'energy_ratio_by_chunks': [{'num_segments': 10, 'segment_focus': 0}, {'num_segments': 10, 'segment_focus': 1}, {'num_segments': 10, 'segment_focus': 2}, {'num_segments': 10, 'segment_focus': 3}, {'num_segments': 10, 'segment_focus': 4}, {'num_segments': 10, 'segment_focus': 5}, {'num_segments': 10, 'segment_focus': 6}, {'num_segments': 10, 'segment_focus': 7}, {'num_segments': 10, 'segment_focus': 8}, {'num_segments': 10, 'segment_focus': 9}], 'ratio_beyond_r_sigma': [{'r': 0.5}, {'r': 1}, {'r': 1.5}, {'r': 2}, {'r': 2.5}, {'r': 3}, {'r': 5}, {'r': 6}, {'r': 7}, {'r': 10}], 'linear_trend_timewise': [{'attr': 'pvalue'}, {'attr': 'rvalue'}, {'attr': 'intercept'}, {'attr': 'slope'}, {'attr': 'stderr'}], 'count_above': [{'t': 0}], 'count_below': [{'t': 0}], 'lempel_ziv_complexity': [{'bins': 2}, {'bins': 3}, {'bins': 5}, {'bins': 10}, {'bins': 100}], 'fourier_entropy': [{'bins': 2}, {'bins': 3}, {'bins': 5}, {'bins': 10}, {'bins': 100}], 'permutation_entropy': [{'tau': 1, 'dimension': 3}, {'tau': 1, 'dimension': 4}, {'tau': 1, 'dimension': 5}, {'tau': 1, 'dimension': 6}, {'tau': 1, 'dimension': 7}], 'query_similarity_count': [{'query': None, 'threshold': 0.0}], 'mean_n_absolute_max': [{'number_of_maxima': 7}]}"
      ]
     },
     "execution_count": 51,
     "metadata": {},
     "output_type": "execute_result"
    }
   ],
   "source": [
    "settings"
   ]
  },
  {
   "cell_type": "markdown",
   "id": "d779ab1b",
   "metadata": {},
   "source": [
    "#### <span style = \"color:red;\">헉 출력해보니.. 이렇게 많은 것들이 나온다..</span>"
   ]
  },
  {
   "cell_type": "markdown",
   "id": "5a996a4e",
   "metadata": {},
   "source": [
    "### Step 5. Feature extraction (특징 추출)"
   ]
  },
  {
   "cell_type": "code",
   "execution_count": 52,
   "id": "1d2a6e37",
   "metadata": {},
   "outputs": [
    {
     "name": "stderr",
     "output_type": "stream",
     "text": [
      "Feature Extraction: 100%|██████████| 402/402 [00:15<00:00, 25.61it/s]\n"
     ]
    }
   ],
   "source": [
    "comprehensive_features_train = extract_features(\n",
    "                                    X_train, \n",
    "                                    column_id=\"id\",\n",
    "                                    column_sort=\"time\",\n",
    "                                    default_fc_parameters=settings\n",
    "                                          )"
   ]
  },
  {
   "cell_type": "markdown",
   "id": "41b6d81f",
   "metadata": {},
   "source": [
    "코드를 보니 X_train 데이터에 대해서 특징을 추출하는 것 같다. \n",
    "#### <span style = \"color:red;\">기준은 id로 잡고, 정렬은 time으로...?</span>"
   ]
  },
  {
   "cell_type": "code",
   "execution_count": 53,
   "id": "ef563922",
   "metadata": {},
   "outputs": [
    {
     "name": "stderr",
     "output_type": "stream",
     "text": [
      "Feature Extraction: 100%|██████████| 126/126 [00:05<00:00, 24.33it/s]\n"
     ]
    }
   ],
   "source": [
    "# X_test에 대해서도 진행\n",
    "comprehensive_features_test = extract_features(\n",
    "                                    X_test, \n",
    "                                    column_id=\"id\",\n",
    "                                    column_sort=\"time\",\n",
    "                                    default_fc_parameters=settings\n",
    "                                          )"
   ]
  },
  {
   "cell_type": "markdown",
   "id": "243edbdd",
   "metadata": {},
   "source": [
    "### Step 6. impute\n",
    "impute: (성질, 속성 등을) 귀속시키다"
   ]
  },
  {
   "cell_type": "code",
   "execution_count": 54,
   "id": "376548fd",
   "metadata": {},
   "outputs": [
    {
     "name": "stderr",
     "output_type": "stream",
     "text": [
      "/opt/conda/lib/python3.9/site-packages/tsfresh/utilities/dataframe_functions.py:198: RuntimeWarning: The columns ['F_x__partial_autocorrelation__lag_7'\n",
      " 'F_x__partial_autocorrelation__lag_8'\n",
      " 'F_x__partial_autocorrelation__lag_9' ...\n",
      " 'T_z__agg_linear_trend__attr_\"stderr\"__chunk_len_50__f_agg_\"mean\"'\n",
      " 'T_z__agg_linear_trend__attr_\"stderr\"__chunk_len_50__f_agg_\"var\"'\n",
      " 'T_z__query_similarity_count__query_None__threshold_0.0'] did not have any finite values. Filling with zeros.\n",
      "  warnings.warn(\n"
     ]
    },
    {
     "data": {
      "text/html": [
       "<div>\n",
       "<style scoped>\n",
       "    .dataframe tbody tr th:only-of-type {\n",
       "        vertical-align: middle;\n",
       "    }\n",
       "\n",
       "    .dataframe tbody tr th {\n",
       "        vertical-align: top;\n",
       "    }\n",
       "\n",
       "    .dataframe thead th {\n",
       "        text-align: right;\n",
       "    }\n",
       "</style>\n",
       "<table border=\"1\" class=\"dataframe\">\n",
       "  <thead>\n",
       "    <tr style=\"text-align: right;\">\n",
       "      <th></th>\n",
       "      <th>F_x__variance_larger_than_standard_deviation</th>\n",
       "      <th>F_x__has_duplicate_max</th>\n",
       "      <th>F_x__has_duplicate_min</th>\n",
       "      <th>F_x__has_duplicate</th>\n",
       "      <th>F_x__sum_values</th>\n",
       "      <th>F_x__abs_energy</th>\n",
       "      <th>F_x__mean_abs_change</th>\n",
       "      <th>F_x__mean_change</th>\n",
       "      <th>F_x__mean_second_derivative_central</th>\n",
       "      <th>F_x__median</th>\n",
       "      <th>...</th>\n",
       "      <th>T_z__fourier_entropy__bins_5</th>\n",
       "      <th>T_z__fourier_entropy__bins_10</th>\n",
       "      <th>T_z__fourier_entropy__bins_100</th>\n",
       "      <th>T_z__permutation_entropy__dimension_3__tau_1</th>\n",
       "      <th>T_z__permutation_entropy__dimension_4__tau_1</th>\n",
       "      <th>T_z__permutation_entropy__dimension_5__tau_1</th>\n",
       "      <th>T_z__permutation_entropy__dimension_6__tau_1</th>\n",
       "      <th>T_z__permutation_entropy__dimension_7__tau_1</th>\n",
       "      <th>T_z__query_similarity_count__query_None__threshold_0.0</th>\n",
       "      <th>T_z__mean_n_absolute_max__number_of_maxima_7</th>\n",
       "    </tr>\n",
       "  </thead>\n",
       "  <tbody>\n",
       "    <tr>\n",
       "      <th>6</th>\n",
       "      <td>1.0</td>\n",
       "      <td>1.0</td>\n",
       "      <td>1.0</td>\n",
       "      <td>1.0</td>\n",
       "      <td>-15.0</td>\n",
       "      <td>39.0</td>\n",
       "      <td>1.714286</td>\n",
       "      <td>0.142857</td>\n",
       "      <td>0.153846</td>\n",
       "      <td>-1.0</td>\n",
       "      <td>...</td>\n",
       "      <td>0.974315</td>\n",
       "      <td>1.213008</td>\n",
       "      <td>1.732868</td>\n",
       "      <td>1.438883</td>\n",
       "      <td>1.863680</td>\n",
       "      <td>2.145842</td>\n",
       "      <td>2.163956</td>\n",
       "      <td>2.197225</td>\n",
       "      <td>0.0</td>\n",
       "      <td>0.714286</td>\n",
       "    </tr>\n",
       "    <tr>\n",
       "      <th>7</th>\n",
       "      <td>0.0</td>\n",
       "      <td>1.0</td>\n",
       "      <td>0.0</td>\n",
       "      <td>1.0</td>\n",
       "      <td>-13.0</td>\n",
       "      <td>21.0</td>\n",
       "      <td>0.928571</td>\n",
       "      <td>0.214286</td>\n",
       "      <td>-0.076923</td>\n",
       "      <td>-1.0</td>\n",
       "      <td>...</td>\n",
       "      <td>1.255482</td>\n",
       "      <td>1.494175</td>\n",
       "      <td>2.079442</td>\n",
       "      <td>1.043794</td>\n",
       "      <td>1.349792</td>\n",
       "      <td>1.666333</td>\n",
       "      <td>1.748067</td>\n",
       "      <td>1.831020</td>\n",
       "      <td>0.0</td>\n",
       "      <td>0.428571</td>\n",
       "    </tr>\n",
       "    <tr>\n",
       "      <th>8</th>\n",
       "      <td>1.0</td>\n",
       "      <td>0.0</td>\n",
       "      <td>1.0</td>\n",
       "      <td>1.0</td>\n",
       "      <td>-10.0</td>\n",
       "      <td>26.0</td>\n",
       "      <td>1.142857</td>\n",
       "      <td>-0.142857</td>\n",
       "      <td>0.192308</td>\n",
       "      <td>-1.0</td>\n",
       "      <td>...</td>\n",
       "      <td>1.494175</td>\n",
       "      <td>1.732868</td>\n",
       "      <td>2.079442</td>\n",
       "      <td>1.412745</td>\n",
       "      <td>2.138333</td>\n",
       "      <td>2.397895</td>\n",
       "      <td>2.302585</td>\n",
       "      <td>2.197225</td>\n",
       "      <td>0.0</td>\n",
       "      <td>1.285714</td>\n",
       "    </tr>\n",
       "    <tr>\n",
       "      <th>9</th>\n",
       "      <td>1.0</td>\n",
       "      <td>0.0</td>\n",
       "      <td>0.0</td>\n",
       "      <td>1.0</td>\n",
       "      <td>-10.0</td>\n",
       "      <td>24.0</td>\n",
       "      <td>1.428571</td>\n",
       "      <td>0.000000</td>\n",
       "      <td>-0.076923</td>\n",
       "      <td>-1.0</td>\n",
       "      <td>...</td>\n",
       "      <td>1.255482</td>\n",
       "      <td>1.494175</td>\n",
       "      <td>2.079442</td>\n",
       "      <td>1.479133</td>\n",
       "      <td>2.138333</td>\n",
       "      <td>2.397895</td>\n",
       "      <td>2.302585</td>\n",
       "      <td>2.197225</td>\n",
       "      <td>0.0</td>\n",
       "      <td>1.285714</td>\n",
       "    </tr>\n",
       "    <tr>\n",
       "      <th>10</th>\n",
       "      <td>0.0</td>\n",
       "      <td>0.0</td>\n",
       "      <td>1.0</td>\n",
       "      <td>1.0</td>\n",
       "      <td>-14.0</td>\n",
       "      <td>14.0</td>\n",
       "      <td>0.142857</td>\n",
       "      <td>0.000000</td>\n",
       "      <td>0.000000</td>\n",
       "      <td>-1.0</td>\n",
       "      <td>...</td>\n",
       "      <td>0.937285</td>\n",
       "      <td>1.213008</td>\n",
       "      <td>1.906155</td>\n",
       "      <td>-0.000000</td>\n",
       "      <td>-0.000000</td>\n",
       "      <td>-0.000000</td>\n",
       "      <td>-0.000000</td>\n",
       "      <td>-0.000000</td>\n",
       "      <td>0.0</td>\n",
       "      <td>0.000000</td>\n",
       "    </tr>\n",
       "    <tr>\n",
       "      <th>...</th>\n",
       "      <td>...</td>\n",
       "      <td>...</td>\n",
       "      <td>...</td>\n",
       "      <td>...</td>\n",
       "      <td>...</td>\n",
       "      <td>...</td>\n",
       "      <td>...</td>\n",
       "      <td>...</td>\n",
       "      <td>...</td>\n",
       "      <td>...</td>\n",
       "      <td>...</td>\n",
       "      <td>...</td>\n",
       "      <td>...</td>\n",
       "      <td>...</td>\n",
       "      <td>...</td>\n",
       "      <td>...</td>\n",
       "      <td>...</td>\n",
       "      <td>...</td>\n",
       "      <td>...</td>\n",
       "      <td>...</td>\n",
       "      <td>...</td>\n",
       "    </tr>\n",
       "    <tr>\n",
       "      <th>84</th>\n",
       "      <td>1.0</td>\n",
       "      <td>1.0</td>\n",
       "      <td>0.0</td>\n",
       "      <td>1.0</td>\n",
       "      <td>-1073.0</td>\n",
       "      <td>96833.0</td>\n",
       "      <td>7.142857</td>\n",
       "      <td>-5.428571</td>\n",
       "      <td>-0.038462</td>\n",
       "      <td>-98.0</td>\n",
       "      <td>...</td>\n",
       "      <td>0.735622</td>\n",
       "      <td>0.735622</td>\n",
       "      <td>1.386294</td>\n",
       "      <td>1.585771</td>\n",
       "      <td>2.253858</td>\n",
       "      <td>2.397895</td>\n",
       "      <td>2.302585</td>\n",
       "      <td>2.197225</td>\n",
       "      <td>0.0</td>\n",
       "      <td>24.285714</td>\n",
       "    </tr>\n",
       "    <tr>\n",
       "      <th>85</th>\n",
       "      <td>1.0</td>\n",
       "      <td>0.0</td>\n",
       "      <td>1.0</td>\n",
       "      <td>1.0</td>\n",
       "      <td>143.0</td>\n",
       "      <td>1683.0</td>\n",
       "      <td>1.357143</td>\n",
       "      <td>1.071429</td>\n",
       "      <td>0.076923</td>\n",
       "      <td>8.0</td>\n",
       "      <td>...</td>\n",
       "      <td>0.735622</td>\n",
       "      <td>0.735622</td>\n",
       "      <td>1.667462</td>\n",
       "      <td>1.332245</td>\n",
       "      <td>1.589027</td>\n",
       "      <td>1.893788</td>\n",
       "      <td>2.163956</td>\n",
       "      <td>2.197225</td>\n",
       "      <td>0.0</td>\n",
       "      <td>5.571429</td>\n",
       "    </tr>\n",
       "    <tr>\n",
       "      <th>86</th>\n",
       "      <td>1.0</td>\n",
       "      <td>0.0</td>\n",
       "      <td>0.0</td>\n",
       "      <td>0.0</td>\n",
       "      <td>961.0</td>\n",
       "      <td>83497.0</td>\n",
       "      <td>9.071429</td>\n",
       "      <td>9.071429</td>\n",
       "      <td>0.807692</td>\n",
       "      <td>52.0</td>\n",
       "      <td>...</td>\n",
       "      <td>0.735622</td>\n",
       "      <td>1.073543</td>\n",
       "      <td>1.732868</td>\n",
       "      <td>0.687092</td>\n",
       "      <td>0.983088</td>\n",
       "      <td>1.159589</td>\n",
       "      <td>1.227529</td>\n",
       "      <td>1.303092</td>\n",
       "      <td>0.0</td>\n",
       "      <td>9.285714</td>\n",
       "    </tr>\n",
       "    <tr>\n",
       "      <th>87</th>\n",
       "      <td>1.0</td>\n",
       "      <td>1.0</td>\n",
       "      <td>0.0</td>\n",
       "      <td>1.0</td>\n",
       "      <td>4509.0</td>\n",
       "      <td>1405437.0</td>\n",
       "      <td>12.928571</td>\n",
       "      <td>12.214286</td>\n",
       "      <td>-1.038462</td>\n",
       "      <td>338.0</td>\n",
       "      <td>...</td>\n",
       "      <td>0.735622</td>\n",
       "      <td>0.735622</td>\n",
       "      <td>1.386294</td>\n",
       "      <td>0.535961</td>\n",
       "      <td>0.836988</td>\n",
       "      <td>1.159589</td>\n",
       "      <td>1.497866</td>\n",
       "      <td>1.581094</td>\n",
       "      <td>0.0</td>\n",
       "      <td>40.285714</td>\n",
       "    </tr>\n",
       "    <tr>\n",
       "      <th>88</th>\n",
       "      <td>1.0</td>\n",
       "      <td>0.0</td>\n",
       "      <td>1.0</td>\n",
       "      <td>1.0</td>\n",
       "      <td>-143.0</td>\n",
       "      <td>1427.0</td>\n",
       "      <td>0.785714</td>\n",
       "      <td>-0.500000</td>\n",
       "      <td>0.038462</td>\n",
       "      <td>-9.0</td>\n",
       "      <td>...</td>\n",
       "      <td>1.255482</td>\n",
       "      <td>1.494175</td>\n",
       "      <td>2.079442</td>\n",
       "      <td>0.830518</td>\n",
       "      <td>1.242453</td>\n",
       "      <td>1.414279</td>\n",
       "      <td>1.609438</td>\n",
       "      <td>1.831020</td>\n",
       "      <td>0.0</td>\n",
       "      <td>5.428571</td>\n",
       "    </tr>\n",
       "  </tbody>\n",
       "</table>\n",
       "<p>67 rows × 4662 columns</p>\n",
       "</div>"
      ],
      "text/plain": [
       "    F_x__variance_larger_than_standard_deviation  F_x__has_duplicate_max  \\\n",
       "6                                            1.0                     1.0   \n",
       "7                                            0.0                     1.0   \n",
       "8                                            1.0                     0.0   \n",
       "9                                            1.0                     0.0   \n",
       "10                                           0.0                     0.0   \n",
       "..                                           ...                     ...   \n",
       "84                                           1.0                     1.0   \n",
       "85                                           1.0                     0.0   \n",
       "86                                           1.0                     0.0   \n",
       "87                                           1.0                     1.0   \n",
       "88                                           1.0                     0.0   \n",
       "\n",
       "    F_x__has_duplicate_min  F_x__has_duplicate  F_x__sum_values  \\\n",
       "6                      1.0                 1.0            -15.0   \n",
       "7                      0.0                 1.0            -13.0   \n",
       "8                      1.0                 1.0            -10.0   \n",
       "9                      0.0                 1.0            -10.0   \n",
       "10                     1.0                 1.0            -14.0   \n",
       "..                     ...                 ...              ...   \n",
       "84                     0.0                 1.0          -1073.0   \n",
       "85                     1.0                 1.0            143.0   \n",
       "86                     0.0                 0.0            961.0   \n",
       "87                     0.0                 1.0           4509.0   \n",
       "88                     1.0                 1.0           -143.0   \n",
       "\n",
       "    F_x__abs_energy  F_x__mean_abs_change  F_x__mean_change  \\\n",
       "6              39.0              1.714286          0.142857   \n",
       "7              21.0              0.928571          0.214286   \n",
       "8              26.0              1.142857         -0.142857   \n",
       "9              24.0              1.428571          0.000000   \n",
       "10             14.0              0.142857          0.000000   \n",
       "..              ...                   ...               ...   \n",
       "84          96833.0              7.142857         -5.428571   \n",
       "85           1683.0              1.357143          1.071429   \n",
       "86          83497.0              9.071429          9.071429   \n",
       "87        1405437.0             12.928571         12.214286   \n",
       "88           1427.0              0.785714         -0.500000   \n",
       "\n",
       "    F_x__mean_second_derivative_central  F_x__median  ...  \\\n",
       "6                              0.153846         -1.0  ...   \n",
       "7                             -0.076923         -1.0  ...   \n",
       "8                              0.192308         -1.0  ...   \n",
       "9                             -0.076923         -1.0  ...   \n",
       "10                             0.000000         -1.0  ...   \n",
       "..                                  ...          ...  ...   \n",
       "84                            -0.038462        -98.0  ...   \n",
       "85                             0.076923          8.0  ...   \n",
       "86                             0.807692         52.0  ...   \n",
       "87                            -1.038462        338.0  ...   \n",
       "88                             0.038462         -9.0  ...   \n",
       "\n",
       "    T_z__fourier_entropy__bins_5  T_z__fourier_entropy__bins_10  \\\n",
       "6                       0.974315                       1.213008   \n",
       "7                       1.255482                       1.494175   \n",
       "8                       1.494175                       1.732868   \n",
       "9                       1.255482                       1.494175   \n",
       "10                      0.937285                       1.213008   \n",
       "..                           ...                            ...   \n",
       "84                      0.735622                       0.735622   \n",
       "85                      0.735622                       0.735622   \n",
       "86                      0.735622                       1.073543   \n",
       "87                      0.735622                       0.735622   \n",
       "88                      1.255482                       1.494175   \n",
       "\n",
       "    T_z__fourier_entropy__bins_100  \\\n",
       "6                         1.732868   \n",
       "7                         2.079442   \n",
       "8                         2.079442   \n",
       "9                         2.079442   \n",
       "10                        1.906155   \n",
       "..                             ...   \n",
       "84                        1.386294   \n",
       "85                        1.667462   \n",
       "86                        1.732868   \n",
       "87                        1.386294   \n",
       "88                        2.079442   \n",
       "\n",
       "    T_z__permutation_entropy__dimension_3__tau_1  \\\n",
       "6                                       1.438883   \n",
       "7                                       1.043794   \n",
       "8                                       1.412745   \n",
       "9                                       1.479133   \n",
       "10                                     -0.000000   \n",
       "..                                           ...   \n",
       "84                                      1.585771   \n",
       "85                                      1.332245   \n",
       "86                                      0.687092   \n",
       "87                                      0.535961   \n",
       "88                                      0.830518   \n",
       "\n",
       "    T_z__permutation_entropy__dimension_4__tau_1  \\\n",
       "6                                       1.863680   \n",
       "7                                       1.349792   \n",
       "8                                       2.138333   \n",
       "9                                       2.138333   \n",
       "10                                     -0.000000   \n",
       "..                                           ...   \n",
       "84                                      2.253858   \n",
       "85                                      1.589027   \n",
       "86                                      0.983088   \n",
       "87                                      0.836988   \n",
       "88                                      1.242453   \n",
       "\n",
       "    T_z__permutation_entropy__dimension_5__tau_1  \\\n",
       "6                                       2.145842   \n",
       "7                                       1.666333   \n",
       "8                                       2.397895   \n",
       "9                                       2.397895   \n",
       "10                                     -0.000000   \n",
       "..                                           ...   \n",
       "84                                      2.397895   \n",
       "85                                      1.893788   \n",
       "86                                      1.159589   \n",
       "87                                      1.159589   \n",
       "88                                      1.414279   \n",
       "\n",
       "    T_z__permutation_entropy__dimension_6__tau_1  \\\n",
       "6                                       2.163956   \n",
       "7                                       1.748067   \n",
       "8                                       2.302585   \n",
       "9                                       2.302585   \n",
       "10                                     -0.000000   \n",
       "..                                           ...   \n",
       "84                                      2.302585   \n",
       "85                                      2.163956   \n",
       "86                                      1.227529   \n",
       "87                                      1.497866   \n",
       "88                                      1.609438   \n",
       "\n",
       "    T_z__permutation_entropy__dimension_7__tau_1  \\\n",
       "6                                       2.197225   \n",
       "7                                       1.831020   \n",
       "8                                       2.197225   \n",
       "9                                       2.197225   \n",
       "10                                     -0.000000   \n",
       "..                                           ...   \n",
       "84                                      2.197225   \n",
       "85                                      2.197225   \n",
       "86                                      1.303092   \n",
       "87                                      1.581094   \n",
       "88                                      1.831020   \n",
       "\n",
       "    T_z__query_similarity_count__query_None__threshold_0.0  \\\n",
       "6                                                 0.0        \n",
       "7                                                 0.0        \n",
       "8                                                 0.0        \n",
       "9                                                 0.0        \n",
       "10                                                0.0        \n",
       "..                                                ...        \n",
       "84                                                0.0        \n",
       "85                                                0.0        \n",
       "86                                                0.0        \n",
       "87                                                0.0        \n",
       "88                                                0.0        \n",
       "\n",
       "    T_z__mean_n_absolute_max__number_of_maxima_7  \n",
       "6                                       0.714286  \n",
       "7                                       0.428571  \n",
       "8                                       1.285714  \n",
       "9                                       1.285714  \n",
       "10                                      0.000000  \n",
       "..                                           ...  \n",
       "84                                     24.285714  \n",
       "85                                      5.571429  \n",
       "86                                      9.285714  \n",
       "87                                     40.285714  \n",
       "88                                      5.428571  \n",
       "\n",
       "[67 rows x 4662 columns]"
      ]
     },
     "execution_count": 54,
     "metadata": {},
     "output_type": "execute_result"
    }
   ],
   "source": [
    "impute(comprehensive_features_train)"
   ]
  },
  {
   "cell_type": "code",
   "execution_count": 55,
   "id": "7f80178d",
   "metadata": {},
   "outputs": [
    {
     "name": "stderr",
     "output_type": "stream",
     "text": [
      "/opt/conda/lib/python3.9/site-packages/tsfresh/utilities/dataframe_functions.py:198: RuntimeWarning: The columns ['F_x__partial_autocorrelation__lag_7'\n",
      " 'F_x__partial_autocorrelation__lag_8'\n",
      " 'F_x__partial_autocorrelation__lag_9' ...\n",
      " 'T_z__agg_linear_trend__attr_\"stderr\"__chunk_len_50__f_agg_\"mean\"'\n",
      " 'T_z__agg_linear_trend__attr_\"stderr\"__chunk_len_50__f_agg_\"var\"'\n",
      " 'T_z__query_similarity_count__query_None__threshold_0.0'] did not have any finite values. Filling with zeros.\n",
      "  warnings.warn(\n"
     ]
    },
    {
     "data": {
      "text/html": [
       "<div>\n",
       "<style scoped>\n",
       "    .dataframe tbody tr th:only-of-type {\n",
       "        vertical-align: middle;\n",
       "    }\n",
       "\n",
       "    .dataframe tbody tr th {\n",
       "        vertical-align: top;\n",
       "    }\n",
       "\n",
       "    .dataframe thead th {\n",
       "        text-align: right;\n",
       "    }\n",
       "</style>\n",
       "<table border=\"1\" class=\"dataframe\">\n",
       "  <thead>\n",
       "    <tr style=\"text-align: right;\">\n",
       "      <th></th>\n",
       "      <th>F_x__variance_larger_than_standard_deviation</th>\n",
       "      <th>F_x__has_duplicate_max</th>\n",
       "      <th>F_x__has_duplicate_min</th>\n",
       "      <th>F_x__has_duplicate</th>\n",
       "      <th>F_x__sum_values</th>\n",
       "      <th>F_x__abs_energy</th>\n",
       "      <th>F_x__mean_abs_change</th>\n",
       "      <th>F_x__mean_change</th>\n",
       "      <th>F_x__mean_second_derivative_central</th>\n",
       "      <th>F_x__median</th>\n",
       "      <th>...</th>\n",
       "      <th>T_z__fourier_entropy__bins_5</th>\n",
       "      <th>T_z__fourier_entropy__bins_10</th>\n",
       "      <th>T_z__fourier_entropy__bins_100</th>\n",
       "      <th>T_z__permutation_entropy__dimension_3__tau_1</th>\n",
       "      <th>T_z__permutation_entropy__dimension_4__tau_1</th>\n",
       "      <th>T_z__permutation_entropy__dimension_5__tau_1</th>\n",
       "      <th>T_z__permutation_entropy__dimension_6__tau_1</th>\n",
       "      <th>T_z__permutation_entropy__dimension_7__tau_1</th>\n",
       "      <th>T_z__query_similarity_count__query_None__threshold_0.0</th>\n",
       "      <th>T_z__mean_n_absolute_max__number_of_maxima_7</th>\n",
       "    </tr>\n",
       "  </thead>\n",
       "  <tbody>\n",
       "    <tr>\n",
       "      <th>1</th>\n",
       "      <td>0.0</td>\n",
       "      <td>0.0</td>\n",
       "      <td>1.0</td>\n",
       "      <td>1.0</td>\n",
       "      <td>-14.0</td>\n",
       "      <td>14.0</td>\n",
       "      <td>0.142857</td>\n",
       "      <td>0.000000</td>\n",
       "      <td>-0.038462</td>\n",
       "      <td>-1.0</td>\n",
       "      <td>...</td>\n",
       "      <td>1.073543</td>\n",
       "      <td>1.440235</td>\n",
       "      <td>2.079442</td>\n",
       "      <td>-0.000000</td>\n",
       "      <td>-0.000000</td>\n",
       "      <td>-0.000000</td>\n",
       "      <td>-0.000000</td>\n",
       "      <td>-0.000000</td>\n",
       "      <td>0.0</td>\n",
       "      <td>0.000000</td>\n",
       "    </tr>\n",
       "    <tr>\n",
       "      <th>2</th>\n",
       "      <td>0.0</td>\n",
       "      <td>1.0</td>\n",
       "      <td>1.0</td>\n",
       "      <td>1.0</td>\n",
       "      <td>-13.0</td>\n",
       "      <td>25.0</td>\n",
       "      <td>1.000000</td>\n",
       "      <td>0.000000</td>\n",
       "      <td>-0.038462</td>\n",
       "      <td>-1.0</td>\n",
       "      <td>...</td>\n",
       "      <td>1.073543</td>\n",
       "      <td>1.494175</td>\n",
       "      <td>2.079442</td>\n",
       "      <td>0.937156</td>\n",
       "      <td>1.234268</td>\n",
       "      <td>1.540306</td>\n",
       "      <td>1.748067</td>\n",
       "      <td>1.831020</td>\n",
       "      <td>0.0</td>\n",
       "      <td>0.571429</td>\n",
       "    </tr>\n",
       "    <tr>\n",
       "      <th>3</th>\n",
       "      <td>0.0</td>\n",
       "      <td>0.0</td>\n",
       "      <td>1.0</td>\n",
       "      <td>1.0</td>\n",
       "      <td>-10.0</td>\n",
       "      <td>12.0</td>\n",
       "      <td>0.714286</td>\n",
       "      <td>0.000000</td>\n",
       "      <td>-0.038462</td>\n",
       "      <td>-1.0</td>\n",
       "      <td>...</td>\n",
       "      <td>1.386294</td>\n",
       "      <td>1.732868</td>\n",
       "      <td>2.079442</td>\n",
       "      <td>1.265857</td>\n",
       "      <td>1.704551</td>\n",
       "      <td>2.019815</td>\n",
       "      <td>2.163956</td>\n",
       "      <td>2.197225</td>\n",
       "      <td>0.0</td>\n",
       "      <td>0.571429</td>\n",
       "    </tr>\n",
       "    <tr>\n",
       "      <th>4</th>\n",
       "      <td>0.0</td>\n",
       "      <td>1.0</td>\n",
       "      <td>1.0</td>\n",
       "      <td>1.0</td>\n",
       "      <td>-6.0</td>\n",
       "      <td>16.0</td>\n",
       "      <td>1.214286</td>\n",
       "      <td>-0.071429</td>\n",
       "      <td>-0.038462</td>\n",
       "      <td>0.0</td>\n",
       "      <td>...</td>\n",
       "      <td>1.073543</td>\n",
       "      <td>1.494175</td>\n",
       "      <td>2.079442</td>\n",
       "      <td>1.156988</td>\n",
       "      <td>1.907284</td>\n",
       "      <td>2.397895</td>\n",
       "      <td>2.302585</td>\n",
       "      <td>2.197225</td>\n",
       "      <td>0.0</td>\n",
       "      <td>1.000000</td>\n",
       "    </tr>\n",
       "    <tr>\n",
       "      <th>5</th>\n",
       "      <td>0.0</td>\n",
       "      <td>0.0</td>\n",
       "      <td>0.0</td>\n",
       "      <td>1.0</td>\n",
       "      <td>-9.0</td>\n",
       "      <td>17.0</td>\n",
       "      <td>0.928571</td>\n",
       "      <td>-0.071429</td>\n",
       "      <td>0.038462</td>\n",
       "      <td>-1.0</td>\n",
       "      <td>...</td>\n",
       "      <td>0.900256</td>\n",
       "      <td>1.320888</td>\n",
       "      <td>2.079442</td>\n",
       "      <td>1.156988</td>\n",
       "      <td>1.863680</td>\n",
       "      <td>2.271869</td>\n",
       "      <td>2.302585</td>\n",
       "      <td>2.197225</td>\n",
       "      <td>0.0</td>\n",
       "      <td>0.857143</td>\n",
       "    </tr>\n",
       "    <tr>\n",
       "      <th>19</th>\n",
       "      <td>1.0</td>\n",
       "      <td>0.0</td>\n",
       "      <td>0.0</td>\n",
       "      <td>1.0</td>\n",
       "      <td>99.0</td>\n",
       "      <td>6109.0</td>\n",
       "      <td>13.928571</td>\n",
       "      <td>-1.928571</td>\n",
       "      <td>-1.730769</td>\n",
       "      <td>1.0</td>\n",
       "      <td>...</td>\n",
       "      <td>0.974315</td>\n",
       "      <td>1.494175</td>\n",
       "      <td>1.906155</td>\n",
       "      <td>1.230932</td>\n",
       "      <td>1.704551</td>\n",
       "      <td>2.019815</td>\n",
       "      <td>2.025326</td>\n",
       "      <td>2.043192</td>\n",
       "      <td>0.0</td>\n",
       "      <td>1.428571</td>\n",
       "    </tr>\n",
       "    <tr>\n",
       "      <th>20</th>\n",
       "      <td>1.0</td>\n",
       "      <td>0.0</td>\n",
       "      <td>1.0</td>\n",
       "      <td>1.0</td>\n",
       "      <td>155.0</td>\n",
       "      <td>34455.0</td>\n",
       "      <td>16.714286</td>\n",
       "      <td>-13.142857</td>\n",
       "      <td>7.576923</td>\n",
       "      <td>-1.0</td>\n",
       "      <td>...</td>\n",
       "      <td>1.386294</td>\n",
       "      <td>1.667462</td>\n",
       "      <td>2.079442</td>\n",
       "      <td>1.564957</td>\n",
       "      <td>2.022809</td>\n",
       "      <td>2.271869</td>\n",
       "      <td>2.302585</td>\n",
       "      <td>2.197225</td>\n",
       "      <td>0.0</td>\n",
       "      <td>2.571429</td>\n",
       "    </tr>\n",
       "    <tr>\n",
       "      <th>21</th>\n",
       "      <td>1.0</td>\n",
       "      <td>0.0</td>\n",
       "      <td>0.0</td>\n",
       "      <td>1.0</td>\n",
       "      <td>-171.0</td>\n",
       "      <td>16495.0</td>\n",
       "      <td>20.928571</td>\n",
       "      <td>1.785714</td>\n",
       "      <td>3.961538</td>\n",
       "      <td>-1.0</td>\n",
       "      <td>...</td>\n",
       "      <td>0.735622</td>\n",
       "      <td>0.735622</td>\n",
       "      <td>0.735622</td>\n",
       "      <td>1.303876</td>\n",
       "      <td>1.791759</td>\n",
       "      <td>2.271869</td>\n",
       "      <td>2.302585</td>\n",
       "      <td>2.197225</td>\n",
       "      <td>0.0</td>\n",
       "      <td>17.285714</td>\n",
       "    </tr>\n",
       "    <tr>\n",
       "      <th>22</th>\n",
       "      <td>1.0</td>\n",
       "      <td>0.0</td>\n",
       "      <td>0.0</td>\n",
       "      <td>1.0</td>\n",
       "      <td>102.0</td>\n",
       "      <td>12700.0</td>\n",
       "      <td>10.785714</td>\n",
       "      <td>-8.071429</td>\n",
       "      <td>4.500000</td>\n",
       "      <td>-1.0</td>\n",
       "      <td>...</td>\n",
       "      <td>0.562335</td>\n",
       "      <td>0.735622</td>\n",
       "      <td>1.732868</td>\n",
       "      <td>1.524707</td>\n",
       "      <td>2.138333</td>\n",
       "      <td>2.397895</td>\n",
       "      <td>2.302585</td>\n",
       "      <td>2.197225</td>\n",
       "      <td>0.0</td>\n",
       "      <td>5.428571</td>\n",
       "    </tr>\n",
       "    <tr>\n",
       "      <th>23</th>\n",
       "      <td>1.0</td>\n",
       "      <td>0.0</td>\n",
       "      <td>0.0</td>\n",
       "      <td>1.0</td>\n",
       "      <td>67.0</td>\n",
       "      <td>10593.0</td>\n",
       "      <td>15.142857</td>\n",
       "      <td>-7.000000</td>\n",
       "      <td>3.000000</td>\n",
       "      <td>-3.0</td>\n",
       "      <td>...</td>\n",
       "      <td>0.974315</td>\n",
       "      <td>1.255482</td>\n",
       "      <td>2.079442</td>\n",
       "      <td>1.519383</td>\n",
       "      <td>2.369382</td>\n",
       "      <td>2.397895</td>\n",
       "      <td>2.302585</td>\n",
       "      <td>2.197225</td>\n",
       "      <td>0.0</td>\n",
       "      <td>3.714286</td>\n",
       "    </tr>\n",
       "    <tr>\n",
       "      <th>24</th>\n",
       "      <td>1.0</td>\n",
       "      <td>0.0</td>\n",
       "      <td>0.0</td>\n",
       "      <td>1.0</td>\n",
       "      <td>-338.0</td>\n",
       "      <td>37100.0</td>\n",
       "      <td>13.214286</td>\n",
       "      <td>9.071429</td>\n",
       "      <td>0.230769</td>\n",
       "      <td>-4.0</td>\n",
       "      <td>...</td>\n",
       "      <td>1.213008</td>\n",
       "      <td>1.494175</td>\n",
       "      <td>2.079442</td>\n",
       "      <td>1.377820</td>\n",
       "      <td>1.386294</td>\n",
       "      <td>1.546599</td>\n",
       "      <td>1.695743</td>\n",
       "      <td>1.889159</td>\n",
       "      <td>0.0</td>\n",
       "      <td>16.714286</td>\n",
       "    </tr>\n",
       "    <tr>\n",
       "      <th>25</th>\n",
       "      <td>1.0</td>\n",
       "      <td>0.0</td>\n",
       "      <td>0.0</td>\n",
       "      <td>1.0</td>\n",
       "      <td>-123.0</td>\n",
       "      <td>6853.0</td>\n",
       "      <td>7.785714</td>\n",
       "      <td>5.214286</td>\n",
       "      <td>-1.730769</td>\n",
       "      <td>0.0</td>\n",
       "      <td>...</td>\n",
       "      <td>0.900256</td>\n",
       "      <td>1.213008</td>\n",
       "      <td>1.732868</td>\n",
       "      <td>1.438883</td>\n",
       "      <td>2.138333</td>\n",
       "      <td>2.397895</td>\n",
       "      <td>2.302585</td>\n",
       "      <td>2.197225</td>\n",
       "      <td>0.0</td>\n",
       "      <td>4.142857</td>\n",
       "    </tr>\n",
       "    <tr>\n",
       "      <th>26</th>\n",
       "      <td>1.0</td>\n",
       "      <td>0.0</td>\n",
       "      <td>0.0</td>\n",
       "      <td>1.0</td>\n",
       "      <td>-63.0</td>\n",
       "      <td>18717.0</td>\n",
       "      <td>14.214286</td>\n",
       "      <td>9.500000</td>\n",
       "      <td>-5.923077</td>\n",
       "      <td>1.0</td>\n",
       "      <td>...</td>\n",
       "      <td>0.735622</td>\n",
       "      <td>1.255482</td>\n",
       "      <td>1.906155</td>\n",
       "      <td>1.671595</td>\n",
       "      <td>2.253858</td>\n",
       "      <td>2.397895</td>\n",
       "      <td>2.302585</td>\n",
       "      <td>2.197225</td>\n",
       "      <td>0.0</td>\n",
       "      <td>8.857143</td>\n",
       "    </tr>\n",
       "    <tr>\n",
       "      <th>27</th>\n",
       "      <td>1.0</td>\n",
       "      <td>1.0</td>\n",
       "      <td>0.0</td>\n",
       "      <td>1.0</td>\n",
       "      <td>50.0</td>\n",
       "      <td>1366.0</td>\n",
       "      <td>6.428571</td>\n",
       "      <td>0.571429</td>\n",
       "      <td>-1.230769</td>\n",
       "      <td>1.0</td>\n",
       "      <td>...</td>\n",
       "      <td>1.320888</td>\n",
       "      <td>1.732868</td>\n",
       "      <td>2.079442</td>\n",
       "      <td>1.524707</td>\n",
       "      <td>2.022809</td>\n",
       "      <td>2.145842</td>\n",
       "      <td>2.302585</td>\n",
       "      <td>2.197225</td>\n",
       "      <td>0.0</td>\n",
       "      <td>1.571429</td>\n",
       "    </tr>\n",
       "    <tr>\n",
       "      <th>28</th>\n",
       "      <td>1.0</td>\n",
       "      <td>0.0</td>\n",
       "      <td>0.0</td>\n",
       "      <td>1.0</td>\n",
       "      <td>-28.0</td>\n",
       "      <td>1002.0</td>\n",
       "      <td>6.000000</td>\n",
       "      <td>-0.285714</td>\n",
       "      <td>1.153846</td>\n",
       "      <td>0.0</td>\n",
       "      <td>...</td>\n",
       "      <td>1.213008</td>\n",
       "      <td>1.386294</td>\n",
       "      <td>1.906155</td>\n",
       "      <td>1.524707</td>\n",
       "      <td>1.979205</td>\n",
       "      <td>2.019815</td>\n",
       "      <td>2.025326</td>\n",
       "      <td>2.043192</td>\n",
       "      <td>0.0</td>\n",
       "      <td>2.000000</td>\n",
       "    </tr>\n",
       "    <tr>\n",
       "      <th>29</th>\n",
       "      <td>1.0</td>\n",
       "      <td>0.0</td>\n",
       "      <td>0.0</td>\n",
       "      <td>1.0</td>\n",
       "      <td>-51.0</td>\n",
       "      <td>809.0</td>\n",
       "      <td>4.500000</td>\n",
       "      <td>1.071429</td>\n",
       "      <td>0.307692</td>\n",
       "      <td>-1.0</td>\n",
       "      <td>...</td>\n",
       "      <td>1.559581</td>\n",
       "      <td>1.559581</td>\n",
       "      <td>2.079442</td>\n",
       "      <td>1.438883</td>\n",
       "      <td>2.022809</td>\n",
       "      <td>2.397895</td>\n",
       "      <td>2.302585</td>\n",
       "      <td>2.197225</td>\n",
       "      <td>0.0</td>\n",
       "      <td>1.285714</td>\n",
       "    </tr>\n",
       "    <tr>\n",
       "      <th>30</th>\n",
       "      <td>1.0</td>\n",
       "      <td>0.0</td>\n",
       "      <td>1.0</td>\n",
       "      <td>1.0</td>\n",
       "      <td>36.0</td>\n",
       "      <td>250.0</td>\n",
       "      <td>3.071429</td>\n",
       "      <td>-0.642857</td>\n",
       "      <td>0.230769</td>\n",
       "      <td>1.0</td>\n",
       "      <td>...</td>\n",
       "      <td>1.213008</td>\n",
       "      <td>1.667462</td>\n",
       "      <td>2.079442</td>\n",
       "      <td>1.671595</td>\n",
       "      <td>2.369382</td>\n",
       "      <td>2.397895</td>\n",
       "      <td>2.302585</td>\n",
       "      <td>2.197225</td>\n",
       "      <td>0.0</td>\n",
       "      <td>1.571429</td>\n",
       "    </tr>\n",
       "    <tr>\n",
       "      <th>31</th>\n",
       "      <td>1.0</td>\n",
       "      <td>0.0</td>\n",
       "      <td>0.0</td>\n",
       "      <td>1.0</td>\n",
       "      <td>43.0</td>\n",
       "      <td>199.0</td>\n",
       "      <td>1.500000</td>\n",
       "      <td>-0.214286</td>\n",
       "      <td>-0.269231</td>\n",
       "      <td>2.0</td>\n",
       "      <td>...</td>\n",
       "      <td>1.494175</td>\n",
       "      <td>1.732868</td>\n",
       "      <td>2.079442</td>\n",
       "      <td>1.591096</td>\n",
       "      <td>2.253858</td>\n",
       "      <td>2.271869</td>\n",
       "      <td>2.302585</td>\n",
       "      <td>2.197225</td>\n",
       "      <td>0.0</td>\n",
       "      <td>1.142857</td>\n",
       "    </tr>\n",
       "    <tr>\n",
       "      <th>32</th>\n",
       "      <td>1.0</td>\n",
       "      <td>0.0</td>\n",
       "      <td>0.0</td>\n",
       "      <td>1.0</td>\n",
       "      <td>-15.0</td>\n",
       "      <td>451.0</td>\n",
       "      <td>4.642857</td>\n",
       "      <td>-0.214286</td>\n",
       "      <td>0.076923</td>\n",
       "      <td>0.0</td>\n",
       "      <td>...</td>\n",
       "      <td>1.073543</td>\n",
       "      <td>1.073543</td>\n",
       "      <td>1.906155</td>\n",
       "      <td>1.564957</td>\n",
       "      <td>2.022809</td>\n",
       "      <td>2.145842</td>\n",
       "      <td>2.302585</td>\n",
       "      <td>2.197225</td>\n",
       "      <td>0.0</td>\n",
       "      <td>3.000000</td>\n",
       "    </tr>\n",
       "    <tr>\n",
       "      <th>33</th>\n",
       "      <td>1.0</td>\n",
       "      <td>0.0</td>\n",
       "      <td>0.0</td>\n",
       "      <td>1.0</td>\n",
       "      <td>22.0</td>\n",
       "      <td>1100.0</td>\n",
       "      <td>5.928571</td>\n",
       "      <td>-0.357143</td>\n",
       "      <td>-1.076923</td>\n",
       "      <td>-1.0</td>\n",
       "      <td>...</td>\n",
       "      <td>0.562335</td>\n",
       "      <td>0.900256</td>\n",
       "      <td>1.906155</td>\n",
       "      <td>1.711845</td>\n",
       "      <td>2.253858</td>\n",
       "      <td>2.397895</td>\n",
       "      <td>2.302585</td>\n",
       "      <td>2.197225</td>\n",
       "      <td>0.0</td>\n",
       "      <td>3.142857</td>\n",
       "    </tr>\n",
       "    <tr>\n",
       "      <th>34</th>\n",
       "      <td>1.0</td>\n",
       "      <td>0.0</td>\n",
       "      <td>0.0</td>\n",
       "      <td>1.0</td>\n",
       "      <td>173.0</td>\n",
       "      <td>9807.0</td>\n",
       "      <td>14.000000</td>\n",
       "      <td>-5.000000</td>\n",
       "      <td>2.000000</td>\n",
       "      <td>1.0</td>\n",
       "      <td>...</td>\n",
       "      <td>0.735622</td>\n",
       "      <td>0.735622</td>\n",
       "      <td>0.735622</td>\n",
       "      <td>1.438883</td>\n",
       "      <td>1.863680</td>\n",
       "      <td>2.019815</td>\n",
       "      <td>2.163956</td>\n",
       "      <td>2.197225</td>\n",
       "      <td>0.0</td>\n",
       "      <td>22.285714</td>\n",
       "    </tr>\n",
       "  </tbody>\n",
       "</table>\n",
       "<p>21 rows × 4662 columns</p>\n",
       "</div>"
      ],
      "text/plain": [
       "    F_x__variance_larger_than_standard_deviation  F_x__has_duplicate_max  \\\n",
       "1                                            0.0                     0.0   \n",
       "2                                            0.0                     1.0   \n",
       "3                                            0.0                     0.0   \n",
       "4                                            0.0                     1.0   \n",
       "5                                            0.0                     0.0   \n",
       "19                                           1.0                     0.0   \n",
       "20                                           1.0                     0.0   \n",
       "21                                           1.0                     0.0   \n",
       "22                                           1.0                     0.0   \n",
       "23                                           1.0                     0.0   \n",
       "24                                           1.0                     0.0   \n",
       "25                                           1.0                     0.0   \n",
       "26                                           1.0                     0.0   \n",
       "27                                           1.0                     1.0   \n",
       "28                                           1.0                     0.0   \n",
       "29                                           1.0                     0.0   \n",
       "30                                           1.0                     0.0   \n",
       "31                                           1.0                     0.0   \n",
       "32                                           1.0                     0.0   \n",
       "33                                           1.0                     0.0   \n",
       "34                                           1.0                     0.0   \n",
       "\n",
       "    F_x__has_duplicate_min  F_x__has_duplicate  F_x__sum_values  \\\n",
       "1                      1.0                 1.0            -14.0   \n",
       "2                      1.0                 1.0            -13.0   \n",
       "3                      1.0                 1.0            -10.0   \n",
       "4                      1.0                 1.0             -6.0   \n",
       "5                      0.0                 1.0             -9.0   \n",
       "19                     0.0                 1.0             99.0   \n",
       "20                     1.0                 1.0            155.0   \n",
       "21                     0.0                 1.0           -171.0   \n",
       "22                     0.0                 1.0            102.0   \n",
       "23                     0.0                 1.0             67.0   \n",
       "24                     0.0                 1.0           -338.0   \n",
       "25                     0.0                 1.0           -123.0   \n",
       "26                     0.0                 1.0            -63.0   \n",
       "27                     0.0                 1.0             50.0   \n",
       "28                     0.0                 1.0            -28.0   \n",
       "29                     0.0                 1.0            -51.0   \n",
       "30                     1.0                 1.0             36.0   \n",
       "31                     0.0                 1.0             43.0   \n",
       "32                     0.0                 1.0            -15.0   \n",
       "33                     0.0                 1.0             22.0   \n",
       "34                     0.0                 1.0            173.0   \n",
       "\n",
       "    F_x__abs_energy  F_x__mean_abs_change  F_x__mean_change  \\\n",
       "1              14.0              0.142857          0.000000   \n",
       "2              25.0              1.000000          0.000000   \n",
       "3              12.0              0.714286          0.000000   \n",
       "4              16.0              1.214286         -0.071429   \n",
       "5              17.0              0.928571         -0.071429   \n",
       "19           6109.0             13.928571         -1.928571   \n",
       "20          34455.0             16.714286        -13.142857   \n",
       "21          16495.0             20.928571          1.785714   \n",
       "22          12700.0             10.785714         -8.071429   \n",
       "23          10593.0             15.142857         -7.000000   \n",
       "24          37100.0             13.214286          9.071429   \n",
       "25           6853.0              7.785714          5.214286   \n",
       "26          18717.0             14.214286          9.500000   \n",
       "27           1366.0              6.428571          0.571429   \n",
       "28           1002.0              6.000000         -0.285714   \n",
       "29            809.0              4.500000          1.071429   \n",
       "30            250.0              3.071429         -0.642857   \n",
       "31            199.0              1.500000         -0.214286   \n",
       "32            451.0              4.642857         -0.214286   \n",
       "33           1100.0              5.928571         -0.357143   \n",
       "34           9807.0             14.000000         -5.000000   \n",
       "\n",
       "    F_x__mean_second_derivative_central  F_x__median  ...  \\\n",
       "1                             -0.038462         -1.0  ...   \n",
       "2                             -0.038462         -1.0  ...   \n",
       "3                             -0.038462         -1.0  ...   \n",
       "4                             -0.038462          0.0  ...   \n",
       "5                              0.038462         -1.0  ...   \n",
       "19                            -1.730769          1.0  ...   \n",
       "20                             7.576923         -1.0  ...   \n",
       "21                             3.961538         -1.0  ...   \n",
       "22                             4.500000         -1.0  ...   \n",
       "23                             3.000000         -3.0  ...   \n",
       "24                             0.230769         -4.0  ...   \n",
       "25                            -1.730769          0.0  ...   \n",
       "26                            -5.923077          1.0  ...   \n",
       "27                            -1.230769          1.0  ...   \n",
       "28                             1.153846          0.0  ...   \n",
       "29                             0.307692         -1.0  ...   \n",
       "30                             0.230769          1.0  ...   \n",
       "31                            -0.269231          2.0  ...   \n",
       "32                             0.076923          0.0  ...   \n",
       "33                            -1.076923         -1.0  ...   \n",
       "34                             2.000000          1.0  ...   \n",
       "\n",
       "    T_z__fourier_entropy__bins_5  T_z__fourier_entropy__bins_10  \\\n",
       "1                       1.073543                       1.440235   \n",
       "2                       1.073543                       1.494175   \n",
       "3                       1.386294                       1.732868   \n",
       "4                       1.073543                       1.494175   \n",
       "5                       0.900256                       1.320888   \n",
       "19                      0.974315                       1.494175   \n",
       "20                      1.386294                       1.667462   \n",
       "21                      0.735622                       0.735622   \n",
       "22                      0.562335                       0.735622   \n",
       "23                      0.974315                       1.255482   \n",
       "24                      1.213008                       1.494175   \n",
       "25                      0.900256                       1.213008   \n",
       "26                      0.735622                       1.255482   \n",
       "27                      1.320888                       1.732868   \n",
       "28                      1.213008                       1.386294   \n",
       "29                      1.559581                       1.559581   \n",
       "30                      1.213008                       1.667462   \n",
       "31                      1.494175                       1.732868   \n",
       "32                      1.073543                       1.073543   \n",
       "33                      0.562335                       0.900256   \n",
       "34                      0.735622                       0.735622   \n",
       "\n",
       "    T_z__fourier_entropy__bins_100  \\\n",
       "1                         2.079442   \n",
       "2                         2.079442   \n",
       "3                         2.079442   \n",
       "4                         2.079442   \n",
       "5                         2.079442   \n",
       "19                        1.906155   \n",
       "20                        2.079442   \n",
       "21                        0.735622   \n",
       "22                        1.732868   \n",
       "23                        2.079442   \n",
       "24                        2.079442   \n",
       "25                        1.732868   \n",
       "26                        1.906155   \n",
       "27                        2.079442   \n",
       "28                        1.906155   \n",
       "29                        2.079442   \n",
       "30                        2.079442   \n",
       "31                        2.079442   \n",
       "32                        1.906155   \n",
       "33                        1.906155   \n",
       "34                        0.735622   \n",
       "\n",
       "    T_z__permutation_entropy__dimension_3__tau_1  \\\n",
       "1                                      -0.000000   \n",
       "2                                       0.937156   \n",
       "3                                       1.265857   \n",
       "4                                       1.156988   \n",
       "5                                       1.156988   \n",
       "19                                      1.230932   \n",
       "20                                      1.564957   \n",
       "21                                      1.303876   \n",
       "22                                      1.524707   \n",
       "23                                      1.519383   \n",
       "24                                      1.377820   \n",
       "25                                      1.438883   \n",
       "26                                      1.671595   \n",
       "27                                      1.524707   \n",
       "28                                      1.524707   \n",
       "29                                      1.438883   \n",
       "30                                      1.671595   \n",
       "31                                      1.591096   \n",
       "32                                      1.564957   \n",
       "33                                      1.711845   \n",
       "34                                      1.438883   \n",
       "\n",
       "    T_z__permutation_entropy__dimension_4__tau_1  \\\n",
       "1                                      -0.000000   \n",
       "2                                       1.234268   \n",
       "3                                       1.704551   \n",
       "4                                       1.907284   \n",
       "5                                       1.863680   \n",
       "19                                      1.704551   \n",
       "20                                      2.022809   \n",
       "21                                      1.791759   \n",
       "22                                      2.138333   \n",
       "23                                      2.369382   \n",
       "24                                      1.386294   \n",
       "25                                      2.138333   \n",
       "26                                      2.253858   \n",
       "27                                      2.022809   \n",
       "28                                      1.979205   \n",
       "29                                      2.022809   \n",
       "30                                      2.369382   \n",
       "31                                      2.253858   \n",
       "32                                      2.022809   \n",
       "33                                      2.253858   \n",
       "34                                      1.863680   \n",
       "\n",
       "    T_z__permutation_entropy__dimension_5__tau_1  \\\n",
       "1                                      -0.000000   \n",
       "2                                       1.540306   \n",
       "3                                       2.019815   \n",
       "4                                       2.397895   \n",
       "5                                       2.271869   \n",
       "19                                      2.019815   \n",
       "20                                      2.271869   \n",
       "21                                      2.271869   \n",
       "22                                      2.397895   \n",
       "23                                      2.397895   \n",
       "24                                      1.546599   \n",
       "25                                      2.397895   \n",
       "26                                      2.397895   \n",
       "27                                      2.145842   \n",
       "28                                      2.019815   \n",
       "29                                      2.397895   \n",
       "30                                      2.397895   \n",
       "31                                      2.271869   \n",
       "32                                      2.145842   \n",
       "33                                      2.397895   \n",
       "34                                      2.019815   \n",
       "\n",
       "    T_z__permutation_entropy__dimension_6__tau_1  \\\n",
       "1                                      -0.000000   \n",
       "2                                       1.748067   \n",
       "3                                       2.163956   \n",
       "4                                       2.302585   \n",
       "5                                       2.302585   \n",
       "19                                      2.025326   \n",
       "20                                      2.302585   \n",
       "21                                      2.302585   \n",
       "22                                      2.302585   \n",
       "23                                      2.302585   \n",
       "24                                      1.695743   \n",
       "25                                      2.302585   \n",
       "26                                      2.302585   \n",
       "27                                      2.302585   \n",
       "28                                      2.025326   \n",
       "29                                      2.302585   \n",
       "30                                      2.302585   \n",
       "31                                      2.302585   \n",
       "32                                      2.302585   \n",
       "33                                      2.302585   \n",
       "34                                      2.163956   \n",
       "\n",
       "    T_z__permutation_entropy__dimension_7__tau_1  \\\n",
       "1                                      -0.000000   \n",
       "2                                       1.831020   \n",
       "3                                       2.197225   \n",
       "4                                       2.197225   \n",
       "5                                       2.197225   \n",
       "19                                      2.043192   \n",
       "20                                      2.197225   \n",
       "21                                      2.197225   \n",
       "22                                      2.197225   \n",
       "23                                      2.197225   \n",
       "24                                      1.889159   \n",
       "25                                      2.197225   \n",
       "26                                      2.197225   \n",
       "27                                      2.197225   \n",
       "28                                      2.043192   \n",
       "29                                      2.197225   \n",
       "30                                      2.197225   \n",
       "31                                      2.197225   \n",
       "32                                      2.197225   \n",
       "33                                      2.197225   \n",
       "34                                      2.197225   \n",
       "\n",
       "    T_z__query_similarity_count__query_None__threshold_0.0  \\\n",
       "1                                                 0.0        \n",
       "2                                                 0.0        \n",
       "3                                                 0.0        \n",
       "4                                                 0.0        \n",
       "5                                                 0.0        \n",
       "19                                                0.0        \n",
       "20                                                0.0        \n",
       "21                                                0.0        \n",
       "22                                                0.0        \n",
       "23                                                0.0        \n",
       "24                                                0.0        \n",
       "25                                                0.0        \n",
       "26                                                0.0        \n",
       "27                                                0.0        \n",
       "28                                                0.0        \n",
       "29                                                0.0        \n",
       "30                                                0.0        \n",
       "31                                                0.0        \n",
       "32                                                0.0        \n",
       "33                                                0.0        \n",
       "34                                                0.0        \n",
       "\n",
       "    T_z__mean_n_absolute_max__number_of_maxima_7  \n",
       "1                                       0.000000  \n",
       "2                                       0.571429  \n",
       "3                                       0.571429  \n",
       "4                                       1.000000  \n",
       "5                                       0.857143  \n",
       "19                                      1.428571  \n",
       "20                                      2.571429  \n",
       "21                                     17.285714  \n",
       "22                                      5.428571  \n",
       "23                                      3.714286  \n",
       "24                                     16.714286  \n",
       "25                                      4.142857  \n",
       "26                                      8.857143  \n",
       "27                                      1.571429  \n",
       "28                                      2.000000  \n",
       "29                                      1.285714  \n",
       "30                                      1.571429  \n",
       "31                                      1.142857  \n",
       "32                                      3.000000  \n",
       "33                                      3.142857  \n",
       "34                                     22.285714  \n",
       "\n",
       "[21 rows x 4662 columns]"
      ]
     },
     "execution_count": 55,
     "metadata": {},
     "output_type": "execute_result"
    }
   ],
   "source": [
    "impute(comprehensive_features_test)"
   ]
  },
  {
   "cell_type": "markdown",
   "id": "a74be23c",
   "metadata": {},
   "source": [
    "### Step 7. RandomForest, XGBoost 사용 및 score 확인"
   ]
  },
  {
   "cell_type": "markdown",
   "id": "7bd1ff5d",
   "metadata": {},
   "source": [
    "### RandomForest 모델로 학습시키기"
   ]
  },
  {
   "cell_type": "code",
   "execution_count": 56,
   "id": "f0d5b203",
   "metadata": {
    "scrolled": true
   },
   "outputs": [
    {
     "data": {
      "text/plain": [
       "RandomForestClassifier(max_depth=3, n_estimators=10)"
      ]
     },
     "execution_count": 56,
     "metadata": {},
     "output_type": "execute_result"
    }
   ],
   "source": [
    "from sklearn.ensemble import RandomForestClassifier\n",
    "rf_clf = RandomForestClassifier(n_estimators = 10, max_depth = 3)\n",
    "\n",
    "rf_clf.fit(comprehensive_features_train, y_train)"
   ]
  },
  {
   "cell_type": "code",
   "execution_count": 57,
   "id": "5c62efab",
   "metadata": {},
   "outputs": [
    {
     "data": {
      "text/plain": [
       "0.8095238095238095"
      ]
     },
     "execution_count": 57,
     "metadata": {},
     "output_type": "execute_result"
    }
   ],
   "source": [
    "rf_clf.score(comprehensive_features_test, y_test)"
   ]
  },
  {
   "cell_type": "markdown",
   "id": "4b2624ed",
   "metadata": {},
   "source": [
    "#### <span style = \"color:red;\">노드에서는 test셋에 적합해본 결과 약 0.66의 정확도를 보인다고 하는데..</span>\n",
    "나는 0.8095238095238095이 나온다"
   ]
  },
  {
   "cell_type": "markdown",
   "id": "17402c0c",
   "metadata": {},
   "source": [
    "### XGBoost 모델로 학습시키기"
   ]
  },
  {
   "cell_type": "code",
   "execution_count": 59,
   "id": "1430cc8f",
   "metadata": {},
   "outputs": [
    {
     "name": "stderr",
     "output_type": "stream",
     "text": [
      "/opt/conda/lib/python3.9/site-packages/xgboost/sklearn.py:1146: UserWarning: The use of label encoder in XGBClassifier is deprecated and will be removed in a future release. To remove this warning, do the following: 1) Pass option use_label_encoder=False when constructing XGBClassifier object; and 2) Encode your labels (y) as integers starting with 0, i.e. 0, 1, 2, ..., [num_class - 1].\n",
      "  warnings.warn(label_encoder_deprecation_msg, UserWarning)\n"
     ]
    },
    {
     "name": "stdout",
     "output_type": "stream",
     "text": [
      "[05:17:13] WARNING: ../src/learner.cc:1095: Starting in XGBoost 1.3.0, the default evaluation metric used with the objective 'binary:logistic' was changed from 'error' to 'logloss'. Explicitly set eval_metric if you'd like to restore the old behavior.\n"
     ]
    },
    {
     "data": {
      "text/plain": [
       "XGBClassifier(base_score=0.5, booster='gbtree', colsample_bylevel=1,\n",
       "              colsample_bynode=1, colsample_bytree=1, gamma=0, gpu_id=-1,\n",
       "              importance_type='gain', interaction_constraints='',\n",
       "              learning_rate=0.300000012, max_delta_step=0, max_depth=3,\n",
       "              min_child_weight=1, missing=nan, monotone_constraints='()',\n",
       "              n_estimators=10, n_jobs=2, num_parallel_tree=1, random_state=0,\n",
       "              reg_alpha=0, reg_lambda=1, scale_pos_weight=1, subsample=1,\n",
       "              tree_method='exact', validate_parameters=1, verbosity=None)"
      ]
     },
     "execution_count": 59,
     "metadata": {},
     "output_type": "execute_result"
    }
   ],
   "source": [
    "import xgboost as xgb\n",
    "xgb_clf = xgb.XGBClassifier(n_estimators = 10, max_depth = 3)\n",
    "\n",
    "xgb_clf.fit(comprehensive_features_train, y_train)"
   ]
  },
  {
   "cell_type": "code",
   "execution_count": 60,
   "id": "9f589227",
   "metadata": {},
   "outputs": [
    {
     "data": {
      "text/plain": [
       "1.0"
      ]
     },
     "execution_count": 60,
     "metadata": {},
     "output_type": "execute_result"
    }
   ],
   "source": [
    "xgb_clf.score(comprehensive_features_test, y_test)"
   ]
  },
  {
   "cell_type": "markdown",
   "id": "b2540ce7",
   "metadata": {},
   "source": [
    "### Step 8. XGBoost plot_importance 확인 및 시각화"
   ]
  },
  {
   "cell_type": "code",
   "execution_count": 61,
   "id": "6f5d0efa",
   "metadata": {},
   "outputs": [
    {
     "data": {
      "image/png": "[encoded data removed]",
      "text/plain": [
       "<Figure size 432x288 with 1 Axes>"
      ]
     },
     "metadata": {
      "needs_background": "light"
     },
     "output_type": "display_data"
    }
   ],
   "source": [
    "# plot_importance를 통해 어떤 변수(특징)가 가장 유의미한지 확인\n",
    "xgb.plot_importance(xgb_clf, importance_type = 'gain')\n",
    "plt.show()"
   ]
  },
  {
   "cell_type": "markdown",
   "id": "adbbc033",
   "metadata": {},
   "source": [
    "## <span style = \"color:orange;\">plot_importance()</span>\n",
    "\n",
    "#### <span style = \"color:red;\">plot_importance는 꼭 xgboost에서만 사용하는 건 아니라는 걸 알게 되었다</span>\n",
    "\n",
    "#### <span style = \"color:red;\">feature_importance도 있는데 간략히 둘의 차이는</span>\n",
    "\n",
    "plot_importance 시각적으로 중요도를 표현하는 그래프를 생성      \n",
    "feature_importance 특성 중요도의 값을 반환"
   ]
  },
  {
   "cell_type": "markdown",
   "id": "3528ec73",
   "metadata": {},
   "source": [
    "RandomForest 모델로도 해 봄"
   ]
  },
  {
   "cell_type": "code",
   "execution_count": 20,
   "id": "597d6479",
   "metadata": {},
   "outputs": [
    {
     "ename": "NameError",
     "evalue": "name 'rf' is not defined",
     "output_type": "error",
     "traceback": [
      "\u001b[0;31m---------------------------------------------------------------------------\u001b[0m",
      "\u001b[0;31mNameError\u001b[0m                                 Traceback (most recent call last)",
      "\u001b[0;32m/tmp/ipykernel_73/3535828148.py\u001b[0m in \u001b[0;36m<module>\u001b[0;34m\u001b[0m\n\u001b[0;32m----> 1\u001b[0;31m \u001b[0mrf\u001b[0m\u001b[0;34m.\u001b[0m\u001b[0mplot_importance\u001b[0m\u001b[0;34m(\u001b[0m\u001b[0mrf_clf\u001b[0m\u001b[0;34m,\u001b[0m \u001b[0mimportance_type\u001b[0m \u001b[0;34m=\u001b[0m \u001b[0;34m'gain'\u001b[0m\u001b[0;34m)\u001b[0m\u001b[0;34m\u001b[0m\u001b[0;34m\u001b[0m\u001b[0m\n\u001b[0m\u001b[1;32m      2\u001b[0m \u001b[0mplt\u001b[0m\u001b[0;34m.\u001b[0m\u001b[0mshow\u001b[0m\u001b[0;34m(\u001b[0m\u001b[0;34m)\u001b[0m\u001b[0;34m\u001b[0m\u001b[0;34m\u001b[0m\u001b[0m\n",
      "\u001b[0;31mNameError\u001b[0m: name 'rf' is not defined"
     ]
    }
   ],
   "source": [
    "rf.plot_importance(rf_clf, importance_type = 'gain')\n",
    "plt.show()"
   ]
  },
  {
   "cell_type": "code",
   "execution_count": 21,
   "id": "2dd5ab68",
   "metadata": {},
   "outputs": [
    {
     "ename": "AttributeError",
     "evalue": "type object 'RandomForestClassifier' has no attribute 'plot_importance'",
     "output_type": "error",
     "traceback": [
      "\u001b[0;31m---------------------------------------------------------------------------\u001b[0m",
      "\u001b[0;31mAttributeError\u001b[0m                            Traceback (most recent call last)",
      "\u001b[0;32m/tmp/ipykernel_73/4235185541.py\u001b[0m in \u001b[0;36m<module>\u001b[0;34m\u001b[0m\n\u001b[0;32m----> 1\u001b[0;31m \u001b[0mRandomForestClassifier\u001b[0m\u001b[0;34m.\u001b[0m\u001b[0mplot_importance\u001b[0m\u001b[0;34m(\u001b[0m\u001b[0mrf_clf\u001b[0m\u001b[0;34m,\u001b[0m \u001b[0mimportance_type\u001b[0m \u001b[0;34m=\u001b[0m \u001b[0;34m'gain'\u001b[0m\u001b[0;34m)\u001b[0m\u001b[0;34m\u001b[0m\u001b[0;34m\u001b[0m\u001b[0m\n\u001b[0m\u001b[1;32m      2\u001b[0m \u001b[0mplt\u001b[0m\u001b[0;34m.\u001b[0m\u001b[0mshow\u001b[0m\u001b[0;34m(\u001b[0m\u001b[0;34m)\u001b[0m\u001b[0;34m\u001b[0m\u001b[0;34m\u001b[0m\u001b[0m\n",
      "\u001b[0;31mAttributeError\u001b[0m: type object 'RandomForestClassifier' has no attribute 'plot_importance'"
     ]
    }
   ],
   "source": [
    "RandomForestClassifier.plot_importance(rf_clf, importance_type = 'gain')\n",
    "plt.show()"
   ]
  },
  {
   "cell_type": "markdown",
   "id": "bc61500a",
   "metadata": {},
   "source": [
    "음.. 안 된다   \n",
    "RandomForest는 plot_importance를 못 그리는 건가...?"
   ]
  },
  {
   "cell_type": "code",
   "execution_count": 62,
   "id": "ce1c5c63",
   "metadata": {},
   "outputs": [
    {
     "data": {
      "text/plain": [
       "1"
      ]
     },
     "execution_count": 62,
     "metadata": {},
     "output_type": "execute_result"
    }
   ],
   "source": [
    "sum(xgb_clf.feature_importances_ != 0) "
   ]
  },
  {
   "cell_type": "markdown",
   "id": "20b8866d",
   "metadata": {},
   "source": [
    "#### <span style = \"color:red;\">노드에서는 Fx 값의 abs_energy 특징만의 유의미하다고 하는데.. 잘 이해가 되지 않는다</span>    \n",
    "어찌되었던, 중요한 feature는 F_X_abs_energy"
   ]
  },
  {
   "cell_type": "markdown",
   "id": "52a1ce68",
   "metadata": {},
   "source": [
    "### Step 9.  Classification report를 통한 검증 및 분석\n",
    "#### <span style = \"color:red;\">XGBoost의 결과로 진행</span>    "
   ]
  },
  {
   "cell_type": "code",
   "execution_count": 63,
   "id": "2cb7f506",
   "metadata": {},
   "outputs": [
    {
     "data": {
      "text/plain": [
       "{'true': {'precision': 1.0, 'recall': 1.0, 'f1-score': 1.0, 'support': 16},\n",
       " 'false': {'precision': 1.0, 'recall': 1.0, 'f1-score': 1.0, 'support': 5},\n",
       " 'accuracy': 1.0,\n",
       " 'macro avg': {'precision': 1.0,\n",
       "  'recall': 1.0,\n",
       "  'f1-score': 1.0,\n",
       "  'support': 21},\n",
       " 'weighted avg': {'precision': 1.0,\n",
       "  'recall': 1.0,\n",
       "  'f1-score': 1.0,\n",
       "  'support': 21}}"
      ]
     },
     "execution_count": 63,
     "metadata": {},
     "output_type": "execute_result"
    }
   ],
   "source": [
    "from sklearn.metrics import classification_report\n",
    "\n",
    "classification_report(y_test, xgb_clf.predict(comprehensive_features_test), target_names = ['true', 'false'], output_dict = True)"
   ]
  },
  {
   "cell_type": "markdown",
   "id": "7b5a3b3a",
   "metadata": {},
   "source": [
    "#### <span style = \"color:red;\">RandomForest로 진행</span>    "
   ]
  },
  {
   "cell_type": "code",
   "execution_count": 58,
   "id": "7c8ba090",
   "metadata": {},
   "outputs": [
    {
     "data": {
      "text/plain": [
       "{'true': {'precision': 1.0,\n",
       "  'recall': 0.75,\n",
       "  'f1-score': 0.8571428571428571,\n",
       "  'support': 16},\n",
       " 'false': {'precision': 0.5555555555555556,\n",
       "  'recall': 1.0,\n",
       "  'f1-score': 0.7142857142857143,\n",
       "  'support': 5},\n",
       " 'accuracy': 0.8095238095238095,\n",
       " 'macro avg': {'precision': 0.7777777777777778,\n",
       "  'recall': 0.875,\n",
       "  'f1-score': 0.7857142857142857,\n",
       "  'support': 21},\n",
       " 'weighted avg': {'precision': 0.8941798941798942,\n",
       "  'recall': 0.8095238095238095,\n",
       "  'f1-score': 0.8231292517006802,\n",
       "  'support': 21}}"
      ]
     },
     "execution_count": 58,
     "metadata": {},
     "output_type": "execute_result"
    }
   ],
   "source": [
    "from sklearn.metrics import classification_report\n",
    "\n",
    "classification_report(y_test, rf_clf.predict(comprehensive_features_test), target_names = ['true', 'false'], output_dict = True)"
   ]
  },
  {
   "cell_type": "markdown",
   "id": "74f07f51",
   "metadata": {},
   "source": [
    "### Step 10. Logistic Regression 모델로 학습시키기"
   ]
  },
  {
   "cell_type": "code",
   "execution_count": 30,
   "id": "e2c4d435",
   "metadata": {},
   "outputs": [],
   "source": [
    "from tsfresh.examples.robot_execution_failures import download_robot_execution_failures, load_robot_execution_failures\n",
    "\n",
    "download_robot_execution_failures()\n",
    "timeseries, y = load_robot_execution_failures()"
   ]
  },
  {
   "cell_type": "code",
   "execution_count": 31,
   "id": "90acaa45",
   "metadata": {},
   "outputs": [],
   "source": [
    "from sklearn.linear_model import LogisticRegression\n",
    "from sklearn.metrics import classification_report"
   ]
  },
  {
   "cell_type": "code",
   "execution_count": 32,
   "id": "3aa0e7dd",
   "metadata": {},
   "outputs": [],
   "source": [
    "def custom_classification_split(x, y, test_size=0.3):\n",
    "    num_true = int(y.sum()*test_size)           \n",
    "    num_false = int((len(y)-y.sum())*test_size) \n",
    "\n",
    "    id_list = y[y==False].head(num_false).index.to_list() + y[y==True].head(num_true).index.to_list()\n",
    "\n",
    "\n",
    "    y_train = y.drop(id_list)                              \n",
    "    y_test = y.iloc[id_list].sort_index()               \n",
    "    X_train = timeseries[~timeseries['id'].isin(id_list)] \n",
    "    X_test = timeseries[timeseries['id'].isin(id_list)]   \n",
    "\n",
    "    return X_train, y_train, X_test, y_test"
   ]
  },
  {
   "cell_type": "code",
   "execution_count": 33,
   "id": "22e3f736",
   "metadata": {},
   "outputs": [],
   "source": [
    "X_train, y_train, X_test, y_test = custom_classification_split(timeseries, y)"
   ]
  },
  {
   "cell_type": "code",
   "execution_count": 34,
   "id": "3e0f34b2",
   "metadata": {},
   "outputs": [
    {
     "name": "stderr",
     "output_type": "stream",
     "text": [
      "Feature Extraction: 100%|██████████| 372/372 [00:00<00:00, 2893.84it/s]\n",
      "Feature Extraction: 100%|██████████| 156/156 [00:00<00:00, 2942.43it/s]\n"
     ]
    }
   ],
   "source": [
    "from tsfresh import extract_features\n",
    "from tsfresh.feature_extraction import MinimalFCParameters\n",
    "\n",
    "settings = MinimalFCParameters() # 계산 효율을 위해 minimal 셋팅\n",
    "minimal_features_train = extract_features(\n",
    "                                X_train,\n",
    "                                column_id=\"id\",\n",
    "                                column_sort=\"time\",\n",
    "                                default_fc_parameters=settings # minimal 적용\n",
    "                           )\n",
    "\n",
    "minimal_features_test = extract_features(\n",
    "                                X_test,\n",
    "                                column_id=\"id\",\n",
    "                                column_sort=\"time\",\n",
    "                                default_fc_parameters=settings # minimal 적용\n",
    "                           )"
   ]
  },
  {
   "cell_type": "code",
   "execution_count": 35,
   "id": "54c2de45",
   "metadata": {},
   "outputs": [
    {
     "data": {
      "text/plain": [
       "Index(['F_x__sum_values', 'F_x__median', 'F_x__mean', 'F_x__length',\n",
       "       'F_x__standard_deviation', 'F_x__variance', 'F_x__root_mean_square',\n",
       "       'F_x__maximum', 'F_x__absolute_maximum', 'F_x__minimum',\n",
       "       'F_y__sum_values', 'F_y__median', 'F_y__mean', 'F_y__length',\n",
       "       'F_y__standard_deviation', 'F_y__variance', 'F_y__root_mean_square',\n",
       "       'F_y__maximum', 'F_y__absolute_maximum', 'F_y__minimum',\n",
       "       'F_z__sum_values', 'F_z__median', 'F_z__mean', 'F_z__length',\n",
       "       'F_z__standard_deviation', 'F_z__variance', 'F_z__root_mean_square',\n",
       "       'F_z__maximum', 'F_z__absolute_maximum', 'F_z__minimum',\n",
       "       'T_x__sum_values', 'T_x__median', 'T_x__mean', 'T_x__length',\n",
       "       'T_x__standard_deviation', 'T_x__variance', 'T_x__root_mean_square',\n",
       "       'T_x__maximum', 'T_x__absolute_maximum', 'T_x__minimum',\n",
       "       'T_y__sum_values', 'T_y__median', 'T_y__mean', 'T_y__length',\n",
       "       'T_y__standard_deviation', 'T_y__variance', 'T_y__root_mean_square',\n",
       "       'T_y__maximum', 'T_y__absolute_maximum', 'T_y__minimum',\n",
       "       'T_z__sum_values', 'T_z__median', 'T_z__mean', 'T_z__length',\n",
       "       'T_z__standard_deviation', 'T_z__variance', 'T_z__root_mean_square',\n",
       "       'T_z__maximum', 'T_z__absolute_maximum', 'T_z__minimum'],\n",
       "      dtype='object')"
      ]
     },
     "execution_count": 35,
     "metadata": {},
     "output_type": "execute_result"
    }
   ],
   "source": [
    "minimal_features_train\n",
    "minimal_features_train.columns"
   ]
  },
  {
   "cell_type": "code",
   "execution_count": 36,
   "id": "34f7f54a",
   "metadata": {},
   "outputs": [
    {
     "data": {
      "image/png": "[encoded data removed]",
      "text/plain": [
       "<Figure size 432x288 with 1 Axes>"
      ]
     },
     "metadata": {
      "needs_background": "light"
     },
     "output_type": "display_data"
    },
    {
     "data": {
      "image/png": "[encoded data removed]",
      "text/plain": [
       "<Figure size 432x288 with 1 Axes>"
      ]
     },
     "metadata": {
      "needs_background": "light"
     },
     "output_type": "display_data"
    }
   ],
   "source": [
    "plt.plot(minimal_features_train['F_x__sum_values'])\n",
    "plt.show()\n",
    "plt.plot(minimal_features_train['T_z__maximum'])\n",
    "plt.show()"
   ]
  },
  {
   "cell_type": "code",
   "execution_count": 37,
   "id": "18364b34",
   "metadata": {},
   "outputs": [
    {
     "data": {
      "text/plain": [
       "LogisticRegression()"
      ]
     },
     "execution_count": 37,
     "metadata": {},
     "output_type": "execute_result"
    }
   ],
   "source": [
    "logistic = LogisticRegression() \n",
    "logistic.fit(minimal_features_train, y_train)"
   ]
  },
  {
   "cell_type": "code",
   "execution_count": 38,
   "id": "4f36cbc8",
   "metadata": {},
   "outputs": [
    {
     "data": {
      "text/plain": [
       "0.6923076923076923"
      ]
     },
     "execution_count": 38,
     "metadata": {},
     "output_type": "execute_result"
    }
   ],
   "source": [
    "logistic.score(minimal_features_test, y_test)"
   ]
  },
  {
   "cell_type": "code",
   "execution_count": 39,
   "id": "908917f0",
   "metadata": {},
   "outputs": [
    {
     "data": {
      "text/plain": [
       "{'true': {'precision': 1.0,\n",
       "  'recall': 0.6,\n",
       "  'f1-score': 0.7499999999999999,\n",
       "  'support': 20},\n",
       " 'false': {'precision': 0.42857142857142855,\n",
       "  'recall': 1.0,\n",
       "  'f1-score': 0.6,\n",
       "  'support': 6},\n",
       " 'accuracy': 0.6923076923076923,\n",
       " 'macro avg': {'precision': 0.7142857142857143,\n",
       "  'recall': 0.8,\n",
       "  'f1-score': 0.6749999999999999,\n",
       "  'support': 26},\n",
       " 'weighted avg': {'precision': 0.868131868131868,\n",
       "  'recall': 0.6923076923076923,\n",
       "  'f1-score': 0.7153846153846153,\n",
       "  'support': 26}}"
      ]
     },
     "execution_count": 39,
     "metadata": {},
     "output_type": "execute_result"
    }
   ],
   "source": [
    "classification_report(y_test, logistic.predict(minimal_features_test), target_names=['true', 'false'], output_dict=True)"
   ]
  },
  {
   "cell_type": "markdown",
   "id": "d856c4f8",
   "metadata": {},
   "source": [
    "## 4. 결론\n",
    "1. 사용한 데이터셋은 robot_execution_failures\n",
    "2. Logistic Regression, RandomForest, XGBoost 세 가지 모델 사용\n",
    "3. 점수(모델별 자세한 점수는 아래 참고) \n",
    "- Logistic Regression_Accuracy: 0.6923076923076923\n",
    "- RandomForest_Accuracy: 0.8095238095238095\n",
    "- XGBoost_Accuracy: 1.0\n",
    "4. XGBoost가 모델 학습이 더 잘 되었다\n",
    "5. XGBoost_plot_importance로 중요한 feature는 F_X_abs_energy임을 알 수 있었다"
   ]
  },
  {
   "cell_type": "code",
   "execution_count": 39,
   "id": "b7dde1d7",
   "metadata": {},
   "outputs": [
    {
     "data": {
      "text/plain": [
       "{'true': {'precision': 1.0,\n",
       "  'recall': 0.6,\n",
       "  'f1-score': 0.7499999999999999,\n",
       "  'support': 20},\n",
       " 'false': {'precision': 0.42857142857142855,\n",
       "  'recall': 1.0,\n",
       "  'f1-score': 0.6,\n",
       "  'support': 6},\n",
       " 'accuracy': 0.6923076923076923,\n",
       " 'macro avg': {'precision': 0.7142857142857143,\n",
       "  'recall': 0.8,\n",
       "  'f1-score': 0.6749999999999999,\n",
       "  'support': 26},\n",
       " 'weighted avg': {'precision': 0.868131868131868,\n",
       "  'recall': 0.6923076923076923,\n",
       "  'f1-score': 0.7153846153846153,\n",
       "  'support': 26}}"
      ]
     },
     "execution_count": 39,
     "metadata": {},
     "output_type": "execute_result"
    }
   ],
   "source": [
    "# Logistic Regression\n",
    "classification_report(y_test, logistic.predict(minimal_features_test), target_names=['true', 'false'], output_dict=True)"
   ]
  },
  {
   "cell_type": "code",
   "execution_count": 58,
   "id": "f9f46488",
   "metadata": {},
   "outputs": [
    {
     "data": {
      "text/plain": [
       "{'true': {'precision': 1.0,\n",
       "  'recall': 0.75,\n",
       "  'f1-score': 0.8571428571428571,\n",
       "  'support': 16},\n",
       " 'false': {'precision': 0.5555555555555556,\n",
       "  'recall': 1.0,\n",
       "  'f1-score': 0.7142857142857143,\n",
       "  'support': 5},\n",
       " 'accuracy': 0.8095238095238095,\n",
       " 'macro avg': {'precision': 0.7777777777777778,\n",
       "  'recall': 0.875,\n",
       "  'f1-score': 0.7857142857142857,\n",
       "  'support': 21},\n",
       " 'weighted avg': {'precision': 0.8941798941798942,\n",
       "  'recall': 0.8095238095238095,\n",
       "  'f1-score': 0.8231292517006802,\n",
       "  'support': 21}}"
      ]
     },
     "execution_count": 58,
     "metadata": {},
     "output_type": "execute_result"
    }
   ],
   "source": [
    "#RandomForest\n",
    "from sklearn.metrics import classification_report\n",
    "\n",
    "classification_report(y_test, rf_clf.predict(comprehensive_features_test), target_names = ['true', 'false'], output_dict = True)"
   ]
  },
  {
   "cell_type": "code",
   "execution_count": 63,
   "id": "c5587849",
   "metadata": {},
   "outputs": [
    {
     "data": {
      "text/plain": [
       "{'true': {'precision': 1.0, 'recall': 1.0, 'f1-score': 1.0, 'support': 16},\n",
       " 'false': {'precision': 1.0, 'recall': 1.0, 'f1-score': 1.0, 'support': 5},\n",
       " 'accuracy': 1.0,\n",
       " 'macro avg': {'precision': 1.0,\n",
       "  'recall': 1.0,\n",
       "  'f1-score': 1.0,\n",
       "  'support': 21},\n",
       " 'weighted avg': {'precision': 1.0,\n",
       "  'recall': 1.0,\n",
       "  'f1-score': 1.0,\n",
       "  'support': 21}}"
      ]
     },
     "execution_count": 63,
     "metadata": {},
     "output_type": "execute_result"
    }
   ],
   "source": [
    "#XGBoost\n",
    "from sklearn.metrics import classification_report\n",
    "\n",
    "classification_report(y_test, xgb_clf.predict(comprehensive_features_test), target_names = ['true', 'false'], output_dict = True)"
   ]
  },
  {
   "cell_type": "markdown",
   "id": "2c493ed3",
   "metadata": {},
   "source": [
    "## 5. 회고"
   ]
  },
  {
   "cell_type": "markdown",
   "id": "8295ae49",
   "metadata": {},
   "source": [
    "### 1. 프로젝트에서 어려웠던 점, 해결을 위해 시도한 방법, 문제해결에 성공한 이유 또는 실패한 이유"
   ]
  },
  {
   "cell_type": "markdown",
   "id": "354c56ad",
   "metadata": {},
   "source": [
    "- **프로젝트에서 어려웠던 점**  \n",
    "    1. 시계열 데이터를 다루는 전체 프로세스\n",
    "    2. ADF 검정 등 새로 보는 용어들\n",
    "\n",
    "\n",
    "- **해결을 위해 시도한 방법**  \n",
    "    노드의 내용만으로는 이해하기 어려워 다른 참고 자료들을 많이 찾아보며 공부했습니다.\n",
    "     \n",
    "\n",
    "- **문제해결에 성공한 이유 또는 실패한 이유**  \n",
    "    시간을 많이 들여 궁금한 부분은 하나씩 파고들며 공부했습니다.     \n",
    "    그래서 처음 프로젝트를 시작할 때보다 더 많이 이해하게 된 것 같습니다. "
   ]
  },
  {
   "cell_type": "markdown",
   "id": "bd61e646",
   "metadata": {},
   "source": [
    "### 2. 프로젝트를 진행하면서 알아낸 점 혹은 아직 모호한 점"
   ]
  },
  {
   "cell_type": "markdown",
   "id": "e023f535",
   "metadata": {},
   "source": [
    "- **프로젝트를 진행하면서 알아낸 점**"
   ]
  },
  {
   "cell_type": "markdown",
   "id": "9d561e82",
   "metadata": {},
   "source": [
    "1. inplace()    \n",
    "2. plt.figure()     \n",
    "3. plt.plot()의 작동 원리    \n",
    "4. 차분을 하는 이유      \n",
    "5. dropna()     \n",
    "6. 정상성, 귀무가설, 대립가설, 단위근의 의미     \n",
    "7. KPSS, ADF 검정의 뜻과 내용     \n",
    "8. p-value, 유의수준의 뜻과 내용     \n",
    "9. ADF 검정결과 해석하는 방법     \n",
    "10. isin()     \n",
    "11. plot_importance()     "
   ]
  },
  {
   "cell_type": "markdown",
   "id": "74dbcd83",
   "metadata": {},
   "source": [
    "- **아직 모호한 점**"
   ]
  },
  {
   "cell_type": "markdown",
   "id": "d5567ae4",
   "metadata": {},
   "source": [
    "1. p-value = 유의확률 = 유의수준?\n",
    "\n",
    "2. 왜 xgb에 대해서만 plot_importance를 하는 걸까\n",
    "\n",
    "3. RandomForest는 plot_importance를 못 그리는 건가...?"
   ]
  },
  {
   "cell_type": "markdown",
   "id": "b470540d",
   "metadata": {},
   "source": [
    "### 3. 자기 다짐, 프로젝트를 진행하면서 느낀 점"
   ]
  },
  {
   "cell_type": "markdown",
   "id": "902960de",
   "metadata": {},
   "source": [
    "시계열 데이터를 이해하고 분석하는게 정말 노드의 내용만 봤을 때에는 어려웠습니다.    \n",
    "시간이 많이 걸렸지만, 다른 참고 자료들을 통해 이전보다 시계열 데이터의 분석과정을 더 이해하게 된 것이 가장 큰 수확인 것 같습니다. "
   ]
  },
  {
   "cell_type": "markdown",
   "id": "556d81df",
   "metadata": {},
   "source": [
    "## 참고한 레퍼런스"
   ]
  },
  {
   "cell_type": "markdown",
   "id": "cdb08a72",
   "metadata": {},
   "source": [
    "<span style = \"color:gray;\">판다스 inplace=True</span>     \n",
    "https://blog.naver.com/toynbe99/222861390554\n",
    "\n",
    "<span style = \"color:gray;\">Matplotlib에서 figure란_1</span>     \n",
    "https://blog.naver.com/icbanq/222973804100\n",
    "\n",
    "<span style = \"color:gray;\">Matplotlib에서 figure란_2</span>   \n",
    "https://m.blog.naver.com/PostView.naver?isHttpsRedirect=true&blogId=jung2381187&logNo=220408468960\n",
    "\n",
    "<span style = \"color:gray;\">matplotlib - plt.plot()</span>       \n",
    "https://wikidocs.net/92071\n",
    "\n",
    "<span style = \"color:gray;\">차분에 대해</span>       \n",
    "https://blog.naver.com/kebkeeper/222878413912\n",
    "\n",
    "<span style = \"color:gray;\">dropna()</span>       \n",
    "https://pandas.pydata.org/docs/reference/api/pandas.DataFrame.dropna.html?highlight=dropna#pandas.DataFrame.dropna\n",
    "\n",
    "<span style = \"color:gray;\">단위근, KPSS 검정, ADF 검정</span>       \n",
    "https://rfriend.tistory.com/694\n",
    "\n",
    "<span style = \"color:gray;\">kpss, adf</span>       \n",
    "https://modulabs.co.kr/blog/time-series-stationarity/\n",
    "\n",
    "<span style = \"color:gray;\">kpss, adf</span>      \n",
    "https://syj9700.tistory.com/30\n",
    "\n",
    "<span style = \"color:gray;\">시계열 분석</span>      \n",
    "https://kerpect.tistory.com/161\n",
    "\n",
    "<span style = \"color:gray;\">ADF 검정의 논리</span>      \n",
    "https://playinpap.github.io/easypeasy-time-series-02/\n",
    "\n",
    "<span style = \"color:gray;\">plot_importance</span>       \n",
    "https://zephyrus1111.tistory.com/272\n",
    "\n",
    "<span style = \"color:gray;\">plot_importance, feature_importance 비교 </span>      \n",
    "https://blog.naver.com/charzim0611/223054446788\n",
    "\n",
    "<span style = \"color:gray;\">pandas isin</span>     \n",
    "https://blog.naver.com/charzim0611/222897201000"
   ]
  }
 ],
 "metadata": {
  "kernelspec": {
   "display_name": "Python 3 (ipykernel)",
   "language": "python",
   "name": "python3"
  },
  "language_info": {
   "codemirror_mode": {
    "name": "ipython",
    "version": 3
   },
   "file_extension": ".py",
   "mimetype": "text/x-python",
   "name": "python",
   "nbconvert_exporter": "python",
   "pygments_lexer": "ipython3",
   "version": "3.9.7"
  }
 },
 "nbformat": 4,
 "nbformat_minor": 5
}
