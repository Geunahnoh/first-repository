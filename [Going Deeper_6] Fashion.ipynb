{
 "cells": [
  {
   "cell_type": "markdown",
   "id": "45274cf9",
   "metadata": {},
   "source": [
    "# <span style = \"color:red;\">흑흑 프로젝트 미완성입니다. 제출기한 내에 완성하여 제출하지는 못했지만 -6/18까지 수정 업데이트해 나갈 예정입니다.</span>"
   ]
  },
  {
   "cell_type": "markdown",
   "id": "cc14ad48",
   "metadata": {},
   "source": [
    "# [AIFFEL_Going Deeper_6] 인공지능으로 세상에 없던 새로운 패션 만들기"
   ]
  },
  {
   "cell_type": "markdown",
   "id": "571a250d",
   "metadata": {},
   "source": [
    "## 프로젝트 내용    \n",
    "네이버 영화리뷰 감성분석하기    \n",
    "\n",
    "## 목차\n",
    "#### <span style = \"color:red;\">1. 네이버 영화리뷰 감성분석 프로젝트</span>\n",
    "**- Step 1. 필요한 라이브러리 불러오기**    \n",
    "**- Step 2. 데이터 준비와 확인**\n",
    "\n",
    "\n",
    "\n",
    "\n",
    "**- Step 3. 인물이 주인공이 아닌, 다른 대상에 대한 아웃포커싱 사진 만들기**                  \n",
    "**- Step 4. 배경사진을 다른 이미지 합성_10번째 사진_동물 소 + 다른 배경 합치기**           \n",
    "         \n",
    "   \n",
    "#### 2. 결론      \n",
    "#### 3. 루브릭 관련 고려한 점     \n",
    "#### 4. 회고          \n",
    "#### 5. References         \n",
    "\n",
    "## 글씨 색 표시\n",
    "### <span style = \"color:orange;\">- 노랑: 질문! or 짚고가자!</span>    \n",
    "### <span style = \"color:red;\">- 빨강: 중요 or 특이사항</span>"
   ]
  },
  {
   "cell_type": "code",
   "execution_count": null,
   "id": "aac8d38a",
   "metadata": {},
   "outputs": [],
   "source": []
  },
  {
   "cell_type": "markdown",
   "id": "a63f31af",
   "metadata": {},
   "source": [
    "# step 1. 주요 라이브러리 버전을 확인하고 진행"
   ]
  },
  {
   "cell_type": "code",
   "execution_count": 4,
   "id": "8965fdcb",
   "metadata": {},
   "outputs": [
    {
     "name": "stdout",
     "output_type": "stream",
     "text": [
      "2.6.0\n",
      "2.9.0\n"
     ]
    }
   ],
   "source": [
    "import tensorflow as tf\n",
    "import imageio\n",
    "\n",
    "print(tf.__version__)\n",
    "print(imageio.__version__)"
   ]
  },
  {
   "cell_type": "markdown",
   "id": "a9a0f24e",
   "metadata": {},
   "source": [
    "# step 2. 작업환경 구성하기"
   ]
  },
  {
   "cell_type": "markdown",
   "id": "48fded84",
   "metadata": {},
   "source": [
    "$ mkdir -p ~/aiffel/dcgan_newimage/cifar10/generated_samples\n",
    "$ mkdir -p ~/aiffel/dcgan_newimage/cifar10/training_checkpoints\n",
    "$ mkdir -p ~/aiffel/dcgan_newimage/cifar10/training_history"
   ]
  },
  {
   "cell_type": "markdown",
   "id": "0b24a4aa",
   "metadata": {},
   "source": [
    "의미는 쉘에서 입력함으로써 위와 같은 디렉토리를 만드는 것입니다."
   ]
  },
  {
   "cell_type": "code",
   "execution_count": null,
   "id": "73a93f8a",
   "metadata": {},
   "outputs": [],
   "source": []
  },
  {
   "cell_type": "markdown",
   "id": "994872a9",
   "metadata": {},
   "source": [
    "# step 3. 데이터셋 구성하기"
   ]
  },
  {
   "cell_type": "code",
   "execution_count": 5,
   "id": "b76f660d",
   "metadata": {},
   "outputs": [
    {
     "name": "stdout",
     "output_type": "stream",
     "text": [
      "Downloading data from https://www.cs.toronto.edu/~kriz/cifar-10-python.tar.gz\n",
      "170500096/170498071 [==============================] - 4s 0us/step\n",
      "170508288/170498071 [==============================] - 4s 0us/step\n"
     ]
    },
    {
     "data": {
      "text/plain": [
       "(50000, 32, 32, 3)"
      ]
     },
     "execution_count": 5,
     "metadata": {},
     "output_type": "execute_result"
    }
   ],
   "source": [
    "cifar10 = tf.keras.datasets.cifar10\n",
    "\n",
    "(train_x, _), (test_x, _) = cifar10.load_data()\n",
    "\n",
    "train_x.shape"
   ]
  },
  {
   "cell_type": "markdown",
   "id": "50f46e1b",
   "metadata": {},
   "source": [
    "CIFAR-10 데이터셋도 tf.keras 안에 있는 datasets에 포함되어 있어서, 아래와 같이 손쉽게 데이터셋을 구성할 수 있습니다."
   ]
  },
  {
   "cell_type": "markdown",
   "id": "f41d9b14",
   "metadata": {},
   "source": [
    "### 라벨이 필요없어서 그런가? 역시 여기에서도 언더스코어?를 통해서 train_x과 test_x만 불러왔다."
   ]
  },
  {
   "cell_type": "markdown",
   "id": "8d6917e4",
   "metadata": {},
   "source": [
    "학습에 사용할 train_x의 이미지를 -1, 1로 정규화합니다.\n",
    "로드한 학습 데이터를 시각화를 통해 확인해 봅시다.\n",
    "tf.data.Dataset 모듈의 from_tensor_slices() 함수를 사용하여 미니배치 데이터셋을 구성해 봅시다.\n",
    "\n",
    "\n",
    "학습 시간이 너무 오래 걸린다면 한 종류의 데이터만 추출해 진행해도 좋습니다. 아래 코드는 참고만 하세요."
   ]
  },
  {
   "cell_type": "code",
   "execution_count": null,
   "id": "c695e807",
   "metadata": {},
   "outputs": [],
   "source": []
  },
  {
   "cell_type": "markdown",
   "id": "26826cfe",
   "metadata": {},
   "source": [
    "# step 3-1. 학습에 사용할 train_x의 이미지를 -1, 1로 정규화합니다."
   ]
  },
  {
   "cell_type": "code",
   "execution_count": 6,
   "id": "30f990f8",
   "metadata": {},
   "outputs": [
    {
     "name": "stdout",
     "output_type": "stream",
     "text": [
      "max pixel: 255\n",
      "min pixel: 0\n"
     ]
    }
   ],
   "source": [
    "print(\"max pixel:\", train_x.max())\n",
    "print(\"min pixel:\", train_x.min())"
   ]
  },
  {
   "cell_type": "code",
   "execution_count": null,
   "id": "bd2395a7",
   "metadata": {},
   "outputs": [],
   "source": [
    "## train_x의 최소 픽셀과 맥스 픽셀값이 무엇인지 확인해본다.\n",
    "\n",
    "# 예시\n",
    "# Fashion MNIST 또한 MNIST와 같이 28x28 픽셀의 이미지로, 각 픽셀은 0~255 사이의 정숫값을 가집니다. "
   ]
  },
  {
   "cell_type": "markdown",
   "id": "fa8be1f0",
   "metadata": {},
   "source": [
    "이 데이터들도 각 픽셀값이 0~255 사이의 정숫값을 가지는 것을 알 수 있음 "
   ]
  },
  {
   "cell_type": "markdown",
   "id": "592460ee",
   "metadata": {},
   "source": [
    "### 노랑 궁금증, 픽셀값들이 정숫값이 아닌 실숫값들을 가질 수도 있나?"
   ]
  },
  {
   "cell_type": "markdown",
   "id": "604c4fbe",
   "metadata": {},
   "source": [
    "이번 프로젝트에서는 각 픽셀을 -1, 1로 정규화시켜서 사용할 예정이므로, 중간값을 0으로 맞춰주기 위해 127.5를 뺀 후 127.5로 나눠줍니다."
   ]
  },
  {
   "cell_type": "markdown",
   "id": "45ccddab",
   "metadata": {},
   "source": [
    "우리도 이렇게 해보자"
   ]
  },
  {
   "cell_type": "markdown",
   "id": "696fde44",
   "metadata": {},
   "source": [
    "train_x - 127.5 / 127.5"
   ]
  },
  {
   "cell_type": "markdown",
   "id": "7831bbb7",
   "metadata": {},
   "source": [
    "음.. 이렇게 작성하면 되나? 실습과 비교해보자"
   ]
  },
  {
   "cell_type": "code",
   "execution_count": null,
   "id": "598a1272",
   "metadata": {},
   "outputs": [],
   "source": [
    "# train_x = (train_x - 127.5) / 127.5 # 이미지를 [-1, 1]로 정규화합니다.\n",
    "\n",
    "# print(\"max pixel:\", train_x.max())\n",
    "# print(\"min pixel:\", train_x.min())"
   ]
  },
  {
   "cell_type": "markdown",
   "id": "6772c906",
   "metadata": {},
   "source": [
    "오호"
   ]
  },
  {
   "cell_type": "code",
   "execution_count": 7,
   "id": "39da1267",
   "metadata": {},
   "outputs": [],
   "source": [
    "train_x = (train_x - 127.5) / 127.5"
   ]
  },
  {
   "cell_type": "code",
   "execution_count": 8,
   "id": "2dbeb34d",
   "metadata": {},
   "outputs": [
    {
     "name": "stdout",
     "output_type": "stream",
     "text": [
      "max pixel: 1.0\n",
      "min pixel: -1.0\n"
     ]
    }
   ],
   "source": [
    "print(\"max pixel:\", train_x.max())\n",
    "print(\"min pixel:\", train_x.min())"
   ]
  },
  {
   "cell_type": "markdown",
   "id": "e9a1acd9",
   "metadata": {},
   "source": [
    "이렇게 해서 중간값은 0이 되고, 최대값은 1 최소값은 -1이 되었다.\n",
    "\n",
    "데이터셋의 shape?"
   ]
  },
  {
   "cell_type": "code",
   "execution_count": 9,
   "id": "620c9fe5",
   "metadata": {},
   "outputs": [
    {
     "data": {
      "text/plain": [
       "(50000, 32, 32, 3)"
      ]
     },
     "execution_count": 9,
     "metadata": {},
     "output_type": "execute_result"
    }
   ],
   "source": [
    "train_x.shape"
   ]
  },
  {
   "cell_type": "markdown",
   "id": "ebfb9c9f",
   "metadata": {},
   "source": [
    "32x32 크기의 이미지가 채널은 3채널 (= 3차원이 아니고?), 샘플의 개수는 50000이라는 것을 알 수 있다.\n",
    "\n",
    "\n",
    "채널과 차원 헷갈리는 부분 정리하고 가기\n",
    "또는 샘플 개수, 차원, 등등.... 텐서에서의 차원과 넘파이에서의 차원 등등\n",
    "cifar-10 데이터셋은 컬러이미지들이므로 이미 3차원, \n",
    "흑백이미지가 아니기 때문에 채널차원에 대해 데이터셋의 shape 마지막에 1을 추가하지 않아도 된다.\n",
    "채널차원....?"
   ]
  },
  {
   "cell_type": "code",
   "execution_count": null,
   "id": "5677a6f7",
   "metadata": {},
   "outputs": [],
   "source": []
  },
  {
   "cell_type": "markdown",
   "id": "ee54bb35",
   "metadata": {},
   "source": [
    "## 한번 첫 번째 데이터를 꺼내서 어떻게 생겼는지 확인 "
   ]
  },
  {
   "cell_type": "code",
   "execution_count": 10,
   "id": "771a03c3",
   "metadata": {},
   "outputs": [],
   "source": [
    "import matplotlib.pyplot as plt"
   ]
  },
  {
   "cell_type": "code",
   "execution_count": 11,
   "id": "8d4071e8",
   "metadata": {},
   "outputs": [
    {
     "ename": "ValueError",
     "evalue": "cannot reshape array of size 3072 into shape (32,32)",
     "output_type": "error",
     "traceback": [
      "\u001b[0;31m---------------------------------------------------------------------------\u001b[0m",
      "\u001b[0;31mValueError\u001b[0m                                Traceback (most recent call last)",
      "\u001b[0;32m/tmp/ipykernel_63/704530669.py\u001b[0m in \u001b[0;36m<module>\u001b[0;34m\u001b[0m\n\u001b[1;32m      1\u001b[0m \u001b[0;31m# plt.imshow(train_x[0].reshape(28, 28), cmap='gray')\u001b[0m\u001b[0;34m\u001b[0m\u001b[0;34m\u001b[0m\u001b[0m\n\u001b[0;32m----> 2\u001b[0;31m \u001b[0mplt\u001b[0m\u001b[0;34m.\u001b[0m\u001b[0mimshow\u001b[0m\u001b[0;34m(\u001b[0m\u001b[0mtrain_x\u001b[0m\u001b[0;34m[\u001b[0m\u001b[0;36m0\u001b[0m\u001b[0;34m]\u001b[0m\u001b[0;34m.\u001b[0m\u001b[0mreshape\u001b[0m\u001b[0;34m(\u001b[0m\u001b[0;36m32\u001b[0m\u001b[0;34m,\u001b[0m \u001b[0;36m32\u001b[0m\u001b[0;34m)\u001b[0m\u001b[0;34m,\u001b[0m \u001b[0mcmap\u001b[0m\u001b[0;34m=\u001b[0m\u001b[0;34m'gray'\u001b[0m\u001b[0;34m)\u001b[0m\u001b[0;34m\u001b[0m\u001b[0;34m\u001b[0m\u001b[0m\n\u001b[0m\u001b[1;32m      3\u001b[0m \u001b[0mplt\u001b[0m\u001b[0;34m.\u001b[0m\u001b[0mcolorbar\u001b[0m\u001b[0;34m(\u001b[0m\u001b[0;34m)\u001b[0m\u001b[0;34m\u001b[0m\u001b[0;34m\u001b[0m\u001b[0m\n\u001b[1;32m      4\u001b[0m \u001b[0mplt\u001b[0m\u001b[0;34m.\u001b[0m\u001b[0mshow\u001b[0m\u001b[0;34m(\u001b[0m\u001b[0;34m)\u001b[0m\u001b[0;34m\u001b[0m\u001b[0;34m\u001b[0m\u001b[0m\n",
      "\u001b[0;31mValueError\u001b[0m: cannot reshape array of size 3072 into shape (32,32)"
     ]
    }
   ],
   "source": [
    "# plt.imshow(train_x[0].reshape(28, 28), cmap='gray')\n",
    "plt.imshow(train_x[0].reshape(32, 32), cmap='gray')\n",
    "plt.colorbar()\n",
    "plt.show()"
   ]
  },
  {
   "cell_type": "markdown",
   "id": "ec115622",
   "metadata": {},
   "source": [
    "reshape이 필요없지 않을까?"
   ]
  },
  {
   "cell_type": "code",
   "execution_count": 12,
   "id": "2db9300e",
   "metadata": {},
   "outputs": [
    {
     "name": "stderr",
     "output_type": "stream",
     "text": [
      "Clipping input data to the valid range for imshow with RGB data ([0..1] for floats or [0..255] for integers).\n"
     ]
    },
    {
     "data": {
      "image/png": "[encoded data removed]",
      "text/plain": [
       "<Figure size 432x288 with 2 Axes>"
      ]
     },
     "metadata": {
      "needs_background": "light"
     },
     "output_type": "display_data"
    }
   ],
   "source": [
    "# plt.imshow(train_x[0].reshape(28, 28), cmap='gray')\n",
    "plt.imshow(train_x[0].reshape(32, 32, 3), cmap='gray')\n",
    "plt.colorbar()\n",
    "plt.show()"
   ]
  },
  {
   "cell_type": "code",
   "execution_count": null,
   "id": "50085453",
   "metadata": {},
   "outputs": [],
   "source": [
    "## 궁금증. cifar-10 데이터는 완전히 잘 보이는 사진으로 된 데이터가 들어있는걸까? 위 사진이 흐리게 나와서.."
   ]
  },
  {
   "cell_type": "code",
   "execution_count": 13,
   "id": "9e149914",
   "metadata": {},
   "outputs": [
    {
     "name": "stderr",
     "output_type": "stream",
     "text": [
      "Clipping input data to the valid range for imshow with RGB data ([0..1] for floats or [0..255] for integers).\n"
     ]
    },
    {
     "data": {
      "image/png": "[encoded data removed]",
      "text/plain": [
       "<Figure size 432x288 with 2 Axes>"
      ]
     },
     "metadata": {
      "needs_background": "light"
     },
     "output_type": "display_data"
    }
   ],
   "source": [
    "# cmap을 빼고 출력해보자\n",
    "plt.imshow(train_x[0].reshape(32, 32, 3))\n",
    "plt.colorbar()\n",
    "plt.show()"
   ]
  },
  {
   "cell_type": "markdown",
   "id": "7b5ebed7",
   "metadata": {},
   "source": [
    "오른쪽 색상바에서 차이가 있다 색에서도 조금"
   ]
  },
  {
   "cell_type": "code",
   "execution_count": 14,
   "id": "3883d0e4",
   "metadata": {},
   "outputs": [
    {
     "name": "stderr",
     "output_type": "stream",
     "text": [
      "Clipping input data to the valid range for imshow with RGB data ([0..1] for floats or [0..255] for integers).\n"
     ]
    },
    {
     "data": {
      "image/png": "[encoded data removed]",
      "text/plain": [
       "<Figure size 432x288 with 2 Axes>"
      ]
     },
     "metadata": {
      "needs_background": "light"
     },
     "output_type": "display_data"
    }
   ],
   "source": [
    "# reshape도 빼고 출력해보자\n",
    "plt.imshow(train_x[0])\n",
    "plt.colorbar()\n",
    "plt.show()"
   ]
  },
  {
   "cell_type": "markdown",
   "id": "80b90af9",
   "metadata": {},
   "source": [
    "결론은, reshape을 할 필요가 없는 것 같다. 이미 shape이 32,32,3이니까\n",
    "실습에서는 첫번째 데이터가 신발이었는데, 바로 위의 데이터는 음 뭐인지 알기가 어렵다.\n",
    "plt.colorbar() 를 이용해 오른쪽에 각 픽셀의 값과 그에 따른 색도 확인해 보았습니다. "
   ]
  },
  {
   "cell_type": "markdown",
   "id": "bc9a9f6c",
   "metadata": {},
   "source": [
    "## 하나만 보면 아쉬우니, 열 개 정도를 한 번에 띄워볼까요?\n",
    "for 문을 활용하면 간단하게 볼 수 있습니다!"
   ]
  },
  {
   "cell_type": "code",
   "execution_count": null,
   "id": "36604404",
   "metadata": {},
   "outputs": [],
   "source": [
    "plt.figure(figsize=(10, 5))\n",
    "\n",
    "for i in range(10):\n",
    "    plt.subplot(2, 5, i+1)\n",
    "    plt.imshow(train_x[i])\n",
    "    plt.title(f'index: {i}')\n",
    "    plt.axis('off')\n",
    "plt.show()"
   ]
  },
  {
   "cell_type": "code",
   "execution_count": null,
   "id": "9c13cd1f",
   "metadata": {},
   "outputs": [],
   "source": []
  },
  {
   "cell_type": "code",
   "execution_count": null,
   "id": "9c70c25a",
   "metadata": {},
   "outputs": [],
   "source": []
  },
  {
   "cell_type": "code",
   "execution_count": null,
   "id": "a425fbeb",
   "metadata": {},
   "outputs": [],
   "source": []
  },
  {
   "cell_type": "markdown",
   "id": "b95e8671",
   "metadata": {},
   "source": [
    "# step 4. 생성자 모델 구현하기"
   ]
  },
  {
   "cell_type": "markdown",
   "id": "af1fa8c7",
   "metadata": {},
   "source": [
    "(32, 32, 3)의 shape를 가진 이미지를 생성하는 생성자 모델 구현 함수를 작성해 봅시다.\n",
    "noise = tf.random.normal([1, 100])로 생성된 랜덤 노이즈를 입력으로 하여 방금 구현한 생성자로 랜덤 이미지를 생성해 봅시다.\n",
    "생성된 랜덤 이미지가 생성자 출력 규격에 잘 맞는지 확인해 봅시다."
   ]
  },
  {
   "cell_type": "code",
   "execution_count": null,
   "id": "c7e0fc65",
   "metadata": {},
   "outputs": [],
   "source": []
  },
  {
   "cell_type": "markdown",
   "id": "b0d64448",
   "metadata": {},
   "source": [
    "# step 5. 판별자 모델 구현하기"
   ]
  },
  {
   "cell_type": "markdown",
   "id": "00e149d8",
   "metadata": {},
   "source": [
    "(32, 32, 3)의 이미지를 입력으로 받아 1dim을 판별결과를 출력하는 판별자 모델 구현 함수를 작성해 봅시다.\n",
    "위 STEP 2에서 생성한 랜덤 이미지를 판별자 모델이 판별한 결과값을 확인해 봅시다."
   ]
  },
  {
   "cell_type": "code",
   "execution_count": null,
   "id": "c9fa22eb",
   "metadata": {},
   "outputs": [],
   "source": []
  },
  {
   "cell_type": "markdown",
   "id": "682454ad",
   "metadata": {},
   "source": [
    "# step 6. 손실함수와 최적화 함수 구현하기"
   ]
  },
  {
   "cell_type": "markdown",
   "id": "ab579620",
   "metadata": {},
   "source": [
    "생성자와 판별자의 손실함수(loss)를 구현해 봅시다.\n",
    "판별자의 출력값을 가지고 실제/생성(real/fake) 이미지 판별 정확도(accuracy)를 계산하는 함수를 구현해 봅시다.\n",
    "생성자와 판별자를 최적화하는 optimizer를 정의합니다."
   ]
  },
  {
   "cell_type": "code",
   "execution_count": null,
   "id": "be4ac8e0",
   "metadata": {},
   "outputs": [],
   "source": []
  },
  {
   "cell_type": "markdown",
   "id": "579938d4",
   "metadata": {},
   "source": [
    "# STEP 7. 훈련과정 상세 기능 구현하기"
   ]
  },
  {
   "cell_type": "markdown",
   "id": "85fc58c3",
   "metadata": {},
   "source": [
    "1개 미니배치의 훈련 과정을 처리하는 train_step() 함수를 구현해 봅시다.\n",
    "\n",
    "16개의 고정된 seed를 입력으로 하여 훈련 과정 동안 생성한 이미지를 시각화하는 generate_and_save_images() 함수를 구현해 봅시다.\n",
    "\n",
    "훈련 epoch마다 생성자/판별자의 loss 및 판별자의 실제/생성(real/fake) 이미지 판별 accuracy 히스토리(history)를 그래프로 시각화하는 draw_train_history() 함수를 구현해 봅시다.\n",
    "\n",
    "training_checkpoints 디렉토리에 몇 epoch마다 모델을 저장하는 checkpoint 모듈을 설정해 봅시다."
   ]
  },
  {
   "cell_type": "code",
   "execution_count": null,
   "id": "5f21d74e",
   "metadata": {},
   "outputs": [],
   "source": []
  },
  {
   "cell_type": "markdown",
   "id": "13e26849",
   "metadata": {},
   "source": [
    "# STEP 8. 학습 과정 진행하기"
   ]
  },
  {
   "cell_type": "markdown",
   "id": "c85412b1",
   "metadata": {},
   "source": [
    "위 STEP 5에서 구현한 기능들을 활용하여 최소 50 epoch만큼의 모델 학습을 진행해 봅시다.\n",
    "학습 과정에서 생성된 샘플 이미지로 만든 gif 파일을 통해 학습 진행 과정을 시각적으로 표현해 봅시다.\n",
    "학습 과정을 담은 샘플 이미지, gif 파일, 학습 진행 그래프 이미지를 함께 제출합니다.\n",
    "\n",
    "\n",
    "(참고) 학습 과정 중 학습 epoch를 추가 진행해야 하거나, 학습한 모델을 활용하여 이미지를 생성할 필요가 생깁니다. 그럴 때마다 모델 학습을 처음부터 다시 진행한다면 시간 낭비가 될 것입니다.\n",
    "우리는 위에서 checkpoint 모듈을 이용해 모델을 저장해 둔 바 있습니다. 이를 이용해 학습해 둔 모델을 로드하면 모델 재학습이 필요 없이 이런 작업을 진행할 수 있습니다.\n",
    "아래는 checkpoint 모듈을 활용하여 모델을 로드하는 예시입니다."
   ]
  },
  {
   "cell_type": "code",
   "execution_count": null,
   "id": "b9c779d0",
   "metadata": {},
   "outputs": [],
   "source": []
  },
  {
   "cell_type": "markdown",
   "id": "f9b1495e",
   "metadata": {},
   "source": [
    "# STEP 9. (optional) GAN 훈련 과정 개선하기"
   ]
  },
  {
   "cell_type": "markdown",
   "id": "1a620e95",
   "metadata": {},
   "source": [
    "STEP 6을 진행하면서 생성된 샘플 이미지, 학습 과정 그래프 등을 통해 이전 훈련 과정의 문제점을 분석해 봅시다.\n",
    "모델구조 또는 학습 과정을 개선한 내역과 그 결과(샘플 이미지, 학습 과정 그래프 포함)를 함께 제출합니다."
   ]
  },
  {
   "cell_type": "code",
   "execution_count": null,
   "id": "1bad25d5",
   "metadata": {},
   "outputs": [],
   "source": []
  },
  {
   "cell_type": "code",
   "execution_count": null,
   "id": "f4e6ada6",
   "metadata": {},
   "outputs": [],
   "source": []
  },
  {
   "cell_type": "code",
   "execution_count": null,
   "id": "cbf1d172",
   "metadata": {},
   "outputs": [],
   "source": []
  },
  {
   "cell_type": "markdown",
   "id": "d5c89150",
   "metadata": {},
   "source": [
    "# 루브릭"
   ]
  },
  {
   "cell_type": "code",
   "execution_count": null,
   "id": "dc33a8e5",
   "metadata": {},
   "outputs": [],
   "source": [
    "1. GAN의 두 모델 구조를 통해 이미지를 성공적으로 생성하였다.\n",
    "오브젝트 종류를 육안으로 구별할 수 있을 만한 이미지를 생성하였다.\n",
    "\n",
    "2. 생성 이미지 시각화 및 학습 그래프를 통해 GAN 학습이 바르게 진행되었음을 입증하였다.\n",
    "gif를 통해 생성이미지 품질이 서서히 향상되는 것과, fake accuracy가 추세적으로 0.5를 향해 하향하고 있음을 확인하였다.\n",
    "\n",
    "3. 추가적인 GAN 모델구조 혹은 학습과정 개선 아이디어를 제안하고 이를 적용하였다.\n",
    "모델구조 변경 혹은 학습과정 개선 아이디어를 추가적으로 적용해보았고, 적용 전과 비교하였을 때의 내용을 표와 같은 시각적 자료로 작성하였다."
   ]
  },
  {
   "cell_type": "code",
   "execution_count": null,
   "id": "d5569162",
   "metadata": {},
   "outputs": [],
   "source": []
  }
 ],
 "metadata": {
  "kernelspec": {
   "display_name": "Python 3 (ipykernel)",
   "language": "python",
   "name": "python3"
  },
  "language_info": {
   "codemirror_mode": {
    "name": "ipython",
    "version": 3
   },
   "file_extension": ".py",
   "mimetype": "text/x-python",
   "name": "python",
   "nbconvert_exporter": "python",
   "pygments_lexer": "ipython3",
   "version": "3.9.7"
  }
 },
 "nbformat": 4,
 "nbformat_minor": 5
}
